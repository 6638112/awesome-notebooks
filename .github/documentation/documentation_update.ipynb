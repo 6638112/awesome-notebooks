{
 "cells": [
  {
   "cell_type": "markdown",
   "id": "6933ee71-8013-4aa8-9527-6a567845e10e",
   "metadata": {},
   "source": [
    "<img width=\"10%\" alt=\"Naas\" src=\"https://landen.imgix.net/jtci2pxwjczr/assets/5ice39g4.png?w=160\"/>"
   ]
  },
  {
   "cell_type": "markdown",
   "id": "d446a1b5-92be-4fb5-b732-3674fb19ccec",
   "metadata": {},
   "source": [
    "# CI/CD - Automatically update documentation with templates"
   ]
  },
  {
   "cell_type": "markdown",
   "id": "21e72fae-2204-42c3-b0eb-3885fa38a589",
   "metadata": {},
   "source": [
    "**Tags:** #naas"
   ]
  },
  {
   "cell_type": "markdown",
   "id": "a65dcb87-29c1-4092-a6dd-29e3ce143bba",
   "metadata": {},
   "source": [
    "**Author:** [Maxime Jublou](https://www.linkedin.com/in/maximejublou/)"
   ]
  },
  {
   "cell_type": "markdown",
   "id": "deef151b-b723-46ac-ac41-1c19d29e1fc6",
   "metadata": {},
   "source": [
    "# Input"
   ]
  },
  {
   "cell_type": "code",
   "execution_count": 1,
   "id": "c7c66fa0-bfcb-4a71-bd2d-787bf5e3b020",
   "metadata": {},
   "outputs": [
    {
     "name": "stdout",
     "output_type": "stream",
     "text": [
      "Requirement already satisfied: rich in /home/jovyan/.local/lib/python3.9/site-packages (11.2.0)\n",
      "Collecting pydash\n",
      "  Downloading pydash-5.1.0-py3-none-any.whl (84 kB)\n",
      "\u001b[2K     \u001b[90m━━━━━━━━━━━━━━━━━━━━━━━━━━━━━━━━━━━━━━━━\u001b[0m \u001b[32m84.9/84.9 KB\u001b[0m \u001b[31m2.4 MB/s\u001b[0m eta \u001b[36m0:00:00\u001b[0m\n",
      "\u001b[?25hRequirement already satisfied: nbconvert in /opt/conda/lib/python3.9/site-packages (6.4.2)\n",
      "Requirement already satisfied: colorama<0.5.0,>=0.4.0 in /opt/conda/lib/python3.9/site-packages (from rich) (0.4.4)\n",
      "Requirement already satisfied: pygments<3.0.0,>=2.6.0 in /opt/conda/lib/python3.9/site-packages (from rich) (2.11.2)\n",
      "Requirement already satisfied: commonmark<0.10.0,>=0.9.0 in /home/jovyan/.local/lib/python3.9/site-packages (from rich) (0.9.1)\n",
      "Requirement already satisfied: traitlets>=5.0 in /opt/conda/lib/python3.9/site-packages (from nbconvert) (5.1.1)\n",
      "Requirement already satisfied: testpath in /opt/conda/lib/python3.9/site-packages (from nbconvert) (0.5.0)\n",
      "Requirement already satisfied: jupyter-core in /opt/conda/lib/python3.9/site-packages (from nbconvert) (4.9.1)\n",
      "Requirement already satisfied: jinja2>=2.4 in /opt/conda/lib/python3.9/site-packages (from nbconvert) (3.0.3)\n",
      "Requirement already satisfied: pandocfilters>=1.4.1 in /opt/conda/lib/python3.9/site-packages (from nbconvert) (1.5.0)\n",
      "Requirement already satisfied: mistune<2,>=0.8.1 in /opt/conda/lib/python3.9/site-packages (from nbconvert) (0.8.4)\n",
      "Requirement already satisfied: defusedxml in /opt/conda/lib/python3.9/site-packages (from nbconvert) (0.7.1)\n",
      "Requirement already satisfied: nbformat>=4.4 in /opt/conda/lib/python3.9/site-packages (from nbconvert) (5.1.3)\n",
      "Requirement already satisfied: jupyterlab-pygments in /opt/conda/lib/python3.9/site-packages (from nbconvert) (0.1.2)\n",
      "Requirement already satisfied: nbclient<0.6.0,>=0.5.0 in /opt/conda/lib/python3.9/site-packages (from nbconvert) (0.5.11)\n",
      "Requirement already satisfied: entrypoints>=0.2.2 in /opt/conda/lib/python3.9/site-packages (from nbconvert) (0.4)\n",
      "Requirement already satisfied: bleach in /opt/conda/lib/python3.9/site-packages (from nbconvert) (4.1.0)\n",
      "Requirement already satisfied: MarkupSafe>=2.0 in /opt/conda/lib/python3.9/site-packages (from jinja2>=2.4->nbconvert) (2.0.1)\n",
      "Requirement already satisfied: nest-asyncio in /opt/conda/lib/python3.9/site-packages (from nbclient<0.6.0,>=0.5.0->nbconvert) (1.5.4)\n",
      "Requirement already satisfied: jupyter-client>=6.1.5 in /opt/conda/lib/python3.9/site-packages (from nbclient<0.6.0,>=0.5.0->nbconvert) (7.1.2)\n",
      "Requirement already satisfied: ipython-genutils in /opt/conda/lib/python3.9/site-packages (from nbformat>=4.4->nbconvert) (0.2.0)\n",
      "Requirement already satisfied: jsonschema!=2.5.0,>=2.4 in /opt/conda/lib/python3.9/site-packages (from nbformat>=4.4->nbconvert) (4.4.0)\n",
      "Requirement already satisfied: six>=1.9.0 in /opt/conda/lib/python3.9/site-packages (from bleach->nbconvert) (1.16.0)\n",
      "Requirement already satisfied: webencodings in /opt/conda/lib/python3.9/site-packages (from bleach->nbconvert) (0.5.1)\n",
      "Requirement already satisfied: packaging in /opt/conda/lib/python3.9/site-packages (from bleach->nbconvert) (21.3)\n",
      "Requirement already satisfied: pyrsistent!=0.17.0,!=0.17.1,!=0.17.2,>=0.14.0 in /opt/conda/lib/python3.9/site-packages (from jsonschema!=2.5.0,>=2.4->nbformat>=4.4->nbconvert) (0.18.1)\n",
      "Requirement already satisfied: attrs>=17.4.0 in /opt/conda/lib/python3.9/site-packages (from jsonschema!=2.5.0,>=2.4->nbformat>=4.4->nbconvert) (21.4.0)\n",
      "Requirement already satisfied: tornado>=4.1 in /opt/conda/lib/python3.9/site-packages (from jupyter-client>=6.1.5->nbclient<0.6.0,>=0.5.0->nbconvert) (6.1)\n",
      "Requirement already satisfied: python-dateutil>=2.1 in /opt/conda/lib/python3.9/site-packages (from jupyter-client>=6.1.5->nbclient<0.6.0,>=0.5.0->nbconvert) (2.8.2)\n",
      "Requirement already satisfied: pyzmq>=13 in /opt/conda/lib/python3.9/site-packages (from jupyter-client>=6.1.5->nbclient<0.6.0,>=0.5.0->nbconvert) (22.3.0)\n",
      "Requirement already satisfied: pyparsing!=3.0.5,>=2.0.2 in /opt/conda/lib/python3.9/site-packages (from packaging->bleach->nbconvert) (3.0.7)\n",
      "Installing collected packages: pydash\n",
      "Successfully installed pydash-5.1.0\n"
     ]
    }
   ],
   "source": [
    "!pip install rich pydash nbconvert"
   ]
  },
  {
   "cell_type": "markdown",
   "id": "59b780f5-f3b8-416f-bb16-1119a40dac28",
   "metadata": {},
   "source": [
    "### Import librairies"
   ]
  },
  {
   "cell_type": "code",
   "execution_count": 14,
   "id": "3790eff8-2b9b-4947-bda5-5f15b0f17e29",
   "metadata": {
    "tags": [
     "imports"
    ]
   },
   "outputs": [],
   "source": [
    "import json\n",
    "import glob\n",
    "from rich import print\n",
    "import os\n",
    "import shutil"
   ]
  },
  {
   "cell_type": "markdown",
   "id": "0e4f6797-945a-4be4-9217-f9c11794acea",
   "metadata": {},
   "source": [
    "## Model"
   ]
  },
  {
   "cell_type": "code",
   "execution_count": 16,
   "id": "fe5fdd28-7beb-46ac-ab4b-4dd51977d028",
   "metadata": {},
   "outputs": [],
   "source": [
    "def get_technology_and_action(filename):\n",
    "    technology_name = file.split('/')[2]\n",
    "    action = file.split('/')[3].replace('.ipynb', '').replace('_', ' ')\n",
    "    \n",
    "    if action.startswith(technology_name):\n",
    "        action = action[len(technology_name):]\n",
    "        \n",
    "    return (technology_name.strip(), action.strip())\n",
    "\n",
    "def filepath_to_md_path(filepath):\n",
    "    return filepath.split(\"/\")[-1].replace(\".ipynb\", \".md\")\n",
    "\n",
    "def create_readme_lines(notebooks):\n",
    "    lines = []\n",
    "    for technology in notebooks:\n",
    "        lines.append(f'  * [{technology}](templates/{technology.replace(\" \", \"%20\")}/README.md)\\n')\n",
    "        for action, filepath in notebooks[technology]:\n",
    "            lines.append(f'    * [{action}](templates/{technology.replace(\" \", \"%20\")}/{filepath_to_md_path(filepath).replace(\" \", \"%20\")})\\n')\n",
    "    return lines\n",
    "\n",
    "def remove_unwanted_cells(notebooks):\n",
    "    for category in notebooks:\n",
    "        for nb in notebooks[category]:\n",
    "            with open(nb[1], 'r') as f:\n",
    "                content = json.load(f)\n",
    "                content['cells'] = content['cells'][1:]\n",
    "                content['cells'][0]['source'] = content['cells'][0]['source'][1:]\n",
    "                with open(nb[1], 'w') as target:\n",
    "                    json.dump(content, target)\n",
    "                    target.close()\n",
    "                    print(f'✅ Removed title and naas logo on [{nb[1]}]')\n",
    "\n",
    "def convert_notebooks_to_md(notebooks):\n",
    "    os.system('jupyter nbconvert --to markdown ../../**/*.ipynb')\n",
    "\n",
    "def move_markdown_files():\n",
    "    for file in glob.glob('../../**/*.md', recursive=True):\n",
    "        if len(file.split('/')) < 4:\n",
    "            continue\n",
    "        src = file\n",
    "        dst = file.split('/')[2:]\n",
    "        \n",
    "        computed_dst = os.path.join('docs', 'templates', '/'.join(dst))\n",
    "        \n",
    "        os.makedirs(os.path.dirname(computed_dst), exist_ok=True)\n",
    "        shutil.move(src, computed_dst)\n",
    "        \n",
    "        print(f'✅ {src} moved to {computed_dst}')\n",
    "\n",
    "def create_category_readmes(notebooks):\n",
    "    for category in notebooks:\n",
    "        try:\n",
    "            with open(os.path.join('docs', 'templates', category, 'README.md'), 'w') as readme:\n",
    "                readme.write(f'# {category}')\n",
    "            readme.close()\n",
    "        except Exception as e:\n",
    "            print(f'❌ Error while creating category [{category}] README.md')\n",
    "            print(e)\n",
    "            print('⚠️ Skipping this one.')"
   ]
  },
  {
   "cell_type": "markdown",
   "id": "40df42a5-78f7-4542-8df8-ca3e1c6fd166",
   "metadata": {},
   "source": [
    "## Output"
   ]
  },
  {
   "cell_type": "code",
   "execution_count": 17,
   "id": "f46b15cf-8e4c-4af5-bd6b-d84b2fa05535",
   "metadata": {
    "tags": []
   },
   "outputs": [
    {
     "data": {
      "text/html": [
       "<pre style=\"white-space:pre;overflow-x:auto;line-height:normal;font-family:Menlo,'DejaVu Sans Mono',consolas,'Courier New',monospace\">..<span style=\"color: #800080; text-decoration-color: #800080\">/../AWS/</span><span style=\"color: #ff00ff; text-decoration-color: #ff00ff\">AWS_Daily_biling_notification_to_slack.ipynb</span>\n",
       "</pre>\n"
      ],
      "text/plain": [
       "..\u001b[35m/../AWS/\u001b[0m\u001b[95mAWS_Daily_biling_notification_to_slack.ipynb\u001b[0m\n"
      ]
     },
     "metadata": {},
     "output_type": "display_data"
    },
    {
     "data": {
      "text/html": [
       "<pre style=\"white-space:pre;overflow-x:auto;line-height:normal;font-family:Menlo,'DejaVu Sans Mono',consolas,'Courier New',monospace\">..<span style=\"color: #800080; text-decoration-color: #800080\">/../AWS/</span><span style=\"color: #ff00ff; text-decoration-color: #ff00ff\">AWS_Get_files_from_S3_bucket.ipynb</span>\n",
       "</pre>\n"
      ],
      "text/plain": [
       "..\u001b[35m/../AWS/\u001b[0m\u001b[95mAWS_Get_files_from_S3_bucket.ipynb\u001b[0m\n"
      ]
     },
     "metadata": {},
     "output_type": "display_data"
    },
    {
     "data": {
      "text/html": [
       "<pre style=\"white-space:pre;overflow-x:auto;line-height:normal;font-family:Menlo,'DejaVu Sans Mono',consolas,'Courier New',monospace\">..<span style=\"color: #800080; text-decoration-color: #800080\">/../AWS/</span><span style=\"color: #ff00ff; text-decoration-color: #ff00ff\">AWS_Upload_file_to_S3_bucket.ipynb</span>\n",
       "</pre>\n"
      ],
      "text/plain": [
       "..\u001b[35m/../AWS/\u001b[0m\u001b[95mAWS_Upload_file_to_S3_bucket.ipynb\u001b[0m\n"
      ]
     },
     "metadata": {},
     "output_type": "display_data"
    },
    {
     "data": {
      "text/html": [
       "<pre style=\"white-space:pre;overflow-x:auto;line-height:normal;font-family:Menlo,'DejaVu Sans Mono',consolas,'Courier New',monospace\">..<span style=\"color: #800080; text-decoration-color: #800080\">/../Airtable/</span><span style=\"color: #ff00ff; text-decoration-color: #ff00ff\">Airtable_Connect.ipynb</span>\n",
       "</pre>\n"
      ],
      "text/plain": [
       "..\u001b[35m/../Airtable/\u001b[0m\u001b[95mAirtable_Connect.ipynb\u001b[0m\n"
      ]
     },
     "metadata": {},
     "output_type": "display_data"
    },
    {
     "data": {
      "text/html": [
       "<pre style=\"white-space:pre;overflow-x:auto;line-height:normal;font-family:Menlo,'DejaVu Sans Mono',consolas,'Courier New',monospace\">..<span style=\"color: #800080; text-decoration-color: #800080\">/../Airtable/</span><span style=\"color: #ff00ff; text-decoration-color: #ff00ff\">Airtable_Delete_data.ipynb</span>\n",
       "</pre>\n"
      ],
      "text/plain": [
       "..\u001b[35m/../Airtable/\u001b[0m\u001b[95mAirtable_Delete_data.ipynb\u001b[0m\n"
      ]
     },
     "metadata": {},
     "output_type": "display_data"
    },
    {
     "data": {
      "text/html": [
       "<pre style=\"white-space:pre;overflow-x:auto;line-height:normal;font-family:Menlo,'DejaVu Sans Mono',consolas,'Courier New',monospace\">..<span style=\"color: #800080; text-decoration-color: #800080\">/../Airtable/</span><span style=\"color: #ff00ff; text-decoration-color: #ff00ff\">Airtable_Get_data.ipynb</span>\n",
       "</pre>\n"
      ],
      "text/plain": [
       "..\u001b[35m/../Airtable/\u001b[0m\u001b[95mAirtable_Get_data.ipynb\u001b[0m\n"
      ]
     },
     "metadata": {},
     "output_type": "display_data"
    },
    {
     "data": {
      "text/html": [
       "<pre style=\"white-space:pre;overflow-x:auto;line-height:normal;font-family:Menlo,'DejaVu Sans Mono',consolas,'Courier New',monospace\">..<span style=\"color: #800080; text-decoration-color: #800080\">/../Airtable/</span><span style=\"color: #ff00ff; text-decoration-color: #ff00ff\">Airtable_Insert_data.ipynb</span>\n",
       "</pre>\n"
      ],
      "text/plain": [
       "..\u001b[35m/../Airtable/\u001b[0m\u001b[95mAirtable_Insert_data.ipynb\u001b[0m\n"
      ]
     },
     "metadata": {},
     "output_type": "display_data"
    },
    {
     "data": {
      "text/html": [
       "<pre style=\"white-space:pre;overflow-x:auto;line-height:normal;font-family:Menlo,'DejaVu Sans Mono',consolas,'Courier New',monospace\">..<span style=\"color: #800080; text-decoration-color: #800080\">/../Airtable/</span><span style=\"color: #ff00ff; text-decoration-color: #ff00ff\">Airtable_Search_data.ipynb</span>\n",
       "</pre>\n"
      ],
      "text/plain": [
       "..\u001b[35m/../Airtable/\u001b[0m\u001b[95mAirtable_Search_data.ipynb\u001b[0m\n"
      ]
     },
     "metadata": {},
     "output_type": "display_data"
    },
    {
     "data": {
      "text/html": [
       "<pre style=\"white-space:pre;overflow-x:auto;line-height:normal;font-family:Menlo,'DejaVu Sans Mono',consolas,'Courier New',monospace\">..<span style=\"color: #800080; text-decoration-color: #800080\">/../AlphaVantage/</span><span style=\"color: #ff00ff; text-decoration-color: #ff00ff\">AlphaVantage_Get_fundamental_data.ipynb</span>\n",
       "</pre>\n"
      ],
      "text/plain": [
       "..\u001b[35m/../AlphaVantage/\u001b[0m\u001b[95mAlphaVantage_Get_fundamental_data.ipynb\u001b[0m\n"
      ]
     },
     "metadata": {},
     "output_type": "display_data"
    },
    {
     "data": {
      "text/html": [
       "<pre style=\"white-space:pre;overflow-x:auto;line-height:normal;font-family:Menlo,'DejaVu Sans Mono',consolas,'Courier New',monospace\">..<span style=\"color: #800080; text-decoration-color: #800080\">/../Boursorama/</span><span style=\"color: #ff00ff; text-decoration-color: #ff00ff\">Boursorama_Get_CDS.ipynb</span>\n",
       "</pre>\n"
      ],
      "text/plain": [
       "..\u001b[35m/../Boursorama/\u001b[0m\u001b[95mBoursorama_Get_CDS.ipynb\u001b[0m\n"
      ]
     },
     "metadata": {},
     "output_type": "display_data"
    },
    {
     "data": {
      "text/html": [
       "<pre style=\"white-space:pre;overflow-x:auto;line-height:normal;font-family:Menlo,'DejaVu Sans Mono',consolas,'Courier New',monospace\">..<span style=\"color: #800080; text-decoration-color: #800080\">/../Bubble/</span><span style=\"color: #ff00ff; text-decoration-color: #ff00ff\">Bubble_Trigger_workflow.ipynb</span>\n",
       "</pre>\n"
      ],
      "text/plain": [
       "..\u001b[35m/../Bubble/\u001b[0m\u001b[95mBubble_Trigger_workflow.ipynb\u001b[0m\n"
      ]
     },
     "metadata": {},
     "output_type": "display_data"
    },
    {
     "data": {
      "text/html": [
       "<pre style=\"white-space:pre;overflow-x:auto;line-height:normal;font-family:Menlo,'DejaVu Sans Mono',consolas,'Courier New',monospace\">..<span style=\"color: #800080; text-decoration-color: #800080\">/../CCXT/</span><span style=\"color: #ff00ff; text-decoration-color: #ff00ff\">CCXT_Calculate_Support_and_Resistance.ipynb</span>\n",
       "</pre>\n"
      ],
      "text/plain": [
       "..\u001b[35m/../CCXT/\u001b[0m\u001b[95mCCXT_Calculate_Support_and_Resistance.ipynb\u001b[0m\n"
      ]
     },
     "metadata": {},
     "output_type": "display_data"
    },
    {
     "data": {
      "text/html": [
       "<pre style=\"white-space:pre;overflow-x:auto;line-height:normal;font-family:Menlo,'DejaVu Sans Mono',consolas,'Courier New',monospace\">..<span style=\"color: #800080; text-decoration-color: #800080\">/../CCXT/</span><span style=\"color: #ff00ff; text-decoration-color: #ff00ff\">CCXT_Predict_Bitcoin_from_Binance.ipynb</span>\n",
       "</pre>\n"
      ],
      "text/plain": [
       "..\u001b[35m/../CCXT/\u001b[0m\u001b[95mCCXT_Predict_Bitcoin_from_Binance.ipynb\u001b[0m\n"
      ]
     },
     "metadata": {},
     "output_type": "display_data"
    },
    {
     "data": {
      "text/html": [
       "<pre style=\"white-space:pre;overflow-x:auto;line-height:normal;font-family:Menlo,'DejaVu Sans Mono',consolas,'Courier New',monospace\">..<span style=\"color: #800080; text-decoration-color: #800080\">/../CSV/</span><span style=\"color: #ff00ff; text-decoration-color: #ff00ff\">CSV_Read_file.ipynb</span>\n",
       "</pre>\n"
      ],
      "text/plain": [
       "..\u001b[35m/../CSV/\u001b[0m\u001b[95mCSV_Read_file.ipynb\u001b[0m\n"
      ]
     },
     "metadata": {},
     "output_type": "display_data"
    },
    {
     "data": {
      "text/html": [
       "<pre style=\"white-space:pre;overflow-x:auto;line-height:normal;font-family:Menlo,'DejaVu Sans Mono',consolas,'Courier New',monospace\">..<span style=\"color: #800080; text-decoration-color: #800080\">/../CSV/</span><span style=\"color: #ff00ff; text-decoration-color: #ff00ff\">CSV_Save_file.ipynb</span>\n",
       "</pre>\n"
      ],
      "text/plain": [
       "..\u001b[35m/../CSV/\u001b[0m\u001b[95mCSV_Save_file.ipynb\u001b[0m\n"
      ]
     },
     "metadata": {},
     "output_type": "display_data"
    },
    {
     "data": {
      "text/html": [
       "<pre style=\"white-space:pre;overflow-x:auto;line-height:normal;font-family:Menlo,'DejaVu Sans Mono',consolas,'Courier New',monospace\">..<span style=\"color: #800080; text-decoration-color: #800080\">/../Canny/</span><span style=\"color: #ff00ff; text-decoration-color: #ff00ff\">Canny_Create.ipynb</span>\n",
       "</pre>\n"
      ],
      "text/plain": [
       "..\u001b[35m/../Canny/\u001b[0m\u001b[95mCanny_Create.ipynb\u001b[0m\n"
      ]
     },
     "metadata": {},
     "output_type": "display_data"
    },
    {
     "data": {
      "text/html": [
       "<pre style=\"white-space:pre;overflow-x:auto;line-height:normal;font-family:Menlo,'DejaVu Sans Mono',consolas,'Courier New',monospace\">..<span style=\"color: #800080; text-decoration-color: #800080\">/../Canny/</span><span style=\"color: #ff00ff; text-decoration-color: #ff00ff\">Canny_Github_issue_update.ipynb</span>\n",
       "</pre>\n"
      ],
      "text/plain": [
       "..\u001b[35m/../Canny/\u001b[0m\u001b[95mCanny_Github_issue_update.ipynb\u001b[0m\n"
      ]
     },
     "metadata": {},
     "output_type": "display_data"
    },
    {
     "data": {
      "text/html": [
       "<pre style=\"white-space:pre;overflow-x:auto;line-height:normal;font-family:Menlo,'DejaVu Sans Mono',consolas,'Courier New',monospace\">..<span style=\"color: #800080; text-decoration-color: #800080\">/../Canny/</span><span style=\"color: #ff00ff; text-decoration-color: #ff00ff\">Canny_Read.ipynb</span>\n",
       "</pre>\n"
      ],
      "text/plain": [
       "..\u001b[35m/../Canny/\u001b[0m\u001b[95mCanny_Read.ipynb\u001b[0m\n"
      ]
     },
     "metadata": {},
     "output_type": "display_data"
    },
    {
     "data": {
      "text/html": [
       "<pre style=\"white-space:pre;overflow-x:auto;line-height:normal;font-family:Menlo,'DejaVu Sans Mono',consolas,'Courier New',monospace\">..<span style=\"color: #800080; text-decoration-color: #800080\">/../Celestrak/</span><span style=\"color: #ff00ff; text-decoration-color: #ff00ff\">Celestrak_Satellites_over_time.ipynb</span>\n",
       "</pre>\n"
      ],
      "text/plain": [
       "..\u001b[35m/../Celestrak/\u001b[0m\u001b[95mCelestrak_Satellites_over_time.ipynb\u001b[0m\n"
      ]
     },
     "metadata": {},
     "output_type": "display_data"
    },
    {
     "data": {
      "text/html": [
       "<pre style=\"white-space:pre;overflow-x:auto;line-height:normal;font-family:Menlo,'DejaVu Sans Mono',consolas,'Courier New',monospace\">..<span style=\"color: #800080; text-decoration-color: #800080\">/../Cityfalcon/</span><span style=\"color: #ff00ff; text-decoration-color: #ff00ff\">Cityfalcon_Get_data_from_API.ipynb</span>\n",
       "</pre>\n"
      ],
      "text/plain": [
       "..\u001b[35m/../Cityfalcon/\u001b[0m\u001b[95mCityfalcon_Get_data_from_API.ipynb\u001b[0m\n"
      ]
     },
     "metadata": {},
     "output_type": "display_data"
    },
    {
     "data": {
      "text/html": [
       "<pre style=\"white-space:pre;overflow-x:auto;line-height:normal;font-family:Menlo,'DejaVu Sans Mono',consolas,'Courier New',monospace\">..<span style=\"color: #800080; text-decoration-color: #800080\">/../Data.gouv.fr/</span><span style=\"color: #ff00ff; text-decoration-color: #ff00ff\">COVID19</span> -  FR - Entrées et sorties par région pour <span style=\"color: #008080; text-decoration-color: #008080; font-weight: bold\">1</span> million d'hab..ipynb\n",
       "</pre>\n"
      ],
      "text/plain": [
       "..\u001b[35m/../Data.gouv.fr/\u001b[0m\u001b[95mCOVID19\u001b[0m -  FR - Entrées et sorties par région pour \u001b[1;36m1\u001b[0m million d'hab..ipynb\n"
      ]
     },
     "metadata": {},
     "output_type": "display_data"
    },
    {
     "data": {
      "text/html": [
       "<pre style=\"white-space:pre;overflow-x:auto;line-height:normal;font-family:Menlo,'DejaVu Sans Mono',consolas,'Courier New',monospace\">..<span style=\"color: #800080; text-decoration-color: #800080\">/../EM-DAT/</span><span style=\"color: #ff00ff; text-decoration-color: #ff00ff\">EM-DAT_natural_disasters.ipynb</span>\n",
       "</pre>\n"
      ],
      "text/plain": [
       "..\u001b[35m/../EM-DAT/\u001b[0m\u001b[95mEM-DAT_natural_disasters.ipynb\u001b[0m\n"
      ]
     },
     "metadata": {},
     "output_type": "display_data"
    },
    {
     "data": {
      "text/html": [
       "<pre style=\"white-space:pre;overflow-x:auto;line-height:normal;font-family:Menlo,'DejaVu Sans Mono',consolas,'Courier New',monospace\">..<span style=\"color: #800080; text-decoration-color: #800080\">/../</span><span style=\"color: #ff00ff; text-decoration-color: #ff00ff\">Elastic</span> Search/Elastic Search_Connect_to_server.ipynb\n",
       "</pre>\n"
      ],
      "text/plain": [
       "..\u001b[35m/../\u001b[0m\u001b[95mElastic\u001b[0m Search/Elastic Search_Connect_to_server.ipynb\n"
      ]
     },
     "metadata": {},
     "output_type": "display_data"
    },
    {
     "data": {
      "text/html": [
       "<pre style=\"white-space:pre;overflow-x:auto;line-height:normal;font-family:Menlo,'DejaVu Sans Mono',consolas,'Courier New',monospace\">..<span style=\"color: #800080; text-decoration-color: #800080\">/../Excel/</span><span style=\"color: #ff00ff; text-decoration-color: #ff00ff\">Excel_Consolidate_files.ipynb</span>\n",
       "</pre>\n"
      ],
      "text/plain": [
       "..\u001b[35m/../Excel/\u001b[0m\u001b[95mExcel_Consolidate_files.ipynb\u001b[0m\n"
      ]
     },
     "metadata": {},
     "output_type": "display_data"
    },
    {
     "data": {
      "text/html": [
       "<pre style=\"white-space:pre;overflow-x:auto;line-height:normal;font-family:Menlo,'DejaVu Sans Mono',consolas,'Courier New',monospace\">..<span style=\"color: #800080; text-decoration-color: #800080\">/../Excel/</span><span style=\"color: #ff00ff; text-decoration-color: #ff00ff\">Excel_Read_file.ipynb</span>\n",
       "</pre>\n"
      ],
      "text/plain": [
       "..\u001b[35m/../Excel/\u001b[0m\u001b[95mExcel_Read_file.ipynb\u001b[0m\n"
      ]
     },
     "metadata": {},
     "output_type": "display_data"
    },
    {
     "data": {
      "text/html": [
       "<pre style=\"white-space:pre;overflow-x:auto;line-height:normal;font-family:Menlo,'DejaVu Sans Mono',consolas,'Courier New',monospace\">..<span style=\"color: #800080; text-decoration-color: #800080\">/../Excel/</span><span style=\"color: #ff00ff; text-decoration-color: #ff00ff\">Excel_Save_file.ipynb</span>\n",
       "</pre>\n"
      ],
      "text/plain": [
       "..\u001b[35m/../Excel/\u001b[0m\u001b[95mExcel_Save_file.ipynb\u001b[0m\n"
      ]
     },
     "metadata": {},
     "output_type": "display_data"
    },
    {
     "data": {
      "text/html": [
       "<pre style=\"white-space:pre;overflow-x:auto;line-height:normal;font-family:Menlo,'DejaVu Sans Mono',consolas,'Courier New',monospace\">..<span style=\"color: #800080; text-decoration-color: #800080\">/../</span><span style=\"color: #ff00ff; text-decoration-color: #ff00ff\">Excel</span> <span style=\"color: #008080; text-decoration-color: #008080; font-weight: bold\">365</span>/Access Excel <span style=\"color: #008080; text-decoration-color: #008080; font-weight: bold\">365</span> sheet.ipynb\n",
       "</pre>\n"
      ],
      "text/plain": [
       "..\u001b[35m/../\u001b[0m\u001b[95mExcel\u001b[0m \u001b[1;36m365\u001b[0m/Access Excel \u001b[1;36m365\u001b[0m sheet.ipynb\n"
      ]
     },
     "metadata": {},
     "output_type": "display_data"
    },
    {
     "data": {
      "text/html": [
       "<pre style=\"white-space:pre;overflow-x:auto;line-height:normal;font-family:Menlo,'DejaVu Sans Mono',consolas,'Courier New',monospace\">..<span style=\"color: #800080; text-decoration-color: #800080\">/../FAO/</span><span style=\"color: #ff00ff; text-decoration-color: #ff00ff\">FAO_Consumer_price_indice.ipynb</span>\n",
       "</pre>\n"
      ],
      "text/plain": [
       "..\u001b[35m/../FAO/\u001b[0m\u001b[95mFAO_Consumer_price_indice.ipynb\u001b[0m\n"
      ]
     },
     "metadata": {},
     "output_type": "display_data"
    },
    {
     "data": {
      "text/html": [
       "<pre style=\"white-space:pre;overflow-x:auto;line-height:normal;font-family:Menlo,'DejaVu Sans Mono',consolas,'Courier New',monospace\">..<span style=\"color: #800080; text-decoration-color: #800080\">/../FEC/</span><span style=\"color: #ff00ff; text-decoration-color: #ff00ff\">FEC_Creer_un_dashboard_PowerBI.ipynb</span>\n",
       "</pre>\n"
      ],
      "text/plain": [
       "..\u001b[35m/../FEC/\u001b[0m\u001b[95mFEC_Creer_un_dashboard_PowerBI.ipynb\u001b[0m\n"
      ]
     },
     "metadata": {},
     "output_type": "display_data"
    },
    {
     "data": {
      "text/html": [
       "<pre style=\"white-space:pre;overflow-x:auto;line-height:normal;font-family:Menlo,'DejaVu Sans Mono',consolas,'Courier New',monospace\">..<span style=\"color: #800080; text-decoration-color: #800080\">/../FTP/</span><span style=\"color: #ff00ff; text-decoration-color: #ff00ff\">FTPS_Connect.ipynb</span>\n",
       "</pre>\n"
      ],
      "text/plain": [
       "..\u001b[35m/../FTP/\u001b[0m\u001b[95mFTPS_Connect.ipynb\u001b[0m\n"
      ]
     },
     "metadata": {},
     "output_type": "display_data"
    },
    {
     "data": {
      "text/html": [
       "<pre style=\"white-space:pre;overflow-x:auto;line-height:normal;font-family:Menlo,'DejaVu Sans Mono',consolas,'Courier New',monospace\">..<span style=\"color: #800080; text-decoration-color: #800080\">/../FTP/</span><span style=\"color: #ff00ff; text-decoration-color: #ff00ff\">FTP_Connect.ipynb</span>\n",
       "</pre>\n"
      ],
      "text/plain": [
       "..\u001b[35m/../FTP/\u001b[0m\u001b[95mFTP_Connect.ipynb\u001b[0m\n"
      ]
     },
     "metadata": {},
     "output_type": "display_data"
    },
    {
     "data": {
      "text/html": [
       "<pre style=\"white-space:pre;overflow-x:auto;line-height:normal;font-family:Menlo,'DejaVu Sans Mono',consolas,'Courier New',monospace\">..<span style=\"color: #800080; text-decoration-color: #800080\">/../FTP/</span><span style=\"color: #ff00ff; text-decoration-color: #ff00ff\">FTP_Get_file.ipynb</span>\n",
       "</pre>\n"
      ],
      "text/plain": [
       "..\u001b[35m/../FTP/\u001b[0m\u001b[95mFTP_Get_file.ipynb\u001b[0m\n"
      ]
     },
     "metadata": {},
     "output_type": "display_data"
    },
    {
     "data": {
      "text/html": [
       "<pre style=\"white-space:pre;overflow-x:auto;line-height:normal;font-family:Menlo,'DejaVu Sans Mono',consolas,'Courier New',monospace\">..<span style=\"color: #800080; text-decoration-color: #800080\">/../FTP/</span><span style=\"color: #ff00ff; text-decoration-color: #ff00ff\">FTP_Send_file.ipynb</span>\n",
       "</pre>\n"
      ],
      "text/plain": [
       "..\u001b[35m/../FTP/\u001b[0m\u001b[95mFTP_Send_file.ipynb\u001b[0m\n"
      ]
     },
     "metadata": {},
     "output_type": "display_data"
    },
    {
     "data": {
      "text/html": [
       "<pre style=\"white-space:pre;overflow-x:auto;line-height:normal;font-family:Menlo,'DejaVu Sans Mono',consolas,'Courier New',monospace\">..<span style=\"color: #800080; text-decoration-color: #800080\">/../Github/</span><span style=\"color: #ff00ff; text-decoration-color: #ff00ff\">Github_Close_issue.ipynb</span>\n",
       "</pre>\n"
      ],
      "text/plain": [
       "..\u001b[35m/../Github/\u001b[0m\u001b[95mGithub_Close_issue.ipynb\u001b[0m\n"
      ]
     },
     "metadata": {},
     "output_type": "display_data"
    },
    {
     "data": {
      "text/html": [
       "<pre style=\"white-space:pre;overflow-x:auto;line-height:normal;font-family:Menlo,'DejaVu Sans Mono',consolas,'Courier New',monospace\">..<span style=\"color: #800080; text-decoration-color: #800080\">/../Github/</span><span style=\"color: #ff00ff; text-decoration-color: #ff00ff\">Github_Create_issue.ipynb</span>\n",
       "</pre>\n"
      ],
      "text/plain": [
       "..\u001b[35m/../Github/\u001b[0m\u001b[95mGithub_Create_issue.ipynb\u001b[0m\n"
      ]
     },
     "metadata": {},
     "output_type": "display_data"
    },
    {
     "data": {
      "text/html": [
       "<pre style=\"white-space:pre;overflow-x:auto;line-height:normal;font-family:Menlo,'DejaVu Sans Mono',consolas,'Courier New',monospace\">..<span style=\"color: #800080; text-decoration-color: #800080\">/../Github/</span><span style=\"color: #ff00ff; text-decoration-color: #ff00ff\">Github_Download_file_from_url.ipynb</span>\n",
       "</pre>\n"
      ],
      "text/plain": [
       "..\u001b[35m/../Github/\u001b[0m\u001b[95mGithub_Download_file_from_url.ipynb\u001b[0m\n"
      ]
     },
     "metadata": {},
     "output_type": "display_data"
    },
    {
     "data": {
      "text/html": [
       "<pre style=\"white-space:pre;overflow-x:auto;line-height:normal;font-family:Menlo,'DejaVu Sans Mono',consolas,'Courier New',monospace\">..<span style=\"color: #800080; text-decoration-color: #800080\">/../Github/</span><span style=\"color: #ff00ff; text-decoration-color: #ff00ff\">Github_Get_active_projects.ipynb</span>\n",
       "</pre>\n"
      ],
      "text/plain": [
       "..\u001b[35m/../Github/\u001b[0m\u001b[95mGithub_Get_active_projects.ipynb\u001b[0m\n"
      ]
     },
     "metadata": {},
     "output_type": "display_data"
    },
    {
     "data": {
      "text/html": [
       "<pre style=\"white-space:pre;overflow-x:auto;line-height:normal;font-family:Menlo,'DejaVu Sans Mono',consolas,'Courier New',monospace\">..<span style=\"color: #800080; text-decoration-color: #800080\">/../Github/</span><span style=\"color: #ff00ff; text-decoration-color: #ff00ff\">Github_Get_commits_ranking_from_repository.ipynb</span>\n",
       "</pre>\n"
      ],
      "text/plain": [
       "..\u001b[35m/../Github/\u001b[0m\u001b[95mGithub_Get_commits_ranking_from_repository.ipynb\u001b[0m\n"
      ]
     },
     "metadata": {},
     "output_type": "display_data"
    },
    {
     "data": {
      "text/html": [
       "<pre style=\"white-space:pre;overflow-x:auto;line-height:normal;font-family:Menlo,'DejaVu Sans Mono',consolas,'Courier New',monospace\">..<span style=\"color: #800080; text-decoration-color: #800080\">/../Github/</span><span style=\"color: #ff00ff; text-decoration-color: #ff00ff\">Github_Get_issues_from_repo.ipynb</span>\n",
       "</pre>\n"
      ],
      "text/plain": [
       "..\u001b[35m/../Github/\u001b[0m\u001b[95mGithub_Get_issues_from_repo.ipynb\u001b[0m\n"
      ]
     },
     "metadata": {},
     "output_type": "display_data"
    },
    {
     "data": {
      "text/html": [
       "<pre style=\"white-space:pre;overflow-x:auto;line-height:normal;font-family:Menlo,'DejaVu Sans Mono',consolas,'Courier New',monospace\">..<span style=\"color: #800080; text-decoration-color: #800080\">/../Github/</span><span style=\"color: #ff00ff; text-decoration-color: #ff00ff\">Github_Get_profile_from_user.ipynb</span>\n",
       "</pre>\n"
      ],
      "text/plain": [
       "..\u001b[35m/../Github/\u001b[0m\u001b[95mGithub_Get_profile_from_user.ipynb\u001b[0m\n"
      ]
     },
     "metadata": {},
     "output_type": "display_data"
    },
    {
     "data": {
      "text/html": [
       "<pre style=\"white-space:pre;overflow-x:auto;line-height:normal;font-family:Menlo,'DejaVu Sans Mono',consolas,'Courier New',monospace\">..<span style=\"color: #800080; text-decoration-color: #800080\">/../Github/</span><span style=\"color: #ff00ff; text-decoration-color: #ff00ff\">Github_Get_profiles_from_teams.ipynb</span>\n",
       "</pre>\n"
      ],
      "text/plain": [
       "..\u001b[35m/../Github/\u001b[0m\u001b[95mGithub_Get_profiles_from_teams.ipynb\u001b[0m\n"
      ]
     },
     "metadata": {},
     "output_type": "display_data"
    },
    {
     "data": {
      "text/html": [
       "<pre style=\"white-space:pre;overflow-x:auto;line-height:normal;font-family:Menlo,'DejaVu Sans Mono',consolas,'Courier New',monospace\">..<span style=\"color: #800080; text-decoration-color: #800080\">/../Github/</span><span style=\"color: #ff00ff; text-decoration-color: #ff00ff\">Github_Get_pull_requests_from_repository.ipynb</span>\n",
       "</pre>\n"
      ],
      "text/plain": [
       "..\u001b[35m/../Github/\u001b[0m\u001b[95mGithub_Get_pull_requests_from_repository.ipynb\u001b[0m\n"
      ]
     },
     "metadata": {},
     "output_type": "display_data"
    },
    {
     "data": {
      "text/html": [
       "<pre style=\"white-space:pre;overflow-x:auto;line-height:normal;font-family:Menlo,'DejaVu Sans Mono',consolas,'Courier New',monospace\">..<span style=\"color: #800080; text-decoration-color: #800080\">/../Github/</span><span style=\"color: #ff00ff; text-decoration-color: #ff00ff\">Github_Get_stargazers_from_repository.ipynb</span>\n",
       "</pre>\n"
      ],
      "text/plain": [
       "..\u001b[35m/../Github/\u001b[0m\u001b[95mGithub_Get_stargazers_from_repository.ipynb\u001b[0m\n"
      ]
     },
     "metadata": {},
     "output_type": "display_data"
    },
    {
     "data": {
      "text/html": [
       "<pre style=\"white-space:pre;overflow-x:auto;line-height:normal;font-family:Menlo,'DejaVu Sans Mono',consolas,'Courier New',monospace\">..<span style=\"color: #800080; text-decoration-color: #800080\">/../Github/</span><span style=\"color: #ff00ff; text-decoration-color: #ff00ff\">Github_Get_weekly_commits_from_repository.ipynb</span>\n",
       "</pre>\n"
      ],
      "text/plain": [
       "..\u001b[35m/../Github/\u001b[0m\u001b[95mGithub_Get_weekly_commits_from_repository.ipynb\u001b[0m\n"
      ]
     },
     "metadata": {},
     "output_type": "display_data"
    },
    {
     "data": {
      "text/html": [
       "<pre style=\"white-space:pre;overflow-x:auto;line-height:normal;font-family:Menlo,'DejaVu Sans Mono',consolas,'Courier New',monospace\">..<span style=\"color: #800080; text-decoration-color: #800080\">/../Github/</span><span style=\"color: #ff00ff; text-decoration-color: #ff00ff\">Github_Peform_basic_actions.ipynb</span>\n",
       "</pre>\n"
      ],
      "text/plain": [
       "..\u001b[35m/../Github/\u001b[0m\u001b[95mGithub_Peform_basic_actions.ipynb\u001b[0m\n"
      ]
     },
     "metadata": {},
     "output_type": "display_data"
    },
    {
     "data": {
      "text/html": [
       "<pre style=\"white-space:pre;overflow-x:auto;line-height:normal;font-family:Menlo,'DejaVu Sans Mono',consolas,'Courier New',monospace\">..<span style=\"color: #800080; text-decoration-color: #800080\">/../Github/</span><span style=\"color: #ff00ff; text-decoration-color: #ff00ff\">Github_Read_issue.ipynb</span>\n",
       "</pre>\n"
      ],
      "text/plain": [
       "..\u001b[35m/../Github/\u001b[0m\u001b[95mGithub_Read_issue.ipynb\u001b[0m\n"
      ]
     },
     "metadata": {},
     "output_type": "display_data"
    },
    {
     "data": {
      "text/html": [
       "<pre style=\"white-space:pre;overflow-x:auto;line-height:normal;font-family:Menlo,'DejaVu Sans Mono',consolas,'Courier New',monospace\">..<span style=\"color: #800080; text-decoration-color: #800080\">/../Github/</span><span style=\"color: #ff00ff; text-decoration-color: #ff00ff\">Github_Track_notebooks_created_over_time.ipynb</span>\n",
       "</pre>\n"
      ],
      "text/plain": [
       "..\u001b[35m/../Github/\u001b[0m\u001b[95mGithub_Track_notebooks_created_over_time.ipynb\u001b[0m\n"
      ]
     },
     "metadata": {},
     "output_type": "display_data"
    },
    {
     "data": {
      "text/html": [
       "<pre style=\"white-space:pre;overflow-x:auto;line-height:normal;font-family:Menlo,'DejaVu Sans Mono',consolas,'Courier New',monospace\">..<span style=\"color: #800080; text-decoration-color: #800080\">/../Github/</span><span style=\"color: #ff00ff; text-decoration-color: #ff00ff\">Github_Track_open_issues_roadmap.ipynb</span>\n",
       "</pre>\n"
      ],
      "text/plain": [
       "..\u001b[35m/../Github/\u001b[0m\u001b[95mGithub_Track_open_issues_roadmap.ipynb\u001b[0m\n"
      ]
     },
     "metadata": {},
     "output_type": "display_data"
    },
    {
     "data": {
      "text/html": [
       "<pre style=\"white-space:pre;overflow-x:auto;line-height:normal;font-family:Menlo,'DejaVu Sans Mono',consolas,'Courier New',monospace\">..<span style=\"color: #800080; text-decoration-color: #800080\">/../Gmail/</span><span style=\"color: #ff00ff; text-decoration-color: #ff00ff\">Gmail_Automate_response_from_keywords_in_mailbox.ipynb</span>\n",
       "</pre>\n"
      ],
      "text/plain": [
       "..\u001b[35m/../Gmail/\u001b[0m\u001b[95mGmail_Automate_response_from_keywords_in_mailbox.ipynb\u001b[0m\n"
      ]
     },
     "metadata": {},
     "output_type": "display_data"
    },
    {
     "data": {
      "text/html": [
       "<pre style=\"white-space:pre;overflow-x:auto;line-height:normal;font-family:Menlo,'DejaVu Sans Mono',consolas,'Courier New',monospace\">..<span style=\"color: #800080; text-decoration-color: #800080\">/../Gmail/</span><span style=\"color: #ff00ff; text-decoration-color: #ff00ff\">Gmail_Clean_mailbox.ipynb</span>\n",
       "</pre>\n"
      ],
      "text/plain": [
       "..\u001b[35m/../Gmail/\u001b[0m\u001b[95mGmail_Clean_mailbox.ipynb\u001b[0m\n"
      ]
     },
     "metadata": {},
     "output_type": "display_data"
    },
    {
     "data": {
      "text/html": [
       "<pre style=\"white-space:pre;overflow-x:auto;line-height:normal;font-family:Menlo,'DejaVu Sans Mono',consolas,'Courier New',monospace\">..<span style=\"color: #800080; text-decoration-color: #800080\">/../Gmail/</span><span style=\"color: #ff00ff; text-decoration-color: #ff00ff\">Gmail_Read_mailbox.ipynb</span>\n",
       "</pre>\n"
      ],
      "text/plain": [
       "..\u001b[35m/../Gmail/\u001b[0m\u001b[95mGmail_Read_mailbox.ipynb\u001b[0m\n"
      ]
     },
     "metadata": {},
     "output_type": "display_data"
    },
    {
     "data": {
      "text/html": [
       "<pre style=\"white-space:pre;overflow-x:auto;line-height:normal;font-family:Menlo,'DejaVu Sans Mono',consolas,'Courier New',monospace\">..<span style=\"color: #800080; text-decoration-color: #800080\">/../Gmail/</span><span style=\"color: #ff00ff; text-decoration-color: #ff00ff\">Gmail_Schedule_mailbox_cleaning.ipynb</span>\n",
       "</pre>\n"
      ],
      "text/plain": [
       "..\u001b[35m/../Gmail/\u001b[0m\u001b[95mGmail_Schedule_mailbox_cleaning.ipynb\u001b[0m\n"
      ]
     },
     "metadata": {},
     "output_type": "display_data"
    },
    {
     "data": {
      "text/html": [
       "<pre style=\"white-space:pre;overflow-x:auto;line-height:normal;font-family:Menlo,'DejaVu Sans Mono',consolas,'Courier New',monospace\">..<span style=\"color: #800080; text-decoration-color: #800080\">/../Gmail/</span><span style=\"color: #ff00ff; text-decoration-color: #ff00ff\">Gmail_Send_emails_from_Gsheet_classic.ipynb</span>\n",
       "</pre>\n"
      ],
      "text/plain": [
       "..\u001b[35m/../Gmail/\u001b[0m\u001b[95mGmail_Send_emails_from_Gsheet_classic.ipynb\u001b[0m\n"
      ]
     },
     "metadata": {},
     "output_type": "display_data"
    },
    {
     "data": {
      "text/html": [
       "<pre style=\"white-space:pre;overflow-x:auto;line-height:normal;font-family:Menlo,'DejaVu Sans Mono',consolas,'Courier New',monospace\">..<span style=\"color: #800080; text-decoration-color: #800080\">/../Gmail/</span><span style=\"color: #ff00ff; text-decoration-color: #ff00ff\">Gmail_Send_emails_from_Gsheet_specific.ipynb</span>\n",
       "</pre>\n"
      ],
      "text/plain": [
       "..\u001b[35m/../Gmail/\u001b[0m\u001b[95mGmail_Send_emails_from_Gsheet_specific.ipynb\u001b[0m\n"
      ]
     },
     "metadata": {},
     "output_type": "display_data"
    },
    {
     "data": {
      "text/html": [
       "<pre style=\"white-space:pre;overflow-x:auto;line-height:normal;font-family:Menlo,'DejaVu Sans Mono',consolas,'Courier New',monospace\">..<span style=\"color: #800080; text-decoration-color: #800080\">/../</span><span style=\"color: #ff00ff; text-decoration-color: #ff00ff\">Google</span> Analytics/GoogleAnalytics_Get_bounce_rate.ipynb\n",
       "</pre>\n"
      ],
      "text/plain": [
       "..\u001b[35m/../\u001b[0m\u001b[95mGoogle\u001b[0m Analytics/GoogleAnalytics_Get_bounce_rate.ipynb\n"
      ]
     },
     "metadata": {},
     "output_type": "display_data"
    },
    {
     "data": {
      "text/html": [
       "<pre style=\"white-space:pre;overflow-x:auto;line-height:normal;font-family:Menlo,'DejaVu Sans Mono',consolas,'Courier New',monospace\">..<span style=\"color: #800080; text-decoration-color: #800080\">/../</span><span style=\"color: #ff00ff; text-decoration-color: #ff00ff\">Google</span> Analytics/GoogleAnalytics_Get_pageview_ranking.ipynb\n",
       "</pre>\n"
      ],
      "text/plain": [
       "..\u001b[35m/../\u001b[0m\u001b[95mGoogle\u001b[0m Analytics/GoogleAnalytics_Get_pageview_ranking.ipynb\n"
      ]
     },
     "metadata": {},
     "output_type": "display_data"
    },
    {
     "data": {
      "text/html": [
       "<pre style=\"white-space:pre;overflow-x:auto;line-height:normal;font-family:Menlo,'DejaVu Sans Mono',consolas,'Courier New',monospace\">..<span style=\"color: #800080; text-decoration-color: #800080\">/../</span><span style=\"color: #ff00ff; text-decoration-color: #ff00ff\">Google</span> Analytics/GoogleAnalytics_Get_stats_per_country.ipynb\n",
       "</pre>\n"
      ],
      "text/plain": [
       "..\u001b[35m/../\u001b[0m\u001b[95mGoogle\u001b[0m Analytics/GoogleAnalytics_Get_stats_per_country.ipynb\n"
      ]
     },
     "metadata": {},
     "output_type": "display_data"
    },
    {
     "data": {
      "text/html": [
       "<pre style=\"white-space:pre;overflow-x:auto;line-height:normal;font-family:Menlo,'DejaVu Sans Mono',consolas,'Courier New',monospace\">..<span style=\"color: #800080; text-decoration-color: #800080\">/../</span><span style=\"color: #ff00ff; text-decoration-color: #ff00ff\">Google</span> Analytics/GoogleAnalytics_Get_time_on_landing_page.ipynb\n",
       "</pre>\n"
      ],
      "text/plain": [
       "..\u001b[35m/../\u001b[0m\u001b[95mGoogle\u001b[0m Analytics/GoogleAnalytics_Get_time_on_landing_page.ipynb\n"
      ]
     },
     "metadata": {},
     "output_type": "display_data"
    },
    {
     "data": {
      "text/html": [
       "<pre style=\"white-space:pre;overflow-x:auto;line-height:normal;font-family:Menlo,'DejaVu Sans Mono',consolas,'Courier New',monospace\">..<span style=\"color: #800080; text-decoration-color: #800080\">/../</span><span style=\"color: #ff00ff; text-decoration-color: #ff00ff\">Google</span> Analytics/GoogleAnalytics_Get_unique_visitors.ipynb\n",
       "</pre>\n"
      ],
      "text/plain": [
       "..\u001b[35m/../\u001b[0m\u001b[95mGoogle\u001b[0m Analytics/GoogleAnalytics_Get_unique_visitors.ipynb\n"
      ]
     },
     "metadata": {},
     "output_type": "display_data"
    },
    {
     "data": {
      "text/html": [
       "<pre style=\"white-space:pre;overflow-x:auto;line-height:normal;font-family:Menlo,'DejaVu Sans Mono',consolas,'Courier New',monospace\">..<span style=\"color: #800080; text-decoration-color: #800080\">/../</span><span style=\"color: #ff00ff; text-decoration-color: #ff00ff\">Google</span> Drive/Google_Drive_Download_file.ipynb\n",
       "</pre>\n"
      ],
      "text/plain": [
       "..\u001b[35m/../\u001b[0m\u001b[95mGoogle\u001b[0m Drive/Google_Drive_Download_file.ipynb\n"
      ]
     },
     "metadata": {},
     "output_type": "display_data"
    },
    {
     "data": {
      "text/html": [
       "<pre style=\"white-space:pre;overflow-x:auto;line-height:normal;font-family:Menlo,'DejaVu Sans Mono',consolas,'Courier New',monospace\">..<span style=\"color: #800080; text-decoration-color: #800080\">/../</span><span style=\"color: #ff00ff; text-decoration-color: #ff00ff\">Google</span> Search/Google_Search_Perform_search.ipynb\n",
       "</pre>\n"
      ],
      "text/plain": [
       "..\u001b[35m/../\u001b[0m\u001b[95mGoogle\u001b[0m Search/Google_Search_Perform_search.ipynb\n"
      ]
     },
     "metadata": {},
     "output_type": "display_data"
    },
    {
     "data": {
      "text/html": [
       "<pre style=\"white-space:pre;overflow-x:auto;line-height:normal;font-family:Menlo,'DejaVu Sans Mono',consolas,'Courier New',monospace\">..<span style=\"color: #800080; text-decoration-color: #800080\">/../</span><span style=\"color: #ff00ff; text-decoration-color: #ff00ff\">Google</span> Sheets/Gsheets_Get_data.ipynb\n",
       "</pre>\n"
      ],
      "text/plain": [
       "..\u001b[35m/../\u001b[0m\u001b[95mGoogle\u001b[0m Sheets/Gsheets_Get_data.ipynb\n"
      ]
     },
     "metadata": {},
     "output_type": "display_data"
    },
    {
     "data": {
      "text/html": [
       "<pre style=\"white-space:pre;overflow-x:auto;line-height:normal;font-family:Menlo,'DejaVu Sans Mono',consolas,'Courier New',monospace\">..<span style=\"color: #800080; text-decoration-color: #800080\">/../</span><span style=\"color: #ff00ff; text-decoration-color: #ff00ff\">Google</span> Sheets/Gsheets_Send_data.ipynb\n",
       "</pre>\n"
      ],
      "text/plain": [
       "..\u001b[35m/../\u001b[0m\u001b[95mGoogle\u001b[0m Sheets/Gsheets_Send_data.ipynb\n"
      ]
     },
     "metadata": {},
     "output_type": "display_data"
    },
    {
     "data": {
      "text/html": [
       "<pre style=\"white-space:pre;overflow-x:auto;line-height:normal;font-family:Menlo,'DejaVu Sans Mono',consolas,'Courier New',monospace\">..<span style=\"color: #800080; text-decoration-color: #800080\">/../</span><span style=\"color: #ff00ff; text-decoration-color: #ff00ff\">Google</span> Sheets/Gsheets_Send_emails_from_sheet.ipynb\n",
       "</pre>\n"
      ],
      "text/plain": [
       "..\u001b[35m/../\u001b[0m\u001b[95mGoogle\u001b[0m Sheets/Gsheets_Send_emails_from_sheet.ipynb\n"
      ]
     },
     "metadata": {},
     "output_type": "display_data"
    },
    {
     "data": {
      "text/html": [
       "<pre style=\"white-space:pre;overflow-x:auto;line-height:normal;font-family:Menlo,'DejaVu Sans Mono',consolas,'Courier New',monospace\">..<span style=\"color: #800080; text-decoration-color: #800080\">/../HTML/</span><span style=\"color: #ff00ff; text-decoration-color: #ff00ff\">HTML_Create_a_website.ipynb</span>\n",
       "</pre>\n"
      ],
      "text/plain": [
       "..\u001b[35m/../HTML/\u001b[0m\u001b[95mHTML_Create_a_website.ipynb\u001b[0m\n"
      ]
     },
     "metadata": {},
     "output_type": "display_data"
    },
    {
     "data": {
      "text/html": [
       "<pre style=\"white-space:pre;overflow-x:auto;line-height:normal;font-family:Menlo,'DejaVu Sans Mono',consolas,'Courier New',monospace\">..<span style=\"color: #800080; text-decoration-color: #800080\">/../Healthchecks/</span><span style=\"color: #ff00ff; text-decoration-color: #ff00ff\">Healthcheks_Perfom_basic_actions.ipynb</span>\n",
       "</pre>\n"
      ],
      "text/plain": [
       "..\u001b[35m/../Healthchecks/\u001b[0m\u001b[95mHealthcheks_Perfom_basic_actions.ipynb\u001b[0m\n"
      ]
     },
     "metadata": {},
     "output_type": "display_data"
    },
    {
     "data": {
      "text/html": [
       "<pre style=\"white-space:pre;overflow-x:auto;line-height:normal;font-family:Menlo,'DejaVu Sans Mono',consolas,'Courier New',monospace\">..<span style=\"color: #800080; text-decoration-color: #800080\">/../HubSpot/</span><span style=\"color: #ff00ff; text-decoration-color: #ff00ff\">HubSpot_Associate_contact_to_deal.ipynb</span>\n",
       "</pre>\n"
      ],
      "text/plain": [
       "..\u001b[35m/../HubSpot/\u001b[0m\u001b[95mHubSpot_Associate_contact_to_deal.ipynb\u001b[0m\n"
      ]
     },
     "metadata": {},
     "output_type": "display_data"
    },
    {
     "data": {
      "text/html": [
       "<pre style=\"white-space:pre;overflow-x:auto;line-height:normal;font-family:Menlo,'DejaVu Sans Mono',consolas,'Courier New',monospace\">..<span style=\"color: #800080; text-decoration-color: #800080\">/../HubSpot/</span><span style=\"color: #ff00ff; text-decoration-color: #ff00ff\">HubSpot_Create_contact.ipynb</span>\n",
       "</pre>\n"
      ],
      "text/plain": [
       "..\u001b[35m/../HubSpot/\u001b[0m\u001b[95mHubSpot_Create_contact.ipynb\u001b[0m\n"
      ]
     },
     "metadata": {},
     "output_type": "display_data"
    },
    {
     "data": {
      "text/html": [
       "<pre style=\"white-space:pre;overflow-x:auto;line-height:normal;font-family:Menlo,'DejaVu Sans Mono',consolas,'Courier New',monospace\">..<span style=\"color: #800080; text-decoration-color: #800080\">/../HubSpot/</span><span style=\"color: #ff00ff; text-decoration-color: #ff00ff\">HubSpot_Create_contacts_from_linkedin_post_likes.ipynb</span>\n",
       "</pre>\n"
      ],
      "text/plain": [
       "..\u001b[35m/../HubSpot/\u001b[0m\u001b[95mHubSpot_Create_contacts_from_linkedin_post_likes.ipynb\u001b[0m\n"
      ]
     },
     "metadata": {},
     "output_type": "display_data"
    },
    {
     "data": {
      "text/html": [
       "<pre style=\"white-space:pre;overflow-x:auto;line-height:normal;font-family:Menlo,'DejaVu Sans Mono',consolas,'Courier New',monospace\">..<span style=\"color: #800080; text-decoration-color: #800080\">/../HubSpot/</span><span style=\"color: #ff00ff; text-decoration-color: #ff00ff\">HubSpot_Create_deal.ipynb</span>\n",
       "</pre>\n"
      ],
      "text/plain": [
       "..\u001b[35m/../HubSpot/\u001b[0m\u001b[95mHubSpot_Create_deal.ipynb\u001b[0m\n"
      ]
     },
     "metadata": {},
     "output_type": "display_data"
    },
    {
     "data": {
      "text/html": [
       "<pre style=\"white-space:pre;overflow-x:auto;line-height:normal;font-family:Menlo,'DejaVu Sans Mono',consolas,'Courier New',monospace\">..<span style=\"color: #800080; text-decoration-color: #800080\">/../HubSpot/</span><span style=\"color: #ff00ff; text-decoration-color: #ff00ff\">HubSpot_Delete_contact.ipynb</span>\n",
       "</pre>\n"
      ],
      "text/plain": [
       "..\u001b[35m/../HubSpot/\u001b[0m\u001b[95mHubSpot_Delete_contact.ipynb\u001b[0m\n"
      ]
     },
     "metadata": {},
     "output_type": "display_data"
    },
    {
     "data": {
      "text/html": [
       "<pre style=\"white-space:pre;overflow-x:auto;line-height:normal;font-family:Menlo,'DejaVu Sans Mono',consolas,'Courier New',monospace\">..<span style=\"color: #800080; text-decoration-color: #800080\">/../HubSpot/</span><span style=\"color: #ff00ff; text-decoration-color: #ff00ff\">HubSpot_Delete_deal.ipynb</span>\n",
       "</pre>\n"
      ],
      "text/plain": [
       "..\u001b[35m/../HubSpot/\u001b[0m\u001b[95mHubSpot_Delete_deal.ipynb\u001b[0m\n"
      ]
     },
     "metadata": {},
     "output_type": "display_data"
    },
    {
     "data": {
      "text/html": [
       "<pre style=\"white-space:pre;overflow-x:auto;line-height:normal;font-family:Menlo,'DejaVu Sans Mono',consolas,'Courier New',monospace\">..<span style=\"color: #800080; text-decoration-color: #800080\">/../HubSpot/</span><span style=\"color: #ff00ff; text-decoration-color: #ff00ff\">HubSpot_Get_all_contacts.ipynb</span>\n",
       "</pre>\n"
      ],
      "text/plain": [
       "..\u001b[35m/../HubSpot/\u001b[0m\u001b[95mHubSpot_Get_all_contacts.ipynb\u001b[0m\n"
      ]
     },
     "metadata": {},
     "output_type": "display_data"
    },
    {
     "data": {
      "text/html": [
       "<pre style=\"white-space:pre;overflow-x:auto;line-height:normal;font-family:Menlo,'DejaVu Sans Mono',consolas,'Courier New',monospace\">..<span style=\"color: #800080; text-decoration-color: #800080\">/../HubSpot/</span><span style=\"color: #ff00ff; text-decoration-color: #ff00ff\">HubSpot_Get_all_deals.ipynb</span>\n",
       "</pre>\n"
      ],
      "text/plain": [
       "..\u001b[35m/../HubSpot/\u001b[0m\u001b[95mHubSpot_Get_all_deals.ipynb\u001b[0m\n"
      ]
     },
     "metadata": {},
     "output_type": "display_data"
    },
    {
     "data": {
      "text/html": [
       "<pre style=\"white-space:pre;overflow-x:auto;line-height:normal;font-family:Menlo,'DejaVu Sans Mono',consolas,'Courier New',monospace\">..<span style=\"color: #800080; text-decoration-color: #800080\">/../HubSpot/</span><span style=\"color: #ff00ff; text-decoration-color: #ff00ff\">HubSpot_Get_all_pipelines_and_dealstages.ipynb</span>\n",
       "</pre>\n"
      ],
      "text/plain": [
       "..\u001b[35m/../HubSpot/\u001b[0m\u001b[95mHubSpot_Get_all_pipelines_and_dealstages.ipynb\u001b[0m\n"
      ]
     },
     "metadata": {},
     "output_type": "display_data"
    },
    {
     "data": {
      "text/html": [
       "<pre style=\"white-space:pre;overflow-x:auto;line-height:normal;font-family:Menlo,'DejaVu Sans Mono',consolas,'Courier New',monospace\">..<span style=\"color: #800080; text-decoration-color: #800080\">/../HubSpot/</span><span style=\"color: #ff00ff; text-decoration-color: #ff00ff\">HubSpot_Get_contact.ipynb</span>\n",
       "</pre>\n"
      ],
      "text/plain": [
       "..\u001b[35m/../HubSpot/\u001b[0m\u001b[95mHubSpot_Get_contact.ipynb\u001b[0m\n"
      ]
     },
     "metadata": {},
     "output_type": "display_data"
    },
    {
     "data": {
      "text/html": [
       "<pre style=\"white-space:pre;overflow-x:auto;line-height:normal;font-family:Menlo,'DejaVu Sans Mono',consolas,'Courier New',monospace\">..<span style=\"color: #800080; text-decoration-color: #800080\">/../HubSpot/</span><span style=\"color: #ff00ff; text-decoration-color: #ff00ff\">HubSpot_Get_contacts_associated_to_deal.ipynb</span>\n",
       "</pre>\n"
      ],
      "text/plain": [
       "..\u001b[35m/../HubSpot/\u001b[0m\u001b[95mHubSpot_Get_contacts_associated_to_deal.ipynb\u001b[0m\n"
      ]
     },
     "metadata": {},
     "output_type": "display_data"
    },
    {
     "data": {
      "text/html": [
       "<pre style=\"white-space:pre;overflow-x:auto;line-height:normal;font-family:Menlo,'DejaVu Sans Mono',consolas,'Courier New',monospace\">..<span style=\"color: #800080; text-decoration-color: #800080\">/../HubSpot/</span><span style=\"color: #ff00ff; text-decoration-color: #ff00ff\">HubSpot_Get_deal.ipynb</span>\n",
       "</pre>\n"
      ],
      "text/plain": [
       "..\u001b[35m/../HubSpot/\u001b[0m\u001b[95mHubSpot_Get_deal.ipynb\u001b[0m\n"
      ]
     },
     "metadata": {},
     "output_type": "display_data"
    },
    {
     "data": {
      "text/html": [
       "<pre style=\"white-space:pre;overflow-x:auto;line-height:normal;font-family:Menlo,'DejaVu Sans Mono',consolas,'Courier New',monospace\">..<span style=\"color: #800080; text-decoration-color: #800080\">/../HubSpot/</span><span style=\"color: #ff00ff; text-decoration-color: #ff00ff\">HubSpot_Get_new_deals_created_weekly.ipynb</span>\n",
       "</pre>\n"
      ],
      "text/plain": [
       "..\u001b[35m/../HubSpot/\u001b[0m\u001b[95mHubSpot_Get_new_deals_created_weekly.ipynb\u001b[0m\n"
      ]
     },
     "metadata": {},
     "output_type": "display_data"
    },
    {
     "data": {
      "text/html": [
       "<pre style=\"white-space:pre;overflow-x:auto;line-height:normal;font-family:Menlo,'DejaVu Sans Mono',consolas,'Courier New',monospace\">..<span style=\"color: #800080; text-decoration-color: #800080\">/../HubSpot/</span><span style=\"color: #ff00ff; text-decoration-color: #ff00ff\">HubSpot_Send_contacts_to_gsheet.ipynb</span>\n",
       "</pre>\n"
      ],
      "text/plain": [
       "..\u001b[35m/../HubSpot/\u001b[0m\u001b[95mHubSpot_Send_contacts_to_gsheet.ipynb\u001b[0m\n"
      ]
     },
     "metadata": {},
     "output_type": "display_data"
    },
    {
     "data": {
      "text/html": [
       "<pre style=\"white-space:pre;overflow-x:auto;line-height:normal;font-family:Menlo,'DejaVu Sans Mono',consolas,'Courier New',monospace\">..<span style=\"color: #800080; text-decoration-color: #800080\">/../HubSpot/</span><span style=\"color: #ff00ff; text-decoration-color: #ff00ff\">HubSpot_Send_deals_to_gsheet.ipynb</span>\n",
       "</pre>\n"
      ],
      "text/plain": [
       "..\u001b[35m/../HubSpot/\u001b[0m\u001b[95mHubSpot_Send_deals_to_gsheet.ipynb\u001b[0m\n"
      ]
     },
     "metadata": {},
     "output_type": "display_data"
    },
    {
     "data": {
      "text/html": [
       "<pre style=\"white-space:pre;overflow-x:auto;line-height:normal;font-family:Menlo,'DejaVu Sans Mono',consolas,'Courier New',monospace\">..<span style=\"color: #800080; text-decoration-color: #800080\">/../HubSpot/</span><span style=\"color: #ff00ff; text-decoration-color: #ff00ff\">HubSpot_Send_sales_brief.ipynb</span>\n",
       "</pre>\n"
      ],
      "text/plain": [
       "..\u001b[35m/../HubSpot/\u001b[0m\u001b[95mHubSpot_Send_sales_brief.ipynb\u001b[0m\n"
      ]
     },
     "metadata": {},
     "output_type": "display_data"
    },
    {
     "data": {
      "text/html": [
       "<pre style=\"white-space:pre;overflow-x:auto;line-height:normal;font-family:Menlo,'DejaVu Sans Mono',consolas,'Courier New',monospace\">..<span style=\"color: #800080; text-decoration-color: #800080\">/../HubSpot/</span><span style=\"color: #ff00ff; text-decoration-color: #ff00ff\">HubSpot_Update_contact.ipynb</span>\n",
       "</pre>\n"
      ],
      "text/plain": [
       "..\u001b[35m/../HubSpot/\u001b[0m\u001b[95mHubSpot_Update_contact.ipynb\u001b[0m\n"
      ]
     },
     "metadata": {},
     "output_type": "display_data"
    },
    {
     "data": {
      "text/html": [
       "<pre style=\"white-space:pre;overflow-x:auto;line-height:normal;font-family:Menlo,'DejaVu Sans Mono',consolas,'Courier New',monospace\">..<span style=\"color: #800080; text-decoration-color: #800080\">/../HubSpot/</span><span style=\"color: #ff00ff; text-decoration-color: #ff00ff\">HubSpot_Update_deal.ipynb</span>\n",
       "</pre>\n"
      ],
      "text/plain": [
       "..\u001b[35m/../HubSpot/\u001b[0m\u001b[95mHubSpot_Update_deal.ipynb\u001b[0m\n"
      ]
     },
     "metadata": {},
     "output_type": "display_data"
    },
    {
     "data": {
      "text/html": [
       "<pre style=\"white-space:pre;overflow-x:auto;line-height:normal;font-family:Menlo,'DejaVu Sans Mono',consolas,'Courier New',monospace\">..<span style=\"color: #800080; text-decoration-color: #800080\">/../HubSpot/</span><span style=\"color: #ff00ff; text-decoration-color: #ff00ff\">HubSpot_Update_followers_from_linkedin.ipynb</span>\n",
       "</pre>\n"
      ],
      "text/plain": [
       "..\u001b[35m/../HubSpot/\u001b[0m\u001b[95mHubSpot_Update_followers_from_linkedin.ipynb\u001b[0m\n"
      ]
     },
     "metadata": {},
     "output_type": "display_data"
    },
    {
     "data": {
      "text/html": [
       "<pre style=\"white-space:pre;overflow-x:auto;line-height:normal;font-family:Menlo,'DejaVu Sans Mono',consolas,'Courier New',monospace\">..<span style=\"color: #800080; text-decoration-color: #800080\">/../HubSpot/</span><span style=\"color: #ff00ff; text-decoration-color: #ff00ff\">HubSpot_Update_jobtitle_country_industry_from_linkedin.ipynb</span>\n",
       "</pre>\n"
      ],
      "text/plain": [
       "..\u001b[35m/../HubSpot/\u001b[0m\u001b[95mHubSpot_Update_jobtitle_country_industry_from_linkedin.ipynb\u001b[0m\n"
      ]
     },
     "metadata": {},
     "output_type": "display_data"
    },
    {
     "data": {
      "text/html": [
       "<pre style=\"white-space:pre;overflow-x:auto;line-height:normal;font-family:Menlo,'DejaVu Sans Mono',consolas,'Courier New',monospace\">..<span style=\"color: #800080; text-decoration-color: #800080\">/../HubSpot/</span><span style=\"color: #ff00ff; text-decoration-color: #ff00ff\">HubSpot_Update_linkedinbio_from_google.ipynb</span>\n",
       "</pre>\n"
      ],
      "text/plain": [
       "..\u001b[35m/../HubSpot/\u001b[0m\u001b[95mHubSpot_Update_linkedinbio_from_google.ipynb\u001b[0m\n"
      ]
     },
     "metadata": {},
     "output_type": "display_data"
    },
    {
     "data": {
      "text/html": [
       "<pre style=\"white-space:pre;overflow-x:auto;line-height:normal;font-family:Menlo,'DejaVu Sans Mono',consolas,'Courier New',monospace\">..<span style=\"color: #800080; text-decoration-color: #800080\">/../</span><span style=\"color: #ff00ff; text-decoration-color: #ff00ff\">Hugging</span> Face/Hugging_Face_Ask_boolean_question_to_T5.ipynb\n",
       "</pre>\n"
      ],
      "text/plain": [
       "..\u001b[35m/../\u001b[0m\u001b[95mHugging\u001b[0m Face/Hugging_Face_Ask_boolean_question_to_T5.ipynb\n"
      ]
     },
     "metadata": {},
     "output_type": "display_data"
    },
    {
     "data": {
      "text/html": [
       "<pre style=\"white-space:pre;overflow-x:auto;line-height:normal;font-family:Menlo,'DejaVu Sans Mono',consolas,'Courier New',monospace\">..<span style=\"color: #800080; text-decoration-color: #800080\">/../</span><span style=\"color: #ff00ff; text-decoration-color: #ff00ff\">Hugging</span> Face/Hugging_Face_Naas_drivers_integration.ipynb\n",
       "</pre>\n"
      ],
      "text/plain": [
       "..\u001b[35m/../\u001b[0m\u001b[95mHugging\u001b[0m Face/Hugging_Face_Naas_drivers_integration.ipynb\n"
      ]
     },
     "metadata": {},
     "output_type": "display_data"
    },
    {
     "data": {
      "text/html": [
       "<pre style=\"white-space:pre;overflow-x:auto;line-height:normal;font-family:Menlo,'DejaVu Sans Mono',consolas,'Courier New',monospace\">..<span style=\"color: #800080; text-decoration-color: #800080\">/../IFTTT/</span><span style=\"color: #ff00ff; text-decoration-color: #ff00ff\">IFTTT_Post_on_Twitter.ipynb</span>\n",
       "</pre>\n"
      ],
      "text/plain": [
       "..\u001b[35m/../IFTTT/\u001b[0m\u001b[95mIFTTT_Post_on_Twitter.ipynb\u001b[0m\n"
      ]
     },
     "metadata": {},
     "output_type": "display_data"
    },
    {
     "data": {
      "text/html": [
       "<pre style=\"white-space:pre;overflow-x:auto;line-height:normal;font-family:Menlo,'DejaVu Sans Mono',consolas,'Courier New',monospace\">..<span style=\"color: #800080; text-decoration-color: #800080\">/../IFTTT/</span><span style=\"color: #ff00ff; text-decoration-color: #ff00ff\">IFTTT_Trigger_workflow.ipynb</span>\n",
       "</pre>\n"
      ],
      "text/plain": [
       "..\u001b[35m/../IFTTT/\u001b[0m\u001b[95mIFTTT_Trigger_workflow.ipynb\u001b[0m\n"
      ]
     },
     "metadata": {},
     "output_type": "display_data"
    },
    {
     "data": {
      "text/html": [
       "<pre style=\"white-space:pre;overflow-x:auto;line-height:normal;font-family:Menlo,'DejaVu Sans Mono',consolas,'Courier New',monospace\">..<span style=\"color: #800080; text-decoration-color: #800080\">/../IMDB/</span><span style=\"color: #ff00ff; text-decoration-color: #ff00ff\">Top_IMDB_Movie.ipynb</span>\n",
       "</pre>\n"
      ],
      "text/plain": [
       "..\u001b[35m/../IMDB/\u001b[0m\u001b[95mTop_IMDB_Movie.ipynb\u001b[0m\n"
      ]
     },
     "metadata": {},
     "output_type": "display_data"
    },
    {
     "data": {
      "text/html": [
       "<pre style=\"white-space:pre;overflow-x:auto;line-height:normal;font-family:Menlo,'DejaVu Sans Mono',consolas,'Courier New',monospace\">..<span style=\"color: #800080; text-decoration-color: #800080\">/../IUCN/</span><span style=\"color: #ff00ff; text-decoration-color: #ff00ff\">IUCN_Extinct_species.ipynb</span>\n",
       "</pre>\n"
      ],
      "text/plain": [
       "..\u001b[35m/../IUCN/\u001b[0m\u001b[95mIUCN_Extinct_species.ipynb\u001b[0m\n"
      ]
     },
     "metadata": {},
     "output_type": "display_data"
    },
    {
     "data": {
      "text/html": [
       "<pre style=\"white-space:pre;overflow-x:auto;line-height:normal;font-family:Menlo,'DejaVu Sans Mono',consolas,'Courier New',monospace\">..<span style=\"color: #800080; text-decoration-color: #800080\">/../Instagram/</span><span style=\"color: #ff00ff; text-decoration-color: #ff00ff\">Instagram_Post_image_and_caption.ipynb</span>\n",
       "</pre>\n"
      ],
      "text/plain": [
       "..\u001b[35m/../Instagram/\u001b[0m\u001b[95mInstagram_Post_image_and_caption.ipynb\u001b[0m\n"
      ]
     },
     "metadata": {},
     "output_type": "display_data"
    },
    {
     "data": {
      "text/html": [
       "<pre style=\"white-space:pre;overflow-x:auto;line-height:normal;font-family:Menlo,'DejaVu Sans Mono',consolas,'Courier New',monospace\">..<span style=\"color: #800080; text-decoration-color: #800080\">/../Integromat/</span><span style=\"color: #ff00ff; text-decoration-color: #ff00ff\">Integromat_Trigger_workflow.ipynb</span>\n",
       "</pre>\n"
      ],
      "text/plain": [
       "..\u001b[35m/../Integromat/\u001b[0m\u001b[95mIntegromat_Trigger_workflow.ipynb\u001b[0m\n"
      ]
     },
     "metadata": {},
     "output_type": "display_data"
    },
    {
     "data": {
      "text/html": [
       "<pre style=\"white-space:pre;overflow-x:auto;line-height:normal;font-family:Menlo,'DejaVu Sans Mono',consolas,'Courier New',monospace\">..<span style=\"color: #800080; text-decoration-color: #800080\">/../</span><span style=\"color: #ff00ff; text-decoration-color: #ff00ff\">Johns</span> Hopkins/Johns_Hopkins_Covid19_Active_Cases.ipynb\n",
       "</pre>\n"
      ],
      "text/plain": [
       "..\u001b[35m/../\u001b[0m\u001b[95mJohns\u001b[0m Hopkins/Johns_Hopkins_Covid19_Active_Cases.ipynb\n"
      ]
     },
     "metadata": {},
     "output_type": "display_data"
    },
    {
     "data": {
      "text/html": [
       "<pre style=\"white-space:pre;overflow-x:auto;line-height:normal;font-family:Menlo,'DejaVu Sans Mono',consolas,'Courier New',monospace\">..<span style=\"color: #800080; text-decoration-color: #800080\">/../Jupyter/</span><span style=\"color: #ff00ff; text-decoration-color: #ff00ff\">Jupyter_Get_user_information.ipynb</span>\n",
       "</pre>\n"
      ],
      "text/plain": [
       "..\u001b[35m/../Jupyter/\u001b[0m\u001b[95mJupyter_Get_user_information.ipynb\u001b[0m\n"
      ]
     },
     "metadata": {},
     "output_type": "display_data"
    },
    {
     "data": {
      "text/html": [
       "<pre style=\"white-space:pre;overflow-x:auto;line-height:normal;font-family:Menlo,'DejaVu Sans Mono',consolas,'Courier New',monospace\">..<span style=\"color: #800080; text-decoration-color: #800080\">/../LinkedIn/</span><span style=\"color: #ff00ff; text-decoration-color: #ff00ff\">LinkedIn+Notion_Update_metrics_in_content_calendar_from_posts.ipynb</span>\n",
       "</pre>\n"
      ],
      "text/plain": [
       "..\u001b[35m/../LinkedIn/\u001b[0m\u001b[95mLinkedIn+Notion_Update_metrics_in_content_calendar_from_posts.ipynb\u001b[0m\n"
      ]
     },
     "metadata": {},
     "output_type": "display_data"
    },
    {
     "data": {
      "text/html": [
       "<pre style=\"white-space:pre;overflow-x:auto;line-height:normal;font-family:Menlo,'DejaVu Sans Mono',consolas,'Courier New',monospace\">..<span style=\"color: #800080; text-decoration-color: #800080\">/../LinkedIn/</span><span style=\"color: #ff00ff; text-decoration-color: #ff00ff\">LinkedIn_Get_comments_from_post.ipynb</span>\n",
       "</pre>\n"
      ],
      "text/plain": [
       "..\u001b[35m/../LinkedIn/\u001b[0m\u001b[95mLinkedIn_Get_comments_from_post.ipynb\u001b[0m\n"
      ]
     },
     "metadata": {},
     "output_type": "display_data"
    },
    {
     "data": {
      "text/html": [
       "<pre style=\"white-space:pre;overflow-x:auto;line-height:normal;font-family:Menlo,'DejaVu Sans Mono',consolas,'Courier New',monospace\">..<span style=\"color: #800080; text-decoration-color: #800080\">/../LinkedIn/</span><span style=\"color: #ff00ff; text-decoration-color: #ff00ff\">LinkedIn_Get_connections_from_network.ipynb</span>\n",
       "</pre>\n"
      ],
      "text/plain": [
       "..\u001b[35m/../LinkedIn/\u001b[0m\u001b[95mLinkedIn_Get_connections_from_network.ipynb\u001b[0m\n"
      ]
     },
     "metadata": {},
     "output_type": "display_data"
    },
    {
     "data": {
      "text/html": [
       "<pre style=\"white-space:pre;overflow-x:auto;line-height:normal;font-family:Menlo,'DejaVu Sans Mono',consolas,'Courier New',monospace\">..<span style=\"color: #800080; text-decoration-color: #800080\">/../LinkedIn/</span><span style=\"color: #ff00ff; text-decoration-color: #ff00ff\">LinkedIn_Get_contact_from_profile.ipynb</span>\n",
       "</pre>\n"
      ],
      "text/plain": [
       "..\u001b[35m/../LinkedIn/\u001b[0m\u001b[95mLinkedIn_Get_contact_from_profile.ipynb\u001b[0m\n"
      ]
     },
     "metadata": {},
     "output_type": "display_data"
    },
    {
     "data": {
      "text/html": [
       "<pre style=\"white-space:pre;overflow-x:auto;line-height:normal;font-family:Menlo,'DejaVu Sans Mono',consolas,'Courier New',monospace\">..<span style=\"color: #800080; text-decoration-color: #800080\">/../LinkedIn/</span><span style=\"color: #ff00ff; text-decoration-color: #ff00ff\">LinkedIn_Get_conversations.ipynb</span>\n",
       "</pre>\n"
      ],
      "text/plain": [
       "..\u001b[35m/../LinkedIn/\u001b[0m\u001b[95mLinkedIn_Get_conversations.ipynb\u001b[0m\n"
      ]
     },
     "metadata": {},
     "output_type": "display_data"
    },
    {
     "data": {
      "text/html": [
       "<pre style=\"white-space:pre;overflow-x:auto;line-height:normal;font-family:Menlo,'DejaVu Sans Mono',consolas,'Courier New',monospace\">..<span style=\"color: #800080; text-decoration-color: #800080\">/../LinkedIn/</span><span style=\"color: #ff00ff; text-decoration-color: #ff00ff\">LinkedIn_Get_followers_from_network.ipynb</span>\n",
       "</pre>\n"
      ],
      "text/plain": [
       "..\u001b[35m/../LinkedIn/\u001b[0m\u001b[95mLinkedIn_Get_followers_from_network.ipynb\u001b[0m\n"
      ]
     },
     "metadata": {},
     "output_type": "display_data"
    },
    {
     "data": {
      "text/html": [
       "<pre style=\"white-space:pre;overflow-x:auto;line-height:normal;font-family:Menlo,'DejaVu Sans Mono',consolas,'Courier New',monospace\">..<span style=\"color: #800080; text-decoration-color: #800080\">/../LinkedIn/</span><span style=\"color: #ff00ff; text-decoration-color: #ff00ff\">LinkedIn_Get_guests_from_event.ipynb</span>\n",
       "</pre>\n"
      ],
      "text/plain": [
       "..\u001b[35m/../LinkedIn/\u001b[0m\u001b[95mLinkedIn_Get_guests_from_event.ipynb\u001b[0m\n"
      ]
     },
     "metadata": {},
     "output_type": "display_data"
    },
    {
     "data": {
      "text/html": [
       "<pre style=\"white-space:pre;overflow-x:auto;line-height:normal;font-family:Menlo,'DejaVu Sans Mono',consolas,'Courier New',monospace\">..<span style=\"color: #800080; text-decoration-color: #800080\">/../LinkedIn/</span><span style=\"color: #ff00ff; text-decoration-color: #ff00ff\">LinkedIn_Get_identity_from_profile.ipynb</span>\n",
       "</pre>\n"
      ],
      "text/plain": [
       "..\u001b[35m/../LinkedIn/\u001b[0m\u001b[95mLinkedIn_Get_identity_from_profile.ipynb\u001b[0m\n"
      ]
     },
     "metadata": {},
     "output_type": "display_data"
    },
    {
     "data": {
      "text/html": [
       "<pre style=\"white-space:pre;overflow-x:auto;line-height:normal;font-family:Menlo,'DejaVu Sans Mono',consolas,'Courier New',monospace\">..<span style=\"color: #800080; text-decoration-color: #800080\">/../LinkedIn/</span><span style=\"color: #ff00ff; text-decoration-color: #ff00ff\">LinkedIn_Get_likes_from_post.ipynb</span>\n",
       "</pre>\n"
      ],
      "text/plain": [
       "..\u001b[35m/../LinkedIn/\u001b[0m\u001b[95mLinkedIn_Get_likes_from_post.ipynb\u001b[0m\n"
      ]
     },
     "metadata": {},
     "output_type": "display_data"
    },
    {
     "data": {
      "text/html": [
       "<pre style=\"white-space:pre;overflow-x:auto;line-height:normal;font-family:Menlo,'DejaVu Sans Mono',consolas,'Courier New',monospace\">..<span style=\"color: #800080; text-decoration-color: #800080\">/../LinkedIn/</span><span style=\"color: #ff00ff; text-decoration-color: #ff00ff\">LinkedIn_Get_messages_from_profile.ipynb</span>\n",
       "</pre>\n"
      ],
      "text/plain": [
       "..\u001b[35m/../LinkedIn/\u001b[0m\u001b[95mLinkedIn_Get_messages_from_profile.ipynb\u001b[0m\n"
      ]
     },
     "metadata": {},
     "output_type": "display_data"
    },
    {
     "data": {
      "text/html": [
       "<pre style=\"white-space:pre;overflow-x:auto;line-height:normal;font-family:Menlo,'DejaVu Sans Mono',consolas,'Courier New',monospace\">..<span style=\"color: #800080; text-decoration-color: #800080\">/../LinkedIn/</span><span style=\"color: #ff00ff; text-decoration-color: #ff00ff\">LinkedIn_Get_network_from_profile.ipynb</span>\n",
       "</pre>\n"
      ],
      "text/plain": [
       "..\u001b[35m/../LinkedIn/\u001b[0m\u001b[95mLinkedIn_Get_network_from_profile.ipynb\u001b[0m\n"
      ]
     },
     "metadata": {},
     "output_type": "display_data"
    },
    {
     "data": {
      "text/html": [
       "<pre style=\"white-space:pre;overflow-x:auto;line-height:normal;font-family:Menlo,'DejaVu Sans Mono',consolas,'Courier New',monospace\">..<span style=\"color: #800080; text-decoration-color: #800080\">/../LinkedIn/</span><span style=\"color: #ff00ff; text-decoration-color: #ff00ff\">LinkedIn_Get_polls_from_post.ipynb</span>\n",
       "</pre>\n"
      ],
      "text/plain": [
       "..\u001b[35m/../LinkedIn/\u001b[0m\u001b[95mLinkedIn_Get_polls_from_post.ipynb\u001b[0m\n"
      ]
     },
     "metadata": {},
     "output_type": "display_data"
    },
    {
     "data": {
      "text/html": [
       "<pre style=\"white-space:pre;overflow-x:auto;line-height:normal;font-family:Menlo,'DejaVu Sans Mono',consolas,'Courier New',monospace\">..<span style=\"color: #800080; text-decoration-color: #800080\">/../LinkedIn/</span><span style=\"color: #ff00ff; text-decoration-color: #ff00ff\">LinkedIn_Get_posts_feed_from_profile.ipynb</span>\n",
       "</pre>\n"
      ],
      "text/plain": [
       "..\u001b[35m/../LinkedIn/\u001b[0m\u001b[95mLinkedIn_Get_posts_feed_from_profile.ipynb\u001b[0m\n"
      ]
     },
     "metadata": {},
     "output_type": "display_data"
    },
    {
     "data": {
      "text/html": [
       "<pre style=\"white-space:pre;overflow-x:auto;line-height:normal;font-family:Menlo,'DejaVu Sans Mono',consolas,'Courier New',monospace\">..<span style=\"color: #800080; text-decoration-color: #800080\">/../LinkedIn/</span><span style=\"color: #ff00ff; text-decoration-color: #ff00ff\">LinkedIn_Get_posts_stats_from_profile.ipynb</span>\n",
       "</pre>\n"
      ],
      "text/plain": [
       "..\u001b[35m/../LinkedIn/\u001b[0m\u001b[95mLinkedIn_Get_posts_stats_from_profile.ipynb\u001b[0m\n"
      ]
     },
     "metadata": {},
     "output_type": "display_data"
    },
    {
     "data": {
      "text/html": [
       "<pre style=\"white-space:pre;overflow-x:auto;line-height:normal;font-family:Menlo,'DejaVu Sans Mono',consolas,'Courier New',monospace\">..<span style=\"color: #800080; text-decoration-color: #800080\">/../LinkedIn/</span><span style=\"color: #ff00ff; text-decoration-color: #ff00ff\">LinkedIn_Get_resume_from_profile.ipynb</span>\n",
       "</pre>\n"
      ],
      "text/plain": [
       "..\u001b[35m/../LinkedIn/\u001b[0m\u001b[95mLinkedIn_Get_resume_from_profile.ipynb\u001b[0m\n"
      ]
     },
     "metadata": {},
     "output_type": "display_data"
    },
    {
     "data": {
      "text/html": [
       "<pre style=\"white-space:pre;overflow-x:auto;line-height:normal;font-family:Menlo,'DejaVu Sans Mono',consolas,'Courier New',monospace\">..<span style=\"color: #800080; text-decoration-color: #800080\">/../LinkedIn/</span><span style=\"color: #ff00ff; text-decoration-color: #ff00ff\">LinkedIn_Get_stats_from_post.ipynb</span>\n",
       "</pre>\n"
      ],
      "text/plain": [
       "..\u001b[35m/../LinkedIn/\u001b[0m\u001b[95mLinkedIn_Get_stats_from_post.ipynb\u001b[0m\n"
      ]
     },
     "metadata": {},
     "output_type": "display_data"
    },
    {
     "data": {
      "text/html": [
       "<pre style=\"white-space:pre;overflow-x:auto;line-height:normal;font-family:Menlo,'DejaVu Sans Mono',consolas,'Courier New',monospace\">..<span style=\"color: #800080; text-decoration-color: #800080\">/../LinkedIn/</span><span style=\"color: #ff00ff; text-decoration-color: #ff00ff\">LinkedIn_Send_comments_from_post_in_gsheet.ipynb</span>\n",
       "</pre>\n"
      ],
      "text/plain": [
       "..\u001b[35m/../LinkedIn/\u001b[0m\u001b[95mLinkedIn_Send_comments_from_post_in_gsheet.ipynb\u001b[0m\n"
      ]
     },
     "metadata": {},
     "output_type": "display_data"
    },
    {
     "data": {
      "text/html": [
       "<pre style=\"white-space:pre;overflow-x:auto;line-height:normal;font-family:Menlo,'DejaVu Sans Mono',consolas,'Courier New',monospace\">..<span style=\"color: #800080; text-decoration-color: #800080\">/../LinkedIn/</span><span style=\"color: #ff00ff; text-decoration-color: #ff00ff\">LinkedIn_Send_invitation_to_profile.ipynb</span>\n",
       "</pre>\n"
      ],
      "text/plain": [
       "..\u001b[35m/../LinkedIn/\u001b[0m\u001b[95mLinkedIn_Send_invitation_to_profile.ipynb\u001b[0m\n"
      ]
     },
     "metadata": {},
     "output_type": "display_data"
    },
    {
     "data": {
      "text/html": [
       "<pre style=\"white-space:pre;overflow-x:auto;line-height:normal;font-family:Menlo,'DejaVu Sans Mono',consolas,'Courier New',monospace\">..<span style=\"color: #800080; text-decoration-color: #800080\">/../LinkedIn/</span><span style=\"color: #ff00ff; text-decoration-color: #ff00ff\">LinkedIn_Send_likes_from_post_in_gsheet.ipynb</span>\n",
       "</pre>\n"
      ],
      "text/plain": [
       "..\u001b[35m/../LinkedIn/\u001b[0m\u001b[95mLinkedIn_Send_likes_from_post_in_gsheet.ipynb\u001b[0m\n"
      ]
     },
     "metadata": {},
     "output_type": "display_data"
    },
    {
     "data": {
      "text/html": [
       "<pre style=\"white-space:pre;overflow-x:auto;line-height:normal;font-family:Menlo,'DejaVu Sans Mono',consolas,'Courier New',monospace\">..<span style=\"color: #800080; text-decoration-color: #800080\">/../LinkedIn/</span><span style=\"color: #ff00ff; text-decoration-color: #ff00ff\">LinkedIn_Send_message_to_profile.ipynb</span>\n",
       "</pre>\n"
      ],
      "text/plain": [
       "..\u001b[35m/../LinkedIn/\u001b[0m\u001b[95mLinkedIn_Send_message_to_profile.ipynb\u001b[0m\n"
      ]
     },
     "metadata": {},
     "output_type": "display_data"
    },
    {
     "data": {
      "text/html": [
       "<pre style=\"white-space:pre;overflow-x:auto;line-height:normal;font-family:Menlo,'DejaVu Sans Mono',consolas,'Courier New',monospace\">..<span style=\"color: #800080; text-decoration-color: #800080\">/../LinkedIn/</span><span style=\"color: #ff00ff; text-decoration-color: #ff00ff\">Linkedin_Get_info_from_company.ipynb</span>\n",
       "</pre>\n"
      ],
      "text/plain": [
       "..\u001b[35m/../LinkedIn/\u001b[0m\u001b[95mLinkedin_Get_info_from_company.ipynb\u001b[0m\n"
      ]
     },
     "metadata": {},
     "output_type": "display_data"
    },
    {
     "data": {
      "text/html": [
       "<pre style=\"white-space:pre;overflow-x:auto;line-height:normal;font-family:Menlo,'DejaVu Sans Mono',consolas,'Courier New',monospace\">..<span style=\"color: #800080; text-decoration-color: #800080\">/../</span><span style=\"color: #ff00ff; text-decoration-color: #ff00ff\">Metrics</span> Store/Content_creation_Track_connections.ipynb\n",
       "</pre>\n"
      ],
      "text/plain": [
       "..\u001b[35m/../\u001b[0m\u001b[95mMetrics\u001b[0m Store/Content_creation_Track_connections.ipynb\n"
      ]
     },
     "metadata": {},
     "output_type": "display_data"
    },
    {
     "data": {
      "text/html": [
       "<pre style=\"white-space:pre;overflow-x:auto;line-height:normal;font-family:Menlo,'DejaVu Sans Mono',consolas,'Courier New',monospace\">..<span style=\"color: #800080; text-decoration-color: #800080\">/../</span><span style=\"color: #ff00ff; text-decoration-color: #ff00ff\">Metrics</span> Store/Metrics_Store_Template.ipynb\n",
       "</pre>\n"
      ],
      "text/plain": [
       "..\u001b[35m/../\u001b[0m\u001b[95mMetrics\u001b[0m Store/Metrics_Store_Template.ipynb\n"
      ]
     },
     "metadata": {},
     "output_type": "display_data"
    },
    {
     "data": {
      "text/html": [
       "<pre style=\"white-space:pre;overflow-x:auto;line-height:normal;font-family:Menlo,'DejaVu Sans Mono',consolas,'Courier New',monospace\">..<span style=\"color: #800080; text-decoration-color: #800080\">/../</span><span style=\"color: #ff00ff; text-decoration-color: #ff00ff\">Microsoft</span> Teams/Microsoft Teams_Send_message.ipynb\n",
       "</pre>\n"
      ],
      "text/plain": [
       "..\u001b[35m/../\u001b[0m\u001b[95mMicrosoft\u001b[0m Teams/Microsoft Teams_Send_message.ipynb\n"
      ]
     },
     "metadata": {},
     "output_type": "display_data"
    },
    {
     "data": {
      "text/html": [
       "<pre style=\"white-space:pre;overflow-x:auto;line-height:normal;font-family:Menlo,'DejaVu Sans Mono',consolas,'Courier New',monospace\">..<span style=\"color: #800080; text-decoration-color: #800080\">/../</span><span style=\"color: #ff00ff; text-decoration-color: #ff00ff\">Microsoft</span> Word/Microsoft_Word_Convert_to_HMTL.ipynb\n",
       "</pre>\n"
      ],
      "text/plain": [
       "..\u001b[35m/../\u001b[0m\u001b[95mMicrosoft\u001b[0m Word/Microsoft_Word_Convert_to_HMTL.ipynb\n"
      ]
     },
     "metadata": {},
     "output_type": "display_data"
    },
    {
     "data": {
      "text/html": [
       "<pre style=\"white-space:pre;overflow-x:auto;line-height:normal;font-family:Menlo,'DejaVu Sans Mono',consolas,'Courier New',monospace\">..<span style=\"color: #800080; text-decoration-color: #800080\">/../MongoDB/</span><span style=\"color: #ff00ff; text-decoration-color: #ff00ff\">MongoDB_Get_data.ipynb</span>\n",
       "</pre>\n"
      ],
      "text/plain": [
       "..\u001b[35m/../MongoDB/\u001b[0m\u001b[95mMongoDB_Get_data.ipynb\u001b[0m\n"
      ]
     },
     "metadata": {},
     "output_type": "display_data"
    },
    {
     "data": {
      "text/html": [
       "<pre style=\"white-space:pre;overflow-x:auto;line-height:normal;font-family:Menlo,'DejaVu Sans Mono',consolas,'Courier New',monospace\">..<span style=\"color: #800080; text-decoration-color: #800080\">/../MongoDB/</span><span style=\"color: #ff00ff; text-decoration-color: #ff00ff\">MongoDB_Send_data.ipynb</span>\n",
       "</pre>\n"
      ],
      "text/plain": [
       "..\u001b[35m/../MongoDB/\u001b[0m\u001b[95mMongoDB_Send_data.ipynb\u001b[0m\n"
      ]
     },
     "metadata": {},
     "output_type": "display_data"
    },
    {
     "data": {
      "text/html": [
       "<pre style=\"white-space:pre;overflow-x:auto;line-height:normal;font-family:Menlo,'DejaVu Sans Mono',consolas,'Courier New',monospace\">..<span style=\"color: #800080; text-decoration-color: #800080\">/../MySQL/</span><span style=\"color: #ff00ff; text-decoration-color: #ff00ff\">MySQL_Query_database.ipynb</span>\n",
       "</pre>\n"
      ],
      "text/plain": [
       "..\u001b[35m/../MySQL/\u001b[0m\u001b[95mMySQL_Query_database.ipynb\u001b[0m\n"
      ]
     },
     "metadata": {},
     "output_type": "display_data"
    },
    {
     "data": {
      "text/html": [
       "<pre style=\"white-space:pre;overflow-x:auto;line-height:normal;font-family:Menlo,'DejaVu Sans Mono',consolas,'Courier New',monospace\">..<span style=\"color: #800080; text-decoration-color: #800080\">/../NASA/</span><span style=\"color: #ff00ff; text-decoration-color: #ff00ff\">NASA_Artic_sea_ice.ipynb</span>\n",
       "</pre>\n"
      ],
      "text/plain": [
       "..\u001b[35m/../NASA/\u001b[0m\u001b[95mNASA_Artic_sea_ice.ipynb\u001b[0m\n"
      ]
     },
     "metadata": {},
     "output_type": "display_data"
    },
    {
     "data": {
      "text/html": [
       "<pre style=\"white-space:pre;overflow-x:auto;line-height:normal;font-family:Menlo,'DejaVu Sans Mono',consolas,'Courier New',monospace\">..<span style=\"color: #800080; text-decoration-color: #800080\">/../NASA/</span><span style=\"color: #ff00ff; text-decoration-color: #ff00ff\">NASA_Global_temperature.ipynb</span>\n",
       "</pre>\n"
      ],
      "text/plain": [
       "..\u001b[35m/../NASA/\u001b[0m\u001b[95mNASA_Global_temperature.ipynb\u001b[0m\n"
      ]
     },
     "metadata": {},
     "output_type": "display_data"
    },
    {
     "data": {
      "text/html": [
       "<pre style=\"white-space:pre;overflow-x:auto;line-height:normal;font-family:Menlo,'DejaVu Sans Mono',consolas,'Courier New',monospace\">..<span style=\"color: #800080; text-decoration-color: #800080\">/../NASA/</span><span style=\"color: #ff00ff; text-decoration-color: #ff00ff\">NASA_Sea_level.ipynb</span>\n",
       "</pre>\n"
      ],
      "text/plain": [
       "..\u001b[35m/../NASA/\u001b[0m\u001b[95mNASA_Sea_level.ipynb\u001b[0m\n"
      ]
     },
     "metadata": {},
     "output_type": "display_data"
    },
    {
     "data": {
      "text/html": [
       "<pre style=\"white-space:pre;overflow-x:auto;line-height:normal;font-family:Menlo,'DejaVu Sans Mono',consolas,'Courier New',monospace\">..<span style=\"color: #800080; text-decoration-color: #800080\">/../NASA/</span><span style=\"color: #ff00ff; text-decoration-color: #ff00ff\">NASA_indicate_sealevel.ipynb</span>\n",
       "</pre>\n"
      ],
      "text/plain": [
       "..\u001b[35m/../NASA/\u001b[0m\u001b[95mNASA_indicate_sealevel.ipynb\u001b[0m\n"
      ]
     },
     "metadata": {},
     "output_type": "display_data"
    },
    {
     "data": {
      "text/html": [
       "<pre style=\"white-space:pre;overflow-x:auto;line-height:normal;font-family:Menlo,'DejaVu Sans Mono',consolas,'Courier New',monospace\">..<span style=\"color: #800080; text-decoration-color: #800080\">/../NASA/</span><span style=\"color: #ff00ff; text-decoration-color: #ff00ff\">Sea-level-indicator.ipynb</span>\n",
       "</pre>\n"
      ],
      "text/plain": [
       "..\u001b[35m/../NASA/\u001b[0m\u001b[95mSea-level-indicator.ipynb\u001b[0m\n"
      ]
     },
     "metadata": {},
     "output_type": "display_data"
    },
    {
     "data": {
      "text/html": [
       "<pre style=\"white-space:pre;overflow-x:auto;line-height:normal;font-family:Menlo,'DejaVu Sans Mono',consolas,'Courier New',monospace\">..<span style=\"color: #800080; text-decoration-color: #800080\">/../Naas/</span><span style=\"color: #ff00ff; text-decoration-color: #ff00ff\">Naas_Asset_demo.ipynb</span>\n",
       "</pre>\n"
      ],
      "text/plain": [
       "..\u001b[35m/../Naas/\u001b[0m\u001b[95mNaas_Asset_demo.ipynb\u001b[0m\n"
      ]
     },
     "metadata": {},
     "output_type": "display_data"
    },
    {
     "data": {
      "text/html": [
       "<pre style=\"white-space:pre;overflow-x:auto;line-height:normal;font-family:Menlo,'DejaVu Sans Mono',consolas,'Courier New',monospace\">..<span style=\"color: #800080; text-decoration-color: #800080\">/../Naas/</span><span style=\"color: #ff00ff; text-decoration-color: #ff00ff\">Naas_Credits_Get_Balance.ipynb</span>\n",
       "</pre>\n"
      ],
      "text/plain": [
       "..\u001b[35m/../Naas/\u001b[0m\u001b[95mNaas_Credits_Get_Balance.ipynb\u001b[0m\n"
      ]
     },
     "metadata": {},
     "output_type": "display_data"
    },
    {
     "data": {
      "text/html": [
       "<pre style=\"white-space:pre;overflow-x:auto;line-height:normal;font-family:Menlo,'DejaVu Sans Mono',consolas,'Courier New',monospace\">..<span style=\"color: #800080; text-decoration-color: #800080\">/../Naas/</span><span style=\"color: #ff00ff; text-decoration-color: #ff00ff\">Naas_Dependency_demo.ipynb</span>\n",
       "</pre>\n"
      ],
      "text/plain": [
       "..\u001b[35m/../Naas/\u001b[0m\u001b[95mNaas_Dependency_demo.ipynb\u001b[0m\n"
      ]
     },
     "metadata": {},
     "output_type": "display_data"
    },
    {
     "data": {
      "text/html": [
       "<pre style=\"white-space:pre;overflow-x:auto;line-height:normal;font-family:Menlo,'DejaVu Sans Mono',consolas,'Courier New',monospace\">..<span style=\"color: #800080; text-decoration-color: #800080\">/../Naas/</span><span style=\"color: #ff00ff; text-decoration-color: #ff00ff\">Naas_Doc_demo.ipynb</span>\n",
       "</pre>\n"
      ],
      "text/plain": [
       "..\u001b[35m/../Naas/\u001b[0m\u001b[95mNaas_Doc_demo.ipynb\u001b[0m\n"
      ]
     },
     "metadata": {},
     "output_type": "display_data"
    },
    {
     "data": {
      "text/html": [
       "<pre style=\"white-space:pre;overflow-x:auto;line-height:normal;font-family:Menlo,'DejaVu Sans Mono',consolas,'Courier New',monospace\">..<span style=\"color: #800080; text-decoration-color: #800080\">/../Naas/</span><span style=\"color: #ff00ff; text-decoration-color: #ff00ff\">Naas_Domain_demo.ipynb</span>\n",
       "</pre>\n"
      ],
      "text/plain": [
       "..\u001b[35m/../Naas/\u001b[0m\u001b[95mNaas_Domain_demo.ipynb\u001b[0m\n"
      ]
     },
     "metadata": {},
     "output_type": "display_data"
    },
    {
     "data": {
      "text/html": [
       "<pre style=\"white-space:pre;overflow-x:auto;line-height:normal;font-family:Menlo,'DejaVu Sans Mono',consolas,'Courier New',monospace\">..<span style=\"color: #800080; text-decoration-color: #800080\">/../Naas/</span><span style=\"color: #ff00ff; text-decoration-color: #ff00ff\">Naas_Emailbuilder_demo.ipynb</span>\n",
       "</pre>\n"
      ],
      "text/plain": [
       "..\u001b[35m/../Naas/\u001b[0m\u001b[95mNaas_Emailbuilder_demo.ipynb\u001b[0m\n"
      ]
     },
     "metadata": {},
     "output_type": "display_data"
    },
    {
     "data": {
      "text/html": [
       "<pre style=\"white-space:pre;overflow-x:auto;line-height:normal;font-family:Menlo,'DejaVu Sans Mono',consolas,'Courier New',monospace\">..<span style=\"color: #800080; text-decoration-color: #800080\">/../Naas/</span><span style=\"color: #ff00ff; text-decoration-color: #ff00ff\">Naas_Get_Transactions.ipynb</span>\n",
       "</pre>\n"
      ],
      "text/plain": [
       "..\u001b[35m/../Naas/\u001b[0m\u001b[95mNaas_Get_Transactions.ipynb\u001b[0m\n"
      ]
     },
     "metadata": {},
     "output_type": "display_data"
    },
    {
     "data": {
      "text/html": [
       "<pre style=\"white-space:pre;overflow-x:auto;line-height:normal;font-family:Menlo,'DejaVu Sans Mono',consolas,'Courier New',monospace\">..<span style=\"color: #800080; text-decoration-color: #800080\">/../Naas/</span><span style=\"color: #ff00ff; text-decoration-color: #ff00ff\">Naas_Get_help.ipynb</span>\n",
       "</pre>\n"
      ],
      "text/plain": [
       "..\u001b[35m/../Naas/\u001b[0m\u001b[95mNaas_Get_help.ipynb\u001b[0m\n"
      ]
     },
     "metadata": {},
     "output_type": "display_data"
    },
    {
     "data": {
      "text/html": [
       "<pre style=\"white-space:pre;overflow-x:auto;line-height:normal;font-family:Menlo,'DejaVu Sans Mono',consolas,'Courier New',monospace\">..<span style=\"color: #800080; text-decoration-color: #800080\">/../Naas/</span><span style=\"color: #ff00ff; text-decoration-color: #ff00ff\">Naas_NLP_Examples.ipynb</span>\n",
       "</pre>\n"
      ],
      "text/plain": [
       "..\u001b[35m/../Naas/\u001b[0m\u001b[95mNaas_NLP_Examples.ipynb\u001b[0m\n"
      ]
     },
     "metadata": {},
     "output_type": "display_data"
    },
    {
     "data": {
      "text/html": [
       "<pre style=\"white-space:pre;overflow-x:auto;line-height:normal;font-family:Menlo,'DejaVu Sans Mono',consolas,'Courier New',monospace\">..<span style=\"color: #800080; text-decoration-color: #800080\">/../Naas/</span><span style=\"color: #ff00ff; text-decoration-color: #ff00ff\">Naas_Notification_demo.ipynb</span>\n",
       "</pre>\n"
      ],
      "text/plain": [
       "..\u001b[35m/../Naas/\u001b[0m\u001b[95mNaas_Notification_demo.ipynb\u001b[0m\n"
      ]
     },
     "metadata": {},
     "output_type": "display_data"
    },
    {
     "data": {
      "text/html": [
       "<pre style=\"white-space:pre;overflow-x:auto;line-height:normal;font-family:Menlo,'DejaVu Sans Mono',consolas,'Courier New',monospace\">..<span style=\"color: #800080; text-decoration-color: #800080\">/../Naas/</span><span style=\"color: #ff00ff; text-decoration-color: #ff00ff\">Naas_Scheduler_demo.ipynb</span>\n",
       "</pre>\n"
      ],
      "text/plain": [
       "..\u001b[35m/../Naas/\u001b[0m\u001b[95mNaas_Scheduler_demo.ipynb\u001b[0m\n"
      ]
     },
     "metadata": {},
     "output_type": "display_data"
    },
    {
     "data": {
      "text/html": [
       "<pre style=\"white-space:pre;overflow-x:auto;line-height:normal;font-family:Menlo,'DejaVu Sans Mono',consolas,'Courier New',monospace\">..<span style=\"color: #800080; text-decoration-color: #800080\">/../Naas/</span><span style=\"color: #ff00ff; text-decoration-color: #ff00ff\">Naas_Secret_demo.ipynb</span>\n",
       "</pre>\n"
      ],
      "text/plain": [
       "..\u001b[35m/../Naas/\u001b[0m\u001b[95mNaas_Secret_demo.ipynb\u001b[0m\n"
      ]
     },
     "metadata": {},
     "output_type": "display_data"
    },
    {
     "data": {
      "text/html": [
       "<pre style=\"white-space:pre;overflow-x:auto;line-height:normal;font-family:Menlo,'DejaVu Sans Mono',consolas,'Courier New',monospace\">..<span style=\"color: #800080; text-decoration-color: #800080\">/../Naas/</span><span style=\"color: #ff00ff; text-decoration-color: #ff00ff\">Naas_Set_timezone.ipynb</span>\n",
       "</pre>\n"
      ],
      "text/plain": [
       "..\u001b[35m/../Naas/\u001b[0m\u001b[95mNaas_Set_timezone.ipynb\u001b[0m\n"
      ]
     },
     "metadata": {},
     "output_type": "display_data"
    },
    {
     "data": {
      "text/html": [
       "<pre style=\"white-space:pre;overflow-x:auto;line-height:normal;font-family:Menlo,'DejaVu Sans Mono',consolas,'Courier New',monospace\">..<span style=\"color: #800080; text-decoration-color: #800080\">/../Naas/</span><span style=\"color: #ff00ff; text-decoration-color: #ff00ff\">Naas_Webhook_demo.ipynb</span>\n",
       "</pre>\n"
      ],
      "text/plain": [
       "..\u001b[35m/../Naas/\u001b[0m\u001b[95mNaas_Webhook_demo.ipynb\u001b[0m\n"
      ]
     },
     "metadata": {},
     "output_type": "display_data"
    },
    {
     "data": {
      "text/html": [
       "<pre style=\"white-space:pre;overflow-x:auto;line-height:normal;font-family:Menlo,'DejaVu Sans Mono',consolas,'Courier New',monospace\">..<span style=\"color: #800080; text-decoration-color: #800080\">/../</span><span style=\"color: #ff00ff; text-decoration-color: #ff00ff\">Naas</span> Auth/Naas_Auth_bearer_validate.ipynb\n",
       "</pre>\n"
      ],
      "text/plain": [
       "..\u001b[35m/../\u001b[0m\u001b[95mNaas\u001b[0m Auth/Naas_Auth_bearer_validate.ipynb\n"
      ]
     },
     "metadata": {},
     "output_type": "display_data"
    },
    {
     "data": {
      "text/html": [
       "<pre style=\"white-space:pre;overflow-x:auto;line-height:normal;font-family:Menlo,'DejaVu Sans Mono',consolas,'Courier New',monospace\">..<span style=\"color: #800080; text-decoration-color: #800080\">/../</span><span style=\"color: #ff00ff; text-decoration-color: #ff00ff\">Naas</span> Auth/Naas_Auth_connect.ipynb\n",
       "</pre>\n"
      ],
      "text/plain": [
       "..\u001b[35m/../\u001b[0m\u001b[95mNaas\u001b[0m Auth/Naas_Auth_connect.ipynb\n"
      ]
     },
     "metadata": {},
     "output_type": "display_data"
    },
    {
     "data": {
      "text/html": [
       "<pre style=\"white-space:pre;overflow-x:auto;line-height:normal;font-family:Menlo,'DejaVu Sans Mono',consolas,'Courier New',monospace\">..<span style=\"color: #800080; text-decoration-color: #800080\">/../</span><span style=\"color: #ff00ff; text-decoration-color: #ff00ff\">Naas</span> Auth/Naas_Auth_users_me.ipynb\n",
       "</pre>\n"
      ],
      "text/plain": [
       "..\u001b[35m/../\u001b[0m\u001b[95mNaas\u001b[0m Auth/Naas_Auth_users_me.ipynb\n"
      ]
     },
     "metadata": {},
     "output_type": "display_data"
    },
    {
     "data": {
      "text/html": [
       "<pre style=\"white-space:pre;overflow-x:auto;line-height:normal;font-family:Menlo,'DejaVu Sans Mono',consolas,'Courier New',monospace\">..<span style=\"color: #800080; text-decoration-color: #800080\">/../Neo/</span><span style=\"color: #ff00ff; text-decoration-color: #ff00ff\">Neo_Get_currencies_live_prices.ipynb</span>\n",
       "</pre>\n"
      ],
      "text/plain": [
       "..\u001b[35m/../Neo/\u001b[0m\u001b[95mNeo_Get_currencies_live_prices.ipynb\u001b[0m\n"
      ]
     },
     "metadata": {},
     "output_type": "display_data"
    },
    {
     "data": {
      "text/html": [
       "<pre style=\"white-space:pre;overflow-x:auto;line-height:normal;font-family:Menlo,'DejaVu Sans Mono',consolas,'Courier New',monospace\">..<span style=\"color: #800080; text-decoration-color: #800080\">/../Newsapi/</span><span style=\"color: #ff00ff; text-decoration-color: #ff00ff\">Newsapi_Get_data.ipynb</span>\n",
       "</pre>\n"
      ],
      "text/plain": [
       "..\u001b[35m/../Newsapi/\u001b[0m\u001b[95mNewsapi_Get_data.ipynb\u001b[0m\n"
      ]
     },
     "metadata": {},
     "output_type": "display_data"
    },
    {
     "data": {
      "text/html": [
       "<pre style=\"white-space:pre;overflow-x:auto;line-height:normal;font-family:Menlo,'DejaVu Sans Mono',consolas,'Courier New',monospace\">..<span style=\"color: #800080; text-decoration-color: #800080\">/../Newsapi/</span><span style=\"color: #ff00ff; text-decoration-color: #ff00ff\">Newsapi_Run_sentiment_analysis.ipynb</span>\n",
       "</pre>\n"
      ],
      "text/plain": [
       "..\u001b[35m/../Newsapi/\u001b[0m\u001b[95mNewsapi_Run_sentiment_analysis.ipynb\u001b[0m\n"
      ]
     },
     "metadata": {},
     "output_type": "display_data"
    },
    {
     "data": {
      "text/html": [
       "<pre style=\"white-space:pre;overflow-x:auto;line-height:normal;font-family:Menlo,'DejaVu Sans Mono',consolas,'Courier New',monospace\">..<span style=\"color: #800080; text-decoration-color: #800080\">/../Newsapi/</span><span style=\"color: #ff00ff; text-decoration-color: #ff00ff\">Newsapi_Send_emails_briefs.ipynb</span>\n",
       "</pre>\n"
      ],
      "text/plain": [
       "..\u001b[35m/../Newsapi/\u001b[0m\u001b[95mNewsapi_Send_emails_briefs.ipynb\u001b[0m\n"
      ]
     },
     "metadata": {},
     "output_type": "display_data"
    },
    {
     "data": {
      "text/html": [
       "<pre style=\"white-space:pre;overflow-x:auto;line-height:normal;font-family:Menlo,'DejaVu Sans Mono',consolas,'Courier New',monospace\">..<span style=\"color: #800080; text-decoration-color: #800080\">/../Notion/</span><span style=\"color: #ff00ff; text-decoration-color: #ff00ff\">Notion_Create_page.ipynb</span>\n",
       "</pre>\n"
      ],
      "text/plain": [
       "..\u001b[35m/../Notion/\u001b[0m\u001b[95mNotion_Create_page.ipynb\u001b[0m\n"
      ]
     },
     "metadata": {},
     "output_type": "display_data"
    },
    {
     "data": {
      "text/html": [
       "<pre style=\"white-space:pre;overflow-x:auto;line-height:normal;font-family:Menlo,'DejaVu Sans Mono',consolas,'Courier New',monospace\">..<span style=\"color: #800080; text-decoration-color: #800080\">/../Notion/</span><span style=\"color: #ff00ff; text-decoration-color: #ff00ff\">Notion_Explore_API.ipynb</span>\n",
       "</pre>\n"
      ],
      "text/plain": [
       "..\u001b[35m/../Notion/\u001b[0m\u001b[95mNotion_Explore_API.ipynb\u001b[0m\n"
      ]
     },
     "metadata": {},
     "output_type": "display_data"
    },
    {
     "data": {
      "text/html": [
       "<pre style=\"white-space:pre;overflow-x:auto;line-height:normal;font-family:Menlo,'DejaVu Sans Mono',consolas,'Courier New',monospace\">..<span style=\"color: #800080; text-decoration-color: #800080\">/../Notion/</span><span style=\"color: #ff00ff; text-decoration-color: #ff00ff\">Notion_Get_database.ipynb</span>\n",
       "</pre>\n"
      ],
      "text/plain": [
       "..\u001b[35m/../Notion/\u001b[0m\u001b[95mNotion_Get_database.ipynb\u001b[0m\n"
      ]
     },
     "metadata": {},
     "output_type": "display_data"
    },
    {
     "data": {
      "text/html": [
       "<pre style=\"white-space:pre;overflow-x:auto;line-height:normal;font-family:Menlo,'DejaVu Sans Mono',consolas,'Courier New',monospace\">..<span style=\"color: #800080; text-decoration-color: #800080\">/../Notion/</span><span style=\"color: #ff00ff; text-decoration-color: #ff00ff\">Notion_Get_users.ipynb</span>\n",
       "</pre>\n"
      ],
      "text/plain": [
       "..\u001b[35m/../Notion/\u001b[0m\u001b[95mNotion_Get_users.ipynb\u001b[0m\n"
      ]
     },
     "metadata": {},
     "output_type": "display_data"
    },
    {
     "data": {
      "text/html": [
       "<pre style=\"white-space:pre;overflow-x:auto;line-height:normal;font-family:Menlo,'DejaVu Sans Mono',consolas,'Courier New',monospace\">..<span style=\"color: #800080; text-decoration-color: #800080\">/../Notion/</span><span style=\"color: #ff00ff; text-decoration-color: #ff00ff\">Notion_Push_data_from_Gsheets.ipynb</span>\n",
       "</pre>\n"
      ],
      "text/plain": [
       "..\u001b[35m/../Notion/\u001b[0m\u001b[95mNotion_Push_data_from_Gsheets.ipynb\u001b[0m\n"
      ]
     },
     "metadata": {},
     "output_type": "display_data"
    },
    {
     "data": {
      "text/html": [
       "<pre style=\"white-space:pre;overflow-x:auto;line-height:normal;font-family:Menlo,'DejaVu Sans Mono',consolas,'Courier New',monospace\">..<span style=\"color: #800080; text-decoration-color: #800080\">/../Notion/</span><span style=\"color: #ff00ff; text-decoration-color: #ff00ff\">Notion_Scheduled_Updates_from_Gsheets.ipynb</span>\n",
       "</pre>\n"
      ],
      "text/plain": [
       "..\u001b[35m/../Notion/\u001b[0m\u001b[95mNotion_Scheduled_Updates_from_Gsheets.ipynb\u001b[0m\n"
      ]
     },
     "metadata": {},
     "output_type": "display_data"
    },
    {
     "data": {
      "text/html": [
       "<pre style=\"white-space:pre;overflow-x:auto;line-height:normal;font-family:Menlo,'DejaVu Sans Mono',consolas,'Courier New',monospace\">..<span style=\"color: #800080; text-decoration-color: #800080\">/../Notion/</span><span style=\"color: #ff00ff; text-decoration-color: #ff00ff\">Notion_Sent_Gmail_On_New_Item.ipynb</span>\n",
       "</pre>\n"
      ],
      "text/plain": [
       "..\u001b[35m/../Notion/\u001b[0m\u001b[95mNotion_Sent_Gmail_On_New_Item.ipynb\u001b[0m\n"
      ]
     },
     "metadata": {},
     "output_type": "display_data"
    },
    {
     "data": {
      "text/html": [
       "<pre style=\"white-space:pre;overflow-x:auto;line-height:normal;font-family:Menlo,'DejaVu Sans Mono',consolas,'Courier New',monospace\">..<span style=\"color: #800080; text-decoration-color: #800080\">/../Notion/</span><span style=\"color: #ff00ff; text-decoration-color: #ff00ff\">Notion_Update_page.ipynb</span>\n",
       "</pre>\n"
      ],
      "text/plain": [
       "..\u001b[35m/../Notion/\u001b[0m\u001b[95mNotion_Update_page.ipynb\u001b[0m\n"
      ]
     },
     "metadata": {},
     "output_type": "display_data"
    },
    {
     "data": {
      "text/html": [
       "<pre style=\"white-space:pre;overflow-x:auto;line-height:normal;font-family:Menlo,'DejaVu Sans Mono',consolas,'Courier New',monospace\">..<span style=\"color: #800080; text-decoration-color: #800080\">/../Notion/</span><span style=\"color: #ff00ff; text-decoration-color: #ff00ff\">Notion_Update_pages_from_database.ipynb</span>\n",
       "</pre>\n"
      ],
      "text/plain": [
       "..\u001b[35m/../Notion/\u001b[0m\u001b[95mNotion_Update_pages_from_database.ipynb\u001b[0m\n"
      ]
     },
     "metadata": {},
     "output_type": "display_data"
    },
    {
     "data": {
      "text/html": [
       "<pre style=\"white-space:pre;overflow-x:auto;line-height:normal;font-family:Menlo,'DejaVu Sans Mono',consolas,'Courier New',monospace\">..<span style=\"color: #800080; text-decoration-color: #800080\">/../OpenWeatherMap/</span><span style=\"color: #ff00ff; text-decoration-color: #ff00ff\">OpenWeatherMap_Get_City_Weather.ipynb</span>\n",
       "</pre>\n"
      ],
      "text/plain": [
       "..\u001b[35m/../OpenWeatherMap/\u001b[0m\u001b[95mOpenWeatherMap_Get_City_Weather.ipynb\u001b[0m\n"
      ]
     },
     "metadata": {},
     "output_type": "display_data"
    },
    {
     "data": {
      "text/html": [
       "<pre style=\"white-space:pre;overflow-x:auto;line-height:normal;font-family:Menlo,'DejaVu Sans Mono',consolas,'Courier New',monospace\">..<span style=\"color: #800080; text-decoration-color: #800080\">/../OwnCloud/</span><span style=\"color: #ff00ff; text-decoration-color: #ff00ff\">OwnCloud_Download_file.ipynb</span>\n",
       "</pre>\n"
      ],
      "text/plain": [
       "..\u001b[35m/../OwnCloud/\u001b[0m\u001b[95mOwnCloud_Download_file.ipynb\u001b[0m\n"
      ]
     },
     "metadata": {},
     "output_type": "display_data"
    },
    {
     "data": {
      "text/html": [
       "<pre style=\"white-space:pre;overflow-x:auto;line-height:normal;font-family:Menlo,'DejaVu Sans Mono',consolas,'Courier New',monospace\">..<span style=\"color: #800080; text-decoration-color: #800080\">/../OwnCloud/</span><span style=\"color: #ff00ff; text-decoration-color: #ff00ff\">OwnCloud_Upload_file.ipynb</span>\n",
       "</pre>\n"
      ],
      "text/plain": [
       "..\u001b[35m/../OwnCloud/\u001b[0m\u001b[95mOwnCloud_Upload_file.ipynb\u001b[0m\n"
      ]
     },
     "metadata": {},
     "output_type": "display_data"
    },
    {
     "data": {
      "text/html": [
       "<pre style=\"white-space:pre;overflow-x:auto;line-height:normal;font-family:Menlo,'DejaVu Sans Mono',consolas,'Courier New',monospace\">..<span style=\"color: #800080; text-decoration-color: #800080\">/../PDF/</span><span style=\"color: #ff00ff; text-decoration-color: #ff00ff\">PDF_Transform_to_MP3.ipynb</span>\n",
       "</pre>\n"
      ],
      "text/plain": [
       "..\u001b[35m/../PDF/\u001b[0m\u001b[95mPDF_Transform_to_MP3.ipynb\u001b[0m\n"
      ]
     },
     "metadata": {},
     "output_type": "display_data"
    },
    {
     "data": {
      "text/html": [
       "<pre style=\"white-space:pre;overflow-x:auto;line-height:normal;font-family:Menlo,'DejaVu Sans Mono',consolas,'Courier New',monospace\">..<span style=\"color: #800080; text-decoration-color: #800080\">/../Pandas/</span><span style=\"color: #ff00ff; text-decoration-color: #ff00ff\">Pandas_Create_Pivot_Table.ipynb</span>\n",
       "</pre>\n"
      ],
      "text/plain": [
       "..\u001b[35m/../Pandas/\u001b[0m\u001b[95mPandas_Create_Pivot_Table.ipynb\u001b[0m\n"
      ]
     },
     "metadata": {},
     "output_type": "display_data"
    },
    {
     "data": {
      "text/html": [
       "<pre style=\"white-space:pre;overflow-x:auto;line-height:normal;font-family:Menlo,'DejaVu Sans Mono',consolas,'Courier New',monospace\">..<span style=\"color: #800080; text-decoration-color: #800080\">/../Pandas/</span><span style=\"color: #ff00ff; text-decoration-color: #ff00ff\">Pandas_ISO_Date_Conversion.ipynb</span>\n",
       "</pre>\n"
      ],
      "text/plain": [
       "..\u001b[35m/../Pandas/\u001b[0m\u001b[95mPandas_ISO_Date_Conversion.ipynb\u001b[0m\n"
      ]
     },
     "metadata": {},
     "output_type": "display_data"
    },
    {
     "data": {
      "text/html": [
       "<pre style=\"white-space:pre;overflow-x:auto;line-height:normal;font-family:Menlo,'DejaVu Sans Mono',consolas,'Courier New',monospace\">..<span style=\"color: #800080; text-decoration-color: #800080\">/../Pandas/</span><span style=\"color: #ff00ff; text-decoration-color: #ff00ff\">Pandas_Merge_Dataframes.ipynb</span>\n",
       "</pre>\n"
      ],
      "text/plain": [
       "..\u001b[35m/../Pandas/\u001b[0m\u001b[95mPandas_Merge_Dataframes.ipynb\u001b[0m\n"
      ]
     },
     "metadata": {},
     "output_type": "display_data"
    },
    {
     "data": {
      "text/html": [
       "<pre style=\"white-space:pre;overflow-x:auto;line-height:normal;font-family:Menlo,'DejaVu Sans Mono',consolas,'Courier New',monospace\">..<span style=\"color: #800080; text-decoration-color: #800080\">/../Pipedrive/</span><span style=\"color: #ff00ff; text-decoration-color: #ff00ff\">Pipedrive_Get_contact.ipynb</span>\n",
       "</pre>\n"
      ],
      "text/plain": [
       "..\u001b[35m/../Pipedrive/\u001b[0m\u001b[95mPipedrive_Get_contact.ipynb\u001b[0m\n"
      ]
     },
     "metadata": {},
     "output_type": "display_data"
    },
    {
     "data": {
      "text/html": [
       "<pre style=\"white-space:pre;overflow-x:auto;line-height:normal;font-family:Menlo,'DejaVu Sans Mono',consolas,'Courier New',monospace\">..<span style=\"color: #800080; text-decoration-color: #800080\">/../Plaid/</span><span style=\"color: #ff00ff; text-decoration-color: #ff00ff\">Plaid_Get_accounts.ipynb</span>\n",
       "</pre>\n"
      ],
      "text/plain": [
       "..\u001b[35m/../Plaid/\u001b[0m\u001b[95mPlaid_Get_accounts.ipynb\u001b[0m\n"
      ]
     },
     "metadata": {},
     "output_type": "display_data"
    },
    {
     "data": {
      "text/html": [
       "<pre style=\"white-space:pre;overflow-x:auto;line-height:normal;font-family:Menlo,'DejaVu Sans Mono',consolas,'Courier New',monospace\">..<span style=\"color: #800080; text-decoration-color: #800080\">/../Plaid/</span><span style=\"color: #ff00ff; text-decoration-color: #ff00ff\">Plaid_Get_transactions.ipynb</span>\n",
       "</pre>\n"
      ],
      "text/plain": [
       "..\u001b[35m/../Plaid/\u001b[0m\u001b[95mPlaid_Get_transactions.ipynb\u001b[0m\n"
      ]
     },
     "metadata": {},
     "output_type": "display_data"
    },
    {
     "data": {
      "text/html": [
       "<pre style=\"white-space:pre;overflow-x:auto;line-height:normal;font-family:Menlo,'DejaVu Sans Mono',consolas,'Courier New',monospace\">..<span style=\"color: #800080; text-decoration-color: #800080\">/../Plotly/</span><span style=\"color: #ff00ff; text-decoration-color: #ff00ff\">Create</span> Bubble chart.ipynb\n",
       "</pre>\n"
      ],
      "text/plain": [
       "..\u001b[35m/../Plotly/\u001b[0m\u001b[95mCreate\u001b[0m Bubble chart.ipynb\n"
      ]
     },
     "metadata": {},
     "output_type": "display_data"
    },
    {
     "data": {
      "text/html": [
       "<pre style=\"white-space:pre;overflow-x:auto;line-height:normal;font-family:Menlo,'DejaVu Sans Mono',consolas,'Courier New',monospace\">..<span style=\"color: #800080; text-decoration-color: #800080\">/../Plotly/</span><span style=\"color: #ff00ff; text-decoration-color: #ff00ff\">Create</span> Candlestick chart.ipynb\n",
       "</pre>\n"
      ],
      "text/plain": [
       "..\u001b[35m/../Plotly/\u001b[0m\u001b[95mCreate\u001b[0m Candlestick chart.ipynb\n"
      ]
     },
     "metadata": {},
     "output_type": "display_data"
    },
    {
     "data": {
      "text/html": [
       "<pre style=\"white-space:pre;overflow-x:auto;line-height:normal;font-family:Menlo,'DejaVu Sans Mono',consolas,'Courier New',monospace\">..<span style=\"color: #800080; text-decoration-color: #800080\">/../Plotly/</span><span style=\"color: #ff00ff; text-decoration-color: #ff00ff\">Create</span> Gantt chart.ipynb\n",
       "</pre>\n"
      ],
      "text/plain": [
       "..\u001b[35m/../Plotly/\u001b[0m\u001b[95mCreate\u001b[0m Gantt chart.ipynb\n"
      ]
     },
     "metadata": {},
     "output_type": "display_data"
    },
    {
     "data": {
      "text/html": [
       "<pre style=\"white-space:pre;overflow-x:auto;line-height:normal;font-family:Menlo,'DejaVu Sans Mono',consolas,'Courier New',monospace\">..<span style=\"color: #800080; text-decoration-color: #800080\">/../Plotly/</span><span style=\"color: #ff00ff; text-decoration-color: #ff00ff\">Create</span> Horizontal Bar Chart <span style=\"font-weight: bold\">(</span>Basic<span style=\"font-weight: bold\">)</span>.ipynb\n",
       "</pre>\n"
      ],
      "text/plain": [
       "..\u001b[35m/../Plotly/\u001b[0m\u001b[95mCreate\u001b[0m Horizontal Bar Chart \u001b[1m(\u001b[0mBasic\u001b[1m)\u001b[0m.ipynb\n"
      ]
     },
     "metadata": {},
     "output_type": "display_data"
    },
    {
     "data": {
      "text/html": [
       "<pre style=\"white-space:pre;overflow-x:auto;line-height:normal;font-family:Menlo,'DejaVu Sans Mono',consolas,'Courier New',monospace\">..<span style=\"color: #800080; text-decoration-color: #800080\">/../Plotly/</span><span style=\"color: #ff00ff; text-decoration-color: #ff00ff\">Create</span> Line Chart <span style=\"font-weight: bold\">(</span>Basic<span style=\"font-weight: bold\">)</span>.ipynb\n",
       "</pre>\n"
      ],
      "text/plain": [
       "..\u001b[35m/../Plotly/\u001b[0m\u001b[95mCreate\u001b[0m Line Chart \u001b[1m(\u001b[0mBasic\u001b[1m)\u001b[0m.ipynb\n"
      ]
     },
     "metadata": {},
     "output_type": "display_data"
    },
    {
     "data": {
      "text/html": [
       "<pre style=\"white-space:pre;overflow-x:auto;line-height:normal;font-family:Menlo,'DejaVu Sans Mono',consolas,'Courier New',monospace\">..<span style=\"color: #800080; text-decoration-color: #800080\">/../Plotly/</span><span style=\"color: #ff00ff; text-decoration-color: #ff00ff\">Create</span> Waterfall chart <span style=\"font-weight: bold\">(</span>Advanced<span style=\"font-weight: bold\">)</span>.ipynb\n",
       "</pre>\n"
      ],
      "text/plain": [
       "..\u001b[35m/../Plotly/\u001b[0m\u001b[95mCreate\u001b[0m Waterfall chart \u001b[1m(\u001b[0mAdvanced\u001b[1m)\u001b[0m.ipynb\n"
      ]
     },
     "metadata": {},
     "output_type": "display_data"
    },
    {
     "data": {
      "text/html": [
       "<pre style=\"white-space:pre;overflow-x:auto;line-height:normal;font-family:Menlo,'DejaVu Sans Mono',consolas,'Courier New',monospace\">..<span style=\"color: #800080; text-decoration-color: #800080\">/../Plotly/</span><span style=\"color: #ff00ff; text-decoration-color: #ff00ff\">Create</span> Waterfall chart <span style=\"font-weight: bold\">(</span>Basic<span style=\"font-weight: bold\">)</span>.ipynb\n",
       "</pre>\n"
      ],
      "text/plain": [
       "..\u001b[35m/../Plotly/\u001b[0m\u001b[95mCreate\u001b[0m Waterfall chart \u001b[1m(\u001b[0mBasic\u001b[1m)\u001b[0m.ipynb\n"
      ]
     },
     "metadata": {},
     "output_type": "display_data"
    },
    {
     "data": {
      "text/html": [
       "<pre style=\"white-space:pre;overflow-x:auto;line-height:normal;font-family:Menlo,'DejaVu Sans Mono',consolas,'Courier New',monospace\">..<span style=\"color: #800080; text-decoration-color: #800080\">/../Plotly/</span><span style=\"color: #ff00ff; text-decoration-color: #ff00ff\">Plotly_Bubblechart.ipynb</span>\n",
       "</pre>\n"
      ],
      "text/plain": [
       "..\u001b[35m/../Plotly/\u001b[0m\u001b[95mPlotly_Bubblechart.ipynb\u001b[0m\n"
      ]
     },
     "metadata": {},
     "output_type": "display_data"
    },
    {
     "data": {
      "text/html": [
       "<pre style=\"white-space:pre;overflow-x:auto;line-height:normal;font-family:Menlo,'DejaVu Sans Mono',consolas,'Courier New',monospace\">..<span style=\"color: #800080; text-decoration-color: #800080\">/../Plotly/</span><span style=\"color: #ff00ff; text-decoration-color: #ff00ff\">Plotly_Candlestick.ipynb</span>\n",
       "</pre>\n"
      ],
      "text/plain": [
       "..\u001b[35m/../Plotly/\u001b[0m\u001b[95mPlotly_Candlestick.ipynb\u001b[0m\n"
      ]
     },
     "metadata": {},
     "output_type": "display_data"
    },
    {
     "data": {
      "text/html": [
       "<pre style=\"white-space:pre;overflow-x:auto;line-height:normal;font-family:Menlo,'DejaVu Sans Mono',consolas,'Courier New',monospace\">..<span style=\"color: #800080; text-decoration-color: #800080\">/../Plotly/</span><span style=\"color: #ff00ff; text-decoration-color: #ff00ff\">Plotly_Create_Linechart.ipynb</span>\n",
       "</pre>\n"
      ],
      "text/plain": [
       "..\u001b[35m/../Plotly/\u001b[0m\u001b[95mPlotly_Create_Linechart.ipynb\u001b[0m\n"
      ]
     },
     "metadata": {},
     "output_type": "display_data"
    },
    {
     "data": {
      "text/html": [
       "<pre style=\"white-space:pre;overflow-x:auto;line-height:normal;font-family:Menlo,'DejaVu Sans Mono',consolas,'Courier New',monospace\">..<span style=\"color: #800080; text-decoration-color: #800080\">/../Plotly/</span><span style=\"color: #ff00ff; text-decoration-color: #ff00ff\">Plotly_Heatmap.ipynb</span>\n",
       "</pre>\n"
      ],
      "text/plain": [
       "..\u001b[35m/../Plotly/\u001b[0m\u001b[95mPlotly_Heatmap.ipynb\u001b[0m\n"
      ]
     },
     "metadata": {},
     "output_type": "display_data"
    },
    {
     "data": {
      "text/html": [
       "<pre style=\"white-space:pre;overflow-x:auto;line-height:normal;font-family:Menlo,'DejaVu Sans Mono',consolas,'Courier New',monospace\">..<span style=\"color: #800080; text-decoration-color: #800080\">/../Plotly/</span><span style=\"color: #ff00ff; text-decoration-color: #ff00ff\">Plotly_Mapchart_world.ipynb</span>\n",
       "</pre>\n"
      ],
      "text/plain": [
       "..\u001b[35m/../Plotly/\u001b[0m\u001b[95mPlotly_Mapchart_world.ipynb\u001b[0m\n"
      ]
     },
     "metadata": {},
     "output_type": "display_data"
    },
    {
     "data": {
      "text/html": [
       "<pre style=\"white-space:pre;overflow-x:auto;line-height:normal;font-family:Menlo,'DejaVu Sans Mono',consolas,'Courier New',monospace\">..<span style=\"color: #800080; text-decoration-color: #800080\">/../Plotly/</span><span style=\"color: #ff00ff; text-decoration-color: #ff00ff\">Plotly_Vertical_Barchart_stacked.ipynb</span>\n",
       "</pre>\n"
      ],
      "text/plain": [
       "..\u001b[35m/../Plotly/\u001b[0m\u001b[95mPlotly_Vertical_Barchart_stacked.ipynb\u001b[0m\n"
      ]
     },
     "metadata": {},
     "output_type": "display_data"
    },
    {
     "data": {
      "text/html": [
       "<pre style=\"white-space:pre;overflow-x:auto;line-height:normal;font-family:Menlo,'DejaVu Sans Mono',consolas,'Courier New',monospace\">..<span style=\"color: #800080; text-decoration-color: #800080\">/../Plotly/</span><span style=\"color: #ff00ff; text-decoration-color: #ff00ff\">Plotly_Waterfall_chart_simple.ipynb</span>\n",
       "</pre>\n"
      ],
      "text/plain": [
       "..\u001b[35m/../Plotly/\u001b[0m\u001b[95mPlotly_Waterfall_chart_simple.ipynb\u001b[0m\n"
      ]
     },
     "metadata": {},
     "output_type": "display_data"
    },
    {
     "data": {
      "text/html": [
       "<pre style=\"white-space:pre;overflow-x:auto;line-height:normal;font-family:Menlo,'DejaVu Sans Mono',consolas,'Courier New',monospace\">..<span style=\"color: #800080; text-decoration-color: #800080\">/../Python/</span><span style=\"color: #ff00ff; text-decoration-color: #ff00ff\">Python_Consolidate_Excel_files.ipynb</span>\n",
       "</pre>\n"
      ],
      "text/plain": [
       "..\u001b[35m/../Python/\u001b[0m\u001b[95mPython_Consolidate_Excel_files.ipynb\u001b[0m\n"
      ]
     },
     "metadata": {},
     "output_type": "display_data"
    },
    {
     "data": {
      "text/html": [
       "<pre style=\"white-space:pre;overflow-x:auto;line-height:normal;font-family:Menlo,'DejaVu Sans Mono',consolas,'Courier New',monospace\">..<span style=\"color: #800080; text-decoration-color: #800080\">/../Python/</span><span style=\"color: #ff00ff; text-decoration-color: #ff00ff\">Python_Looping_Over_Dataframe.ipynb</span>\n",
       "</pre>\n"
      ],
      "text/plain": [
       "..\u001b[35m/../Python/\u001b[0m\u001b[95mPython_Looping_Over_Dataframe.ipynb\u001b[0m\n"
      ]
     },
     "metadata": {},
     "output_type": "display_data"
    },
    {
     "data": {
      "text/html": [
       "<pre style=\"white-space:pre;overflow-x:auto;line-height:normal;font-family:Menlo,'DejaVu Sans Mono',consolas,'Courier New',monospace\">..<span style=\"color: #800080; text-decoration-color: #800080\">/../</span><span style=\"color: #ff00ff; text-decoration-color: #ff00ff\">Python</span> Snippets/Pandas/Looping_Over_Dataframe.ipynb\n",
       "</pre>\n"
      ],
      "text/plain": [
       "..\u001b[35m/../\u001b[0m\u001b[95mPython\u001b[0m Snippets/Pandas/Looping_Over_Dataframe.ipynb\n"
      ]
     },
     "metadata": {},
     "output_type": "display_data"
    },
    {
     "data": {
      "text/html": [
       "<pre style=\"white-space:pre;overflow-x:auto;line-height:normal;font-family:Menlo,'DejaVu Sans Mono',consolas,'Courier New',monospace\">..<span style=\"color: #800080; text-decoration-color: #800080\">/../</span><span style=\"color: #ff00ff; text-decoration-color: #ff00ff\">Python</span> Snippets/Pandas/Pandas_ISO_Date_Conversion.ipynb\n",
       "</pre>\n"
      ],
      "text/plain": [
       "..\u001b[35m/../\u001b[0m\u001b[95mPython\u001b[0m Snippets/Pandas/Pandas_ISO_Date_Conversion.ipynb\n"
      ]
     },
     "metadata": {},
     "output_type": "display_data"
    },
    {
     "data": {
      "text/html": [
       "<pre style=\"white-space:pre;overflow-x:auto;line-height:normal;font-family:Menlo,'DejaVu Sans Mono',consolas,'Courier New',monospace\">..<span style=\"color: #800080; text-decoration-color: #800080\">/../Qonto/</span><span style=\"color: #ff00ff; text-decoration-color: #ff00ff\">Qonto_Get_cash_position_trend.ipynb</span>\n",
       "</pre>\n"
      ],
      "text/plain": [
       "..\u001b[35m/../Qonto/\u001b[0m\u001b[95mQonto_Get_cash_position_trend.ipynb\u001b[0m\n"
      ]
     },
     "metadata": {},
     "output_type": "display_data"
    },
    {
     "data": {
      "text/html": [
       "<pre style=\"white-space:pre;overflow-x:auto;line-height:normal;font-family:Menlo,'DejaVu Sans Mono',consolas,'Courier New',monospace\">..<span style=\"color: #800080; text-decoration-color: #800080\">/../Qonto/</span><span style=\"color: #ff00ff; text-decoration-color: #ff00ff\">Qonto_Get_organizations.ipynb</span>\n",
       "</pre>\n"
      ],
      "text/plain": [
       "..\u001b[35m/../Qonto/\u001b[0m\u001b[95mQonto_Get_organizations.ipynb\u001b[0m\n"
      ]
     },
     "metadata": {},
     "output_type": "display_data"
    },
    {
     "data": {
      "text/html": [
       "<pre style=\"white-space:pre;overflow-x:auto;line-height:normal;font-family:Menlo,'DejaVu Sans Mono',consolas,'Courier New',monospace\">..<span style=\"color: #800080; text-decoration-color: #800080\">/../Qonto/</span><span style=\"color: #ff00ff; text-decoration-color: #ff00ff\">Qonto_Get_positions.ipynb</span>\n",
       "</pre>\n"
      ],
      "text/plain": [
       "..\u001b[35m/../Qonto/\u001b[0m\u001b[95mQonto_Get_positions.ipynb\u001b[0m\n"
      ]
     },
     "metadata": {},
     "output_type": "display_data"
    },
    {
     "data": {
      "text/html": [
       "<pre style=\"white-space:pre;overflow-x:auto;line-height:normal;font-family:Menlo,'DejaVu Sans Mono',consolas,'Courier New',monospace\">..<span style=\"color: #800080; text-decoration-color: #800080\">/../Qonto/</span><span style=\"color: #ff00ff; text-decoration-color: #ff00ff\">Qonto_Get_statement.ipynb</span>\n",
       "</pre>\n"
      ],
      "text/plain": [
       "..\u001b[35m/../Qonto/\u001b[0m\u001b[95mQonto_Get_statement.ipynb\u001b[0m\n"
      ]
     },
     "metadata": {},
     "output_type": "display_data"
    },
    {
     "data": {
      "text/html": [
       "<pre style=\"white-space:pre;overflow-x:auto;line-height:normal;font-family:Menlo,'DejaVu Sans Mono',consolas,'Courier New',monospace\">..<span style=\"color: #800080; text-decoration-color: #800080\">/../Qonto/</span><span style=\"color: #ff00ff; text-decoration-color: #ff00ff\">Qonto_Get_statement_barline.ipynb</span>\n",
       "</pre>\n"
      ],
      "text/plain": [
       "..\u001b[35m/../Qonto/\u001b[0m\u001b[95mQonto_Get_statement_barline.ipynb\u001b[0m\n"
      ]
     },
     "metadata": {},
     "output_type": "display_data"
    },
    {
     "data": {
      "text/html": [
       "<pre style=\"white-space:pre;overflow-x:auto;line-height:normal;font-family:Menlo,'DejaVu Sans Mono',consolas,'Courier New',monospace\">..<span style=\"color: #800080; text-decoration-color: #800080\">/../Qonto/</span><span style=\"color: #ff00ff; text-decoration-color: #ff00ff\">Qonto_Get_statement_ranking_by_category.ipynb</span>\n",
       "</pre>\n"
      ],
      "text/plain": [
       "..\u001b[35m/../Qonto/\u001b[0m\u001b[95mQonto_Get_statement_ranking_by_category.ipynb\u001b[0m\n"
      ]
     },
     "metadata": {},
     "output_type": "display_data"
    },
    {
     "data": {
      "text/html": [
       "<pre style=\"white-space:pre;overflow-x:auto;line-height:normal;font-family:Menlo,'DejaVu Sans Mono',consolas,'Courier New',monospace\">..<span style=\"color: #800080; text-decoration-color: #800080\">/../Qonto/</span><span style=\"color: #ff00ff; text-decoration-color: #ff00ff\">Qonto_Get_statement_summary_by_operation_type.ipynb</span>\n",
       "</pre>\n"
      ],
      "text/plain": [
       "..\u001b[35m/../Qonto/\u001b[0m\u001b[95mQonto_Get_statement_summary_by_operation_type.ipynb\u001b[0m\n"
      ]
     },
     "metadata": {},
     "output_type": "display_data"
    },
    {
     "data": {
      "text/html": [
       "<pre style=\"white-space:pre;overflow-x:auto;line-height:normal;font-family:Menlo,'DejaVu Sans Mono',consolas,'Courier New',monospace\">..<span style=\"color: #800080; text-decoration-color: #800080\">/../Qonto/</span><span style=\"color: #ff00ff; text-decoration-color: #ff00ff\">Qonto_Get_transactions.ipynb</span>\n",
       "</pre>\n"
      ],
      "text/plain": [
       "..\u001b[35m/../Qonto/\u001b[0m\u001b[95mQonto_Get_transactions.ipynb\u001b[0m\n"
      ]
     },
     "metadata": {},
     "output_type": "display_data"
    },
    {
     "data": {
      "text/html": [
       "<pre style=\"white-space:pre;overflow-x:auto;line-height:normal;font-family:Menlo,'DejaVu Sans Mono',consolas,'Courier New',monospace\">..<span style=\"color: #800080; text-decoration-color: #800080\">/../Qonto/</span><span style=\"color: #ff00ff; text-decoration-color: #ff00ff\">Qonto_Releve_de_compte_augmente.ipynb</span>\n",
       "</pre>\n"
      ],
      "text/plain": [
       "..\u001b[35m/../Qonto/\u001b[0m\u001b[95mQonto_Releve_de_compte_augmente.ipynb\u001b[0m\n"
      ]
     },
     "metadata": {},
     "output_type": "display_data"
    },
    {
     "data": {
      "text/html": [
       "<pre style=\"white-space:pre;overflow-x:auto;line-height:normal;font-family:Menlo,'DejaVu Sans Mono',consolas,'Courier New',monospace\">..<span style=\"color: #800080; text-decoration-color: #800080\">/../Quandl/</span><span style=\"color: #ff00ff; text-decoration-color: #ff00ff\">Quandl_Get_data_from_API.ipynb</span>\n",
       "</pre>\n"
      ],
      "text/plain": [
       "..\u001b[35m/../Quandl/\u001b[0m\u001b[95mQuandl_Get_data_from_API.ipynb\u001b[0m\n"
      ]
     },
     "metadata": {},
     "output_type": "display_data"
    },
    {
     "data": {
      "text/html": [
       "<pre style=\"white-space:pre;overflow-x:auto;line-height:normal;font-family:Menlo,'DejaVu Sans Mono',consolas,'Courier New',monospace\">..<span style=\"color: #800080; text-decoration-color: #800080\">/../Quandl/</span><span style=\"color: #ff00ff; text-decoration-color: #ff00ff\">Quandl_Get_data_from_CSV.ipynb</span>\n",
       "</pre>\n"
      ],
      "text/plain": [
       "..\u001b[35m/../Quandl/\u001b[0m\u001b[95mQuandl_Get_data_from_CSV.ipynb\u001b[0m\n"
      ]
     },
     "metadata": {},
     "output_type": "display_data"
    },
    {
     "data": {
      "text/html": [
       "<pre style=\"white-space:pre;overflow-x:auto;line-height:normal;font-family:Menlo,'DejaVu Sans Mono',consolas,'Courier New',monospace\">..<span style=\"color: #800080; text-decoration-color: #800080\">/../Reddit/</span><span style=\"color: #ff00ff; text-decoration-color: #ff00ff\">Reddit_Get_Hot_Posts_From_Subreddit.ipynb</span>\n",
       "</pre>\n"
      ],
      "text/plain": [
       "..\u001b[35m/../Reddit/\u001b[0m\u001b[95mReddit_Get_Hot_Posts_From_Subreddit.ipynb\u001b[0m\n"
      ]
     },
     "metadata": {},
     "output_type": "display_data"
    },
    {
     "data": {
      "text/html": [
       "<pre style=\"white-space:pre;overflow-x:auto;line-height:normal;font-family:Menlo,'DejaVu Sans Mono',consolas,'Courier New',monospace\">..<span style=\"color: #800080; text-decoration-color: #800080\">/../Redshift/</span><span style=\"color: #ff00ff; text-decoration-color: #ff00ff\">Redshift_Connect_with_SQL_Magic_and_IAM_Credentials.ipynb</span>\n",
       "</pre>\n"
      ],
      "text/plain": [
       "..\u001b[35m/../Redshift/\u001b[0m\u001b[95mRedshift_Connect_with_SQL_Magic_and_IAM_Credentials.ipynb\u001b[0m\n"
      ]
     },
     "metadata": {},
     "output_type": "display_data"
    },
    {
     "data": {
      "text/html": [
       "<pre style=\"white-space:pre;overflow-x:auto;line-height:normal;font-family:Menlo,'DejaVu Sans Mono',consolas,'Courier New',monospace\">..<span style=\"color: #800080; text-decoration-color: #800080\">/../Remotive/</span><span style=\"color: #ff00ff; text-decoration-color: #ff00ff\">Remotive_Get_categories_from_job.ipynb</span>\n",
       "</pre>\n"
      ],
      "text/plain": [
       "..\u001b[35m/../Remotive/\u001b[0m\u001b[95mRemotive_Get_categories_from_job.ipynb\u001b[0m\n"
      ]
     },
     "metadata": {},
     "output_type": "display_data"
    },
    {
     "data": {
      "text/html": [
       "<pre style=\"white-space:pre;overflow-x:auto;line-height:normal;font-family:Menlo,'DejaVu Sans Mono',consolas,'Courier New',monospace\">..<span style=\"color: #800080; text-decoration-color: #800080\">/../Remotive/</span><span style=\"color: #ff00ff; text-decoration-color: #ff00ff\">Remotive_Get_jobs_from_categories.ipynb</span>\n",
       "</pre>\n"
      ],
      "text/plain": [
       "..\u001b[35m/../Remotive/\u001b[0m\u001b[95mRemotive_Get_jobs_from_categories.ipynb\u001b[0m\n"
      ]
     },
     "metadata": {},
     "output_type": "display_data"
    },
    {
     "data": {
      "text/html": [
       "<pre style=\"white-space:pre;overflow-x:auto;line-height:normal;font-family:Menlo,'DejaVu Sans Mono',consolas,'Courier New',monospace\">..<span style=\"color: #800080; text-decoration-color: #800080\">/../Remotive/</span><span style=\"color: #ff00ff; text-decoration-color: #ff00ff\">Remotive_Post_daily_jobs_on_slack.ipynb</span>\n",
       "</pre>\n"
      ],
      "text/plain": [
       "..\u001b[35m/../Remotive/\u001b[0m\u001b[95mRemotive_Post_daily_jobs_on_slack.ipynb\u001b[0m\n"
      ]
     },
     "metadata": {},
     "output_type": "display_data"
    },
    {
     "data": {
      "text/html": [
       "<pre style=\"white-space:pre;overflow-x:auto;line-height:normal;font-family:Menlo,'DejaVu Sans Mono',consolas,'Courier New',monospace\">..<span style=\"color: #800080; text-decoration-color: #800080\">/../Remotive/</span><span style=\"color: #ff00ff; text-decoration-color: #ff00ff\">Remotive_Send_jobs_to_gsheet.ipynb</span>\n",
       "</pre>\n"
      ],
      "text/plain": [
       "..\u001b[35m/../Remotive/\u001b[0m\u001b[95mRemotive_Send_jobs_to_gsheet.ipynb\u001b[0m\n"
      ]
     },
     "metadata": {},
     "output_type": "display_data"
    },
    {
     "data": {
      "text/html": [
       "<pre style=\"white-space:pre;overflow-x:auto;line-height:normal;font-family:Menlo,'DejaVu Sans Mono',consolas,'Courier New',monospace\">..<span style=\"color: #800080; text-decoration-color: #800080\">/../SAP-HANA/</span><span style=\"color: #ff00ff; text-decoration-color: #ff00ff\">SAP-HANA_Query_data.ipynb</span>\n",
       "</pre>\n"
      ],
      "text/plain": [
       "..\u001b[35m/../SAP-HANA/\u001b[0m\u001b[95mSAP-HANA_Query_data.ipynb\u001b[0m\n"
      ]
     },
     "metadata": {},
     "output_type": "display_data"
    },
    {
     "data": {
      "text/html": [
       "<pre style=\"white-space:pre;overflow-x:auto;line-height:normal;font-family:Menlo,'DejaVu Sans Mono',consolas,'Courier New',monospace\">..<span style=\"color: #800080; text-decoration-color: #800080\">/../Slack/</span><span style=\"color: #ff00ff; text-decoration-color: #ff00ff\">Slack_Send_message.ipynb</span>\n",
       "</pre>\n"
      ],
      "text/plain": [
       "..\u001b[35m/../Slack/\u001b[0m\u001b[95mSlack_Send_message.ipynb\u001b[0m\n"
      ]
     },
     "metadata": {},
     "output_type": "display_data"
    },
    {
     "data": {
      "text/html": [
       "<pre style=\"white-space:pre;overflow-x:auto;line-height:normal;font-family:Menlo,'DejaVu Sans Mono',consolas,'Courier New',monospace\">..<span style=\"color: #800080; text-decoration-color: #800080\">/../Snowflake/</span><span style=\"color: #ff00ff; text-decoration-color: #ff00ff\">Snowflake_Create_table_from_csv.ipynb</span>\n",
       "</pre>\n"
      ],
      "text/plain": [
       "..\u001b[35m/../Snowflake/\u001b[0m\u001b[95mSnowflake_Create_table_from_csv.ipynb\u001b[0m\n"
      ]
     },
     "metadata": {},
     "output_type": "display_data"
    },
    {
     "data": {
      "text/html": [
       "<pre style=\"white-space:pre;overflow-x:auto;line-height:normal;font-family:Menlo,'DejaVu Sans Mono',consolas,'Courier New',monospace\">..<span style=\"color: #800080; text-decoration-color: #800080\">/../Snowflake/</span><span style=\"color: #ff00ff; text-decoration-color: #ff00ff\">Snowflake_Delete_table.ipynb</span>\n",
       "</pre>\n"
      ],
      "text/plain": [
       "..\u001b[35m/../Snowflake/\u001b[0m\u001b[95mSnowflake_Delete_table.ipynb\u001b[0m\n"
      ]
     },
     "metadata": {},
     "output_type": "display_data"
    },
    {
     "data": {
      "text/html": [
       "<pre style=\"white-space:pre;overflow-x:auto;line-height:normal;font-family:Menlo,'DejaVu Sans Mono',consolas,'Courier New',monospace\">..<span style=\"color: #800080; text-decoration-color: #800080\">/../Snowflake/</span><span style=\"color: #ff00ff; text-decoration-color: #ff00ff\">Snowflake_Read_Table.ipynb</span>\n",
       "</pre>\n"
      ],
      "text/plain": [
       "..\u001b[35m/../Snowflake/\u001b[0m\u001b[95mSnowflake_Read_Table.ipynb\u001b[0m\n"
      ]
     },
     "metadata": {},
     "output_type": "display_data"
    },
    {
     "data": {
      "text/html": [
       "<pre style=\"white-space:pre;overflow-x:auto;line-height:normal;font-family:Menlo,'DejaVu Sans Mono',consolas,'Courier New',monospace\">..<span style=\"color: #800080; text-decoration-color: #800080\">/../Snowflake/</span><span style=\"color: #ff00ff; text-decoration-color: #ff00ff\">Snowflake_Update_table.ipynb</span>\n",
       "</pre>\n"
      ],
      "text/plain": [
       "..\u001b[35m/../Snowflake/\u001b[0m\u001b[95mSnowflake_Update_table.ipynb\u001b[0m\n"
      ]
     },
     "metadata": {},
     "output_type": "display_data"
    },
    {
     "data": {
      "text/html": [
       "<pre style=\"white-space:pre;overflow-x:auto;line-height:normal;font-family:Menlo,'DejaVu Sans Mono',consolas,'Courier New',monospace\">..<span style=\"color: #800080; text-decoration-color: #800080\">/../Societe.com/</span><span style=\"color: #ff00ff; text-decoration-color: #ff00ff\">get_company_details.ipynb</span>\n",
       "</pre>\n"
      ],
      "text/plain": [
       "..\u001b[35m/../Societe.com/\u001b[0m\u001b[95mget_company_details.ipynb\u001b[0m\n"
      ]
     },
     "metadata": {},
     "output_type": "display_data"
    },
    {
     "data": {
      "text/html": [
       "<pre style=\"white-space:pre;overflow-x:auto;line-height:normal;font-family:Menlo,'DejaVu Sans Mono',consolas,'Courier New',monospace\">..<span style=\"color: #800080; text-decoration-color: #800080\">/../Societe.com/</span><span style=\"color: #ff00ff; text-decoration-color: #ff00ff\">get_societe.ninja.ipynb</span>\n",
       "</pre>\n"
      ],
      "text/plain": [
       "..\u001b[35m/../Societe.com/\u001b[0m\u001b[95mget_societe.ninja.ipynb\u001b[0m\n"
      ]
     },
     "metadata": {},
     "output_type": "display_data"
    },
    {
     "data": {
      "text/html": [
       "<pre style=\"white-space:pre;overflow-x:auto;line-height:normal;font-family:Menlo,'DejaVu Sans Mono',consolas,'Courier New',monospace\">..<span style=\"color: #800080; text-decoration-color: #800080\">/../Societe.com/</span><span style=\"color: #ff00ff; text-decoration-color: #ff00ff\">get_verif.com.ipynb</span>\n",
       "</pre>\n"
      ],
      "text/plain": [
       "..\u001b[35m/../Societe.com/\u001b[0m\u001b[95mget_verif.com.ipynb\u001b[0m\n"
      ]
     },
     "metadata": {},
     "output_type": "display_data"
    },
    {
     "data": {
      "text/html": [
       "<pre style=\"white-space:pre;overflow-x:auto;line-height:normal;font-family:Menlo,'DejaVu Sans Mono',consolas,'Courier New',monospace\">..<span style=\"color: #800080; text-decoration-color: #800080\">/../Spotify/</span><span style=\"color: #ff00ff; text-decoration-color: #ff00ff\">Spotify_Create_Radar_Chart_to_analyze_Playlist.ipynb</span>\n",
       "</pre>\n"
      ],
      "text/plain": [
       "..\u001b[35m/../Spotify/\u001b[0m\u001b[95mSpotify_Create_Radar_Chart_to_analyze_Playlist.ipynb\u001b[0m\n"
      ]
     },
     "metadata": {},
     "output_type": "display_data"
    },
    {
     "data": {
      "text/html": [
       "<pre style=\"white-space:pre;overflow-x:auto;line-height:normal;font-family:Menlo,'DejaVu Sans Mono',consolas,'Courier New',monospace\">..<span style=\"color: #800080; text-decoration-color: #800080\">/../Streamlit/</span><span style=\"color: #ff00ff; text-decoration-color: #ff00ff\">Streamlit_Create_prediction_app.ipynb</span>\n",
       "</pre>\n"
      ],
      "text/plain": [
       "..\u001b[35m/../Streamlit/\u001b[0m\u001b[95mStreamlit_Create_prediction_app.ipynb\u001b[0m\n"
      ]
     },
     "metadata": {},
     "output_type": "display_data"
    },
    {
     "data": {
      "text/html": [
       "<pre style=\"white-space:pre;overflow-x:auto;line-height:normal;font-family:Menlo,'DejaVu Sans Mono',consolas,'Courier New',monospace\">..<span style=\"color: #800080; text-decoration-color: #800080\">/../Stripe/</span><span style=\"color: #ff00ff; text-decoration-color: #ff00ff\">Stripe_Get_balances.ipynb</span>\n",
       "</pre>\n"
      ],
      "text/plain": [
       "..\u001b[35m/../Stripe/\u001b[0m\u001b[95mStripe_Get_balances.ipynb\u001b[0m\n"
      ]
     },
     "metadata": {},
     "output_type": "display_data"
    },
    {
     "data": {
      "text/html": [
       "<pre style=\"white-space:pre;overflow-x:auto;line-height:normal;font-family:Menlo,'DejaVu Sans Mono',consolas,'Courier New',monospace\">..<span style=\"color: #800080; text-decoration-color: #800080\">/../Stripe/</span><span style=\"color: #ff00ff; text-decoration-color: #ff00ff\">Stripe_Get_charges.ipynb</span>\n",
       "</pre>\n"
      ],
      "text/plain": [
       "..\u001b[35m/../Stripe/\u001b[0m\u001b[95mStripe_Get_charges.ipynb\u001b[0m\n"
      ]
     },
     "metadata": {},
     "output_type": "display_data"
    },
    {
     "data": {
      "text/html": [
       "<pre style=\"white-space:pre;overflow-x:auto;line-height:normal;font-family:Menlo,'DejaVu Sans Mono',consolas,'Courier New',monospace\">..<span style=\"color: #800080; text-decoration-color: #800080\">/../Stripe/</span><span style=\"color: #ff00ff; text-decoration-color: #ff00ff\">Stripe_Get_customers.ipynb</span>\n",
       "</pre>\n"
      ],
      "text/plain": [
       "..\u001b[35m/../Stripe/\u001b[0m\u001b[95mStripe_Get_customers.ipynb\u001b[0m\n"
      ]
     },
     "metadata": {},
     "output_type": "display_data"
    },
    {
     "data": {
      "text/html": [
       "<pre style=\"white-space:pre;overflow-x:auto;line-height:normal;font-family:Menlo,'DejaVu Sans Mono',consolas,'Courier New',monospace\">..<span style=\"color: #800080; text-decoration-color: #800080\">/../Telegram/</span><span style=\"color: #ff00ff; text-decoration-color: #ff00ff\">Telegram_Create_crypto_sentiment_bot.ipynb</span>\n",
       "</pre>\n"
      ],
      "text/plain": [
       "..\u001b[35m/../Telegram/\u001b[0m\u001b[95mTelegram_Create_crypto_sentiment_bot.ipynb\u001b[0m\n"
      ]
     },
     "metadata": {},
     "output_type": "display_data"
    },
    {
     "data": {
      "text/html": [
       "<pre style=\"white-space:pre;overflow-x:auto;line-height:normal;font-family:Menlo,'DejaVu Sans Mono',consolas,'Courier New',monospace\">..<span style=\"color: #800080; text-decoration-color: #800080\">/../Thinkific/</span><span style=\"color: #ff00ff; text-decoration-color: #ff00ff\">Thinkific_Get_users.ipynb</span>\n",
       "</pre>\n"
      ],
      "text/plain": [
       "..\u001b[35m/../Thinkific/\u001b[0m\u001b[95mThinkific_Get_users.ipynb\u001b[0m\n"
      ]
     },
     "metadata": {},
     "output_type": "display_data"
    },
    {
     "data": {
      "text/html": [
       "<pre style=\"white-space:pre;overflow-x:auto;line-height:normal;font-family:Menlo,'DejaVu Sans Mono',consolas,'Courier New',monospace\">..<span style=\"color: #800080; text-decoration-color: #800080\">/../Thinkific/</span><span style=\"color: #ff00ff; text-decoration-color: #ff00ff\">Thinkific_Send_users.ipynb</span>\n",
       "</pre>\n"
      ],
      "text/plain": [
       "..\u001b[35m/../Thinkific/\u001b[0m\u001b[95mThinkific_Send_users.ipynb\u001b[0m\n"
      ]
     },
     "metadata": {},
     "output_type": "display_data"
    },
    {
     "data": {
      "text/html": [
       "<pre style=\"white-space:pre;overflow-x:auto;line-height:normal;font-family:Menlo,'DejaVu Sans Mono',consolas,'Courier New',monospace\">..<span style=\"color: #800080; text-decoration-color: #800080\">/../Trello/</span><span style=\"color: #ff00ff; text-decoration-color: #ff00ff\">Trello_Get_board_data.ipynb</span>\n",
       "</pre>\n"
      ],
      "text/plain": [
       "..\u001b[35m/../Trello/\u001b[0m\u001b[95mTrello_Get_board_data.ipynb\u001b[0m\n"
      ]
     },
     "metadata": {},
     "output_type": "display_data"
    },
    {
     "data": {
      "text/html": [
       "<pre style=\"white-space:pre;overflow-x:auto;line-height:normal;font-family:Menlo,'DejaVu Sans Mono',consolas,'Courier New',monospace\">..<span style=\"color: #800080; text-decoration-color: #800080\">/../Twitter/</span><span style=\"color: #ff00ff; text-decoration-color: #ff00ff\">Twitter_Get_tweets_from_search.ipynb</span>\n",
       "</pre>\n"
      ],
      "text/plain": [
       "..\u001b[35m/../Twitter/\u001b[0m\u001b[95mTwitter_Get_tweets_from_search.ipynb\u001b[0m\n"
      ]
     },
     "metadata": {},
     "output_type": "display_data"
    },
    {
     "data": {
      "text/html": [
       "<pre style=\"white-space:pre;overflow-x:auto;line-height:normal;font-family:Menlo,'DejaVu Sans Mono',consolas,'Courier New',monospace\">..<span style=\"color: #800080; text-decoration-color: #800080\">/../Twitter/</span><span style=\"color: #ff00ff; text-decoration-color: #ff00ff\">Twitter_Get_tweets_stats_from_profile.ipynb</span>\n",
       "</pre>\n"
      ],
      "text/plain": [
       "..\u001b[35m/../Twitter/\u001b[0m\u001b[95mTwitter_Get_tweets_stats_from_profile.ipynb\u001b[0m\n"
      ]
     },
     "metadata": {},
     "output_type": "display_data"
    },
    {
     "data": {
      "text/html": [
       "<pre style=\"white-space:pre;overflow-x:auto;line-height:normal;font-family:Menlo,'DejaVu Sans Mono',consolas,'Courier New',monospace\">..<span style=\"color: #800080; text-decoration-color: #800080\">/../Twitter/</span><span style=\"color: #ff00ff; text-decoration-color: #ff00ff\">Twitter_Get_user_data.ipynb</span>\n",
       "</pre>\n"
      ],
      "text/plain": [
       "..\u001b[35m/../Twitter/\u001b[0m\u001b[95mTwitter_Get_user_data.ipynb\u001b[0m\n"
      ]
     },
     "metadata": {},
     "output_type": "display_data"
    },
    {
     "data": {
      "text/html": [
       "<pre style=\"white-space:pre;overflow-x:auto;line-height:normal;font-family:Menlo,'DejaVu Sans Mono',consolas,'Courier New',monospace\">..<span style=\"color: #800080; text-decoration-color: #800080\">/../Twitter/</span><span style=\"color: #ff00ff; text-decoration-color: #ff00ff\">Twitter_Post_text_and_image.ipynb</span>\n",
       "</pre>\n"
      ],
      "text/plain": [
       "..\u001b[35m/../Twitter/\u001b[0m\u001b[95mTwitter_Post_text_and_image.ipynb\u001b[0m\n"
      ]
     },
     "metadata": {},
     "output_type": "display_data"
    },
    {
     "data": {
      "text/html": [
       "<pre style=\"white-space:pre;overflow-x:auto;line-height:normal;font-family:Menlo,'DejaVu Sans Mono',consolas,'Courier New',monospace\">..<span style=\"color: #800080; text-decoration-color: #800080\">/../Twitter/</span><span style=\"color: #ff00ff; text-decoration-color: #ff00ff\">Twitter_Schedule_posts.ipynb</span>\n",
       "</pre>\n"
      ],
      "text/plain": [
       "..\u001b[35m/../Twitter/\u001b[0m\u001b[95mTwitter_Schedule_posts.ipynb\u001b[0m\n"
      ]
     },
     "metadata": {},
     "output_type": "display_data"
    },
    {
     "data": {
      "text/html": [
       "<pre style=\"white-space:pre;overflow-x:auto;line-height:normal;font-family:Menlo,'DejaVu Sans Mono',consolas,'Courier New',monospace\">..<span style=\"color: #800080; text-decoration-color: #800080\">/../WHI/</span><span style=\"color: #ff00ff; text-decoration-color: #ff00ff\">WHI.ipynb</span>\n",
       "</pre>\n"
      ],
      "text/plain": [
       "..\u001b[35m/../WHI/\u001b[0m\u001b[95mWHI.ipynb\u001b[0m\n"
      ]
     },
     "metadata": {},
     "output_type": "display_data"
    },
    {
     "data": {
      "text/html": [
       "<pre style=\"white-space:pre;overflow-x:auto;line-height:normal;font-family:Menlo,'DejaVu Sans Mono',consolas,'Courier New',monospace\">..<span style=\"color: #800080; text-decoration-color: #800080\">/../WHI/indicators/</span><span style=\"color: #ff00ff; text-decoration-color: #ff00ff\">Johns_Hopkins_Covid19_Active_Cases.ipynb</span>\n",
       "</pre>\n"
      ],
      "text/plain": [
       "..\u001b[35m/../WHI/indicators/\u001b[0m\u001b[95mJohns_Hopkins_Covid19_Active_Cases.ipynb\u001b[0m\n"
      ]
     },
     "metadata": {},
     "output_type": "display_data"
    },
    {
     "data": {
      "text/html": [
       "<pre style=\"white-space:pre;overflow-x:auto;line-height:normal;font-family:Menlo,'DejaVu Sans Mono',consolas,'Courier New',monospace\">..<span style=\"color: #800080; text-decoration-color: #800080\">/../WHI/indicators/</span><span style=\"color: #ff00ff; text-decoration-color: #ff00ff\">NASA_Artic_sea_ice.ipynb</span>\n",
       "</pre>\n"
      ],
      "text/plain": [
       "..\u001b[35m/../WHI/indicators/\u001b[0m\u001b[95mNASA_Artic_sea_ice.ipynb\u001b[0m\n"
      ]
     },
     "metadata": {},
     "output_type": "display_data"
    },
    {
     "data": {
      "text/html": [
       "<pre style=\"white-space:pre;overflow-x:auto;line-height:normal;font-family:Menlo,'DejaVu Sans Mono',consolas,'Courier New',monospace\">..<span style=\"color: #800080; text-decoration-color: #800080\">/../WHI/indicators/</span><span style=\"color: #ff00ff; text-decoration-color: #ff00ff\">NASA_Global_temperature.ipynb</span>\n",
       "</pre>\n"
      ],
      "text/plain": [
       "..\u001b[35m/../WHI/indicators/\u001b[0m\u001b[95mNASA_Global_temperature.ipynb\u001b[0m\n"
      ]
     },
     "metadata": {},
     "output_type": "display_data"
    },
    {
     "data": {
      "text/html": [
       "<pre style=\"white-space:pre;overflow-x:auto;line-height:normal;font-family:Menlo,'DejaVu Sans Mono',consolas,'Courier New',monospace\">..<span style=\"color: #800080; text-decoration-color: #800080\">/../WHI/indicators/</span><span style=\"color: #ff00ff; text-decoration-color: #ff00ff\">NASA_indicate_sealevel.ipynb</span>\n",
       "</pre>\n"
      ],
      "text/plain": [
       "..\u001b[35m/../WHI/indicators/\u001b[0m\u001b[95mNASA_indicate_sealevel.ipynb\u001b[0m\n"
      ]
     },
     "metadata": {},
     "output_type": "display_data"
    },
    {
     "data": {
      "text/html": [
       "<pre style=\"white-space:pre;overflow-x:auto;line-height:normal;font-family:Menlo,'DejaVu Sans Mono',consolas,'Courier New',monospace\">..<span style=\"color: #800080; text-decoration-color: #800080\">/../WSR/</span><span style=\"color: #ff00ff; text-decoration-color: #ff00ff\">John_Hopkins_Active_covid_cases_worldmap.ipynb</span>\n",
       "</pre>\n"
      ],
      "text/plain": [
       "..\u001b[35m/../WSR/\u001b[0m\u001b[95mJohn_Hopkins_Active_covid_cases_worldmap.ipynb\u001b[0m\n"
      ]
     },
     "metadata": {},
     "output_type": "display_data"
    },
    {
     "data": {
      "text/html": [
       "<pre style=\"white-space:pre;overflow-x:auto;line-height:normal;font-family:Menlo,'DejaVu Sans Mono',consolas,'Courier New',monospace\">..<span style=\"color: #800080; text-decoration-color: #800080\">/../WorldBank/</span><span style=\"color: #ff00ff; text-decoration-color: #ff00ff\">WorldBank_GDP_contributors.ipynb</span>\n",
       "</pre>\n"
      ],
      "text/plain": [
       "..\u001b[35m/../WorldBank/\u001b[0m\u001b[95mWorldBank_GDP_contributors.ipynb\u001b[0m\n"
      ]
     },
     "metadata": {},
     "output_type": "display_data"
    },
    {
     "data": {
      "text/html": [
       "<pre style=\"white-space:pre;overflow-x:auto;line-height:normal;font-family:Menlo,'DejaVu Sans Mono',consolas,'Courier New',monospace\">..<span style=\"color: #800080; text-decoration-color: #800080\">/../WorldBank/</span><span style=\"color: #ff00ff; text-decoration-color: #ff00ff\">WorldBank_GDP_per_capita_and_growth.ipynb</span>\n",
       "</pre>\n"
      ],
      "text/plain": [
       "..\u001b[35m/../WorldBank/\u001b[0m\u001b[95mWorldBank_GDP_per_capita_and_growth.ipynb\u001b[0m\n"
      ]
     },
     "metadata": {},
     "output_type": "display_data"
    },
    {
     "data": {
      "text/html": [
       "<pre style=\"white-space:pre;overflow-x:auto;line-height:normal;font-family:Menlo,'DejaVu Sans Mono',consolas,'Courier New',monospace\">..<span style=\"color: #800080; text-decoration-color: #800080\">/../WorldBank/</span><span style=\"color: #ff00ff; text-decoration-color: #ff00ff\">WorldBank_GDP_per_country_and_evolution.ipynb</span>\n",
       "</pre>\n"
      ],
      "text/plain": [
       "..\u001b[35m/../WorldBank/\u001b[0m\u001b[95mWorldBank_GDP_per_country_and_evolution.ipynb\u001b[0m\n"
      ]
     },
     "metadata": {},
     "output_type": "display_data"
    },
    {
     "data": {
      "text/html": [
       "<pre style=\"white-space:pre;overflow-x:auto;line-height:normal;font-family:Menlo,'DejaVu Sans Mono',consolas,'Courier New',monospace\">..<span style=\"color: #800080; text-decoration-color: #800080\">/../WorldBank/</span><span style=\"color: #ff00ff; text-decoration-color: #ff00ff\">WorldBank_Gini_index.ipynb</span>\n",
       "</pre>\n"
      ],
      "text/plain": [
       "..\u001b[35m/../WorldBank/\u001b[0m\u001b[95mWorldBank_Gini_index.ipynb\u001b[0m\n"
      ]
     },
     "metadata": {},
     "output_type": "display_data"
    },
    {
     "data": {
      "text/html": [
       "<pre style=\"white-space:pre;overflow-x:auto;line-height:normal;font-family:Menlo,'DejaVu Sans Mono',consolas,'Courier New',monospace\">..<span style=\"color: #800080; text-decoration-color: #800080\">/../WorldBank/</span><span style=\"color: #ff00ff; text-decoration-color: #ff00ff\">WorldBank_Most_populated_countries.ipynb</span>\n",
       "</pre>\n"
      ],
      "text/plain": [
       "..\u001b[35m/../WorldBank/\u001b[0m\u001b[95mWorldBank_Most_populated_countries.ipynb\u001b[0m\n"
      ]
     },
     "metadata": {},
     "output_type": "display_data"
    },
    {
     "data": {
      "text/html": [
       "<pre style=\"white-space:pre;overflow-x:auto;line-height:normal;font-family:Menlo,'DejaVu Sans Mono',consolas,'Courier New',monospace\">..<span style=\"color: #800080; text-decoration-color: #800080\">/../WorldBank/</span><span style=\"color: #ff00ff; text-decoration-color: #ff00ff\">WorldBank_Richest_countries_top10.ipynb</span>\n",
       "</pre>\n"
      ],
      "text/plain": [
       "..\u001b[35m/../WorldBank/\u001b[0m\u001b[95mWorldBank_Richest_countries_top10.ipynb\u001b[0m\n"
      ]
     },
     "metadata": {},
     "output_type": "display_data"
    },
    {
     "data": {
      "text/html": [
       "<pre style=\"white-space:pre;overflow-x:auto;line-height:normal;font-family:Menlo,'DejaVu Sans Mono',consolas,'Courier New',monospace\">..<span style=\"color: #800080; text-decoration-color: #800080\">/../WorldBank/</span><span style=\"color: #ff00ff; text-decoration-color: #ff00ff\">WorldBank_World_employment_by_sector.ipynb</span>\n",
       "</pre>\n"
      ],
      "text/plain": [
       "..\u001b[35m/../WorldBank/\u001b[0m\u001b[95mWorldBank_World_employment_by_sector.ipynb\u001b[0m\n"
      ]
     },
     "metadata": {},
     "output_type": "display_data"
    },
    {
     "data": {
      "text/html": [
       "<pre style=\"white-space:pre;overflow-x:auto;line-height:normal;font-family:Menlo,'DejaVu Sans Mono',consolas,'Courier New',monospace\">..<span style=\"color: #800080; text-decoration-color: #800080\">/../WorldBank/</span><span style=\"color: #ff00ff; text-decoration-color: #ff00ff\">WorldBank_World_population_and_density.ipynb</span>\n",
       "</pre>\n"
      ],
      "text/plain": [
       "..\u001b[35m/../WorldBank/\u001b[0m\u001b[95mWorldBank_World_population_and_density.ipynb\u001b[0m\n"
      ]
     },
     "metadata": {},
     "output_type": "display_data"
    },
    {
     "data": {
      "text/html": [
       "<pre style=\"white-space:pre;overflow-x:auto;line-height:normal;font-family:Menlo,'DejaVu Sans Mono',consolas,'Courier New',monospace\">..<span style=\"color: #800080; text-decoration-color: #800080\">/../Worldometer/</span><span style=\"color: #ff00ff; text-decoration-color: #ff00ff\">Worldometer_World_population_evolution_and_projections.ipynb</span>\n",
       "</pre>\n"
      ],
      "text/plain": [
       "..\u001b[35m/../Worldometer/\u001b[0m\u001b[95mWorldometer_World_population_evolution_and_projections.ipynb\u001b[0m\n"
      ]
     },
     "metadata": {},
     "output_type": "display_data"
    },
    {
     "data": {
      "text/html": [
       "<pre style=\"white-space:pre;overflow-x:auto;line-height:normal;font-family:Menlo,'DejaVu Sans Mono',consolas,'Courier New',monospace\">..<span style=\"color: #800080; text-decoration-color: #800080\">/../XML/</span><span style=\"color: #ff00ff; text-decoration-color: #ff00ff\">XML_Transform_sitemap_to_dataframe.ipynb</span>\n",
       "</pre>\n"
      ],
      "text/plain": [
       "..\u001b[35m/../XML/\u001b[0m\u001b[95mXML_Transform_sitemap_to_dataframe.ipynb\u001b[0m\n"
      ]
     },
     "metadata": {},
     "output_type": "display_data"
    },
    {
     "data": {
      "text/html": [
       "<pre style=\"white-space:pre;overflow-x:auto;line-height:normal;font-family:Menlo,'DejaVu Sans Mono',consolas,'Courier New',monospace\">..<span style=\"color: #800080; text-decoration-color: #800080\">/../YahooFinance/</span><span style=\"color: #ff00ff; text-decoration-color: #ff00ff\">YahooFinance_Candlestick_chart.ipynb</span>\n",
       "</pre>\n"
      ],
      "text/plain": [
       "..\u001b[35m/../YahooFinance/\u001b[0m\u001b[95mYahooFinance_Candlestick_chart.ipynb\u001b[0m\n"
      ]
     },
     "metadata": {},
     "output_type": "display_data"
    },
    {
     "data": {
      "text/html": [
       "<pre style=\"white-space:pre;overflow-x:auto;line-height:normal;font-family:Menlo,'DejaVu Sans Mono',consolas,'Courier New',monospace\">..<span style=\"color: #800080; text-decoration-color: #800080\">/../YahooFinance/</span><span style=\"color: #ff00ff; text-decoration-color: #ff00ff\">YahooFinance_Cryptocurrencies_heatmap_correlation_graph.ipynb</span>\n",
       "</pre>\n"
      ],
      "text/plain": [
       "..\u001b[35m/../YahooFinance/\u001b[0m\u001b[95mYahooFinance_Cryptocurrencies_heatmap_correlation_graph.ipynb\u001b[0m\n"
      ]
     },
     "metadata": {},
     "output_type": "display_data"
    },
    {
     "data": {
      "text/html": [
       "<pre style=\"white-space:pre;overflow-x:auto;line-height:normal;font-family:Menlo,'DejaVu Sans Mono',consolas,'Courier New',monospace\">..<span style=\"color: #800080; text-decoration-color: #800080\">/../YahooFinance/</span><span style=\"color: #ff00ff; text-decoration-color: #ff00ff\">YahooFinance_Display_chart_from_ticker.ipynb</span>\n",
       "</pre>\n"
      ],
      "text/plain": [
       "..\u001b[35m/../YahooFinance/\u001b[0m\u001b[95mYahooFinance_Display_chart_from_ticker.ipynb\u001b[0m\n"
      ]
     },
     "metadata": {},
     "output_type": "display_data"
    },
    {
     "data": {
      "text/html": [
       "<pre style=\"white-space:pre;overflow-x:auto;line-height:normal;font-family:Menlo,'DejaVu Sans Mono',consolas,'Courier New',monospace\">..<span style=\"color: #800080; text-decoration-color: #800080\">/../YahooFinance/</span><span style=\"color: #ff00ff; text-decoration-color: #ff00ff\">YahooFinance_Get_Stock_Update.ipynb</span>\n",
       "</pre>\n"
      ],
      "text/plain": [
       "..\u001b[35m/../YahooFinance/\u001b[0m\u001b[95mYahooFinance_Get_Stock_Update.ipynb\u001b[0m\n"
      ]
     },
     "metadata": {},
     "output_type": "display_data"
    },
    {
     "data": {
      "text/html": [
       "<pre style=\"white-space:pre;overflow-x:auto;line-height:normal;font-family:Menlo,'DejaVu Sans Mono',consolas,'Courier New',monospace\">..<span style=\"color: #800080; text-decoration-color: #800080\">/../YahooFinance/</span><span style=\"color: #ff00ff; text-decoration-color: #ff00ff\">YahooFinance_Get_USDEUR_data_and_chart.ipynb</span>\n",
       "</pre>\n"
      ],
      "text/plain": [
       "..\u001b[35m/../YahooFinance/\u001b[0m\u001b[95mYahooFinance_Get_USDEUR_data_and_chart.ipynb\u001b[0m\n"
      ]
     },
     "metadata": {},
     "output_type": "display_data"
    },
    {
     "data": {
      "text/html": [
       "<pre style=\"white-space:pre;overflow-x:auto;line-height:normal;font-family:Menlo,'DejaVu Sans Mono',consolas,'Courier New',monospace\">..<span style=\"color: #800080; text-decoration-color: #800080\">/../YahooFinance/</span><span style=\"color: #ff00ff; text-decoration-color: #ff00ff\">YahooFinance_Get_data_from_ticker.ipynb</span>\n",
       "</pre>\n"
      ],
      "text/plain": [
       "..\u001b[35m/../YahooFinance/\u001b[0m\u001b[95mYahooFinance_Get_data_from_ticker.ipynb\u001b[0m\n"
      ]
     },
     "metadata": {},
     "output_type": "display_data"
    },
    {
     "data": {
      "text/html": [
       "<pre style=\"white-space:pre;overflow-x:auto;line-height:normal;font-family:Menlo,'DejaVu Sans Mono',consolas,'Courier New',monospace\">..<span style=\"color: #800080; text-decoration-color: #800080\">/../YahooFinance/</span><span style=\"color: #ff00ff; text-decoration-color: #ff00ff\">YahooFinance_Send_daily_prediction_to_Email.ipynb</span>\n",
       "</pre>\n"
      ],
      "text/plain": [
       "..\u001b[35m/../YahooFinance/\u001b[0m\u001b[95mYahooFinance_Send_daily_prediction_to_Email.ipynb\u001b[0m\n"
      ]
     },
     "metadata": {},
     "output_type": "display_data"
    },
    {
     "data": {
      "text/html": [
       "<pre style=\"white-space:pre;overflow-x:auto;line-height:normal;font-family:Menlo,'DejaVu Sans Mono',consolas,'Courier New',monospace\">..<span style=\"color: #800080; text-decoration-color: #800080\">/../YahooFinance/</span><span style=\"color: #ff00ff; text-decoration-color: #ff00ff\">YahooFinance_Send_daily_prediction_to_Slack.ipynb</span>\n",
       "</pre>\n"
      ],
      "text/plain": [
       "..\u001b[35m/../YahooFinance/\u001b[0m\u001b[95mYahooFinance_Send_daily_prediction_to_Slack.ipynb\u001b[0m\n"
      ]
     },
     "metadata": {},
     "output_type": "display_data"
    },
    {
     "data": {
      "text/html": [
       "<pre style=\"white-space:pre;overflow-x:auto;line-height:normal;font-family:Menlo,'DejaVu Sans Mono',consolas,'Courier New',monospace\">..<span style=\"color: #800080; text-decoration-color: #800080\">/../Youtube/</span><span style=\"color: #ff00ff; text-decoration-color: #ff00ff\">Youtube_Download_video.ipynb</span>\n",
       "</pre>\n"
      ],
      "text/plain": [
       "..\u001b[35m/../Youtube/\u001b[0m\u001b[95mYoutube_Download_video.ipynb\u001b[0m\n"
      ]
     },
     "metadata": {},
     "output_type": "display_data"
    },
    {
     "data": {
      "text/html": [
       "<pre style=\"white-space:pre;overflow-x:auto;line-height:normal;font-family:Menlo,'DejaVu Sans Mono',consolas,'Courier New',monospace\">..<span style=\"color: #800080; text-decoration-color: #800080\">/../Youtube/</span><span style=\"color: #ff00ff; text-decoration-color: #ff00ff\">Youtube_Extract_and_summarize_transcript.ipynb</span>\n",
       "</pre>\n"
      ],
      "text/plain": [
       "..\u001b[35m/../Youtube/\u001b[0m\u001b[95mYoutube_Extract_and_summarize_transcript.ipynb\u001b[0m\n"
      ]
     },
     "metadata": {},
     "output_type": "display_data"
    },
    {
     "data": {
      "text/html": [
       "<pre style=\"white-space:pre;overflow-x:auto;line-height:normal;font-family:Menlo,'DejaVu Sans Mono',consolas,'Courier New',monospace\">..<span style=\"color: #800080; text-decoration-color: #800080\">/../Youtube/</span><span style=\"color: #ff00ff; text-decoration-color: #ff00ff\">Youtube_Extract_transcript_from_video.ipynb</span>\n",
       "</pre>\n"
      ],
      "text/plain": [
       "..\u001b[35m/../Youtube/\u001b[0m\u001b[95mYoutube_Extract_transcript_from_video.ipynb\u001b[0m\n"
      ]
     },
     "metadata": {},
     "output_type": "display_data"
    },
    {
     "data": {
      "text/html": [
       "<pre style=\"white-space:pre;overflow-x:auto;line-height:normal;font-family:Menlo,'DejaVu Sans Mono',consolas,'Courier New',monospace\">..<span style=\"color: #800080; text-decoration-color: #800080\">/../Youtube/</span><span style=\"color: #ff00ff; text-decoration-color: #ff00ff\">Youtube_Get_statistics_from_channel.ipynb</span>\n",
       "</pre>\n"
      ],
      "text/plain": [
       "..\u001b[35m/../Youtube/\u001b[0m\u001b[95mYoutube_Get_statistics_from_channel.ipynb\u001b[0m\n"
      ]
     },
     "metadata": {},
     "output_type": "display_data"
    },
    {
     "data": {
      "text/html": [
       "<pre style=\"white-space:pre;overflow-x:auto;line-height:normal;font-family:Menlo,'DejaVu Sans Mono',consolas,'Courier New',monospace\">..<span style=\"color: #800080; text-decoration-color: #800080\">/../Youtube/</span><span style=\"color: #ff00ff; text-decoration-color: #ff00ff\">Youtube_Get_statistics_from_video.ipynb</span>\n",
       "</pre>\n"
      ],
      "text/plain": [
       "..\u001b[35m/../Youtube/\u001b[0m\u001b[95mYoutube_Get_statistics_from_video.ipynb\u001b[0m\n"
      ]
     },
     "metadata": {},
     "output_type": "display_data"
    },
    {
     "data": {
      "text/html": [
       "<pre style=\"white-space:pre;overflow-x:auto;line-height:normal;font-family:Menlo,'DejaVu Sans Mono',consolas,'Courier New',monospace\">..<span style=\"color: #800080; text-decoration-color: #800080\">/../Youtube/</span><span style=\"color: #ff00ff; text-decoration-color: #ff00ff\">Youtube_Get_uploads_from_channel.ipynb</span>\n",
       "</pre>\n"
      ],
      "text/plain": [
       "..\u001b[35m/../Youtube/\u001b[0m\u001b[95mYoutube_Get_uploads_from_channel.ipynb\u001b[0m\n"
      ]
     },
     "metadata": {},
     "output_type": "display_data"
    },
    {
     "data": {
      "text/html": [
       "<pre style=\"white-space:pre;overflow-x:auto;line-height:normal;font-family:Menlo,'DejaVu Sans Mono',consolas,'Courier New',monospace\">..<span style=\"color: #800080; text-decoration-color: #800080\">/../Youtube/</span><span style=\"color: #ff00ff; text-decoration-color: #ff00ff\">Youtube_Summarize_video.ipynb</span>\n",
       "</pre>\n"
      ],
      "text/plain": [
       "..\u001b[35m/../Youtube/\u001b[0m\u001b[95mYoutube_Summarize_video.ipynb\u001b[0m\n"
      ]
     },
     "metadata": {},
     "output_type": "display_data"
    },
    {
     "data": {
      "text/html": [
       "<pre style=\"white-space:pre;overflow-x:auto;line-height:normal;font-family:Menlo,'DejaVu Sans Mono',consolas,'Courier New',monospace\">..<span style=\"color: #800080; text-decoration-color: #800080\">/../ZIP/</span><span style=\"color: #ff00ff; text-decoration-color: #ff00ff\">ZIP_Extract_files.ipynb</span>\n",
       "</pre>\n"
      ],
      "text/plain": [
       "..\u001b[35m/../ZIP/\u001b[0m\u001b[95mZIP_Extract_files.ipynb\u001b[0m\n"
      ]
     },
     "metadata": {},
     "output_type": "display_data"
    },
    {
     "data": {
      "text/html": [
       "<pre style=\"white-space:pre;overflow-x:auto;line-height:normal;font-family:Menlo,'DejaVu Sans Mono',consolas,'Courier New',monospace\">..<span style=\"color: #800080; text-decoration-color: #800080\">/../Zapier/</span><span style=\"color: #ff00ff; text-decoration-color: #ff00ff\">Zapier_Trigger_workflow.ipynb</span>\n",
       "</pre>\n"
      ],
      "text/plain": [
       "..\u001b[35m/../Zapier/\u001b[0m\u001b[95mZapier_Trigger_workflow.ipynb\u001b[0m\n"
      ]
     },
     "metadata": {},
     "output_type": "display_data"
    },
    {
     "name": "stderr",
     "output_type": "stream",
     "text": [
      "[NbConvertApp] Converting notebook ../../AWS/AWS_Daily_biling_notification_to_slack.ipynb to markdown\n",
      "[NbConvertApp] Writing 4598 bytes to ../../AWS/AWS_Daily_biling_notification_to_slack.md\n",
      "[NbConvertApp] Converting notebook ../../AWS/AWS_Get_files_from_S3_bucket.ipynb to markdown\n",
      "[NbConvertApp] Writing 1152 bytes to ../../AWS/AWS_Get_files_from_S3_bucket.md\n",
      "[NbConvertApp] Converting notebook ../../AWS/AWS_Upload_file_to_S3_bucket.ipynb to markdown\n",
      "[NbConvertApp] Writing 1001 bytes to ../../AWS/AWS_Upload_file_to_S3_bucket.md\n",
      "[NbConvertApp] Converting notebook ../../Airtable/Airtable_Connect.ipynb to markdown\n",
      "[NbConvertApp] Writing 773 bytes to ../../Airtable/Airtable_Connect.md\n",
      "[NbConvertApp] Converting notebook ../../Airtable/Airtable_Delete_data.ipynb to markdown\n",
      "[NbConvertApp] Writing 852 bytes to ../../Airtable/Airtable_Delete_data.md\n",
      "[NbConvertApp] Converting notebook ../../Airtable/Airtable_Get_data.ipynb to markdown\n",
      "[NbConvertApp] Writing 967 bytes to ../../Airtable/Airtable_Get_data.md\n",
      "[NbConvertApp] Converting notebook ../../Airtable/Airtable_Insert_data.ipynb to markdown\n",
      "[NbConvertApp] Writing 932 bytes to ../../Airtable/Airtable_Insert_data.md\n",
      "[NbConvertApp] Converting notebook ../../Airtable/Airtable_Search_data.ipynb to markdown\n",
      "[NbConvertApp] Writing 928 bytes to ../../Airtable/Airtable_Search_data.md\n",
      "[NbConvertApp] Converting notebook ../../AlphaVantage/AlphaVantage_Get_fundamental_data.ipynb to markdown\n",
      "[NbConvertApp] Writing 1085 bytes to ../../AlphaVantage/AlphaVantage_Get_fundamental_data.md\n",
      "[NbConvertApp] Converting notebook ../../Boursorama/Boursorama_Get_CDS.ipynb to markdown\n",
      "[NbConvertApp] Writing 759 bytes to ../../Boursorama/Boursorama_Get_CDS.md\n",
      "[NbConvertApp] Converting notebook ../../Bubble/Bubble_Trigger_workflow.ipynb to markdown\n",
      "[NbConvertApp] Writing 722 bytes to ../../Bubble/Bubble_Trigger_workflow.md\n",
      "[NbConvertApp] Converting notebook ../../CCXT/CCXT_Calculate_Support_and_Resistance.ipynb to markdown\n",
      "[NbConvertApp] Writing 2086 bytes to ../../CCXT/CCXT_Calculate_Support_and_Resistance.md\n",
      "[NbConvertApp] Converting notebook ../../CCXT/CCXT_Predict_Bitcoin_from_Binance.ipynb to markdown\n",
      "[NbConvertApp] Writing 1759 bytes to ../../CCXT/CCXT_Predict_Bitcoin_from_Binance.md\n",
      "[NbConvertApp] Converting notebook ../../CSV/CSV_Read_file.ipynb to markdown\n",
      "[NbConvertApp] Writing 897 bytes to ../../CSV/CSV_Read_file.md\n",
      "[NbConvertApp] Converting notebook ../../CSV/CSV_Save_file.ipynb to markdown\n",
      "[NbConvertApp] Writing 1155 bytes to ../../CSV/CSV_Save_file.md\n",
      "[NbConvertApp] Converting notebook ../../Canny/Canny_Create.ipynb to markdown\n",
      "[NbConvertApp] Writing 2901 bytes to ../../Canny/Canny_Create.md\n",
      "[NbConvertApp] Converting notebook ../../Canny/Canny_Github_issue_update.ipynb to markdown\n",
      "[NbConvertApp] Writing 2927 bytes to ../../Canny/Canny_Github_issue_update.md\n",
      "[NbConvertApp] Converting notebook ../../Canny/Canny_Read.ipynb to markdown\n",
      "[NbConvertApp] Writing 2655 bytes to ../../Canny/Canny_Read.md\n",
      "[NbConvertApp] Converting notebook ../../Celestrak/Celestrak_Satellites_over_time.ipynb to markdown\n",
      "[NbConvertApp] Writing 3012 bytes to ../../Celestrak/Celestrak_Satellites_over_time.md\n",
      "[NbConvertApp] Converting notebook ../../Cityfalcon/Cityfalcon_Get_data_from_API.ipynb to markdown\n",
      "[NbConvertApp] Writing 596 bytes to ../../Cityfalcon/Cityfalcon_Get_data_from_API.md\n",
      "[NbConvertApp] Converting notebook ../../Data.gouv.fr/COVID19 -  FR - Entrées et sorties par région pour 1 million d'hab..ipynb to markdown\n",
      "[NbConvertApp] Writing 7685 bytes to ../../Data.gouv.fr/COVID19 -  FR - Entrées et sorties par région pour 1 million d'hab..md\n",
      "[NbConvertApp] Converting notebook ../../EM-DAT/EM-DAT_natural_disasters.ipynb to markdown\n",
      "[NbConvertApp] Writing 3246 bytes to ../../EM-DAT/EM-DAT_natural_disasters.md\n",
      "[NbConvertApp] Converting notebook ../../Elastic Search/Elastic Search_Connect_to_server.ipynb to markdown\n",
      "[NbConvertApp] Writing 2685 bytes to ../../Elastic Search/Elastic Search_Connect_to_server.md\n",
      "[NbConvertApp] Converting notebook ../../Excel 365/Access Excel 365 sheet.ipynb to markdown\n",
      "[NbConvertApp] Writing 1208 bytes to ../../Excel 365/Access Excel 365 sheet.md\n",
      "[NbConvertApp] Converting notebook ../../Excel/Excel_Consolidate_files.ipynb to markdown\n",
      "[NbConvertApp] Writing 1513 bytes to ../../Excel/Excel_Consolidate_files.md\n",
      "[NbConvertApp] Converting notebook ../../Excel/Excel_Read_file.ipynb to markdown\n",
      "[NbConvertApp] Writing 834 bytes to ../../Excel/Excel_Read_file.md\n",
      "[NbConvertApp] Converting notebook ../../Excel/Excel_Save_file.ipynb to markdown\n",
      "[NbConvertApp] Writing 1317 bytes to ../../Excel/Excel_Save_file.md\n",
      "[NbConvertApp] Converting notebook ../../FAO/FAO_Consumer_price_indice.ipynb to markdown\n",
      "[NbConvertApp] Writing 3123 bytes to ../../FAO/FAO_Consumer_price_indice.md\n",
      "[NbConvertApp] Converting notebook ../../FEC/FEC_Creer_un_dashboard_PowerBI.ipynb to markdown\n",
      "[NbConvertApp] Writing 26498 bytes to ../../FEC/FEC_Creer_un_dashboard_PowerBI.md\n",
      "[NbConvertApp] Converting notebook ../../FTP/FTPS_Connect.ipynb to markdown\n",
      "[NbConvertApp] Writing 627 bytes to ../../FTP/FTPS_Connect.md\n",
      "[NbConvertApp] Converting notebook ../../FTP/FTP_Connect.ipynb to markdown\n",
      "[NbConvertApp] Writing 623 bytes to ../../FTP/FTP_Connect.md\n",
      "[NbConvertApp] Converting notebook ../../FTP/FTP_Get_file.ipynb to markdown\n",
      "[NbConvertApp] Writing 541 bytes to ../../FTP/FTP_Get_file.md\n",
      "[NbConvertApp] Converting notebook ../../FTP/FTP_Send_file.ipynb to markdown\n",
      "[NbConvertApp] Writing 686 bytes to ../../FTP/FTP_Send_file.md\n",
      "[NbConvertApp] Converting notebook ../../Github/Github_Close_issue.ipynb to markdown\n",
      "[NbConvertApp] Writing 1383 bytes to ../../Github/Github_Close_issue.md\n",
      "[NbConvertApp] Converting notebook ../../Github/Github_Create_issue.ipynb to markdown\n",
      "[NbConvertApp] Writing 1247 bytes to ../../Github/Github_Create_issue.md\n",
      "[NbConvertApp] Converting notebook ../../Github/Github_Download_file_from_url.ipynb to markdown\n",
      "[NbConvertApp] Writing 1293 bytes to ../../Github/Github_Download_file_from_url.md\n",
      "[NbConvertApp] Converting notebook ../../Github/Github_Get_active_projects.ipynb to markdown\n",
      "[NbConvertApp] Writing 2618 bytes to ../../Github/Github_Get_active_projects.md\n",
      "[NbConvertApp] Converting notebook ../../Github/Github_Get_commits_ranking_from_repository.ipynb to markdown\n",
      "[NbConvertApp] Writing 3291 bytes to ../../Github/Github_Get_commits_ranking_from_repository.md\n",
      "[NbConvertApp] Converting notebook ../../Github/Github_Get_issues_from_repo.ipynb to markdown\n",
      "[NbConvertApp] Writing 4564 bytes to ../../Github/Github_Get_issues_from_repo.md\n",
      "[NbConvertApp] Converting notebook ../../Github/Github_Get_profile_from_user.ipynb to markdown\n",
      "[NbConvertApp] Writing 1553 bytes to ../../Github/Github_Get_profile_from_user.md\n",
      "[NbConvertApp] Converting notebook ../../Github/Github_Get_profiles_from_teams.ipynb to markdown\n",
      "[NbConvertApp] Writing 4528 bytes to ../../Github/Github_Get_profiles_from_teams.md\n",
      "[NbConvertApp] Converting notebook ../../Github/Github_Get_pull_requests_from_repository.ipynb to markdown\n",
      "[NbConvertApp] Writing 3872 bytes to ../../Github/Github_Get_pull_requests_from_repository.md\n",
      "[NbConvertApp] Converting notebook ../../Github/Github_Get_stargazers_from_repository.ipynb to markdown\n",
      "[NbConvertApp] Writing 3064 bytes to ../../Github/Github_Get_stargazers_from_repository.md\n",
      "[NbConvertApp] Converting notebook ../../Github/Github_Get_weekly_commits_from_repository.ipynb to markdown\n",
      "[NbConvertApp] Writing 3106 bytes to ../../Github/Github_Get_weekly_commits_from_repository.md\n",
      "[NbConvertApp] Converting notebook ../../Github/Github_Peform_basic_actions.ipynb to markdown\n",
      "[NbConvertApp] Writing 1381 bytes to ../../Github/Github_Peform_basic_actions.md\n",
      "[NbConvertApp] Converting notebook ../../Github/Github_Read_issue.ipynb to markdown\n",
      "[NbConvertApp] Writing 1115 bytes to ../../Github/Github_Read_issue.md\n",
      "[NbConvertApp] Converting notebook ../../Github/Github_Track_notebooks_created_over_time.ipynb to markdown\n",
      "[NbConvertApp] Writing 8122 bytes to ../../Github/Github_Track_notebooks_created_over_time.md\n",
      "[NbConvertApp] Converting notebook ../../Github/Github_Track_open_issues_roadmap.ipynb to markdown\n",
      "[NbConvertApp] Writing 11562 bytes to ../../Github/Github_Track_open_issues_roadmap.md\n",
      "[NbConvertApp] Converting notebook ../../Gmail/Gmail_Automate_response_from_keywords_in_mailbox.ipynb to markdown\n",
      "[NbConvertApp] Writing 1309 bytes to ../../Gmail/Gmail_Automate_response_from_keywords_in_mailbox.md\n",
      "[NbConvertApp] Converting notebook ../../Gmail/Gmail_Clean_mailbox.ipynb to markdown\n",
      "[NbConvertApp] Writing 2678 bytes to ../../Gmail/Gmail_Clean_mailbox.md\n",
      "[NbConvertApp] Converting notebook ../../Gmail/Gmail_Read_mailbox.ipynb to markdown\n",
      "[NbConvertApp] Writing 1125 bytes to ../../Gmail/Gmail_Read_mailbox.md\n",
      "[NbConvertApp] Converting notebook ../../Gmail/Gmail_Schedule_mailbox_cleaning.ipynb to markdown\n",
      "[NbConvertApp] Writing 2489 bytes to ../../Gmail/Gmail_Schedule_mailbox_cleaning.md\n",
      "[NbConvertApp] Converting notebook ../../Gmail/Gmail_Send_emails_from_Gsheet_classic.ipynb to markdown\n",
      "[NbConvertApp] Writing 1640 bytes to ../../Gmail/Gmail_Send_emails_from_Gsheet_classic.md\n",
      "[NbConvertApp] Converting notebook ../../Gmail/Gmail_Send_emails_from_Gsheet_specific.ipynb to markdown\n",
      "[NbConvertApp] Writing 1780 bytes to ../../Gmail/Gmail_Send_emails_from_Gsheet_specific.md\n",
      "[NbConvertApp] Converting notebook ../../Google Analytics/GoogleAnalytics_Get_bounce_rate.ipynb to markdown\n",
      "[NbConvertApp] Writing 1600 bytes to ../../Google Analytics/GoogleAnalytics_Get_bounce_rate.md\n",
      "[NbConvertApp] Converting notebook ../../Google Analytics/GoogleAnalytics_Get_pageview_ranking.ipynb to markdown\n",
      "[NbConvertApp] Writing 1694 bytes to ../../Google Analytics/GoogleAnalytics_Get_pageview_ranking.md\n",
      "[NbConvertApp] Converting notebook ../../Google Analytics/GoogleAnalytics_Get_stats_per_country.ipynb to markdown\n",
      "[NbConvertApp] Writing 2192 bytes to ../../Google Analytics/GoogleAnalytics_Get_stats_per_country.md\n",
      "[NbConvertApp] Converting notebook ../../Google Analytics/GoogleAnalytics_Get_time_on_landing_page.ipynb to markdown\n",
      "[NbConvertApp] Writing 2319 bytes to ../../Google Analytics/GoogleAnalytics_Get_time_on_landing_page.md\n",
      "[NbConvertApp] Converting notebook ../../Google Analytics/GoogleAnalytics_Get_unique_visitors.ipynb to markdown\n",
      "[NbConvertApp] Writing 1791 bytes to ../../Google Analytics/GoogleAnalytics_Get_unique_visitors.md\n",
      "[NbConvertApp] Converting notebook ../../Google Drive/Google_Drive_Download_file.ipynb to markdown\n",
      "[NbConvertApp] Writing 857 bytes to ../../Google Drive/Google_Drive_Download_file.md\n",
      "[NbConvertApp] Converting notebook ../../Google Search/Google_Search_Perform_search.ipynb to markdown\n",
      "[NbConvertApp] Writing 1497 bytes to ../../Google Search/Google_Search_Perform_search.md\n",
      "[NbConvertApp] Converting notebook ../../Google Sheets/Gsheets_Get_data.ipynb to markdown\n",
      "[NbConvertApp] Writing 946 bytes to ../../Google Sheets/Gsheets_Get_data.md\n",
      "[NbConvertApp] Converting notebook ../../Google Sheets/Gsheets_Send_data.ipynb to markdown\n",
      "[NbConvertApp] Writing 1075 bytes to ../../Google Sheets/Gsheets_Send_data.md\n",
      "[NbConvertApp] Converting notebook ../../Google Sheets/Gsheets_Send_emails_from_sheet.ipynb to markdown\n",
      "[NbConvertApp] Writing 1525 bytes to ../../Google Sheets/Gsheets_Send_emails_from_sheet.md\n",
      "[NbConvertApp] Converting notebook ../../HTML/HTML_Create_a_website.ipynb to markdown\n",
      "[NbConvertApp] Writing 1071 bytes to ../../HTML/HTML_Create_a_website.md\n",
      "[NbConvertApp] Converting notebook ../../Healthchecks/Healthcheks_Perfom_basic_actions.ipynb to markdown\n",
      "[NbConvertApp] Writing 847 bytes to ../../Healthchecks/Healthcheks_Perfom_basic_actions.md\n",
      "[NbConvertApp] Converting notebook ../../HubSpot/HubSpot_Associate_contact_to_deal.ipynb to markdown\n",
      "[NbConvertApp] Writing 1155 bytes to ../../HubSpot/HubSpot_Associate_contact_to_deal.md\n",
      "[NbConvertApp] Converting notebook ../../HubSpot/HubSpot_Create_contact.ipynb to markdown\n",
      "[NbConvertApp] Writing 1806 bytes to ../../HubSpot/HubSpot_Create_contact.md\n",
      "[NbConvertApp] Converting notebook ../../HubSpot/HubSpot_Create_contacts_from_linkedin_post_likes.ipynb to markdown\n",
      "[NbConvertApp] Writing 2877 bytes to ../../HubSpot/HubSpot_Create_contacts_from_linkedin_post_likes.md\n",
      "[NbConvertApp] Converting notebook ../../HubSpot/HubSpot_Create_deal.ipynb to markdown\n",
      "[NbConvertApp] Writing 1612 bytes to ../../HubSpot/HubSpot_Create_deal.md\n",
      "[NbConvertApp] Converting notebook ../../HubSpot/HubSpot_Delete_contact.ipynb to markdown\n",
      "[NbConvertApp] Writing 841 bytes to ../../HubSpot/HubSpot_Delete_contact.md\n",
      "[NbConvertApp] Converting notebook ../../HubSpot/HubSpot_Delete_deal.ipynb to markdown\n",
      "[NbConvertApp] Writing 824 bytes to ../../HubSpot/HubSpot_Delete_deal.md\n",
      "[NbConvertApp] Converting notebook ../../HubSpot/HubSpot_Get_all_contacts.ipynb to markdown\n",
      "[NbConvertApp] Writing 944 bytes to ../../HubSpot/HubSpot_Get_all_contacts.md\n",
      "[NbConvertApp] Converting notebook ../../HubSpot/HubSpot_Get_all_deals.ipynb to markdown\n",
      "[NbConvertApp] Writing 923 bytes to ../../HubSpot/HubSpot_Get_all_deals.md\n",
      "[NbConvertApp] Converting notebook ../../HubSpot/HubSpot_Get_all_pipelines_and_dealstages.ipynb to markdown\n",
      "[NbConvertApp] Writing 877 bytes to ../../HubSpot/HubSpot_Get_all_pipelines_and_dealstages.md\n",
      "[NbConvertApp] Converting notebook ../../HubSpot/HubSpot_Get_contact.ipynb to markdown\n",
      "[NbConvertApp] Writing 898 bytes to ../../HubSpot/HubSpot_Get_contact.md\n",
      "[NbConvertApp] Converting notebook ../../HubSpot/HubSpot_Get_contacts_associated_to_deal.ipynb to markdown\n",
      "[NbConvertApp] Writing 1041 bytes to ../../HubSpot/HubSpot_Get_contacts_associated_to_deal.md\n",
      "[NbConvertApp] Converting notebook ../../HubSpot/HubSpot_Get_deal.ipynb to markdown\n",
      "[NbConvertApp] Writing 873 bytes to ../../HubSpot/HubSpot_Get_deal.md\n",
      "[NbConvertApp] Converting notebook ../../HubSpot/HubSpot_Get_new_deals_created_weekly.ipynb to markdown\n",
      "[NbConvertApp] Writing 5985 bytes to ../../HubSpot/HubSpot_Get_new_deals_created_weekly.md\n",
      "[NbConvertApp] Converting notebook ../../HubSpot/HubSpot_Send_contacts_to_gsheet.ipynb to markdown\n",
      "[NbConvertApp] Writing 1399 bytes to ../../HubSpot/HubSpot_Send_contacts_to_gsheet.md\n",
      "[NbConvertApp] Converting notebook ../../HubSpot/HubSpot_Send_deals_to_gsheet.ipynb to markdown\n",
      "[NbConvertApp] Writing 1377 bytes to ../../HubSpot/HubSpot_Send_deals_to_gsheet.md\n",
      "[NbConvertApp] Converting notebook ../../HubSpot/HubSpot_Send_sales_brief.ipynb to markdown\n",
      "[NbConvertApp] Writing 10856 bytes to ../../HubSpot/HubSpot_Send_sales_brief.md\n",
      "[NbConvertApp] Converting notebook ../../HubSpot/HubSpot_Update_contact.ipynb to markdown\n",
      "[NbConvertApp] Writing 1926 bytes to ../../HubSpot/HubSpot_Update_contact.md\n",
      "[NbConvertApp] Converting notebook ../../HubSpot/HubSpot_Update_deal.ipynb to markdown\n",
      "[NbConvertApp] Writing 1617 bytes to ../../HubSpot/HubSpot_Update_deal.md\n",
      "[NbConvertApp] Converting notebook ../../HubSpot/HubSpot_Update_followers_from_linkedin.ipynb to markdown\n",
      "[NbConvertApp] Writing 3081 bytes to ../../HubSpot/HubSpot_Update_followers_from_linkedin.md\n",
      "[NbConvertApp] Converting notebook ../../HubSpot/HubSpot_Update_jobtitle_country_industry_from_linkedin.ipynb to markdown\n",
      "[NbConvertApp] Writing 3514 bytes to ../../HubSpot/HubSpot_Update_jobtitle_country_industry_from_linkedin.md\n",
      "[NbConvertApp] Converting notebook ../../HubSpot/HubSpot_Update_linkedinbio_from_google.ipynb to markdown\n",
      "[NbConvertApp] Writing 3228 bytes to ../../HubSpot/HubSpot_Update_linkedinbio_from_google.md\n",
      "[NbConvertApp] Converting notebook ../../Hugging Face/Hugging_Face_Ask_boolean_question_to_T5.ipynb to markdown\n",
      "[NbConvertApp] Writing 6819 bytes to ../../Hugging Face/Hugging_Face_Ask_boolean_question_to_T5.md\n",
      "[NbConvertApp] Converting notebook ../../Hugging Face/Hugging_Face_Naas_drivers_integration.ipynb to markdown\n",
      "[NbConvertApp] Writing 5230 bytes to ../../Hugging Face/Hugging_Face_Naas_drivers_integration.md\n",
      "[NbConvertApp] Converting notebook ../../IFTTT/IFTTT_Post_on_Twitter.ipynb to markdown\n",
      "[NbConvertApp] Writing 926 bytes to ../../IFTTT/IFTTT_Post_on_Twitter.md\n",
      "[NbConvertApp] Converting notebook ../../IFTTT/IFTTT_Trigger_workflow.ipynb to markdown\n",
      "[NbConvertApp] Writing 684 bytes to ../../IFTTT/IFTTT_Trigger_workflow.md\n",
      "[NbConvertApp] Converting notebook ../../IMDB/Top_IMDB_Movie.ipynb to markdown\n",
      "[NbConvertApp] Writing 2726 bytes to ../../IMDB/Top_IMDB_Movie.md\n",
      "[NbConvertApp] Converting notebook ../../IUCN/IUCN_Extinct_species.ipynb to markdown\n",
      "[NbConvertApp] Writing 4663 bytes to ../../IUCN/IUCN_Extinct_species.md\n",
      "[NbConvertApp] Converting notebook ../../Instagram/Instagram_Post_image_and_caption.ipynb to markdown\n",
      "[NbConvertApp] Writing 728 bytes to ../../Instagram/Instagram_Post_image_and_caption.md\n",
      "[NbConvertApp] Converting notebook ../../Integromat/Integromat_Trigger_workflow.ipynb to markdown\n",
      "[NbConvertApp] Writing 710 bytes to ../../Integromat/Integromat_Trigger_workflow.md\n",
      "[NbConvertApp] Converting notebook ../../Johns Hopkins/Johns_Hopkins_Covid19_Active_Cases.ipynb to markdown\n",
      "[NbConvertApp] Writing 9055 bytes to ../../Johns Hopkins/Johns_Hopkins_Covid19_Active_Cases.md\n",
      "[NbConvertApp] Converting notebook ../../Jupyter/Jupyter_Get_user_information.ipynb to markdown\n",
      "[NbConvertApp] Writing 623 bytes to ../../Jupyter/Jupyter_Get_user_information.md\n",
      "[NbConvertApp] Converting notebook ../../LinkedIn/LinkedIn+Notion_Update_metrics_in_content_calendar_from_posts.ipynb to markdown\n",
      "[NbConvertApp] Writing 14304 bytes to ../../LinkedIn/LinkedIn+Notion_Update_metrics_in_content_calendar_from_posts.md\n",
      "[NbConvertApp] Converting notebook ../../LinkedIn/LinkedIn_Get_comments_from_post.ipynb to markdown\n",
      "[NbConvertApp] Writing 1277 bytes to ../../LinkedIn/LinkedIn_Get_comments_from_post.md\n",
      "[NbConvertApp] Converting notebook ../../LinkedIn/LinkedIn_Get_connections_from_network.ipynb to markdown\n",
      "[NbConvertApp] Writing 1300 bytes to ../../LinkedIn/LinkedIn_Get_connections_from_network.md\n",
      "[NbConvertApp] Converting notebook ../../LinkedIn/LinkedIn_Get_contact_from_profile.ipynb to markdown\n",
      "[NbConvertApp] Writing 1270 bytes to ../../LinkedIn/LinkedIn_Get_contact_from_profile.md\n",
      "[NbConvertApp] Converting notebook ../../LinkedIn/LinkedIn_Get_conversations.ipynb to markdown\n",
      "[NbConvertApp] Writing 1301 bytes to ../../LinkedIn/LinkedIn_Get_conversations.md\n",
      "[NbConvertApp] Converting notebook ../../LinkedIn/LinkedIn_Get_followers_from_network.ipynb to markdown\n",
      "[NbConvertApp] Writing 1315 bytes to ../../LinkedIn/LinkedIn_Get_followers_from_network.md\n",
      "[NbConvertApp] Converting notebook ../../LinkedIn/LinkedIn_Get_guests_from_event.ipynb to markdown\n",
      "[NbConvertApp] Writing 1436 bytes to ../../LinkedIn/LinkedIn_Get_guests_from_event.md\n",
      "[NbConvertApp] Converting notebook ../../LinkedIn/LinkedIn_Get_identity_from_profile.ipynb to markdown\n",
      "[NbConvertApp] Writing 1310 bytes to ../../LinkedIn/LinkedIn_Get_identity_from_profile.md\n",
      "[NbConvertApp] Converting notebook ../../LinkedIn/LinkedIn_Get_likes_from_post.ipynb to markdown\n",
      "[NbConvertApp] Writing 1237 bytes to ../../LinkedIn/LinkedIn_Get_likes_from_post.md\n",
      "[NbConvertApp] Converting notebook ../../LinkedIn/LinkedIn_Get_messages_from_profile.ipynb to markdown\n",
      "[NbConvertApp] Writing 1226 bytes to ../../LinkedIn/LinkedIn_Get_messages_from_profile.md\n",
      "[NbConvertApp] Converting notebook ../../LinkedIn/LinkedIn_Get_network_from_profile.ipynb to markdown\n",
      "[NbConvertApp] Writing 1258 bytes to ../../LinkedIn/LinkedIn_Get_network_from_profile.md\n",
      "[NbConvertApp] Converting notebook ../../LinkedIn/LinkedIn_Get_polls_from_post.ipynb to markdown\n",
      "[NbConvertApp] Writing 2620 bytes to ../../LinkedIn/LinkedIn_Get_polls_from_post.md\n",
      "[NbConvertApp] Converting notebook ../../LinkedIn/LinkedIn_Get_posts_feed_from_profile.ipynb to markdown\n",
      "[NbConvertApp] Writing 1085 bytes to ../../LinkedIn/LinkedIn_Get_posts_feed_from_profile.md\n",
      "[NbConvertApp] Converting notebook ../../LinkedIn/LinkedIn_Get_posts_stats_from_profile.ipynb to markdown\n",
      "[NbConvertApp] Writing 1164 bytes to ../../LinkedIn/LinkedIn_Get_posts_stats_from_profile.md\n",
      "[NbConvertApp] Converting notebook ../../LinkedIn/LinkedIn_Get_resume_from_profile.ipynb to markdown\n",
      "[NbConvertApp] Writing 1215 bytes to ../../LinkedIn/LinkedIn_Get_resume_from_profile.md\n",
      "[NbConvertApp] Converting notebook ../../LinkedIn/LinkedIn_Get_stats_from_post.ipynb to markdown\n",
      "[NbConvertApp] Writing 1030 bytes to ../../LinkedIn/LinkedIn_Get_stats_from_post.md\n",
      "[NbConvertApp] Converting notebook ../../LinkedIn/LinkedIn_Send_comments_from_post_in_gsheet.ipynb to markdown\n",
      "[NbConvertApp] Writing 3966 bytes to ../../LinkedIn/LinkedIn_Send_comments_from_post_in_gsheet.md\n",
      "[NbConvertApp] Converting notebook ../../LinkedIn/LinkedIn_Send_invitation_to_profile.ipynb to markdown\n",
      "[NbConvertApp] Writing 1195 bytes to ../../LinkedIn/LinkedIn_Send_invitation_to_profile.md\n",
      "[NbConvertApp] Converting notebook ../../LinkedIn/LinkedIn_Send_likes_from_post_in_gsheet.ipynb to markdown\n",
      "[NbConvertApp] Writing 3936 bytes to ../../LinkedIn/LinkedIn_Send_likes_from_post_in_gsheet.md\n",
      "[NbConvertApp] Converting notebook ../../LinkedIn/LinkedIn_Send_message_to_profile.ipynb to markdown\n",
      "[NbConvertApp] Writing 1169 bytes to ../../LinkedIn/LinkedIn_Send_message_to_profile.md\n",
      "[NbConvertApp] Converting notebook ../../LinkedIn/Linkedin_Get_info_from_company.ipynb to markdown\n",
      "[NbConvertApp] Writing 1407 bytes to ../../LinkedIn/Linkedin_Get_info_from_company.md\n",
      "[NbConvertApp] Converting notebook ../../Metrics Store/Content_creation_Track_connections.ipynb to markdown\n",
      "[NbConvertApp] Writing 2958 bytes to ../../Metrics Store/Content_creation_Track_connections.md\n",
      "[NbConvertApp] Converting notebook ../../Metrics Store/Metrics_Store_Template.ipynb to markdown\n",
      "[NbConvertApp] Writing 625 bytes to ../../Metrics Store/Metrics_Store_Template.md\n",
      "[NbConvertApp] Converting notebook ../../Microsoft Teams/Microsoft Teams_Send_message.ipynb to markdown\n",
      "[NbConvertApp] Writing 1010 bytes to ../../Microsoft Teams/Microsoft Teams_Send_message.md\n",
      "[NbConvertApp] Converting notebook ../../Microsoft Word/Microsoft_Word_Convert_to_HMTL.ipynb to markdown\n",
      "[NbConvertApp] Writing 761 bytes to ../../Microsoft Word/Microsoft_Word_Convert_to_HMTL.md\n",
      "[NbConvertApp] Converting notebook ../../MongoDB/MongoDB_Get_data.ipynb to markdown\n",
      "[NbConvertApp] Writing 695 bytes to ../../MongoDB/MongoDB_Get_data.md\n",
      "[NbConvertApp] Converting notebook ../../MongoDB/MongoDB_Send_data.ipynb to markdown\n",
      "[NbConvertApp] Writing 696 bytes to ../../MongoDB/MongoDB_Send_data.md\n",
      "[NbConvertApp] Converting notebook ../../MySQL/MySQL_Query_database.ipynb to markdown\n",
      "[NbConvertApp] Writing 1116 bytes to ../../MySQL/MySQL_Query_database.md\n",
      "[NbConvertApp] Converting notebook ../../NASA/NASA_Artic_sea_ice.ipynb to markdown\n",
      "[NbConvertApp] Writing 879 bytes to ../../NASA/NASA_Artic_sea_ice.md\n",
      "[NbConvertApp] Converting notebook ../../NASA/NASA_Global_temperature.ipynb to markdown\n",
      "[NbConvertApp] Writing 3941 bytes to ../../NASA/NASA_Global_temperature.md\n",
      "[NbConvertApp] Converting notebook ../../NASA/NASA_Sea_level.ipynb to markdown\n",
      "[NbConvertApp] Writing 3216 bytes to ../../NASA/NASA_Sea_level.md\n",
      "[NbConvertApp] Converting notebook ../../NASA/NASA_indicate_sealevel.ipynb to markdown\n",
      "[NbConvertApp] Writing 17084 bytes to ../../NASA/NASA_indicate_sealevel.md\n",
      "[NbConvertApp] Converting notebook ../../NASA/Sea-level-indicator.ipynb to markdown\n",
      "[NbConvertApp] Writing 16660 bytes to ../../NASA/Sea-level-indicator.md\n",
      "[NbConvertApp] Converting notebook ../../Naas Auth/Naas_Auth_bearer_validate.ipynb to markdown\n",
      "[NbConvertApp] Writing 605 bytes to ../../Naas Auth/Naas_Auth_bearer_validate.md\n",
      "[NbConvertApp] Converting notebook ../../Naas Auth/Naas_Auth_connect.ipynb to markdown\n",
      "[NbConvertApp] Writing 966 bytes to ../../Naas Auth/Naas_Auth_connect.md\n",
      "[NbConvertApp] Converting notebook ../../Naas Auth/Naas_Auth_users_me.ipynb to markdown\n",
      "[NbConvertApp] Writing 573 bytes to ../../Naas Auth/Naas_Auth_users_me.md\n",
      "[NbConvertApp] Converting notebook ../../Naas/Naas_Asset_demo.ipynb to markdown\n",
      "[NbConvertApp] Writing 690 bytes to ../../Naas/Naas_Asset_demo.md\n",
      "[NbConvertApp] Converting notebook ../../Naas/Naas_Credits_Get_Balance.ipynb to markdown\n",
      "[NbConvertApp] Writing 522 bytes to ../../Naas/Naas_Credits_Get_Balance.md\n",
      "[NbConvertApp] Converting notebook ../../Naas/Naas_Dependency_demo.ipynb to markdown\n",
      "[NbConvertApp] Writing 597 bytes to ../../Naas/Naas_Dependency_demo.md\n",
      "[NbConvertApp] Converting notebook ../../Naas/Naas_Doc_demo.ipynb to markdown\n",
      "[NbConvertApp] Writing 397 bytes to ../../Naas/Naas_Doc_demo.md\n",
      "[NbConvertApp] Converting notebook ../../Naas/Naas_Domain_demo.ipynb to markdown\n",
      "[NbConvertApp] Writing 319 bytes to ../../Naas/Naas_Domain_demo.md\n",
      "[NbConvertApp] Converting notebook ../../Naas/Naas_Emailbuilder_demo.ipynb to markdown\n",
      "[NbConvertApp] Writing 2344 bytes to ../../Naas/Naas_Emailbuilder_demo.md\n",
      "[NbConvertApp] Converting notebook ../../Naas/Naas_Get_Transactions.ipynb to markdown\n",
      "[NbConvertApp] Writing 644 bytes to ../../Naas/Naas_Get_Transactions.md\n",
      "[NbConvertApp] Converting notebook ../../Naas/Naas_Get_help.ipynb to markdown\n",
      "[NbConvertApp] Writing 474 bytes to ../../Naas/Naas_Get_help.md\n",
      "[NbConvertApp] Converting notebook ../../Naas/Naas_NLP_Examples.ipynb to markdown\n",
      "[NbConvertApp] Writing 4510 bytes to ../../Naas/Naas_NLP_Examples.md\n",
      "[NbConvertApp] Converting notebook ../../Naas/Naas_Notification_demo.ipynb to markdown\n",
      "[NbConvertApp] Writing 947 bytes to ../../Naas/Naas_Notification_demo.md\n",
      "[NbConvertApp] Converting notebook ../../Naas/Naas_Scheduler_demo.ipynb to markdown\n",
      "[NbConvertApp] Writing 1081 bytes to ../../Naas/Naas_Scheduler_demo.md\n",
      "[NbConvertApp] Converting notebook ../../Naas/Naas_Secret_demo.ipynb to markdown\n",
      "[NbConvertApp] Writing 628 bytes to ../../Naas/Naas_Secret_demo.md\n",
      "[NbConvertApp] Converting notebook ../../Naas/Naas_Set_timezone.ipynb to markdown\n",
      "[NbConvertApp] Writing 690 bytes to ../../Naas/Naas_Set_timezone.md\n",
      "[NbConvertApp] Converting notebook ../../Naas/Naas_Webhook_demo.ipynb to markdown\n",
      "[NbConvertApp] Writing 2760 bytes to ../../Naas/Naas_Webhook_demo.md\n",
      "[NbConvertApp] Converting notebook ../../Neo/Neo_Get_currencies_live_prices.ipynb to markdown\n",
      "[NbConvertApp] Writing 1943 bytes to ../../Neo/Neo_Get_currencies_live_prices.md\n",
      "[NbConvertApp] Converting notebook ../../Newsapi/Newsapi_Get_data.ipynb to markdown\n",
      "[NbConvertApp] Writing 573 bytes to ../../Newsapi/Newsapi_Get_data.md\n",
      "[NbConvertApp] Converting notebook ../../Newsapi/Newsapi_Run_sentiment_analysis.ipynb to markdown\n",
      "[NbConvertApp] Writing 773 bytes to ../../Newsapi/Newsapi_Run_sentiment_analysis.md\n",
      "[NbConvertApp] Converting notebook ../../Newsapi/Newsapi_Send_emails_briefs.ipynb to markdown\n",
      "[NbConvertApp] Writing 1891 bytes to ../../Newsapi/Newsapi_Send_emails_briefs.md\n",
      "[NbConvertApp] Converting notebook ../../Notion/Notion_Create_page.ipynb to markdown\n",
      "[NbConvertApp] Writing 919 bytes to ../../Notion/Notion_Create_page.md\n",
      "[NbConvertApp] Converting notebook ../../Notion/Notion_Explore_API.ipynb to markdown\n",
      "[NbConvertApp] Writing 9286 bytes to ../../Notion/Notion_Explore_API.md\n",
      "[NbConvertApp] Converting notebook ../../Notion/Notion_Get_database.ipynb to markdown\n",
      "[NbConvertApp] Writing 868 bytes to ../../Notion/Notion_Get_database.md\n",
      "[NbConvertApp] Converting notebook ../../Notion/Notion_Get_users.ipynb to markdown\n",
      "[NbConvertApp] Writing 759 bytes to ../../Notion/Notion_Get_users.md\n",
      "[NbConvertApp] Converting notebook ../../Notion/Notion_Push_data_from_Gsheets.ipynb to markdown\n",
      "[NbConvertApp] Writing 2958 bytes to ../../Notion/Notion_Push_data_from_Gsheets.md\n",
      "[NbConvertApp] Converting notebook ../../Notion/Notion_Scheduled_Updates_from_Gsheets.ipynb to markdown\n",
      "[NbConvertApp] Writing 3637 bytes to ../../Notion/Notion_Scheduled_Updates_from_Gsheets.md\n",
      "[NbConvertApp] Converting notebook ../../Notion/Notion_Sent_Gmail_On_New_Item.ipynb to markdown\n",
      "[NbConvertApp] Writing 3841 bytes to ../../Notion/Notion_Sent_Gmail_On_New_Item.md\n",
      "[NbConvertApp] Converting notebook ../../Notion/Notion_Update_page.ipynb to markdown\n",
      "[NbConvertApp] Writing 2148 bytes to ../../Notion/Notion_Update_page.md\n",
      "[NbConvertApp] Converting notebook ../../Notion/Notion_Update_pages_from_database.ipynb to markdown\n",
      "[NbConvertApp] Writing 1468 bytes to ../../Notion/Notion_Update_pages_from_database.md\n",
      "[NbConvertApp] Converting notebook ../../OpenWeatherMap/OpenWeatherMap_Get_City_Weather.ipynb to markdown\n",
      "[NbConvertApp] Writing 754 bytes to ../../OpenWeatherMap/OpenWeatherMap_Get_City_Weather.md\n",
      "[NbConvertApp] Converting notebook ../../OwnCloud/OwnCloud_Download_file.ipynb to markdown\n",
      "[NbConvertApp] Writing 726 bytes to ../../OwnCloud/OwnCloud_Download_file.md\n",
      "[NbConvertApp] Converting notebook ../../OwnCloud/OwnCloud_Upload_file.ipynb to markdown\n",
      "[NbConvertApp] Writing 1012 bytes to ../../OwnCloud/OwnCloud_Upload_file.md\n",
      "[NbConvertApp] Converting notebook ../../PDF/PDF_Transform_to_MP3.ipynb to markdown\n",
      "[NbConvertApp] Writing 2351 bytes to ../../PDF/PDF_Transform_to_MP3.md\n",
      "[NbConvertApp] Converting notebook ../../Pandas/Pandas_Create_Pivot_Table.ipynb to markdown\n",
      "[NbConvertApp] Writing 868 bytes to ../../Pandas/Pandas_Create_Pivot_Table.md\n",
      "[NbConvertApp] Converting notebook ../../Pandas/Pandas_ISO_Date_Conversion.ipynb to markdown\n",
      "[NbConvertApp] Writing 1243 bytes to ../../Pandas/Pandas_ISO_Date_Conversion.md\n",
      "[NbConvertApp] Converting notebook ../../Pandas/Pandas_Merge_Dataframes.ipynb to markdown\n",
      "[NbConvertApp] Writing 3860 bytes to ../../Pandas/Pandas_Merge_Dataframes.md\n",
      "[NbConvertApp] Converting notebook ../../Pipedrive/Pipedrive_Get_contact.ipynb to markdown\n",
      "[NbConvertApp] Writing 1825 bytes to ../../Pipedrive/Pipedrive_Get_contact.md\n",
      "[NbConvertApp] Converting notebook ../../Plaid/Plaid_Get_accounts.ipynb to markdown\n",
      "[NbConvertApp] Writing 3119 bytes to ../../Plaid/Plaid_Get_accounts.md\n",
      "[NbConvertApp] Converting notebook ../../Plaid/Plaid_Get_transactions.ipynb to markdown\n",
      "[NbConvertApp] Writing 3652 bytes to ../../Plaid/Plaid_Get_transactions.md\n",
      "[NbConvertApp] Converting notebook ../../Plotly/Create Bubble chart.ipynb to markdown\n",
      "[NbConvertApp] Writing 770 bytes to ../../Plotly/Create Bubble chart.md\n",
      "[NbConvertApp] Converting notebook ../../Plotly/Create Candlestick chart.ipynb to markdown\n",
      "[NbConvertApp] Writing 893 bytes to ../../Plotly/Create Candlestick chart.md\n",
      "[NbConvertApp] Converting notebook ../../Plotly/Create Gantt chart.ipynb to markdown\n",
      "[NbConvertApp] Writing 958 bytes to ../../Plotly/Create Gantt chart.md\n",
      "[NbConvertApp] Converting notebook ../../Plotly/Create Horizontal Bar Chart (Basic).ipynb to markdown\n",
      "[NbConvertApp] Writing 748 bytes to ../../Plotly/Create Horizontal Bar Chart (Basic).md\n",
      "[NbConvertApp] Converting notebook ../../Plotly/Create Line Chart (Basic).ipynb to markdown\n",
      "[NbConvertApp] Writing 701 bytes to ../../Plotly/Create Line Chart (Basic).md\n",
      "[NbConvertApp] Converting notebook ../../Plotly/Create Waterfall chart (Advanced).ipynb to markdown\n",
      "[NbConvertApp] Writing 2861 bytes to ../../Plotly/Create Waterfall chart (Advanced).md\n",
      "[NbConvertApp] Converting notebook ../../Plotly/Create Waterfall chart (Basic).ipynb to markdown\n",
      "[NbConvertApp] Writing 1099 bytes to ../../Plotly/Create Waterfall chart (Basic).md\n",
      "[NbConvertApp] Converting notebook ../../Plotly/Plotly_Bubblechart.ipynb to markdown\n",
      "[NbConvertApp] Writing 1763 bytes to ../../Plotly/Plotly_Bubblechart.md\n",
      "[NbConvertApp] Converting notebook ../../Plotly/Plotly_Candlestick.ipynb to markdown\n",
      "[NbConvertApp] Writing 1286 bytes to ../../Plotly/Plotly_Candlestick.md\n",
      "[NbConvertApp] Converting notebook ../../Plotly/Plotly_Create_Linechart.ipynb to markdown\n",
      "[NbConvertApp] Writing 1362 bytes to ../../Plotly/Plotly_Create_Linechart.md\n",
      "[NbConvertApp] Converting notebook ../../Plotly/Plotly_Heatmap.ipynb to markdown\n",
      "[NbConvertApp] Writing 2574 bytes to ../../Plotly/Plotly_Heatmap.md\n",
      "[NbConvertApp] Converting notebook ../../Plotly/Plotly_Mapchart_world.ipynb to markdown\n",
      "[NbConvertApp] Writing 1604 bytes to ../../Plotly/Plotly_Mapchart_world.md\n",
      "[NbConvertApp] Converting notebook ../../Plotly/Plotly_Vertical_Barchart_stacked.ipynb to markdown\n",
      "[NbConvertApp] Writing 1852 bytes to ../../Plotly/Plotly_Vertical_Barchart_stacked.md\n",
      "[NbConvertApp] Converting notebook ../../Plotly/Plotly_Waterfall_chart_simple.ipynb to markdown\n",
      "[NbConvertApp] Writing 1918 bytes to ../../Plotly/Plotly_Waterfall_chart_simple.md\n",
      "[NbConvertApp] Converting notebook ../../Python/Python_Consolidate_Excel_files.ipynb to markdown\n",
      "[NbConvertApp] Writing 1147 bytes to ../../Python/Python_Consolidate_Excel_files.md\n",
      "[NbConvertApp] Converting notebook ../../Python/Python_Looping_Over_Dataframe.ipynb to markdown\n",
      "[NbConvertApp] Writing 1377 bytes to ../../Python/Python_Looping_Over_Dataframe.md\n",
      "[NbConvertApp] Converting notebook ../../Qonto/Qonto_Get_cash_position_trend.ipynb to markdown\n",
      "[NbConvertApp] Writing 3996 bytes to ../../Qonto/Qonto_Get_cash_position_trend.md\n",
      "[NbConvertApp] Converting notebook ../../Qonto/Qonto_Get_organizations.ipynb to markdown\n",
      "[NbConvertApp] Writing 952 bytes to ../../Qonto/Qonto_Get_organizations.md\n",
      "[NbConvertApp] Converting notebook ../../Qonto/Qonto_Get_positions.ipynb to markdown\n",
      "[NbConvertApp] Writing 937 bytes to ../../Qonto/Qonto_Get_positions.md\n",
      "[NbConvertApp] Converting notebook ../../Qonto/Qonto_Get_statement.ipynb to markdown\n",
      "[NbConvertApp] Writing 1269 bytes to ../../Qonto/Qonto_Get_statement.md\n",
      "[NbConvertApp] Converting notebook ../../Qonto/Qonto_Get_statement_barline.ipynb to markdown\n",
      "[NbConvertApp] Writing 2463 bytes to ../../Qonto/Qonto_Get_statement_barline.md\n",
      "[NbConvertApp] Converting notebook ../../Qonto/Qonto_Get_statement_ranking_by_category.ipynb to markdown\n",
      "[NbConvertApp] Writing 1259 bytes to ../../Qonto/Qonto_Get_statement_ranking_by_category.md\n",
      "[NbConvertApp] Converting notebook ../../Qonto/Qonto_Get_statement_summary_by_operation_type.ipynb to markdown\n",
      "[NbConvertApp] Writing 1271 bytes to ../../Qonto/Qonto_Get_statement_summary_by_operation_type.md\n",
      "[NbConvertApp] Converting notebook ../../Qonto/Qonto_Get_transactions.ipynb to markdown\n",
      "[NbConvertApp] Writing 1288 bytes to ../../Qonto/Qonto_Get_transactions.md\n",
      "[NbConvertApp] Converting notebook ../../Qonto/Qonto_Releve_de_compte_augmente.ipynb to markdown\n",
      "[NbConvertApp] Writing 6452 bytes to ../../Qonto/Qonto_Releve_de_compte_augmente.md\n",
      "[NbConvertApp] Converting notebook ../../Quandl/Quandl_Get_data_from_API.ipynb to markdown\n",
      "[NbConvertApp] Writing 667 bytes to ../../Quandl/Quandl_Get_data_from_API.md\n",
      "[NbConvertApp] Converting notebook ../../Quandl/Quandl_Get_data_from_CSV.ipynb to markdown\n",
      "[NbConvertApp] Writing 696 bytes to ../../Quandl/Quandl_Get_data_from_CSV.md\n",
      "[NbConvertApp] Converting notebook ../../Reddit/Reddit_Get_Hot_Posts_From_Subreddit.ipynb to markdown\n",
      "[NbConvertApp] Writing 2280 bytes to ../../Reddit/Reddit_Get_Hot_Posts_From_Subreddit.md\n",
      "[NbConvertApp] Converting notebook ../../Redshift/Redshift_Connect_with_SQL_Magic_and_IAM_Credentials.ipynb to markdown\n",
      "[NbConvertApp] Writing 3133 bytes to ../../Redshift/Redshift_Connect_with_SQL_Magic_and_IAM_Credentials.md\n",
      "[NbConvertApp] Converting notebook ../../Remotive/Remotive_Get_categories_from_job.ipynb to markdown\n",
      "[NbConvertApp] Writing 961 bytes to ../../Remotive/Remotive_Get_categories_from_job.md\n",
      "[NbConvertApp] Converting notebook ../../Remotive/Remotive_Get_jobs_from_categories.ipynb to markdown\n",
      "[NbConvertApp] Writing 3457 bytes to ../../Remotive/Remotive_Get_jobs_from_categories.md\n",
      "[NbConvertApp] Converting notebook ../../Remotive/Remotive_Post_daily_jobs_on_slack.ipynb to markdown\n",
      "[NbConvertApp] Writing 4708 bytes to ../../Remotive/Remotive_Post_daily_jobs_on_slack.md\n",
      "[NbConvertApp] Converting notebook ../../Remotive/Remotive_Send_jobs_to_gsheet.ipynb to markdown\n",
      "[NbConvertApp] Writing 4436 bytes to ../../Remotive/Remotive_Send_jobs_to_gsheet.md\n",
      "[NbConvertApp] Converting notebook ../../SAP-HANA/SAP-HANA_Query_data.ipynb to markdown\n",
      "[NbConvertApp] Writing 742 bytes to ../../SAP-HANA/SAP-HANA_Query_data.md\n",
      "[NbConvertApp] Converting notebook ../../Slack/Slack_Send_message.ipynb to markdown\n",
      "[NbConvertApp] Writing 881 bytes to ../../Slack/Slack_Send_message.md\n",
      "[NbConvertApp] Converting notebook ../../Snowflake/Snowflake_Create_table_from_csv.ipynb to markdown\n",
      "[NbConvertApp] Writing 2160 bytes to ../../Snowflake/Snowflake_Create_table_from_csv.md\n",
      "[NbConvertApp] Converting notebook ../../Snowflake/Snowflake_Delete_table.ipynb to markdown\n",
      "[NbConvertApp] Writing 1691 bytes to ../../Snowflake/Snowflake_Delete_table.md\n",
      "[NbConvertApp] Converting notebook ../../Snowflake/Snowflake_Read_Table.ipynb to markdown\n",
      "[NbConvertApp] Writing 1977 bytes to ../../Snowflake/Snowflake_Read_Table.md\n",
      "[NbConvertApp] Converting notebook ../../Snowflake/Snowflake_Update_table.ipynb to markdown\n",
      "[NbConvertApp] Writing 1526 bytes to ../../Snowflake/Snowflake_Update_table.md\n",
      "[NbConvertApp] Converting notebook ../../Societe.com/get_company_details.ipynb to markdown\n",
      "[NbConvertApp] Writing 255 bytes to ../../Societe.com/get_company_details.md\n",
      "[NbConvertApp] Converting notebook ../../Societe.com/get_societe.ninja.ipynb to markdown\n",
      "[NbConvertApp] Writing 660 bytes to ../../Societe.com/get_societe.ninja.md\n",
      "[NbConvertApp] Converting notebook ../../Societe.com/get_verif.com.ipynb to markdown\n",
      "[NbConvertApp] Writing 626 bytes to ../../Societe.com/get_verif.com.md\n",
      "[NbConvertApp] Converting notebook ../../Spotify/Spotify_Create_Radar_Chart_to_analyze_Playlist.ipynb to markdown\n",
      "[NbConvertApp] Writing 3801 bytes to ../../Spotify/Spotify_Create_Radar_Chart_to_analyze_Playlist.md\n",
      "[NbConvertApp] Converting notebook ../../Streamlit/Streamlit_Create_prediction_app.ipynb to markdown\n",
      "[NbConvertApp] Writing 1119 bytes to ../../Streamlit/Streamlit_Create_prediction_app.md\n",
      "[NbConvertApp] Converting notebook ../../Stripe/Stripe_Get_balances.ipynb to markdown\n",
      "[NbConvertApp] Writing 736 bytes to ../../Stripe/Stripe_Get_balances.md\n",
      "[NbConvertApp] Converting notebook ../../Stripe/Stripe_Get_charges.ipynb to markdown\n",
      "[NbConvertApp] Writing 706 bytes to ../../Stripe/Stripe_Get_charges.md\n",
      "[NbConvertApp] Converting notebook ../../Stripe/Stripe_Get_customers.ipynb to markdown\n",
      "[NbConvertApp] Writing 730 bytes to ../../Stripe/Stripe_Get_customers.md\n",
      "[NbConvertApp] Converting notebook ../../Telegram/Telegram_Create_crypto_sentiment_bot.ipynb to markdown\n",
      "[NbConvertApp] Writing 3947 bytes to ../../Telegram/Telegram_Create_crypto_sentiment_bot.md\n",
      "[NbConvertApp] Converting notebook ../../Thinkific/Thinkific_Get_users.ipynb to markdown\n",
      "[NbConvertApp] Writing 735 bytes to ../../Thinkific/Thinkific_Get_users.md\n",
      "[NbConvertApp] Converting notebook ../../Thinkific/Thinkific_Send_users.ipynb to markdown\n",
      "[NbConvertApp] Writing 629 bytes to ../../Thinkific/Thinkific_Send_users.md\n",
      "[NbConvertApp] Converting notebook ../../Trello/Trello_Get_board_data.ipynb to markdown\n",
      "[NbConvertApp] Writing 749 bytes to ../../Trello/Trello_Get_board_data.md\n",
      "[NbConvertApp] Converting notebook ../../Twitter/Twitter_Get_tweets_from_search.ipynb to markdown\n",
      "[NbConvertApp] Writing 2463 bytes to ../../Twitter/Twitter_Get_tweets_from_search.md\n",
      "[NbConvertApp] Converting notebook ../../Twitter/Twitter_Get_tweets_stats_from_profile.ipynb to markdown\n",
      "[NbConvertApp] Writing 1918 bytes to ../../Twitter/Twitter_Get_tweets_stats_from_profile.md\n",
      "[NbConvertApp] Converting notebook ../../Twitter/Twitter_Get_user_data.ipynb to markdown\n",
      "[NbConvertApp] Writing 1949 bytes to ../../Twitter/Twitter_Get_user_data.md\n",
      "[NbConvertApp] Converting notebook ../../Twitter/Twitter_Post_text_and_image.ipynb to markdown\n",
      "[NbConvertApp] Writing 1313 bytes to ../../Twitter/Twitter_Post_text_and_image.md\n",
      "[NbConvertApp] Converting notebook ../../Twitter/Twitter_Schedule_posts.ipynb to markdown\n",
      "[NbConvertApp] Writing 1280 bytes to ../../Twitter/Twitter_Schedule_posts.md\n",
      "[NbConvertApp] Converting notebook ../../WHI/WHI.ipynb to markdown\n",
      "[NbConvertApp] Writing 1762 bytes to ../../WHI/WHI.md\n",
      "[NbConvertApp] Converting notebook ../../WSR/John_Hopkins_Active_covid_cases_worldmap.ipynb to markdown\n",
      "[NbConvertApp] Writing 5608 bytes to ../../WSR/John_Hopkins_Active_covid_cases_worldmap.md\n",
      "[NbConvertApp] Converting notebook ../../WorldBank/WorldBank_GDP_contributors.ipynb to markdown\n",
      "[NbConvertApp] Writing 5600 bytes to ../../WorldBank/WorldBank_GDP_contributors.md\n",
      "[NbConvertApp] Converting notebook ../../WorldBank/WorldBank_GDP_per_capita_and_growth.ipynb to markdown\n",
      "[NbConvertApp] Writing 4131 bytes to ../../WorldBank/WorldBank_GDP_per_capita_and_growth.md\n",
      "[NbConvertApp] Converting notebook ../../WorldBank/WorldBank_GDP_per_country_and_evolution.ipynb to markdown\n",
      "[NbConvertApp] Writing 4480 bytes to ../../WorldBank/WorldBank_GDP_per_country_and_evolution.md\n",
      "[NbConvertApp] Converting notebook ../../WorldBank/WorldBank_Gini_index.ipynb to markdown\n",
      "[NbConvertApp] Writing 2956 bytes to ../../WorldBank/WorldBank_Gini_index.md\n",
      "[NbConvertApp] Converting notebook ../../WorldBank/WorldBank_Most_populated_countries.ipynb to markdown\n",
      "[NbConvertApp] Writing 2961 bytes to ../../WorldBank/WorldBank_Most_populated_countries.md\n",
      "[NbConvertApp] Converting notebook ../../WorldBank/WorldBank_Richest_countries_top10.ipynb to markdown\n",
      "[NbConvertApp] Writing 4591 bytes to ../../WorldBank/WorldBank_Richest_countries_top10.md\n",
      "[NbConvertApp] Converting notebook ../../WorldBank/WorldBank_World_employment_by_sector.ipynb to markdown\n",
      "[NbConvertApp] Writing 5921 bytes to ../../WorldBank/WorldBank_World_employment_by_sector.md\n",
      "[NbConvertApp] Converting notebook ../../WorldBank/WorldBank_World_population_and_density.ipynb to markdown\n",
      "[NbConvertApp] Writing 5517 bytes to ../../WorldBank/WorldBank_World_population_and_density.md\n",
      "[NbConvertApp] Converting notebook ../../Worldometer/Worldometer_World_population_evolution_and_projections.ipynb to markdown\n",
      "[NbConvertApp] Writing 2797 bytes to ../../Worldometer/Worldometer_World_population_evolution_and_projections.md\n",
      "[NbConvertApp] Converting notebook ../../XML/XML_Transform_sitemap_to_dataframe.ipynb to markdown\n",
      "[NbConvertApp] Writing 1411 bytes to ../../XML/XML_Transform_sitemap_to_dataframe.md\n",
      "[NbConvertApp] Converting notebook ../../YahooFinance/YahooFinance_Candlestick_chart.ipynb to markdown\n",
      "[NbConvertApp] Writing 1088 bytes to ../../YahooFinance/YahooFinance_Candlestick_chart.md\n",
      "[NbConvertApp] Converting notebook ../../YahooFinance/YahooFinance_Cryptocurrencies_heatmap_correlation_graph.ipynb to markdown\n",
      "[NbConvertApp] Writing 1913 bytes to ../../YahooFinance/YahooFinance_Cryptocurrencies_heatmap_correlation_graph.md\n",
      "[NbConvertApp] Converting notebook ../../YahooFinance/YahooFinance_Display_chart_from_ticker.ipynb to markdown\n",
      "[NbConvertApp] Writing 1082 bytes to ../../YahooFinance/YahooFinance_Display_chart_from_ticker.md\n",
      "[NbConvertApp] Converting notebook ../../YahooFinance/YahooFinance_Get_Stock_Update.ipynb to markdown\n",
      "[NbConvertApp] Writing 4143 bytes to ../../YahooFinance/YahooFinance_Get_Stock_Update.md\n",
      "[NbConvertApp] Converting notebook ../../YahooFinance/YahooFinance_Get_USDEUR_data_and_chart.ipynb to markdown\n",
      "[NbConvertApp] Writing 1506 bytes to ../../YahooFinance/YahooFinance_Get_USDEUR_data_and_chart.md\n",
      "[NbConvertApp] Converting notebook ../../YahooFinance/YahooFinance_Get_data_from_ticker.ipynb to markdown\n",
      "[NbConvertApp] Writing 855 bytes to ../../YahooFinance/YahooFinance_Get_data_from_ticker.md\n",
      "[NbConvertApp] Converting notebook ../../YahooFinance/YahooFinance_Send_daily_prediction_to_Email.ipynb to markdown\n",
      "[NbConvertApp] Writing 5574 bytes to ../../YahooFinance/YahooFinance_Send_daily_prediction_to_Email.md\n",
      "[NbConvertApp] Converting notebook ../../YahooFinance/YahooFinance_Send_daily_prediction_to_Slack.ipynb to markdown\n",
      "[NbConvertApp] Writing 4402 bytes to ../../YahooFinance/YahooFinance_Send_daily_prediction_to_Slack.md\n",
      "[NbConvertApp] Converting notebook ../../Youtube/Youtube_Download_video.ipynb to markdown\n",
      "[NbConvertApp] Writing 1107 bytes to ../../Youtube/Youtube_Download_video.md\n",
      "[NbConvertApp] Converting notebook ../../Youtube/Youtube_Extract_and_summarize_transcript.ipynb to markdown\n",
      "[NbConvertApp] Writing 1152 bytes to ../../Youtube/Youtube_Extract_and_summarize_transcript.md\n",
      "[NbConvertApp] Converting notebook ../../Youtube/Youtube_Extract_transcript_from_video.ipynb to markdown\n",
      "[NbConvertApp] Writing 883 bytes to ../../Youtube/Youtube_Extract_transcript_from_video.md\n",
      "[NbConvertApp] Converting notebook ../../Youtube/Youtube_Get_statistics_from_channel.ipynb to markdown\n",
      "[NbConvertApp] Writing 784 bytes to ../../Youtube/Youtube_Get_statistics_from_channel.md\n",
      "[NbConvertApp] Converting notebook ../../Youtube/Youtube_Get_statistics_from_video.ipynb to markdown\n",
      "[NbConvertApp] Writing 769 bytes to ../../Youtube/Youtube_Get_statistics_from_video.md\n",
      "[NbConvertApp] Converting notebook ../../Youtube/Youtube_Get_uploads_from_channel.ipynb to markdown\n",
      "[NbConvertApp] Writing 778 bytes to ../../Youtube/Youtube_Get_uploads_from_channel.md\n",
      "[NbConvertApp] Converting notebook ../../Youtube/Youtube_Summarize_video.ipynb to markdown\n",
      "[NbConvertApp] Writing 715 bytes to ../../Youtube/Youtube_Summarize_video.md\n",
      "[NbConvertApp] Converting notebook ../../ZIP/ZIP_Extract_files.ipynb to markdown\n",
      "[NbConvertApp] Writing 1042 bytes to ../../ZIP/ZIP_Extract_files.md\n",
      "[NbConvertApp] Converting notebook ../../Zapier/Zapier_Trigger_workflow.ipynb to markdown\n",
      "[NbConvertApp] Writing 633 bytes to ../../Zapier/Zapier_Trigger_workflow.md\n"
     ]
    },
    {
     "data": {
      "text/html": [
       "<pre style=\"white-space:pre;overflow-x:auto;line-height:normal;font-family:Menlo,'DejaVu Sans Mono',consolas,'Courier New',monospace\">docs/templates/AWS\n",
       "</pre>\n"
      ],
      "text/plain": [
       "docs/templates/AWS\n"
      ]
     },
     "metadata": {},
     "output_type": "display_data"
    },
    {
     "data": {
      "text/html": [
       "<pre style=\"white-space:pre;overflow-x:auto;line-height:normal;font-family:Menlo,'DejaVu Sans Mono',consolas,'Courier New',monospace\">✅ ..<span style=\"color: #800080; text-decoration-color: #800080\">/../AWS/</span><span style=\"color: #ff00ff; text-decoration-color: #ff00ff\">AWS_Daily_biling_notification_to_slack.md</span> moved to \n",
       "docs/templates/AWS/AWS_Daily_biling_notification_to_slack.md\n",
       "</pre>\n"
      ],
      "text/plain": [
       "✅ ..\u001b[35m/../AWS/\u001b[0m\u001b[95mAWS_Daily_biling_notification_to_slack.md\u001b[0m moved to \n",
       "docs/templates/AWS/AWS_Daily_biling_notification_to_slack.md\n"
      ]
     },
     "metadata": {},
     "output_type": "display_data"
    },
    {
     "data": {
      "text/html": [
       "<pre style=\"white-space:pre;overflow-x:auto;line-height:normal;font-family:Menlo,'DejaVu Sans Mono',consolas,'Courier New',monospace\">docs/templates/AWS\n",
       "</pre>\n"
      ],
      "text/plain": [
       "docs/templates/AWS\n"
      ]
     },
     "metadata": {},
     "output_type": "display_data"
    },
    {
     "data": {
      "text/html": [
       "<pre style=\"white-space:pre;overflow-x:auto;line-height:normal;font-family:Menlo,'DejaVu Sans Mono',consolas,'Courier New',monospace\">✅ ..<span style=\"color: #800080; text-decoration-color: #800080\">/../AWS/</span><span style=\"color: #ff00ff; text-decoration-color: #ff00ff\">AWS_Get_files_from_S3_bucket.md</span> moved to \n",
       "docs/templates/AWS/AWS_Get_files_from_S3_bucket.md\n",
       "</pre>\n"
      ],
      "text/plain": [
       "✅ ..\u001b[35m/../AWS/\u001b[0m\u001b[95mAWS_Get_files_from_S3_bucket.md\u001b[0m moved to \n",
       "docs/templates/AWS/AWS_Get_files_from_S3_bucket.md\n"
      ]
     },
     "metadata": {},
     "output_type": "display_data"
    },
    {
     "data": {
      "text/html": [
       "<pre style=\"white-space:pre;overflow-x:auto;line-height:normal;font-family:Menlo,'DejaVu Sans Mono',consolas,'Courier New',monospace\">docs/templates/AWS\n",
       "</pre>\n"
      ],
      "text/plain": [
       "docs/templates/AWS\n"
      ]
     },
     "metadata": {},
     "output_type": "display_data"
    },
    {
     "data": {
      "text/html": [
       "<pre style=\"white-space:pre;overflow-x:auto;line-height:normal;font-family:Menlo,'DejaVu Sans Mono',consolas,'Courier New',monospace\">✅ ..<span style=\"color: #800080; text-decoration-color: #800080\">/../AWS/</span><span style=\"color: #ff00ff; text-decoration-color: #ff00ff\">AWS_Upload_file_to_S3_bucket.md</span> moved to \n",
       "docs/templates/AWS/AWS_Upload_file_to_S3_bucket.md\n",
       "</pre>\n"
      ],
      "text/plain": [
       "✅ ..\u001b[35m/../AWS/\u001b[0m\u001b[95mAWS_Upload_file_to_S3_bucket.md\u001b[0m moved to \n",
       "docs/templates/AWS/AWS_Upload_file_to_S3_bucket.md\n"
      ]
     },
     "metadata": {},
     "output_type": "display_data"
    },
    {
     "data": {
      "text/html": [
       "<pre style=\"white-space:pre;overflow-x:auto;line-height:normal;font-family:Menlo,'DejaVu Sans Mono',consolas,'Courier New',monospace\">docs/templates/Airtable\n",
       "</pre>\n"
      ],
      "text/plain": [
       "docs/templates/Airtable\n"
      ]
     },
     "metadata": {},
     "output_type": "display_data"
    },
    {
     "data": {
      "text/html": [
       "<pre style=\"white-space:pre;overflow-x:auto;line-height:normal;font-family:Menlo,'DejaVu Sans Mono',consolas,'Courier New',monospace\">✅ ..<span style=\"color: #800080; text-decoration-color: #800080\">/../Airtable/</span><span style=\"color: #ff00ff; text-decoration-color: #ff00ff\">Airtable_Connect.md</span> moved to docs/templates/Airtable/Airtable_Connect.md\n",
       "</pre>\n"
      ],
      "text/plain": [
       "✅ ..\u001b[35m/../Airtable/\u001b[0m\u001b[95mAirtable_Connect.md\u001b[0m moved to docs/templates/Airtable/Airtable_Connect.md\n"
      ]
     },
     "metadata": {},
     "output_type": "display_data"
    },
    {
     "data": {
      "text/html": [
       "<pre style=\"white-space:pre;overflow-x:auto;line-height:normal;font-family:Menlo,'DejaVu Sans Mono',consolas,'Courier New',monospace\">docs/templates/Airtable\n",
       "</pre>\n"
      ],
      "text/plain": [
       "docs/templates/Airtable\n"
      ]
     },
     "metadata": {},
     "output_type": "display_data"
    },
    {
     "data": {
      "text/html": [
       "<pre style=\"white-space:pre;overflow-x:auto;line-height:normal;font-family:Menlo,'DejaVu Sans Mono',consolas,'Courier New',monospace\">✅ ..<span style=\"color: #800080; text-decoration-color: #800080\">/../Airtable/</span><span style=\"color: #ff00ff; text-decoration-color: #ff00ff\">Airtable_Delete_data.md</span> moved to \n",
       "docs/templates/Airtable/Airtable_Delete_data.md\n",
       "</pre>\n"
      ],
      "text/plain": [
       "✅ ..\u001b[35m/../Airtable/\u001b[0m\u001b[95mAirtable_Delete_data.md\u001b[0m moved to \n",
       "docs/templates/Airtable/Airtable_Delete_data.md\n"
      ]
     },
     "metadata": {},
     "output_type": "display_data"
    },
    {
     "data": {
      "text/html": [
       "<pre style=\"white-space:pre;overflow-x:auto;line-height:normal;font-family:Menlo,'DejaVu Sans Mono',consolas,'Courier New',monospace\">docs/templates/Airtable\n",
       "</pre>\n"
      ],
      "text/plain": [
       "docs/templates/Airtable\n"
      ]
     },
     "metadata": {},
     "output_type": "display_data"
    },
    {
     "data": {
      "text/html": [
       "<pre style=\"white-space:pre;overflow-x:auto;line-height:normal;font-family:Menlo,'DejaVu Sans Mono',consolas,'Courier New',monospace\">✅ ..<span style=\"color: #800080; text-decoration-color: #800080\">/../Airtable/</span><span style=\"color: #ff00ff; text-decoration-color: #ff00ff\">Airtable_Get_data.md</span> moved to docs/templates/Airtable/Airtable_Get_data.md\n",
       "</pre>\n"
      ],
      "text/plain": [
       "✅ ..\u001b[35m/../Airtable/\u001b[0m\u001b[95mAirtable_Get_data.md\u001b[0m moved to docs/templates/Airtable/Airtable_Get_data.md\n"
      ]
     },
     "metadata": {},
     "output_type": "display_data"
    },
    {
     "data": {
      "text/html": [
       "<pre style=\"white-space:pre;overflow-x:auto;line-height:normal;font-family:Menlo,'DejaVu Sans Mono',consolas,'Courier New',monospace\">docs/templates/Airtable\n",
       "</pre>\n"
      ],
      "text/plain": [
       "docs/templates/Airtable\n"
      ]
     },
     "metadata": {},
     "output_type": "display_data"
    },
    {
     "data": {
      "text/html": [
       "<pre style=\"white-space:pre;overflow-x:auto;line-height:normal;font-family:Menlo,'DejaVu Sans Mono',consolas,'Courier New',monospace\">✅ ..<span style=\"color: #800080; text-decoration-color: #800080\">/../Airtable/</span><span style=\"color: #ff00ff; text-decoration-color: #ff00ff\">Airtable_Insert_data.md</span> moved to \n",
       "docs/templates/Airtable/Airtable_Insert_data.md\n",
       "</pre>\n"
      ],
      "text/plain": [
       "✅ ..\u001b[35m/../Airtable/\u001b[0m\u001b[95mAirtable_Insert_data.md\u001b[0m moved to \n",
       "docs/templates/Airtable/Airtable_Insert_data.md\n"
      ]
     },
     "metadata": {},
     "output_type": "display_data"
    },
    {
     "data": {
      "text/html": [
       "<pre style=\"white-space:pre;overflow-x:auto;line-height:normal;font-family:Menlo,'DejaVu Sans Mono',consolas,'Courier New',monospace\">docs/templates/Airtable\n",
       "</pre>\n"
      ],
      "text/plain": [
       "docs/templates/Airtable\n"
      ]
     },
     "metadata": {},
     "output_type": "display_data"
    },
    {
     "data": {
      "text/html": [
       "<pre style=\"white-space:pre;overflow-x:auto;line-height:normal;font-family:Menlo,'DejaVu Sans Mono',consolas,'Courier New',monospace\">✅ ..<span style=\"color: #800080; text-decoration-color: #800080\">/../Airtable/</span><span style=\"color: #ff00ff; text-decoration-color: #ff00ff\">Airtable_Search_data.md</span> moved to \n",
       "docs/templates/Airtable/Airtable_Search_data.md\n",
       "</pre>\n"
      ],
      "text/plain": [
       "✅ ..\u001b[35m/../Airtable/\u001b[0m\u001b[95mAirtable_Search_data.md\u001b[0m moved to \n",
       "docs/templates/Airtable/Airtable_Search_data.md\n"
      ]
     },
     "metadata": {},
     "output_type": "display_data"
    },
    {
     "data": {
      "text/html": [
       "<pre style=\"white-space:pre;overflow-x:auto;line-height:normal;font-family:Menlo,'DejaVu Sans Mono',consolas,'Courier New',monospace\">docs/templates/AlphaVantage\n",
       "</pre>\n"
      ],
      "text/plain": [
       "docs/templates/AlphaVantage\n"
      ]
     },
     "metadata": {},
     "output_type": "display_data"
    },
    {
     "data": {
      "text/html": [
       "<pre style=\"white-space:pre;overflow-x:auto;line-height:normal;font-family:Menlo,'DejaVu Sans Mono',consolas,'Courier New',monospace\">✅ ..<span style=\"color: #800080; text-decoration-color: #800080\">/../AlphaVantage/</span><span style=\"color: #ff00ff; text-decoration-color: #ff00ff\">AlphaVantage_Get_fundamental_data.md</span> moved to \n",
       "docs/templates/AlphaVantage/AlphaVantage_Get_fundamental_data.md\n",
       "</pre>\n"
      ],
      "text/plain": [
       "✅ ..\u001b[35m/../AlphaVantage/\u001b[0m\u001b[95mAlphaVantage_Get_fundamental_data.md\u001b[0m moved to \n",
       "docs/templates/AlphaVantage/AlphaVantage_Get_fundamental_data.md\n"
      ]
     },
     "metadata": {},
     "output_type": "display_data"
    },
    {
     "data": {
      "text/html": [
       "<pre style=\"white-space:pre;overflow-x:auto;line-height:normal;font-family:Menlo,'DejaVu Sans Mono',consolas,'Courier New',monospace\">docs/templates/Boursorama\n",
       "</pre>\n"
      ],
      "text/plain": [
       "docs/templates/Boursorama\n"
      ]
     },
     "metadata": {},
     "output_type": "display_data"
    },
    {
     "data": {
      "text/html": [
       "<pre style=\"white-space:pre;overflow-x:auto;line-height:normal;font-family:Menlo,'DejaVu Sans Mono',consolas,'Courier New',monospace\">✅ ..<span style=\"color: #800080; text-decoration-color: #800080\">/../Boursorama/</span><span style=\"color: #ff00ff; text-decoration-color: #ff00ff\">Boursorama_Get_CDS.md</span> moved to \n",
       "docs/templates/Boursorama/Boursorama_Get_CDS.md\n",
       "</pre>\n"
      ],
      "text/plain": [
       "✅ ..\u001b[35m/../Boursorama/\u001b[0m\u001b[95mBoursorama_Get_CDS.md\u001b[0m moved to \n",
       "docs/templates/Boursorama/Boursorama_Get_CDS.md\n"
      ]
     },
     "metadata": {},
     "output_type": "display_data"
    },
    {
     "data": {
      "text/html": [
       "<pre style=\"white-space:pre;overflow-x:auto;line-height:normal;font-family:Menlo,'DejaVu Sans Mono',consolas,'Courier New',monospace\">docs/templates/Bubble\n",
       "</pre>\n"
      ],
      "text/plain": [
       "docs/templates/Bubble\n"
      ]
     },
     "metadata": {},
     "output_type": "display_data"
    },
    {
     "data": {
      "text/html": [
       "<pre style=\"white-space:pre;overflow-x:auto;line-height:normal;font-family:Menlo,'DejaVu Sans Mono',consolas,'Courier New',monospace\">✅ ..<span style=\"color: #800080; text-decoration-color: #800080\">/../Bubble/</span><span style=\"color: #ff00ff; text-decoration-color: #ff00ff\">Bubble_Trigger_workflow.md</span> moved to \n",
       "docs/templates/Bubble/Bubble_Trigger_workflow.md\n",
       "</pre>\n"
      ],
      "text/plain": [
       "✅ ..\u001b[35m/../Bubble/\u001b[0m\u001b[95mBubble_Trigger_workflow.md\u001b[0m moved to \n",
       "docs/templates/Bubble/Bubble_Trigger_workflow.md\n"
      ]
     },
     "metadata": {},
     "output_type": "display_data"
    },
    {
     "data": {
      "text/html": [
       "<pre style=\"white-space:pre;overflow-x:auto;line-height:normal;font-family:Menlo,'DejaVu Sans Mono',consolas,'Courier New',monospace\">docs/templates/CCXT\n",
       "</pre>\n"
      ],
      "text/plain": [
       "docs/templates/CCXT\n"
      ]
     },
     "metadata": {},
     "output_type": "display_data"
    },
    {
     "data": {
      "text/html": [
       "<pre style=\"white-space:pre;overflow-x:auto;line-height:normal;font-family:Menlo,'DejaVu Sans Mono',consolas,'Courier New',monospace\">✅ ..<span style=\"color: #800080; text-decoration-color: #800080\">/../CCXT/</span><span style=\"color: #ff00ff; text-decoration-color: #ff00ff\">CCXT_Calculate_Support_and_Resistance.md</span> moved to \n",
       "docs/templates/CCXT/CCXT_Calculate_Support_and_Resistance.md\n",
       "</pre>\n"
      ],
      "text/plain": [
       "✅ ..\u001b[35m/../CCXT/\u001b[0m\u001b[95mCCXT_Calculate_Support_and_Resistance.md\u001b[0m moved to \n",
       "docs/templates/CCXT/CCXT_Calculate_Support_and_Resistance.md\n"
      ]
     },
     "metadata": {},
     "output_type": "display_data"
    },
    {
     "data": {
      "text/html": [
       "<pre style=\"white-space:pre;overflow-x:auto;line-height:normal;font-family:Menlo,'DejaVu Sans Mono',consolas,'Courier New',monospace\">docs/templates/CCXT\n",
       "</pre>\n"
      ],
      "text/plain": [
       "docs/templates/CCXT\n"
      ]
     },
     "metadata": {},
     "output_type": "display_data"
    },
    {
     "data": {
      "text/html": [
       "<pre style=\"white-space:pre;overflow-x:auto;line-height:normal;font-family:Menlo,'DejaVu Sans Mono',consolas,'Courier New',monospace\">✅ ..<span style=\"color: #800080; text-decoration-color: #800080\">/../CCXT/</span><span style=\"color: #ff00ff; text-decoration-color: #ff00ff\">CCXT_Predict_Bitcoin_from_Binance.md</span> moved to \n",
       "docs/templates/CCXT/CCXT_Predict_Bitcoin_from_Binance.md\n",
       "</pre>\n"
      ],
      "text/plain": [
       "✅ ..\u001b[35m/../CCXT/\u001b[0m\u001b[95mCCXT_Predict_Bitcoin_from_Binance.md\u001b[0m moved to \n",
       "docs/templates/CCXT/CCXT_Predict_Bitcoin_from_Binance.md\n"
      ]
     },
     "metadata": {},
     "output_type": "display_data"
    },
    {
     "data": {
      "text/html": [
       "<pre style=\"white-space:pre;overflow-x:auto;line-height:normal;font-family:Menlo,'DejaVu Sans Mono',consolas,'Courier New',monospace\">docs/templates/CSV\n",
       "</pre>\n"
      ],
      "text/plain": [
       "docs/templates/CSV\n"
      ]
     },
     "metadata": {},
     "output_type": "display_data"
    },
    {
     "data": {
      "text/html": [
       "<pre style=\"white-space:pre;overflow-x:auto;line-height:normal;font-family:Menlo,'DejaVu Sans Mono',consolas,'Courier New',monospace\">✅ ..<span style=\"color: #800080; text-decoration-color: #800080\">/../CSV/</span><span style=\"color: #ff00ff; text-decoration-color: #ff00ff\">CSV_Read_file.md</span> moved to docs/templates/CSV/CSV_Read_file.md\n",
       "</pre>\n"
      ],
      "text/plain": [
       "✅ ..\u001b[35m/../CSV/\u001b[0m\u001b[95mCSV_Read_file.md\u001b[0m moved to docs/templates/CSV/CSV_Read_file.md\n"
      ]
     },
     "metadata": {},
     "output_type": "display_data"
    },
    {
     "data": {
      "text/html": [
       "<pre style=\"white-space:pre;overflow-x:auto;line-height:normal;font-family:Menlo,'DejaVu Sans Mono',consolas,'Courier New',monospace\">docs/templates/CSV\n",
       "</pre>\n"
      ],
      "text/plain": [
       "docs/templates/CSV\n"
      ]
     },
     "metadata": {},
     "output_type": "display_data"
    },
    {
     "data": {
      "text/html": [
       "<pre style=\"white-space:pre;overflow-x:auto;line-height:normal;font-family:Menlo,'DejaVu Sans Mono',consolas,'Courier New',monospace\">✅ ..<span style=\"color: #800080; text-decoration-color: #800080\">/../CSV/</span><span style=\"color: #ff00ff; text-decoration-color: #ff00ff\">CSV_Save_file.md</span> moved to docs/templates/CSV/CSV_Save_file.md\n",
       "</pre>\n"
      ],
      "text/plain": [
       "✅ ..\u001b[35m/../CSV/\u001b[0m\u001b[95mCSV_Save_file.md\u001b[0m moved to docs/templates/CSV/CSV_Save_file.md\n"
      ]
     },
     "metadata": {},
     "output_type": "display_data"
    },
    {
     "data": {
      "text/html": [
       "<pre style=\"white-space:pre;overflow-x:auto;line-height:normal;font-family:Menlo,'DejaVu Sans Mono',consolas,'Courier New',monospace\">docs/templates/Canny\n",
       "</pre>\n"
      ],
      "text/plain": [
       "docs/templates/Canny\n"
      ]
     },
     "metadata": {},
     "output_type": "display_data"
    },
    {
     "data": {
      "text/html": [
       "<pre style=\"white-space:pre;overflow-x:auto;line-height:normal;font-family:Menlo,'DejaVu Sans Mono',consolas,'Courier New',monospace\">✅ ..<span style=\"color: #800080; text-decoration-color: #800080\">/../Canny/</span><span style=\"color: #ff00ff; text-decoration-color: #ff00ff\">Canny_Create.md</span> moved to docs/templates/Canny/Canny_Create.md\n",
       "</pre>\n"
      ],
      "text/plain": [
       "✅ ..\u001b[35m/../Canny/\u001b[0m\u001b[95mCanny_Create.md\u001b[0m moved to docs/templates/Canny/Canny_Create.md\n"
      ]
     },
     "metadata": {},
     "output_type": "display_data"
    },
    {
     "data": {
      "text/html": [
       "<pre style=\"white-space:pre;overflow-x:auto;line-height:normal;font-family:Menlo,'DejaVu Sans Mono',consolas,'Courier New',monospace\">docs/templates/Canny\n",
       "</pre>\n"
      ],
      "text/plain": [
       "docs/templates/Canny\n"
      ]
     },
     "metadata": {},
     "output_type": "display_data"
    },
    {
     "data": {
      "text/html": [
       "<pre style=\"white-space:pre;overflow-x:auto;line-height:normal;font-family:Menlo,'DejaVu Sans Mono',consolas,'Courier New',monospace\">✅ ..<span style=\"color: #800080; text-decoration-color: #800080\">/../Canny/</span><span style=\"color: #ff00ff; text-decoration-color: #ff00ff\">Canny_Github_issue_update.md</span> moved to \n",
       "docs/templates/Canny/Canny_Github_issue_update.md\n",
       "</pre>\n"
      ],
      "text/plain": [
       "✅ ..\u001b[35m/../Canny/\u001b[0m\u001b[95mCanny_Github_issue_update.md\u001b[0m moved to \n",
       "docs/templates/Canny/Canny_Github_issue_update.md\n"
      ]
     },
     "metadata": {},
     "output_type": "display_data"
    },
    {
     "data": {
      "text/html": [
       "<pre style=\"white-space:pre;overflow-x:auto;line-height:normal;font-family:Menlo,'DejaVu Sans Mono',consolas,'Courier New',monospace\">docs/templates/Canny\n",
       "</pre>\n"
      ],
      "text/plain": [
       "docs/templates/Canny\n"
      ]
     },
     "metadata": {},
     "output_type": "display_data"
    },
    {
     "data": {
      "text/html": [
       "<pre style=\"white-space:pre;overflow-x:auto;line-height:normal;font-family:Menlo,'DejaVu Sans Mono',consolas,'Courier New',monospace\">✅ ..<span style=\"color: #800080; text-decoration-color: #800080\">/../Canny/</span><span style=\"color: #ff00ff; text-decoration-color: #ff00ff\">Canny_Read.md</span> moved to docs/templates/Canny/Canny_Read.md\n",
       "</pre>\n"
      ],
      "text/plain": [
       "✅ ..\u001b[35m/../Canny/\u001b[0m\u001b[95mCanny_Read.md\u001b[0m moved to docs/templates/Canny/Canny_Read.md\n"
      ]
     },
     "metadata": {},
     "output_type": "display_data"
    },
    {
     "data": {
      "text/html": [
       "<pre style=\"white-space:pre;overflow-x:auto;line-height:normal;font-family:Menlo,'DejaVu Sans Mono',consolas,'Courier New',monospace\">docs/templates/Celestrak\n",
       "</pre>\n"
      ],
      "text/plain": [
       "docs/templates/Celestrak\n"
      ]
     },
     "metadata": {},
     "output_type": "display_data"
    },
    {
     "data": {
      "text/html": [
       "<pre style=\"white-space:pre;overflow-x:auto;line-height:normal;font-family:Menlo,'DejaVu Sans Mono',consolas,'Courier New',monospace\">✅ ..<span style=\"color: #800080; text-decoration-color: #800080\">/../Celestrak/</span><span style=\"color: #ff00ff; text-decoration-color: #ff00ff\">Celestrak_Satellites_over_time.md</span> moved to \n",
       "docs/templates/Celestrak/Celestrak_Satellites_over_time.md\n",
       "</pre>\n"
      ],
      "text/plain": [
       "✅ ..\u001b[35m/../Celestrak/\u001b[0m\u001b[95mCelestrak_Satellites_over_time.md\u001b[0m moved to \n",
       "docs/templates/Celestrak/Celestrak_Satellites_over_time.md\n"
      ]
     },
     "metadata": {},
     "output_type": "display_data"
    },
    {
     "data": {
      "text/html": [
       "<pre style=\"white-space:pre;overflow-x:auto;line-height:normal;font-family:Menlo,'DejaVu Sans Mono',consolas,'Courier New',monospace\">docs/templates/Cityfalcon\n",
       "</pre>\n"
      ],
      "text/plain": [
       "docs/templates/Cityfalcon\n"
      ]
     },
     "metadata": {},
     "output_type": "display_data"
    },
    {
     "data": {
      "text/html": [
       "<pre style=\"white-space:pre;overflow-x:auto;line-height:normal;font-family:Menlo,'DejaVu Sans Mono',consolas,'Courier New',monospace\">✅ ..<span style=\"color: #800080; text-decoration-color: #800080\">/../Cityfalcon/</span><span style=\"color: #ff00ff; text-decoration-color: #ff00ff\">Cityfalcon_Get_data_from_API.md</span> moved to \n",
       "docs/templates/Cityfalcon/Cityfalcon_Get_data_from_API.md\n",
       "</pre>\n"
      ],
      "text/plain": [
       "✅ ..\u001b[35m/../Cityfalcon/\u001b[0m\u001b[95mCityfalcon_Get_data_from_API.md\u001b[0m moved to \n",
       "docs/templates/Cityfalcon/Cityfalcon_Get_data_from_API.md\n"
      ]
     },
     "metadata": {},
     "output_type": "display_data"
    },
    {
     "data": {
      "text/html": [
       "<pre style=\"white-space:pre;overflow-x:auto;line-height:normal;font-family:Menlo,'DejaVu Sans Mono',consolas,'Courier New',monospace\">docs/templates/Data.gouv.fr\n",
       "</pre>\n"
      ],
      "text/plain": [
       "docs/templates/Data.gouv.fr\n"
      ]
     },
     "metadata": {},
     "output_type": "display_data"
    },
    {
     "data": {
      "text/html": [
       "<pre style=\"white-space:pre;overflow-x:auto;line-height:normal;font-family:Menlo,'DejaVu Sans Mono',consolas,'Courier New',monospace\">✅ ..<span style=\"color: #800080; text-decoration-color: #800080\">/../Data.gouv.fr/</span><span style=\"color: #ff00ff; text-decoration-color: #ff00ff\">COVID19</span> -  FR - Entrées et sorties par région pour <span style=\"color: #008080; text-decoration-color: #008080; font-weight: bold\">1</span> million d'hab..md \n",
       "moved to docs/templates/Data.gouv.fr/COVID19 -  FR - Entrées et sorties par région pour <span style=\"color: #008080; text-decoration-color: #008080; font-weight: bold\">1</span> \n",
       "million d'hab..md\n",
       "</pre>\n"
      ],
      "text/plain": [
       "✅ ..\u001b[35m/../Data.gouv.fr/\u001b[0m\u001b[95mCOVID19\u001b[0m -  FR - Entrées et sorties par région pour \u001b[1;36m1\u001b[0m million d'hab..md \n",
       "moved to docs/templates/Data.gouv.fr/COVID19 -  FR - Entrées et sorties par région pour \u001b[1;36m1\u001b[0m \n",
       "million d'hab..md\n"
      ]
     },
     "metadata": {},
     "output_type": "display_data"
    },
    {
     "data": {
      "text/html": [
       "<pre style=\"white-space:pre;overflow-x:auto;line-height:normal;font-family:Menlo,'DejaVu Sans Mono',consolas,'Courier New',monospace\">docs/templates/EM-DAT\n",
       "</pre>\n"
      ],
      "text/plain": [
       "docs/templates/EM-DAT\n"
      ]
     },
     "metadata": {},
     "output_type": "display_data"
    },
    {
     "data": {
      "text/html": [
       "<pre style=\"white-space:pre;overflow-x:auto;line-height:normal;font-family:Menlo,'DejaVu Sans Mono',consolas,'Courier New',monospace\">✅ ..<span style=\"color: #800080; text-decoration-color: #800080\">/../EM-DAT/</span><span style=\"color: #ff00ff; text-decoration-color: #ff00ff\">EM-DAT_natural_disasters.md</span> moved to \n",
       "docs/templates/EM-DAT/EM-DAT_natural_disasters.md\n",
       "</pre>\n"
      ],
      "text/plain": [
       "✅ ..\u001b[35m/../EM-DAT/\u001b[0m\u001b[95mEM-DAT_natural_disasters.md\u001b[0m moved to \n",
       "docs/templates/EM-DAT/EM-DAT_natural_disasters.md\n"
      ]
     },
     "metadata": {},
     "output_type": "display_data"
    },
    {
     "data": {
      "text/html": [
       "<pre style=\"white-space:pre;overflow-x:auto;line-height:normal;font-family:Menlo,'DejaVu Sans Mono',consolas,'Courier New',monospace\">docs/templates/Elastic Search\n",
       "</pre>\n"
      ],
      "text/plain": [
       "docs/templates/Elastic Search\n"
      ]
     },
     "metadata": {},
     "output_type": "display_data"
    },
    {
     "data": {
      "text/html": [
       "<pre style=\"white-space:pre;overflow-x:auto;line-height:normal;font-family:Menlo,'DejaVu Sans Mono',consolas,'Courier New',monospace\">✅ ..<span style=\"color: #800080; text-decoration-color: #800080\">/../</span><span style=\"color: #ff00ff; text-decoration-color: #ff00ff\">Elastic</span> Search/Elastic Search_Connect_to_server.md moved to docs/templates/Elastic \n",
       "Search/Elastic Search_Connect_to_server.md\n",
       "</pre>\n"
      ],
      "text/plain": [
       "✅ ..\u001b[35m/../\u001b[0m\u001b[95mElastic\u001b[0m Search/Elastic Search_Connect_to_server.md moved to docs/templates/Elastic \n",
       "Search/Elastic Search_Connect_to_server.md\n"
      ]
     },
     "metadata": {},
     "output_type": "display_data"
    },
    {
     "data": {
      "text/html": [
       "<pre style=\"white-space:pre;overflow-x:auto;line-height:normal;font-family:Menlo,'DejaVu Sans Mono',consolas,'Courier New',monospace\">docs/templates/Excel\n",
       "</pre>\n"
      ],
      "text/plain": [
       "docs/templates/Excel\n"
      ]
     },
     "metadata": {},
     "output_type": "display_data"
    },
    {
     "data": {
      "text/html": [
       "<pre style=\"white-space:pre;overflow-x:auto;line-height:normal;font-family:Menlo,'DejaVu Sans Mono',consolas,'Courier New',monospace\">✅ ..<span style=\"color: #800080; text-decoration-color: #800080\">/../Excel/</span><span style=\"color: #ff00ff; text-decoration-color: #ff00ff\">Excel_Consolidate_files.md</span> moved to \n",
       "docs/templates/Excel/Excel_Consolidate_files.md\n",
       "</pre>\n"
      ],
      "text/plain": [
       "✅ ..\u001b[35m/../Excel/\u001b[0m\u001b[95mExcel_Consolidate_files.md\u001b[0m moved to \n",
       "docs/templates/Excel/Excel_Consolidate_files.md\n"
      ]
     },
     "metadata": {},
     "output_type": "display_data"
    },
    {
     "data": {
      "text/html": [
       "<pre style=\"white-space:pre;overflow-x:auto;line-height:normal;font-family:Menlo,'DejaVu Sans Mono',consolas,'Courier New',monospace\">docs/templates/Excel\n",
       "</pre>\n"
      ],
      "text/plain": [
       "docs/templates/Excel\n"
      ]
     },
     "metadata": {},
     "output_type": "display_data"
    },
    {
     "data": {
      "text/html": [
       "<pre style=\"white-space:pre;overflow-x:auto;line-height:normal;font-family:Menlo,'DejaVu Sans Mono',consolas,'Courier New',monospace\">✅ ..<span style=\"color: #800080; text-decoration-color: #800080\">/../Excel/</span><span style=\"color: #ff00ff; text-decoration-color: #ff00ff\">Excel_Read_file.md</span> moved to docs/templates/Excel/Excel_Read_file.md\n",
       "</pre>\n"
      ],
      "text/plain": [
       "✅ ..\u001b[35m/../Excel/\u001b[0m\u001b[95mExcel_Read_file.md\u001b[0m moved to docs/templates/Excel/Excel_Read_file.md\n"
      ]
     },
     "metadata": {},
     "output_type": "display_data"
    },
    {
     "data": {
      "text/html": [
       "<pre style=\"white-space:pre;overflow-x:auto;line-height:normal;font-family:Menlo,'DejaVu Sans Mono',consolas,'Courier New',monospace\">docs/templates/Excel\n",
       "</pre>\n"
      ],
      "text/plain": [
       "docs/templates/Excel\n"
      ]
     },
     "metadata": {},
     "output_type": "display_data"
    },
    {
     "data": {
      "text/html": [
       "<pre style=\"white-space:pre;overflow-x:auto;line-height:normal;font-family:Menlo,'DejaVu Sans Mono',consolas,'Courier New',monospace\">✅ ..<span style=\"color: #800080; text-decoration-color: #800080\">/../Excel/</span><span style=\"color: #ff00ff; text-decoration-color: #ff00ff\">Excel_Save_file.md</span> moved to docs/templates/Excel/Excel_Save_file.md\n",
       "</pre>\n"
      ],
      "text/plain": [
       "✅ ..\u001b[35m/../Excel/\u001b[0m\u001b[95mExcel_Save_file.md\u001b[0m moved to docs/templates/Excel/Excel_Save_file.md\n"
      ]
     },
     "metadata": {},
     "output_type": "display_data"
    },
    {
     "data": {
      "text/html": [
       "<pre style=\"white-space:pre;overflow-x:auto;line-height:normal;font-family:Menlo,'DejaVu Sans Mono',consolas,'Courier New',monospace\">docs/templates/Excel <span style=\"color: #008080; text-decoration-color: #008080; font-weight: bold\">365</span>\n",
       "</pre>\n"
      ],
      "text/plain": [
       "docs/templates/Excel \u001b[1;36m365\u001b[0m\n"
      ]
     },
     "metadata": {},
     "output_type": "display_data"
    },
    {
     "data": {
      "text/html": [
       "<pre style=\"white-space:pre;overflow-x:auto;line-height:normal;font-family:Menlo,'DejaVu Sans Mono',consolas,'Courier New',monospace\">✅ ..<span style=\"color: #800080; text-decoration-color: #800080\">/../</span><span style=\"color: #ff00ff; text-decoration-color: #ff00ff\">Excel</span> <span style=\"color: #008080; text-decoration-color: #008080; font-weight: bold\">365</span>/Access Excel <span style=\"color: #008080; text-decoration-color: #008080; font-weight: bold\">365</span> sheet.md moved to docs/templates/Excel <span style=\"color: #008080; text-decoration-color: #008080; font-weight: bold\">365</span>/Access Excel \n",
       "<span style=\"color: #008080; text-decoration-color: #008080; font-weight: bold\">365</span> sheet.md\n",
       "</pre>\n"
      ],
      "text/plain": [
       "✅ ..\u001b[35m/../\u001b[0m\u001b[95mExcel\u001b[0m \u001b[1;36m365\u001b[0m/Access Excel \u001b[1;36m365\u001b[0m sheet.md moved to docs/templates/Excel \u001b[1;36m365\u001b[0m/Access Excel \n",
       "\u001b[1;36m365\u001b[0m sheet.md\n"
      ]
     },
     "metadata": {},
     "output_type": "display_data"
    },
    {
     "data": {
      "text/html": [
       "<pre style=\"white-space:pre;overflow-x:auto;line-height:normal;font-family:Menlo,'DejaVu Sans Mono',consolas,'Courier New',monospace\">docs/templates/FAO\n",
       "</pre>\n"
      ],
      "text/plain": [
       "docs/templates/FAO\n"
      ]
     },
     "metadata": {},
     "output_type": "display_data"
    },
    {
     "data": {
      "text/html": [
       "<pre style=\"white-space:pre;overflow-x:auto;line-height:normal;font-family:Menlo,'DejaVu Sans Mono',consolas,'Courier New',monospace\">✅ ..<span style=\"color: #800080; text-decoration-color: #800080\">/../FAO/</span><span style=\"color: #ff00ff; text-decoration-color: #ff00ff\">FAO_Consumer_price_indice.md</span> moved to \n",
       "docs/templates/FAO/FAO_Consumer_price_indice.md\n",
       "</pre>\n"
      ],
      "text/plain": [
       "✅ ..\u001b[35m/../FAO/\u001b[0m\u001b[95mFAO_Consumer_price_indice.md\u001b[0m moved to \n",
       "docs/templates/FAO/FAO_Consumer_price_indice.md\n"
      ]
     },
     "metadata": {},
     "output_type": "display_data"
    },
    {
     "data": {
      "text/html": [
       "<pre style=\"white-space:pre;overflow-x:auto;line-height:normal;font-family:Menlo,'DejaVu Sans Mono',consolas,'Courier New',monospace\">docs/templates/FEC\n",
       "</pre>\n"
      ],
      "text/plain": [
       "docs/templates/FEC\n"
      ]
     },
     "metadata": {},
     "output_type": "display_data"
    },
    {
     "data": {
      "text/html": [
       "<pre style=\"white-space:pre;overflow-x:auto;line-height:normal;font-family:Menlo,'DejaVu Sans Mono',consolas,'Courier New',monospace\">✅ ..<span style=\"color: #800080; text-decoration-color: #800080\">/../FEC/</span><span style=\"color: #ff00ff; text-decoration-color: #ff00ff\">FEC_Creer_un_dashboard_PowerBI.md</span> moved to \n",
       "docs/templates/FEC/FEC_Creer_un_dashboard_PowerBI.md\n",
       "</pre>\n"
      ],
      "text/plain": [
       "✅ ..\u001b[35m/../FEC/\u001b[0m\u001b[95mFEC_Creer_un_dashboard_PowerBI.md\u001b[0m moved to \n",
       "docs/templates/FEC/FEC_Creer_un_dashboard_PowerBI.md\n"
      ]
     },
     "metadata": {},
     "output_type": "display_data"
    },
    {
     "data": {
      "text/html": [
       "<pre style=\"white-space:pre;overflow-x:auto;line-height:normal;font-family:Menlo,'DejaVu Sans Mono',consolas,'Courier New',monospace\">docs/templates/FTP\n",
       "</pre>\n"
      ],
      "text/plain": [
       "docs/templates/FTP\n"
      ]
     },
     "metadata": {},
     "output_type": "display_data"
    },
    {
     "data": {
      "text/html": [
       "<pre style=\"white-space:pre;overflow-x:auto;line-height:normal;font-family:Menlo,'DejaVu Sans Mono',consolas,'Courier New',monospace\">✅ ..<span style=\"color: #800080; text-decoration-color: #800080\">/../FTP/</span><span style=\"color: #ff00ff; text-decoration-color: #ff00ff\">FTPS_Connect.md</span> moved to docs/templates/FTP/FTPS_Connect.md\n",
       "</pre>\n"
      ],
      "text/plain": [
       "✅ ..\u001b[35m/../FTP/\u001b[0m\u001b[95mFTPS_Connect.md\u001b[0m moved to docs/templates/FTP/FTPS_Connect.md\n"
      ]
     },
     "metadata": {},
     "output_type": "display_data"
    },
    {
     "data": {
      "text/html": [
       "<pre style=\"white-space:pre;overflow-x:auto;line-height:normal;font-family:Menlo,'DejaVu Sans Mono',consolas,'Courier New',monospace\">docs/templates/FTP\n",
       "</pre>\n"
      ],
      "text/plain": [
       "docs/templates/FTP\n"
      ]
     },
     "metadata": {},
     "output_type": "display_data"
    },
    {
     "data": {
      "text/html": [
       "<pre style=\"white-space:pre;overflow-x:auto;line-height:normal;font-family:Menlo,'DejaVu Sans Mono',consolas,'Courier New',monospace\">✅ ..<span style=\"color: #800080; text-decoration-color: #800080\">/../FTP/</span><span style=\"color: #ff00ff; text-decoration-color: #ff00ff\">FTP_Connect.md</span> moved to docs/templates/FTP/FTP_Connect.md\n",
       "</pre>\n"
      ],
      "text/plain": [
       "✅ ..\u001b[35m/../FTP/\u001b[0m\u001b[95mFTP_Connect.md\u001b[0m moved to docs/templates/FTP/FTP_Connect.md\n"
      ]
     },
     "metadata": {},
     "output_type": "display_data"
    },
    {
     "data": {
      "text/html": [
       "<pre style=\"white-space:pre;overflow-x:auto;line-height:normal;font-family:Menlo,'DejaVu Sans Mono',consolas,'Courier New',monospace\">docs/templates/FTP\n",
       "</pre>\n"
      ],
      "text/plain": [
       "docs/templates/FTP\n"
      ]
     },
     "metadata": {},
     "output_type": "display_data"
    },
    {
     "data": {
      "text/html": [
       "<pre style=\"white-space:pre;overflow-x:auto;line-height:normal;font-family:Menlo,'DejaVu Sans Mono',consolas,'Courier New',monospace\">✅ ..<span style=\"color: #800080; text-decoration-color: #800080\">/../FTP/</span><span style=\"color: #ff00ff; text-decoration-color: #ff00ff\">FTP_Get_file.md</span> moved to docs/templates/FTP/FTP_Get_file.md\n",
       "</pre>\n"
      ],
      "text/plain": [
       "✅ ..\u001b[35m/../FTP/\u001b[0m\u001b[95mFTP_Get_file.md\u001b[0m moved to docs/templates/FTP/FTP_Get_file.md\n"
      ]
     },
     "metadata": {},
     "output_type": "display_data"
    },
    {
     "data": {
      "text/html": [
       "<pre style=\"white-space:pre;overflow-x:auto;line-height:normal;font-family:Menlo,'DejaVu Sans Mono',consolas,'Courier New',monospace\">docs/templates/FTP\n",
       "</pre>\n"
      ],
      "text/plain": [
       "docs/templates/FTP\n"
      ]
     },
     "metadata": {},
     "output_type": "display_data"
    },
    {
     "data": {
      "text/html": [
       "<pre style=\"white-space:pre;overflow-x:auto;line-height:normal;font-family:Menlo,'DejaVu Sans Mono',consolas,'Courier New',monospace\">✅ ..<span style=\"color: #800080; text-decoration-color: #800080\">/../FTP/</span><span style=\"color: #ff00ff; text-decoration-color: #ff00ff\">FTP_Send_file.md</span> moved to docs/templates/FTP/FTP_Send_file.md\n",
       "</pre>\n"
      ],
      "text/plain": [
       "✅ ..\u001b[35m/../FTP/\u001b[0m\u001b[95mFTP_Send_file.md\u001b[0m moved to docs/templates/FTP/FTP_Send_file.md\n"
      ]
     },
     "metadata": {},
     "output_type": "display_data"
    },
    {
     "data": {
      "text/html": [
       "<pre style=\"white-space:pre;overflow-x:auto;line-height:normal;font-family:Menlo,'DejaVu Sans Mono',consolas,'Courier New',monospace\">docs/templates/Github\n",
       "</pre>\n"
      ],
      "text/plain": [
       "docs/templates/Github\n"
      ]
     },
     "metadata": {},
     "output_type": "display_data"
    },
    {
     "data": {
      "text/html": [
       "<pre style=\"white-space:pre;overflow-x:auto;line-height:normal;font-family:Menlo,'DejaVu Sans Mono',consolas,'Courier New',monospace\">✅ ..<span style=\"color: #800080; text-decoration-color: #800080\">/../Github/</span><span style=\"color: #ff00ff; text-decoration-color: #ff00ff\">Github_Close_issue.md</span> moved to docs/templates/Github/Github_Close_issue.md\n",
       "</pre>\n"
      ],
      "text/plain": [
       "✅ ..\u001b[35m/../Github/\u001b[0m\u001b[95mGithub_Close_issue.md\u001b[0m moved to docs/templates/Github/Github_Close_issue.md\n"
      ]
     },
     "metadata": {},
     "output_type": "display_data"
    },
    {
     "data": {
      "text/html": [
       "<pre style=\"white-space:pre;overflow-x:auto;line-height:normal;font-family:Menlo,'DejaVu Sans Mono',consolas,'Courier New',monospace\">docs/templates/Github\n",
       "</pre>\n"
      ],
      "text/plain": [
       "docs/templates/Github\n"
      ]
     },
     "metadata": {},
     "output_type": "display_data"
    },
    {
     "data": {
      "text/html": [
       "<pre style=\"white-space:pre;overflow-x:auto;line-height:normal;font-family:Menlo,'DejaVu Sans Mono',consolas,'Courier New',monospace\">✅ ..<span style=\"color: #800080; text-decoration-color: #800080\">/../Github/</span><span style=\"color: #ff00ff; text-decoration-color: #ff00ff\">Github_Create_issue.md</span> moved to docs/templates/Github/Github_Create_issue.md\n",
       "</pre>\n"
      ],
      "text/plain": [
       "✅ ..\u001b[35m/../Github/\u001b[0m\u001b[95mGithub_Create_issue.md\u001b[0m moved to docs/templates/Github/Github_Create_issue.md\n"
      ]
     },
     "metadata": {},
     "output_type": "display_data"
    },
    {
     "data": {
      "text/html": [
       "<pre style=\"white-space:pre;overflow-x:auto;line-height:normal;font-family:Menlo,'DejaVu Sans Mono',consolas,'Courier New',monospace\">docs/templates/Github\n",
       "</pre>\n"
      ],
      "text/plain": [
       "docs/templates/Github\n"
      ]
     },
     "metadata": {},
     "output_type": "display_data"
    },
    {
     "data": {
      "text/html": [
       "<pre style=\"white-space:pre;overflow-x:auto;line-height:normal;font-family:Menlo,'DejaVu Sans Mono',consolas,'Courier New',monospace\">✅ ..<span style=\"color: #800080; text-decoration-color: #800080\">/../Github/</span><span style=\"color: #ff00ff; text-decoration-color: #ff00ff\">Github_Download_file_from_url.md</span> moved to \n",
       "docs/templates/Github/Github_Download_file_from_url.md\n",
       "</pre>\n"
      ],
      "text/plain": [
       "✅ ..\u001b[35m/../Github/\u001b[0m\u001b[95mGithub_Download_file_from_url.md\u001b[0m moved to \n",
       "docs/templates/Github/Github_Download_file_from_url.md\n"
      ]
     },
     "metadata": {},
     "output_type": "display_data"
    },
    {
     "data": {
      "text/html": [
       "<pre style=\"white-space:pre;overflow-x:auto;line-height:normal;font-family:Menlo,'DejaVu Sans Mono',consolas,'Courier New',monospace\">docs/templates/Github\n",
       "</pre>\n"
      ],
      "text/plain": [
       "docs/templates/Github\n"
      ]
     },
     "metadata": {},
     "output_type": "display_data"
    },
    {
     "data": {
      "text/html": [
       "<pre style=\"white-space:pre;overflow-x:auto;line-height:normal;font-family:Menlo,'DejaVu Sans Mono',consolas,'Courier New',monospace\">✅ ..<span style=\"color: #800080; text-decoration-color: #800080\">/../Github/</span><span style=\"color: #ff00ff; text-decoration-color: #ff00ff\">Github_Get_active_projects.md</span> moved to \n",
       "docs/templates/Github/Github_Get_active_projects.md\n",
       "</pre>\n"
      ],
      "text/plain": [
       "✅ ..\u001b[35m/../Github/\u001b[0m\u001b[95mGithub_Get_active_projects.md\u001b[0m moved to \n",
       "docs/templates/Github/Github_Get_active_projects.md\n"
      ]
     },
     "metadata": {},
     "output_type": "display_data"
    },
    {
     "data": {
      "text/html": [
       "<pre style=\"white-space:pre;overflow-x:auto;line-height:normal;font-family:Menlo,'DejaVu Sans Mono',consolas,'Courier New',monospace\">docs/templates/Github\n",
       "</pre>\n"
      ],
      "text/plain": [
       "docs/templates/Github\n"
      ]
     },
     "metadata": {},
     "output_type": "display_data"
    },
    {
     "data": {
      "text/html": [
       "<pre style=\"white-space:pre;overflow-x:auto;line-height:normal;font-family:Menlo,'DejaVu Sans Mono',consolas,'Courier New',monospace\">✅ ..<span style=\"color: #800080; text-decoration-color: #800080\">/../Github/</span><span style=\"color: #ff00ff; text-decoration-color: #ff00ff\">Github_Get_commits_ranking_from_repository.md</span> moved to \n",
       "docs/templates/Github/Github_Get_commits_ranking_from_repository.md\n",
       "</pre>\n"
      ],
      "text/plain": [
       "✅ ..\u001b[35m/../Github/\u001b[0m\u001b[95mGithub_Get_commits_ranking_from_repository.md\u001b[0m moved to \n",
       "docs/templates/Github/Github_Get_commits_ranking_from_repository.md\n"
      ]
     },
     "metadata": {},
     "output_type": "display_data"
    },
    {
     "data": {
      "text/html": [
       "<pre style=\"white-space:pre;overflow-x:auto;line-height:normal;font-family:Menlo,'DejaVu Sans Mono',consolas,'Courier New',monospace\">docs/templates/Github\n",
       "</pre>\n"
      ],
      "text/plain": [
       "docs/templates/Github\n"
      ]
     },
     "metadata": {},
     "output_type": "display_data"
    },
    {
     "data": {
      "text/html": [
       "<pre style=\"white-space:pre;overflow-x:auto;line-height:normal;font-family:Menlo,'DejaVu Sans Mono',consolas,'Courier New',monospace\">✅ ..<span style=\"color: #800080; text-decoration-color: #800080\">/../Github/</span><span style=\"color: #ff00ff; text-decoration-color: #ff00ff\">Github_Get_issues_from_repo.md</span> moved to \n",
       "docs/templates/Github/Github_Get_issues_from_repo.md\n",
       "</pre>\n"
      ],
      "text/plain": [
       "✅ ..\u001b[35m/../Github/\u001b[0m\u001b[95mGithub_Get_issues_from_repo.md\u001b[0m moved to \n",
       "docs/templates/Github/Github_Get_issues_from_repo.md\n"
      ]
     },
     "metadata": {},
     "output_type": "display_data"
    },
    {
     "data": {
      "text/html": [
       "<pre style=\"white-space:pre;overflow-x:auto;line-height:normal;font-family:Menlo,'DejaVu Sans Mono',consolas,'Courier New',monospace\">docs/templates/Github\n",
       "</pre>\n"
      ],
      "text/plain": [
       "docs/templates/Github\n"
      ]
     },
     "metadata": {},
     "output_type": "display_data"
    },
    {
     "data": {
      "text/html": [
       "<pre style=\"white-space:pre;overflow-x:auto;line-height:normal;font-family:Menlo,'DejaVu Sans Mono',consolas,'Courier New',monospace\">✅ ..<span style=\"color: #800080; text-decoration-color: #800080\">/../Github/</span><span style=\"color: #ff00ff; text-decoration-color: #ff00ff\">Github_Get_profile_from_user.md</span> moved to \n",
       "docs/templates/Github/Github_Get_profile_from_user.md\n",
       "</pre>\n"
      ],
      "text/plain": [
       "✅ ..\u001b[35m/../Github/\u001b[0m\u001b[95mGithub_Get_profile_from_user.md\u001b[0m moved to \n",
       "docs/templates/Github/Github_Get_profile_from_user.md\n"
      ]
     },
     "metadata": {},
     "output_type": "display_data"
    },
    {
     "data": {
      "text/html": [
       "<pre style=\"white-space:pre;overflow-x:auto;line-height:normal;font-family:Menlo,'DejaVu Sans Mono',consolas,'Courier New',monospace\">docs/templates/Github\n",
       "</pre>\n"
      ],
      "text/plain": [
       "docs/templates/Github\n"
      ]
     },
     "metadata": {},
     "output_type": "display_data"
    },
    {
     "data": {
      "text/html": [
       "<pre style=\"white-space:pre;overflow-x:auto;line-height:normal;font-family:Menlo,'DejaVu Sans Mono',consolas,'Courier New',monospace\">✅ ..<span style=\"color: #800080; text-decoration-color: #800080\">/../Github/</span><span style=\"color: #ff00ff; text-decoration-color: #ff00ff\">Github_Get_profiles_from_teams.md</span> moved to \n",
       "docs/templates/Github/Github_Get_profiles_from_teams.md\n",
       "</pre>\n"
      ],
      "text/plain": [
       "✅ ..\u001b[35m/../Github/\u001b[0m\u001b[95mGithub_Get_profiles_from_teams.md\u001b[0m moved to \n",
       "docs/templates/Github/Github_Get_profiles_from_teams.md\n"
      ]
     },
     "metadata": {},
     "output_type": "display_data"
    },
    {
     "data": {
      "text/html": [
       "<pre style=\"white-space:pre;overflow-x:auto;line-height:normal;font-family:Menlo,'DejaVu Sans Mono',consolas,'Courier New',monospace\">docs/templates/Github\n",
       "</pre>\n"
      ],
      "text/plain": [
       "docs/templates/Github\n"
      ]
     },
     "metadata": {},
     "output_type": "display_data"
    },
    {
     "data": {
      "text/html": [
       "<pre style=\"white-space:pre;overflow-x:auto;line-height:normal;font-family:Menlo,'DejaVu Sans Mono',consolas,'Courier New',monospace\">✅ ..<span style=\"color: #800080; text-decoration-color: #800080\">/../Github/</span><span style=\"color: #ff00ff; text-decoration-color: #ff00ff\">Github_Get_pull_requests_from_repository.md</span> moved to \n",
       "docs/templates/Github/Github_Get_pull_requests_from_repository.md\n",
       "</pre>\n"
      ],
      "text/plain": [
       "✅ ..\u001b[35m/../Github/\u001b[0m\u001b[95mGithub_Get_pull_requests_from_repository.md\u001b[0m moved to \n",
       "docs/templates/Github/Github_Get_pull_requests_from_repository.md\n"
      ]
     },
     "metadata": {},
     "output_type": "display_data"
    },
    {
     "data": {
      "text/html": [
       "<pre style=\"white-space:pre;overflow-x:auto;line-height:normal;font-family:Menlo,'DejaVu Sans Mono',consolas,'Courier New',monospace\">docs/templates/Github\n",
       "</pre>\n"
      ],
      "text/plain": [
       "docs/templates/Github\n"
      ]
     },
     "metadata": {},
     "output_type": "display_data"
    },
    {
     "data": {
      "text/html": [
       "<pre style=\"white-space:pre;overflow-x:auto;line-height:normal;font-family:Menlo,'DejaVu Sans Mono',consolas,'Courier New',monospace\">✅ ..<span style=\"color: #800080; text-decoration-color: #800080\">/../Github/</span><span style=\"color: #ff00ff; text-decoration-color: #ff00ff\">Github_Get_stargazers_from_repository.md</span> moved to \n",
       "docs/templates/Github/Github_Get_stargazers_from_repository.md\n",
       "</pre>\n"
      ],
      "text/plain": [
       "✅ ..\u001b[35m/../Github/\u001b[0m\u001b[95mGithub_Get_stargazers_from_repository.md\u001b[0m moved to \n",
       "docs/templates/Github/Github_Get_stargazers_from_repository.md\n"
      ]
     },
     "metadata": {},
     "output_type": "display_data"
    },
    {
     "data": {
      "text/html": [
       "<pre style=\"white-space:pre;overflow-x:auto;line-height:normal;font-family:Menlo,'DejaVu Sans Mono',consolas,'Courier New',monospace\">docs/templates/Github\n",
       "</pre>\n"
      ],
      "text/plain": [
       "docs/templates/Github\n"
      ]
     },
     "metadata": {},
     "output_type": "display_data"
    },
    {
     "data": {
      "text/html": [
       "<pre style=\"white-space:pre;overflow-x:auto;line-height:normal;font-family:Menlo,'DejaVu Sans Mono',consolas,'Courier New',monospace\">✅ ..<span style=\"color: #800080; text-decoration-color: #800080\">/../Github/</span><span style=\"color: #ff00ff; text-decoration-color: #ff00ff\">Github_Get_weekly_commits_from_repository.md</span> moved to \n",
       "docs/templates/Github/Github_Get_weekly_commits_from_repository.md\n",
       "</pre>\n"
      ],
      "text/plain": [
       "✅ ..\u001b[35m/../Github/\u001b[0m\u001b[95mGithub_Get_weekly_commits_from_repository.md\u001b[0m moved to \n",
       "docs/templates/Github/Github_Get_weekly_commits_from_repository.md\n"
      ]
     },
     "metadata": {},
     "output_type": "display_data"
    },
    {
     "data": {
      "text/html": [
       "<pre style=\"white-space:pre;overflow-x:auto;line-height:normal;font-family:Menlo,'DejaVu Sans Mono',consolas,'Courier New',monospace\">docs/templates/Github\n",
       "</pre>\n"
      ],
      "text/plain": [
       "docs/templates/Github\n"
      ]
     },
     "metadata": {},
     "output_type": "display_data"
    },
    {
     "data": {
      "text/html": [
       "<pre style=\"white-space:pre;overflow-x:auto;line-height:normal;font-family:Menlo,'DejaVu Sans Mono',consolas,'Courier New',monospace\">✅ ..<span style=\"color: #800080; text-decoration-color: #800080\">/../Github/</span><span style=\"color: #ff00ff; text-decoration-color: #ff00ff\">Github_Peform_basic_actions.md</span> moved to \n",
       "docs/templates/Github/Github_Peform_basic_actions.md\n",
       "</pre>\n"
      ],
      "text/plain": [
       "✅ ..\u001b[35m/../Github/\u001b[0m\u001b[95mGithub_Peform_basic_actions.md\u001b[0m moved to \n",
       "docs/templates/Github/Github_Peform_basic_actions.md\n"
      ]
     },
     "metadata": {},
     "output_type": "display_data"
    },
    {
     "data": {
      "text/html": [
       "<pre style=\"white-space:pre;overflow-x:auto;line-height:normal;font-family:Menlo,'DejaVu Sans Mono',consolas,'Courier New',monospace\">docs/templates/Github\n",
       "</pre>\n"
      ],
      "text/plain": [
       "docs/templates/Github\n"
      ]
     },
     "metadata": {},
     "output_type": "display_data"
    },
    {
     "data": {
      "text/html": [
       "<pre style=\"white-space:pre;overflow-x:auto;line-height:normal;font-family:Menlo,'DejaVu Sans Mono',consolas,'Courier New',monospace\">✅ ..<span style=\"color: #800080; text-decoration-color: #800080\">/../Github/</span><span style=\"color: #ff00ff; text-decoration-color: #ff00ff\">Github_Read_issue.md</span> moved to docs/templates/Github/Github_Read_issue.md\n",
       "</pre>\n"
      ],
      "text/plain": [
       "✅ ..\u001b[35m/../Github/\u001b[0m\u001b[95mGithub_Read_issue.md\u001b[0m moved to docs/templates/Github/Github_Read_issue.md\n"
      ]
     },
     "metadata": {},
     "output_type": "display_data"
    },
    {
     "data": {
      "text/html": [
       "<pre style=\"white-space:pre;overflow-x:auto;line-height:normal;font-family:Menlo,'DejaVu Sans Mono',consolas,'Courier New',monospace\">docs/templates/Github\n",
       "</pre>\n"
      ],
      "text/plain": [
       "docs/templates/Github\n"
      ]
     },
     "metadata": {},
     "output_type": "display_data"
    },
    {
     "data": {
      "text/html": [
       "<pre style=\"white-space:pre;overflow-x:auto;line-height:normal;font-family:Menlo,'DejaVu Sans Mono',consolas,'Courier New',monospace\">✅ ..<span style=\"color: #800080; text-decoration-color: #800080\">/../Github/</span><span style=\"color: #ff00ff; text-decoration-color: #ff00ff\">Github_Track_notebooks_created_over_time.md</span> moved to \n",
       "docs/templates/Github/Github_Track_notebooks_created_over_time.md\n",
       "</pre>\n"
      ],
      "text/plain": [
       "✅ ..\u001b[35m/../Github/\u001b[0m\u001b[95mGithub_Track_notebooks_created_over_time.md\u001b[0m moved to \n",
       "docs/templates/Github/Github_Track_notebooks_created_over_time.md\n"
      ]
     },
     "metadata": {},
     "output_type": "display_data"
    },
    {
     "data": {
      "text/html": [
       "<pre style=\"white-space:pre;overflow-x:auto;line-height:normal;font-family:Menlo,'DejaVu Sans Mono',consolas,'Courier New',monospace\">docs/templates/Github\n",
       "</pre>\n"
      ],
      "text/plain": [
       "docs/templates/Github\n"
      ]
     },
     "metadata": {},
     "output_type": "display_data"
    },
    {
     "data": {
      "text/html": [
       "<pre style=\"white-space:pre;overflow-x:auto;line-height:normal;font-family:Menlo,'DejaVu Sans Mono',consolas,'Courier New',monospace\">✅ ..<span style=\"color: #800080; text-decoration-color: #800080\">/../Github/</span><span style=\"color: #ff00ff; text-decoration-color: #ff00ff\">Github_Track_open_issues_roadmap.md</span> moved to \n",
       "docs/templates/Github/Github_Track_open_issues_roadmap.md\n",
       "</pre>\n"
      ],
      "text/plain": [
       "✅ ..\u001b[35m/../Github/\u001b[0m\u001b[95mGithub_Track_open_issues_roadmap.md\u001b[0m moved to \n",
       "docs/templates/Github/Github_Track_open_issues_roadmap.md\n"
      ]
     },
     "metadata": {},
     "output_type": "display_data"
    },
    {
     "data": {
      "text/html": [
       "<pre style=\"white-space:pre;overflow-x:auto;line-height:normal;font-family:Menlo,'DejaVu Sans Mono',consolas,'Courier New',monospace\">docs/templates/Gmail\n",
       "</pre>\n"
      ],
      "text/plain": [
       "docs/templates/Gmail\n"
      ]
     },
     "metadata": {},
     "output_type": "display_data"
    },
    {
     "data": {
      "text/html": [
       "<pre style=\"white-space:pre;overflow-x:auto;line-height:normal;font-family:Menlo,'DejaVu Sans Mono',consolas,'Courier New',monospace\">✅ ..<span style=\"color: #800080; text-decoration-color: #800080\">/../Gmail/</span><span style=\"color: #ff00ff; text-decoration-color: #ff00ff\">Gmail_Automate_response_from_keywords_in_mailbox.md</span> moved to \n",
       "docs/templates/Gmail/Gmail_Automate_response_from_keywords_in_mailbox.md\n",
       "</pre>\n"
      ],
      "text/plain": [
       "✅ ..\u001b[35m/../Gmail/\u001b[0m\u001b[95mGmail_Automate_response_from_keywords_in_mailbox.md\u001b[0m moved to \n",
       "docs/templates/Gmail/Gmail_Automate_response_from_keywords_in_mailbox.md\n"
      ]
     },
     "metadata": {},
     "output_type": "display_data"
    },
    {
     "data": {
      "text/html": [
       "<pre style=\"white-space:pre;overflow-x:auto;line-height:normal;font-family:Menlo,'DejaVu Sans Mono',consolas,'Courier New',monospace\">docs/templates/Gmail\n",
       "</pre>\n"
      ],
      "text/plain": [
       "docs/templates/Gmail\n"
      ]
     },
     "metadata": {},
     "output_type": "display_data"
    },
    {
     "data": {
      "text/html": [
       "<pre style=\"white-space:pre;overflow-x:auto;line-height:normal;font-family:Menlo,'DejaVu Sans Mono',consolas,'Courier New',monospace\">✅ ..<span style=\"color: #800080; text-decoration-color: #800080\">/../Gmail/</span><span style=\"color: #ff00ff; text-decoration-color: #ff00ff\">Gmail_Clean_mailbox.md</span> moved to docs/templates/Gmail/Gmail_Clean_mailbox.md\n",
       "</pre>\n"
      ],
      "text/plain": [
       "✅ ..\u001b[35m/../Gmail/\u001b[0m\u001b[95mGmail_Clean_mailbox.md\u001b[0m moved to docs/templates/Gmail/Gmail_Clean_mailbox.md\n"
      ]
     },
     "metadata": {},
     "output_type": "display_data"
    },
    {
     "data": {
      "text/html": [
       "<pre style=\"white-space:pre;overflow-x:auto;line-height:normal;font-family:Menlo,'DejaVu Sans Mono',consolas,'Courier New',monospace\">docs/templates/Gmail\n",
       "</pre>\n"
      ],
      "text/plain": [
       "docs/templates/Gmail\n"
      ]
     },
     "metadata": {},
     "output_type": "display_data"
    },
    {
     "data": {
      "text/html": [
       "<pre style=\"white-space:pre;overflow-x:auto;line-height:normal;font-family:Menlo,'DejaVu Sans Mono',consolas,'Courier New',monospace\">✅ ..<span style=\"color: #800080; text-decoration-color: #800080\">/../Gmail/</span><span style=\"color: #ff00ff; text-decoration-color: #ff00ff\">Gmail_Read_mailbox.md</span> moved to docs/templates/Gmail/Gmail_Read_mailbox.md\n",
       "</pre>\n"
      ],
      "text/plain": [
       "✅ ..\u001b[35m/../Gmail/\u001b[0m\u001b[95mGmail_Read_mailbox.md\u001b[0m moved to docs/templates/Gmail/Gmail_Read_mailbox.md\n"
      ]
     },
     "metadata": {},
     "output_type": "display_data"
    },
    {
     "data": {
      "text/html": [
       "<pre style=\"white-space:pre;overflow-x:auto;line-height:normal;font-family:Menlo,'DejaVu Sans Mono',consolas,'Courier New',monospace\">docs/templates/Gmail\n",
       "</pre>\n"
      ],
      "text/plain": [
       "docs/templates/Gmail\n"
      ]
     },
     "metadata": {},
     "output_type": "display_data"
    },
    {
     "data": {
      "text/html": [
       "<pre style=\"white-space:pre;overflow-x:auto;line-height:normal;font-family:Menlo,'DejaVu Sans Mono',consolas,'Courier New',monospace\">✅ ..<span style=\"color: #800080; text-decoration-color: #800080\">/../Gmail/</span><span style=\"color: #ff00ff; text-decoration-color: #ff00ff\">Gmail_Schedule_mailbox_cleaning.md</span> moved to \n",
       "docs/templates/Gmail/Gmail_Schedule_mailbox_cleaning.md\n",
       "</pre>\n"
      ],
      "text/plain": [
       "✅ ..\u001b[35m/../Gmail/\u001b[0m\u001b[95mGmail_Schedule_mailbox_cleaning.md\u001b[0m moved to \n",
       "docs/templates/Gmail/Gmail_Schedule_mailbox_cleaning.md\n"
      ]
     },
     "metadata": {},
     "output_type": "display_data"
    },
    {
     "data": {
      "text/html": [
       "<pre style=\"white-space:pre;overflow-x:auto;line-height:normal;font-family:Menlo,'DejaVu Sans Mono',consolas,'Courier New',monospace\">docs/templates/Gmail\n",
       "</pre>\n"
      ],
      "text/plain": [
       "docs/templates/Gmail\n"
      ]
     },
     "metadata": {},
     "output_type": "display_data"
    },
    {
     "data": {
      "text/html": [
       "<pre style=\"white-space:pre;overflow-x:auto;line-height:normal;font-family:Menlo,'DejaVu Sans Mono',consolas,'Courier New',monospace\">✅ ..<span style=\"color: #800080; text-decoration-color: #800080\">/../Gmail/</span><span style=\"color: #ff00ff; text-decoration-color: #ff00ff\">Gmail_Send_emails_from_Gsheet_classic.md</span> moved to \n",
       "docs/templates/Gmail/Gmail_Send_emails_from_Gsheet_classic.md\n",
       "</pre>\n"
      ],
      "text/plain": [
       "✅ ..\u001b[35m/../Gmail/\u001b[0m\u001b[95mGmail_Send_emails_from_Gsheet_classic.md\u001b[0m moved to \n",
       "docs/templates/Gmail/Gmail_Send_emails_from_Gsheet_classic.md\n"
      ]
     },
     "metadata": {},
     "output_type": "display_data"
    },
    {
     "data": {
      "text/html": [
       "<pre style=\"white-space:pre;overflow-x:auto;line-height:normal;font-family:Menlo,'DejaVu Sans Mono',consolas,'Courier New',monospace\">docs/templates/Gmail\n",
       "</pre>\n"
      ],
      "text/plain": [
       "docs/templates/Gmail\n"
      ]
     },
     "metadata": {},
     "output_type": "display_data"
    },
    {
     "data": {
      "text/html": [
       "<pre style=\"white-space:pre;overflow-x:auto;line-height:normal;font-family:Menlo,'DejaVu Sans Mono',consolas,'Courier New',monospace\">✅ ..<span style=\"color: #800080; text-decoration-color: #800080\">/../Gmail/</span><span style=\"color: #ff00ff; text-decoration-color: #ff00ff\">Gmail_Send_emails_from_Gsheet_specific.md</span> moved to \n",
       "docs/templates/Gmail/Gmail_Send_emails_from_Gsheet_specific.md\n",
       "</pre>\n"
      ],
      "text/plain": [
       "✅ ..\u001b[35m/../Gmail/\u001b[0m\u001b[95mGmail_Send_emails_from_Gsheet_specific.md\u001b[0m moved to \n",
       "docs/templates/Gmail/Gmail_Send_emails_from_Gsheet_specific.md\n"
      ]
     },
     "metadata": {},
     "output_type": "display_data"
    },
    {
     "data": {
      "text/html": [
       "<pre style=\"white-space:pre;overflow-x:auto;line-height:normal;font-family:Menlo,'DejaVu Sans Mono',consolas,'Courier New',monospace\">docs/templates/Google Analytics\n",
       "</pre>\n"
      ],
      "text/plain": [
       "docs/templates/Google Analytics\n"
      ]
     },
     "metadata": {},
     "output_type": "display_data"
    },
    {
     "data": {
      "text/html": [
       "<pre style=\"white-space:pre;overflow-x:auto;line-height:normal;font-family:Menlo,'DejaVu Sans Mono',consolas,'Courier New',monospace\">✅ ..<span style=\"color: #800080; text-decoration-color: #800080\">/../</span><span style=\"color: #ff00ff; text-decoration-color: #ff00ff\">Google</span> Analytics/GoogleAnalytics_Get_bounce_rate.md moved to docs/templates/Google \n",
       "Analytics/GoogleAnalytics_Get_bounce_rate.md\n",
       "</pre>\n"
      ],
      "text/plain": [
       "✅ ..\u001b[35m/../\u001b[0m\u001b[95mGoogle\u001b[0m Analytics/GoogleAnalytics_Get_bounce_rate.md moved to docs/templates/Google \n",
       "Analytics/GoogleAnalytics_Get_bounce_rate.md\n"
      ]
     },
     "metadata": {},
     "output_type": "display_data"
    },
    {
     "data": {
      "text/html": [
       "<pre style=\"white-space:pre;overflow-x:auto;line-height:normal;font-family:Menlo,'DejaVu Sans Mono',consolas,'Courier New',monospace\">docs/templates/Google Analytics\n",
       "</pre>\n"
      ],
      "text/plain": [
       "docs/templates/Google Analytics\n"
      ]
     },
     "metadata": {},
     "output_type": "display_data"
    },
    {
     "data": {
      "text/html": [
       "<pre style=\"white-space:pre;overflow-x:auto;line-height:normal;font-family:Menlo,'DejaVu Sans Mono',consolas,'Courier New',monospace\">✅ ..<span style=\"color: #800080; text-decoration-color: #800080\">/../</span><span style=\"color: #ff00ff; text-decoration-color: #ff00ff\">Google</span> Analytics/GoogleAnalytics_Get_pageview_ranking.md moved to \n",
       "docs/templates/Google Analytics/GoogleAnalytics_Get_pageview_ranking.md\n",
       "</pre>\n"
      ],
      "text/plain": [
       "✅ ..\u001b[35m/../\u001b[0m\u001b[95mGoogle\u001b[0m Analytics/GoogleAnalytics_Get_pageview_ranking.md moved to \n",
       "docs/templates/Google Analytics/GoogleAnalytics_Get_pageview_ranking.md\n"
      ]
     },
     "metadata": {},
     "output_type": "display_data"
    },
    {
     "data": {
      "text/html": [
       "<pre style=\"white-space:pre;overflow-x:auto;line-height:normal;font-family:Menlo,'DejaVu Sans Mono',consolas,'Courier New',monospace\">docs/templates/Google Analytics\n",
       "</pre>\n"
      ],
      "text/plain": [
       "docs/templates/Google Analytics\n"
      ]
     },
     "metadata": {},
     "output_type": "display_data"
    },
    {
     "data": {
      "text/html": [
       "<pre style=\"white-space:pre;overflow-x:auto;line-height:normal;font-family:Menlo,'DejaVu Sans Mono',consolas,'Courier New',monospace\">✅ ..<span style=\"color: #800080; text-decoration-color: #800080\">/../</span><span style=\"color: #ff00ff; text-decoration-color: #ff00ff\">Google</span> Analytics/GoogleAnalytics_Get_stats_per_country.md moved to \n",
       "docs/templates/Google Analytics/GoogleAnalytics_Get_stats_per_country.md\n",
       "</pre>\n"
      ],
      "text/plain": [
       "✅ ..\u001b[35m/../\u001b[0m\u001b[95mGoogle\u001b[0m Analytics/GoogleAnalytics_Get_stats_per_country.md moved to \n",
       "docs/templates/Google Analytics/GoogleAnalytics_Get_stats_per_country.md\n"
      ]
     },
     "metadata": {},
     "output_type": "display_data"
    },
    {
     "data": {
      "text/html": [
       "<pre style=\"white-space:pre;overflow-x:auto;line-height:normal;font-family:Menlo,'DejaVu Sans Mono',consolas,'Courier New',monospace\">docs/templates/Google Analytics\n",
       "</pre>\n"
      ],
      "text/plain": [
       "docs/templates/Google Analytics\n"
      ]
     },
     "metadata": {},
     "output_type": "display_data"
    },
    {
     "data": {
      "text/html": [
       "<pre style=\"white-space:pre;overflow-x:auto;line-height:normal;font-family:Menlo,'DejaVu Sans Mono',consolas,'Courier New',monospace\">✅ ..<span style=\"color: #800080; text-decoration-color: #800080\">/../</span><span style=\"color: #ff00ff; text-decoration-color: #ff00ff\">Google</span> Analytics/GoogleAnalytics_Get_time_on_landing_page.md moved to \n",
       "docs/templates/Google Analytics/GoogleAnalytics_Get_time_on_landing_page.md\n",
       "</pre>\n"
      ],
      "text/plain": [
       "✅ ..\u001b[35m/../\u001b[0m\u001b[95mGoogle\u001b[0m Analytics/GoogleAnalytics_Get_time_on_landing_page.md moved to \n",
       "docs/templates/Google Analytics/GoogleAnalytics_Get_time_on_landing_page.md\n"
      ]
     },
     "metadata": {},
     "output_type": "display_data"
    },
    {
     "data": {
      "text/html": [
       "<pre style=\"white-space:pre;overflow-x:auto;line-height:normal;font-family:Menlo,'DejaVu Sans Mono',consolas,'Courier New',monospace\">docs/templates/Google Analytics\n",
       "</pre>\n"
      ],
      "text/plain": [
       "docs/templates/Google Analytics\n"
      ]
     },
     "metadata": {},
     "output_type": "display_data"
    },
    {
     "data": {
      "text/html": [
       "<pre style=\"white-space:pre;overflow-x:auto;line-height:normal;font-family:Menlo,'DejaVu Sans Mono',consolas,'Courier New',monospace\">✅ ..<span style=\"color: #800080; text-decoration-color: #800080\">/../</span><span style=\"color: #ff00ff; text-decoration-color: #ff00ff\">Google</span> Analytics/GoogleAnalytics_Get_unique_visitors.md moved to \n",
       "docs/templates/Google Analytics/GoogleAnalytics_Get_unique_visitors.md\n",
       "</pre>\n"
      ],
      "text/plain": [
       "✅ ..\u001b[35m/../\u001b[0m\u001b[95mGoogle\u001b[0m Analytics/GoogleAnalytics_Get_unique_visitors.md moved to \n",
       "docs/templates/Google Analytics/GoogleAnalytics_Get_unique_visitors.md\n"
      ]
     },
     "metadata": {},
     "output_type": "display_data"
    },
    {
     "data": {
      "text/html": [
       "<pre style=\"white-space:pre;overflow-x:auto;line-height:normal;font-family:Menlo,'DejaVu Sans Mono',consolas,'Courier New',monospace\">docs/templates/Google Drive\n",
       "</pre>\n"
      ],
      "text/plain": [
       "docs/templates/Google Drive\n"
      ]
     },
     "metadata": {},
     "output_type": "display_data"
    },
    {
     "data": {
      "text/html": [
       "<pre style=\"white-space:pre;overflow-x:auto;line-height:normal;font-family:Menlo,'DejaVu Sans Mono',consolas,'Courier New',monospace\">✅ ..<span style=\"color: #800080; text-decoration-color: #800080\">/../</span><span style=\"color: #ff00ff; text-decoration-color: #ff00ff\">Google</span> Drive/Google_Drive_Download_file.md moved to docs/templates/Google \n",
       "Drive/Google_Drive_Download_file.md\n",
       "</pre>\n"
      ],
      "text/plain": [
       "✅ ..\u001b[35m/../\u001b[0m\u001b[95mGoogle\u001b[0m Drive/Google_Drive_Download_file.md moved to docs/templates/Google \n",
       "Drive/Google_Drive_Download_file.md\n"
      ]
     },
     "metadata": {},
     "output_type": "display_data"
    },
    {
     "data": {
      "text/html": [
       "<pre style=\"white-space:pre;overflow-x:auto;line-height:normal;font-family:Menlo,'DejaVu Sans Mono',consolas,'Courier New',monospace\">docs/templates/Google Search\n",
       "</pre>\n"
      ],
      "text/plain": [
       "docs/templates/Google Search\n"
      ]
     },
     "metadata": {},
     "output_type": "display_data"
    },
    {
     "data": {
      "text/html": [
       "<pre style=\"white-space:pre;overflow-x:auto;line-height:normal;font-family:Menlo,'DejaVu Sans Mono',consolas,'Courier New',monospace\">✅ ..<span style=\"color: #800080; text-decoration-color: #800080\">/../</span><span style=\"color: #ff00ff; text-decoration-color: #ff00ff\">Google</span> Search/Google_Search_Perform_search.md moved to docs/templates/Google \n",
       "Search/Google_Search_Perform_search.md\n",
       "</pre>\n"
      ],
      "text/plain": [
       "✅ ..\u001b[35m/../\u001b[0m\u001b[95mGoogle\u001b[0m Search/Google_Search_Perform_search.md moved to docs/templates/Google \n",
       "Search/Google_Search_Perform_search.md\n"
      ]
     },
     "metadata": {},
     "output_type": "display_data"
    },
    {
     "data": {
      "text/html": [
       "<pre style=\"white-space:pre;overflow-x:auto;line-height:normal;font-family:Menlo,'DejaVu Sans Mono',consolas,'Courier New',monospace\">docs/templates/Google Sheets\n",
       "</pre>\n"
      ],
      "text/plain": [
       "docs/templates/Google Sheets\n"
      ]
     },
     "metadata": {},
     "output_type": "display_data"
    },
    {
     "data": {
      "text/html": [
       "<pre style=\"white-space:pre;overflow-x:auto;line-height:normal;font-family:Menlo,'DejaVu Sans Mono',consolas,'Courier New',monospace\">✅ ..<span style=\"color: #800080; text-decoration-color: #800080\">/../</span><span style=\"color: #ff00ff; text-decoration-color: #ff00ff\">Google</span> Sheets/Gsheets_Get_data.md moved to docs/templates/Google \n",
       "Sheets/Gsheets_Get_data.md\n",
       "</pre>\n"
      ],
      "text/plain": [
       "✅ ..\u001b[35m/../\u001b[0m\u001b[95mGoogle\u001b[0m Sheets/Gsheets_Get_data.md moved to docs/templates/Google \n",
       "Sheets/Gsheets_Get_data.md\n"
      ]
     },
     "metadata": {},
     "output_type": "display_data"
    },
    {
     "data": {
      "text/html": [
       "<pre style=\"white-space:pre;overflow-x:auto;line-height:normal;font-family:Menlo,'DejaVu Sans Mono',consolas,'Courier New',monospace\">docs/templates/Google Sheets\n",
       "</pre>\n"
      ],
      "text/plain": [
       "docs/templates/Google Sheets\n"
      ]
     },
     "metadata": {},
     "output_type": "display_data"
    },
    {
     "data": {
      "text/html": [
       "<pre style=\"white-space:pre;overflow-x:auto;line-height:normal;font-family:Menlo,'DejaVu Sans Mono',consolas,'Courier New',monospace\">✅ ..<span style=\"color: #800080; text-decoration-color: #800080\">/../</span><span style=\"color: #ff00ff; text-decoration-color: #ff00ff\">Google</span> Sheets/Gsheets_Send_data.md moved to docs/templates/Google \n",
       "Sheets/Gsheets_Send_data.md\n",
       "</pre>\n"
      ],
      "text/plain": [
       "✅ ..\u001b[35m/../\u001b[0m\u001b[95mGoogle\u001b[0m Sheets/Gsheets_Send_data.md moved to docs/templates/Google \n",
       "Sheets/Gsheets_Send_data.md\n"
      ]
     },
     "metadata": {},
     "output_type": "display_data"
    },
    {
     "data": {
      "text/html": [
       "<pre style=\"white-space:pre;overflow-x:auto;line-height:normal;font-family:Menlo,'DejaVu Sans Mono',consolas,'Courier New',monospace\">docs/templates/Google Sheets\n",
       "</pre>\n"
      ],
      "text/plain": [
       "docs/templates/Google Sheets\n"
      ]
     },
     "metadata": {},
     "output_type": "display_data"
    },
    {
     "data": {
      "text/html": [
       "<pre style=\"white-space:pre;overflow-x:auto;line-height:normal;font-family:Menlo,'DejaVu Sans Mono',consolas,'Courier New',monospace\">✅ ..<span style=\"color: #800080; text-decoration-color: #800080\">/../</span><span style=\"color: #ff00ff; text-decoration-color: #ff00ff\">Google</span> Sheets/Gsheets_Send_emails_from_sheet.md moved to docs/templates/Google \n",
       "Sheets/Gsheets_Send_emails_from_sheet.md\n",
       "</pre>\n"
      ],
      "text/plain": [
       "✅ ..\u001b[35m/../\u001b[0m\u001b[95mGoogle\u001b[0m Sheets/Gsheets_Send_emails_from_sheet.md moved to docs/templates/Google \n",
       "Sheets/Gsheets_Send_emails_from_sheet.md\n"
      ]
     },
     "metadata": {},
     "output_type": "display_data"
    },
    {
     "data": {
      "text/html": [
       "<pre style=\"white-space:pre;overflow-x:auto;line-height:normal;font-family:Menlo,'DejaVu Sans Mono',consolas,'Courier New',monospace\">docs/templates/HTML\n",
       "</pre>\n"
      ],
      "text/plain": [
       "docs/templates/HTML\n"
      ]
     },
     "metadata": {},
     "output_type": "display_data"
    },
    {
     "data": {
      "text/html": [
       "<pre style=\"white-space:pre;overflow-x:auto;line-height:normal;font-family:Menlo,'DejaVu Sans Mono',consolas,'Courier New',monospace\">✅ ..<span style=\"color: #800080; text-decoration-color: #800080\">/../HTML/</span><span style=\"color: #ff00ff; text-decoration-color: #ff00ff\">HTML_Create_a_website.md</span> moved to docs/templates/HTML/HTML_Create_a_website.md\n",
       "</pre>\n"
      ],
      "text/plain": [
       "✅ ..\u001b[35m/../HTML/\u001b[0m\u001b[95mHTML_Create_a_website.md\u001b[0m moved to docs/templates/HTML/HTML_Create_a_website.md\n"
      ]
     },
     "metadata": {},
     "output_type": "display_data"
    },
    {
     "data": {
      "text/html": [
       "<pre style=\"white-space:pre;overflow-x:auto;line-height:normal;font-family:Menlo,'DejaVu Sans Mono',consolas,'Courier New',monospace\">docs/templates/Healthchecks\n",
       "</pre>\n"
      ],
      "text/plain": [
       "docs/templates/Healthchecks\n"
      ]
     },
     "metadata": {},
     "output_type": "display_data"
    },
    {
     "data": {
      "text/html": [
       "<pre style=\"white-space:pre;overflow-x:auto;line-height:normal;font-family:Menlo,'DejaVu Sans Mono',consolas,'Courier New',monospace\">✅ ..<span style=\"color: #800080; text-decoration-color: #800080\">/../Healthchecks/</span><span style=\"color: #ff00ff; text-decoration-color: #ff00ff\">Healthcheks_Perfom_basic_actions.md</span> moved to \n",
       "docs/templates/Healthchecks/Healthcheks_Perfom_basic_actions.md\n",
       "</pre>\n"
      ],
      "text/plain": [
       "✅ ..\u001b[35m/../Healthchecks/\u001b[0m\u001b[95mHealthcheks_Perfom_basic_actions.md\u001b[0m moved to \n",
       "docs/templates/Healthchecks/Healthcheks_Perfom_basic_actions.md\n"
      ]
     },
     "metadata": {},
     "output_type": "display_data"
    },
    {
     "data": {
      "text/html": [
       "<pre style=\"white-space:pre;overflow-x:auto;line-height:normal;font-family:Menlo,'DejaVu Sans Mono',consolas,'Courier New',monospace\">docs/templates/HubSpot\n",
       "</pre>\n"
      ],
      "text/plain": [
       "docs/templates/HubSpot\n"
      ]
     },
     "metadata": {},
     "output_type": "display_data"
    },
    {
     "data": {
      "text/html": [
       "<pre style=\"white-space:pre;overflow-x:auto;line-height:normal;font-family:Menlo,'DejaVu Sans Mono',consolas,'Courier New',monospace\">✅ ..<span style=\"color: #800080; text-decoration-color: #800080\">/../HubSpot/</span><span style=\"color: #ff00ff; text-decoration-color: #ff00ff\">HubSpot_Associate_contact_to_deal.md</span> moved to \n",
       "docs/templates/HubSpot/HubSpot_Associate_contact_to_deal.md\n",
       "</pre>\n"
      ],
      "text/plain": [
       "✅ ..\u001b[35m/../HubSpot/\u001b[0m\u001b[95mHubSpot_Associate_contact_to_deal.md\u001b[0m moved to \n",
       "docs/templates/HubSpot/HubSpot_Associate_contact_to_deal.md\n"
      ]
     },
     "metadata": {},
     "output_type": "display_data"
    },
    {
     "data": {
      "text/html": [
       "<pre style=\"white-space:pre;overflow-x:auto;line-height:normal;font-family:Menlo,'DejaVu Sans Mono',consolas,'Courier New',monospace\">docs/templates/HubSpot\n",
       "</pre>\n"
      ],
      "text/plain": [
       "docs/templates/HubSpot\n"
      ]
     },
     "metadata": {},
     "output_type": "display_data"
    },
    {
     "data": {
      "text/html": [
       "<pre style=\"white-space:pre;overflow-x:auto;line-height:normal;font-family:Menlo,'DejaVu Sans Mono',consolas,'Courier New',monospace\">✅ ..<span style=\"color: #800080; text-decoration-color: #800080\">/../HubSpot/</span><span style=\"color: #ff00ff; text-decoration-color: #ff00ff\">HubSpot_Create_contact.md</span> moved to \n",
       "docs/templates/HubSpot/HubSpot_Create_contact.md\n",
       "</pre>\n"
      ],
      "text/plain": [
       "✅ ..\u001b[35m/../HubSpot/\u001b[0m\u001b[95mHubSpot_Create_contact.md\u001b[0m moved to \n",
       "docs/templates/HubSpot/HubSpot_Create_contact.md\n"
      ]
     },
     "metadata": {},
     "output_type": "display_data"
    },
    {
     "data": {
      "text/html": [
       "<pre style=\"white-space:pre;overflow-x:auto;line-height:normal;font-family:Menlo,'DejaVu Sans Mono',consolas,'Courier New',monospace\">docs/templates/HubSpot\n",
       "</pre>\n"
      ],
      "text/plain": [
       "docs/templates/HubSpot\n"
      ]
     },
     "metadata": {},
     "output_type": "display_data"
    },
    {
     "data": {
      "text/html": [
       "<pre style=\"white-space:pre;overflow-x:auto;line-height:normal;font-family:Menlo,'DejaVu Sans Mono',consolas,'Courier New',monospace\">✅ ..<span style=\"color: #800080; text-decoration-color: #800080\">/../HubSpot/</span><span style=\"color: #ff00ff; text-decoration-color: #ff00ff\">HubSpot_Create_contacts_from_linkedin_post_likes.md</span> moved to \n",
       "docs/templates/HubSpot/HubSpot_Create_contacts_from_linkedin_post_likes.md\n",
       "</pre>\n"
      ],
      "text/plain": [
       "✅ ..\u001b[35m/../HubSpot/\u001b[0m\u001b[95mHubSpot_Create_contacts_from_linkedin_post_likes.md\u001b[0m moved to \n",
       "docs/templates/HubSpot/HubSpot_Create_contacts_from_linkedin_post_likes.md\n"
      ]
     },
     "metadata": {},
     "output_type": "display_data"
    },
    {
     "data": {
      "text/html": [
       "<pre style=\"white-space:pre;overflow-x:auto;line-height:normal;font-family:Menlo,'DejaVu Sans Mono',consolas,'Courier New',monospace\">docs/templates/HubSpot\n",
       "</pre>\n"
      ],
      "text/plain": [
       "docs/templates/HubSpot\n"
      ]
     },
     "metadata": {},
     "output_type": "display_data"
    },
    {
     "data": {
      "text/html": [
       "<pre style=\"white-space:pre;overflow-x:auto;line-height:normal;font-family:Menlo,'DejaVu Sans Mono',consolas,'Courier New',monospace\">✅ ..<span style=\"color: #800080; text-decoration-color: #800080\">/../HubSpot/</span><span style=\"color: #ff00ff; text-decoration-color: #ff00ff\">HubSpot_Create_deal.md</span> moved to \n",
       "docs/templates/HubSpot/HubSpot_Create_deal.md\n",
       "</pre>\n"
      ],
      "text/plain": [
       "✅ ..\u001b[35m/../HubSpot/\u001b[0m\u001b[95mHubSpot_Create_deal.md\u001b[0m moved to \n",
       "docs/templates/HubSpot/HubSpot_Create_deal.md\n"
      ]
     },
     "metadata": {},
     "output_type": "display_data"
    },
    {
     "data": {
      "text/html": [
       "<pre style=\"white-space:pre;overflow-x:auto;line-height:normal;font-family:Menlo,'DejaVu Sans Mono',consolas,'Courier New',monospace\">docs/templates/HubSpot\n",
       "</pre>\n"
      ],
      "text/plain": [
       "docs/templates/HubSpot\n"
      ]
     },
     "metadata": {},
     "output_type": "display_data"
    },
    {
     "data": {
      "text/html": [
       "<pre style=\"white-space:pre;overflow-x:auto;line-height:normal;font-family:Menlo,'DejaVu Sans Mono',consolas,'Courier New',monospace\">✅ ..<span style=\"color: #800080; text-decoration-color: #800080\">/../HubSpot/</span><span style=\"color: #ff00ff; text-decoration-color: #ff00ff\">HubSpot_Delete_contact.md</span> moved to \n",
       "docs/templates/HubSpot/HubSpot_Delete_contact.md\n",
       "</pre>\n"
      ],
      "text/plain": [
       "✅ ..\u001b[35m/../HubSpot/\u001b[0m\u001b[95mHubSpot_Delete_contact.md\u001b[0m moved to \n",
       "docs/templates/HubSpot/HubSpot_Delete_contact.md\n"
      ]
     },
     "metadata": {},
     "output_type": "display_data"
    },
    {
     "data": {
      "text/html": [
       "<pre style=\"white-space:pre;overflow-x:auto;line-height:normal;font-family:Menlo,'DejaVu Sans Mono',consolas,'Courier New',monospace\">docs/templates/HubSpot\n",
       "</pre>\n"
      ],
      "text/plain": [
       "docs/templates/HubSpot\n"
      ]
     },
     "metadata": {},
     "output_type": "display_data"
    },
    {
     "data": {
      "text/html": [
       "<pre style=\"white-space:pre;overflow-x:auto;line-height:normal;font-family:Menlo,'DejaVu Sans Mono',consolas,'Courier New',monospace\">✅ ..<span style=\"color: #800080; text-decoration-color: #800080\">/../HubSpot/</span><span style=\"color: #ff00ff; text-decoration-color: #ff00ff\">HubSpot_Delete_deal.md</span> moved to \n",
       "docs/templates/HubSpot/HubSpot_Delete_deal.md\n",
       "</pre>\n"
      ],
      "text/plain": [
       "✅ ..\u001b[35m/../HubSpot/\u001b[0m\u001b[95mHubSpot_Delete_deal.md\u001b[0m moved to \n",
       "docs/templates/HubSpot/HubSpot_Delete_deal.md\n"
      ]
     },
     "metadata": {},
     "output_type": "display_data"
    },
    {
     "data": {
      "text/html": [
       "<pre style=\"white-space:pre;overflow-x:auto;line-height:normal;font-family:Menlo,'DejaVu Sans Mono',consolas,'Courier New',monospace\">docs/templates/HubSpot\n",
       "</pre>\n"
      ],
      "text/plain": [
       "docs/templates/HubSpot\n"
      ]
     },
     "metadata": {},
     "output_type": "display_data"
    },
    {
     "data": {
      "text/html": [
       "<pre style=\"white-space:pre;overflow-x:auto;line-height:normal;font-family:Menlo,'DejaVu Sans Mono',consolas,'Courier New',monospace\">✅ ..<span style=\"color: #800080; text-decoration-color: #800080\">/../HubSpot/</span><span style=\"color: #ff00ff; text-decoration-color: #ff00ff\">HubSpot_Get_all_contacts.md</span> moved to \n",
       "docs/templates/HubSpot/HubSpot_Get_all_contacts.md\n",
       "</pre>\n"
      ],
      "text/plain": [
       "✅ ..\u001b[35m/../HubSpot/\u001b[0m\u001b[95mHubSpot_Get_all_contacts.md\u001b[0m moved to \n",
       "docs/templates/HubSpot/HubSpot_Get_all_contacts.md\n"
      ]
     },
     "metadata": {},
     "output_type": "display_data"
    },
    {
     "data": {
      "text/html": [
       "<pre style=\"white-space:pre;overflow-x:auto;line-height:normal;font-family:Menlo,'DejaVu Sans Mono',consolas,'Courier New',monospace\">docs/templates/HubSpot\n",
       "</pre>\n"
      ],
      "text/plain": [
       "docs/templates/HubSpot\n"
      ]
     },
     "metadata": {},
     "output_type": "display_data"
    },
    {
     "data": {
      "text/html": [
       "<pre style=\"white-space:pre;overflow-x:auto;line-height:normal;font-family:Menlo,'DejaVu Sans Mono',consolas,'Courier New',monospace\">✅ ..<span style=\"color: #800080; text-decoration-color: #800080\">/../HubSpot/</span><span style=\"color: #ff00ff; text-decoration-color: #ff00ff\">HubSpot_Get_all_deals.md</span> moved to \n",
       "docs/templates/HubSpot/HubSpot_Get_all_deals.md\n",
       "</pre>\n"
      ],
      "text/plain": [
       "✅ ..\u001b[35m/../HubSpot/\u001b[0m\u001b[95mHubSpot_Get_all_deals.md\u001b[0m moved to \n",
       "docs/templates/HubSpot/HubSpot_Get_all_deals.md\n"
      ]
     },
     "metadata": {},
     "output_type": "display_data"
    },
    {
     "data": {
      "text/html": [
       "<pre style=\"white-space:pre;overflow-x:auto;line-height:normal;font-family:Menlo,'DejaVu Sans Mono',consolas,'Courier New',monospace\">docs/templates/HubSpot\n",
       "</pre>\n"
      ],
      "text/plain": [
       "docs/templates/HubSpot\n"
      ]
     },
     "metadata": {},
     "output_type": "display_data"
    },
    {
     "data": {
      "text/html": [
       "<pre style=\"white-space:pre;overflow-x:auto;line-height:normal;font-family:Menlo,'DejaVu Sans Mono',consolas,'Courier New',monospace\">✅ ..<span style=\"color: #800080; text-decoration-color: #800080\">/../HubSpot/</span><span style=\"color: #ff00ff; text-decoration-color: #ff00ff\">HubSpot_Get_all_pipelines_and_dealstages.md</span> moved to \n",
       "docs/templates/HubSpot/HubSpot_Get_all_pipelines_and_dealstages.md\n",
       "</pre>\n"
      ],
      "text/plain": [
       "✅ ..\u001b[35m/../HubSpot/\u001b[0m\u001b[95mHubSpot_Get_all_pipelines_and_dealstages.md\u001b[0m moved to \n",
       "docs/templates/HubSpot/HubSpot_Get_all_pipelines_and_dealstages.md\n"
      ]
     },
     "metadata": {},
     "output_type": "display_data"
    },
    {
     "data": {
      "text/html": [
       "<pre style=\"white-space:pre;overflow-x:auto;line-height:normal;font-family:Menlo,'DejaVu Sans Mono',consolas,'Courier New',monospace\">docs/templates/HubSpot\n",
       "</pre>\n"
      ],
      "text/plain": [
       "docs/templates/HubSpot\n"
      ]
     },
     "metadata": {},
     "output_type": "display_data"
    },
    {
     "data": {
      "text/html": [
       "<pre style=\"white-space:pre;overflow-x:auto;line-height:normal;font-family:Menlo,'DejaVu Sans Mono',consolas,'Courier New',monospace\">✅ ..<span style=\"color: #800080; text-decoration-color: #800080\">/../HubSpot/</span><span style=\"color: #ff00ff; text-decoration-color: #ff00ff\">HubSpot_Get_contact.md</span> moved to \n",
       "docs/templates/HubSpot/HubSpot_Get_contact.md\n",
       "</pre>\n"
      ],
      "text/plain": [
       "✅ ..\u001b[35m/../HubSpot/\u001b[0m\u001b[95mHubSpot_Get_contact.md\u001b[0m moved to \n",
       "docs/templates/HubSpot/HubSpot_Get_contact.md\n"
      ]
     },
     "metadata": {},
     "output_type": "display_data"
    },
    {
     "data": {
      "text/html": [
       "<pre style=\"white-space:pre;overflow-x:auto;line-height:normal;font-family:Menlo,'DejaVu Sans Mono',consolas,'Courier New',monospace\">docs/templates/HubSpot\n",
       "</pre>\n"
      ],
      "text/plain": [
       "docs/templates/HubSpot\n"
      ]
     },
     "metadata": {},
     "output_type": "display_data"
    },
    {
     "data": {
      "text/html": [
       "<pre style=\"white-space:pre;overflow-x:auto;line-height:normal;font-family:Menlo,'DejaVu Sans Mono',consolas,'Courier New',monospace\">✅ ..<span style=\"color: #800080; text-decoration-color: #800080\">/../HubSpot/</span><span style=\"color: #ff00ff; text-decoration-color: #ff00ff\">HubSpot_Get_contacts_associated_to_deal.md</span> moved to \n",
       "docs/templates/HubSpot/HubSpot_Get_contacts_associated_to_deal.md\n",
       "</pre>\n"
      ],
      "text/plain": [
       "✅ ..\u001b[35m/../HubSpot/\u001b[0m\u001b[95mHubSpot_Get_contacts_associated_to_deal.md\u001b[0m moved to \n",
       "docs/templates/HubSpot/HubSpot_Get_contacts_associated_to_deal.md\n"
      ]
     },
     "metadata": {},
     "output_type": "display_data"
    },
    {
     "data": {
      "text/html": [
       "<pre style=\"white-space:pre;overflow-x:auto;line-height:normal;font-family:Menlo,'DejaVu Sans Mono',consolas,'Courier New',monospace\">docs/templates/HubSpot\n",
       "</pre>\n"
      ],
      "text/plain": [
       "docs/templates/HubSpot\n"
      ]
     },
     "metadata": {},
     "output_type": "display_data"
    },
    {
     "data": {
      "text/html": [
       "<pre style=\"white-space:pre;overflow-x:auto;line-height:normal;font-family:Menlo,'DejaVu Sans Mono',consolas,'Courier New',monospace\">✅ ..<span style=\"color: #800080; text-decoration-color: #800080\">/../HubSpot/</span><span style=\"color: #ff00ff; text-decoration-color: #ff00ff\">HubSpot_Get_deal.md</span> moved to docs/templates/HubSpot/HubSpot_Get_deal.md\n",
       "</pre>\n"
      ],
      "text/plain": [
       "✅ ..\u001b[35m/../HubSpot/\u001b[0m\u001b[95mHubSpot_Get_deal.md\u001b[0m moved to docs/templates/HubSpot/HubSpot_Get_deal.md\n"
      ]
     },
     "metadata": {},
     "output_type": "display_data"
    },
    {
     "data": {
      "text/html": [
       "<pre style=\"white-space:pre;overflow-x:auto;line-height:normal;font-family:Menlo,'DejaVu Sans Mono',consolas,'Courier New',monospace\">docs/templates/HubSpot\n",
       "</pre>\n"
      ],
      "text/plain": [
       "docs/templates/HubSpot\n"
      ]
     },
     "metadata": {},
     "output_type": "display_data"
    },
    {
     "data": {
      "text/html": [
       "<pre style=\"white-space:pre;overflow-x:auto;line-height:normal;font-family:Menlo,'DejaVu Sans Mono',consolas,'Courier New',monospace\">✅ ..<span style=\"color: #800080; text-decoration-color: #800080\">/../HubSpot/</span><span style=\"color: #ff00ff; text-decoration-color: #ff00ff\">HubSpot_Get_new_deals_created_weekly.md</span> moved to \n",
       "docs/templates/HubSpot/HubSpot_Get_new_deals_created_weekly.md\n",
       "</pre>\n"
      ],
      "text/plain": [
       "✅ ..\u001b[35m/../HubSpot/\u001b[0m\u001b[95mHubSpot_Get_new_deals_created_weekly.md\u001b[0m moved to \n",
       "docs/templates/HubSpot/HubSpot_Get_new_deals_created_weekly.md\n"
      ]
     },
     "metadata": {},
     "output_type": "display_data"
    },
    {
     "data": {
      "text/html": [
       "<pre style=\"white-space:pre;overflow-x:auto;line-height:normal;font-family:Menlo,'DejaVu Sans Mono',consolas,'Courier New',monospace\">docs/templates/HubSpot\n",
       "</pre>\n"
      ],
      "text/plain": [
       "docs/templates/HubSpot\n"
      ]
     },
     "metadata": {},
     "output_type": "display_data"
    },
    {
     "data": {
      "text/html": [
       "<pre style=\"white-space:pre;overflow-x:auto;line-height:normal;font-family:Menlo,'DejaVu Sans Mono',consolas,'Courier New',monospace\">✅ ..<span style=\"color: #800080; text-decoration-color: #800080\">/../HubSpot/</span><span style=\"color: #ff00ff; text-decoration-color: #ff00ff\">HubSpot_Send_contacts_to_gsheet.md</span> moved to \n",
       "docs/templates/HubSpot/HubSpot_Send_contacts_to_gsheet.md\n",
       "</pre>\n"
      ],
      "text/plain": [
       "✅ ..\u001b[35m/../HubSpot/\u001b[0m\u001b[95mHubSpot_Send_contacts_to_gsheet.md\u001b[0m moved to \n",
       "docs/templates/HubSpot/HubSpot_Send_contacts_to_gsheet.md\n"
      ]
     },
     "metadata": {},
     "output_type": "display_data"
    },
    {
     "data": {
      "text/html": [
       "<pre style=\"white-space:pre;overflow-x:auto;line-height:normal;font-family:Menlo,'DejaVu Sans Mono',consolas,'Courier New',monospace\">docs/templates/HubSpot\n",
       "</pre>\n"
      ],
      "text/plain": [
       "docs/templates/HubSpot\n"
      ]
     },
     "metadata": {},
     "output_type": "display_data"
    },
    {
     "data": {
      "text/html": [
       "<pre style=\"white-space:pre;overflow-x:auto;line-height:normal;font-family:Menlo,'DejaVu Sans Mono',consolas,'Courier New',monospace\">✅ ..<span style=\"color: #800080; text-decoration-color: #800080\">/../HubSpot/</span><span style=\"color: #ff00ff; text-decoration-color: #ff00ff\">HubSpot_Send_deals_to_gsheet.md</span> moved to \n",
       "docs/templates/HubSpot/HubSpot_Send_deals_to_gsheet.md\n",
       "</pre>\n"
      ],
      "text/plain": [
       "✅ ..\u001b[35m/../HubSpot/\u001b[0m\u001b[95mHubSpot_Send_deals_to_gsheet.md\u001b[0m moved to \n",
       "docs/templates/HubSpot/HubSpot_Send_deals_to_gsheet.md\n"
      ]
     },
     "metadata": {},
     "output_type": "display_data"
    },
    {
     "data": {
      "text/html": [
       "<pre style=\"white-space:pre;overflow-x:auto;line-height:normal;font-family:Menlo,'DejaVu Sans Mono',consolas,'Courier New',monospace\">docs/templates/HubSpot\n",
       "</pre>\n"
      ],
      "text/plain": [
       "docs/templates/HubSpot\n"
      ]
     },
     "metadata": {},
     "output_type": "display_data"
    },
    {
     "data": {
      "text/html": [
       "<pre style=\"white-space:pre;overflow-x:auto;line-height:normal;font-family:Menlo,'DejaVu Sans Mono',consolas,'Courier New',monospace\">✅ ..<span style=\"color: #800080; text-decoration-color: #800080\">/../HubSpot/</span><span style=\"color: #ff00ff; text-decoration-color: #ff00ff\">HubSpot_Send_sales_brief.md</span> moved to \n",
       "docs/templates/HubSpot/HubSpot_Send_sales_brief.md\n",
       "</pre>\n"
      ],
      "text/plain": [
       "✅ ..\u001b[35m/../HubSpot/\u001b[0m\u001b[95mHubSpot_Send_sales_brief.md\u001b[0m moved to \n",
       "docs/templates/HubSpot/HubSpot_Send_sales_brief.md\n"
      ]
     },
     "metadata": {},
     "output_type": "display_data"
    },
    {
     "data": {
      "text/html": [
       "<pre style=\"white-space:pre;overflow-x:auto;line-height:normal;font-family:Menlo,'DejaVu Sans Mono',consolas,'Courier New',monospace\">docs/templates/HubSpot\n",
       "</pre>\n"
      ],
      "text/plain": [
       "docs/templates/HubSpot\n"
      ]
     },
     "metadata": {},
     "output_type": "display_data"
    },
    {
     "data": {
      "text/html": [
       "<pre style=\"white-space:pre;overflow-x:auto;line-height:normal;font-family:Menlo,'DejaVu Sans Mono',consolas,'Courier New',monospace\">✅ ..<span style=\"color: #800080; text-decoration-color: #800080\">/../HubSpot/</span><span style=\"color: #ff00ff; text-decoration-color: #ff00ff\">HubSpot_Update_contact.md</span> moved to \n",
       "docs/templates/HubSpot/HubSpot_Update_contact.md\n",
       "</pre>\n"
      ],
      "text/plain": [
       "✅ ..\u001b[35m/../HubSpot/\u001b[0m\u001b[95mHubSpot_Update_contact.md\u001b[0m moved to \n",
       "docs/templates/HubSpot/HubSpot_Update_contact.md\n"
      ]
     },
     "metadata": {},
     "output_type": "display_data"
    },
    {
     "data": {
      "text/html": [
       "<pre style=\"white-space:pre;overflow-x:auto;line-height:normal;font-family:Menlo,'DejaVu Sans Mono',consolas,'Courier New',monospace\">docs/templates/HubSpot\n",
       "</pre>\n"
      ],
      "text/plain": [
       "docs/templates/HubSpot\n"
      ]
     },
     "metadata": {},
     "output_type": "display_data"
    },
    {
     "data": {
      "text/html": [
       "<pre style=\"white-space:pre;overflow-x:auto;line-height:normal;font-family:Menlo,'DejaVu Sans Mono',consolas,'Courier New',monospace\">✅ ..<span style=\"color: #800080; text-decoration-color: #800080\">/../HubSpot/</span><span style=\"color: #ff00ff; text-decoration-color: #ff00ff\">HubSpot_Update_deal.md</span> moved to \n",
       "docs/templates/HubSpot/HubSpot_Update_deal.md\n",
       "</pre>\n"
      ],
      "text/plain": [
       "✅ ..\u001b[35m/../HubSpot/\u001b[0m\u001b[95mHubSpot_Update_deal.md\u001b[0m moved to \n",
       "docs/templates/HubSpot/HubSpot_Update_deal.md\n"
      ]
     },
     "metadata": {},
     "output_type": "display_data"
    },
    {
     "data": {
      "text/html": [
       "<pre style=\"white-space:pre;overflow-x:auto;line-height:normal;font-family:Menlo,'DejaVu Sans Mono',consolas,'Courier New',monospace\">docs/templates/HubSpot\n",
       "</pre>\n"
      ],
      "text/plain": [
       "docs/templates/HubSpot\n"
      ]
     },
     "metadata": {},
     "output_type": "display_data"
    },
    {
     "data": {
      "text/html": [
       "<pre style=\"white-space:pre;overflow-x:auto;line-height:normal;font-family:Menlo,'DejaVu Sans Mono',consolas,'Courier New',monospace\">✅ ..<span style=\"color: #800080; text-decoration-color: #800080\">/../HubSpot/</span><span style=\"color: #ff00ff; text-decoration-color: #ff00ff\">HubSpot_Update_followers_from_linkedin.md</span> moved to \n",
       "docs/templates/HubSpot/HubSpot_Update_followers_from_linkedin.md\n",
       "</pre>\n"
      ],
      "text/plain": [
       "✅ ..\u001b[35m/../HubSpot/\u001b[0m\u001b[95mHubSpot_Update_followers_from_linkedin.md\u001b[0m moved to \n",
       "docs/templates/HubSpot/HubSpot_Update_followers_from_linkedin.md\n"
      ]
     },
     "metadata": {},
     "output_type": "display_data"
    },
    {
     "data": {
      "text/html": [
       "<pre style=\"white-space:pre;overflow-x:auto;line-height:normal;font-family:Menlo,'DejaVu Sans Mono',consolas,'Courier New',monospace\">docs/templates/HubSpot\n",
       "</pre>\n"
      ],
      "text/plain": [
       "docs/templates/HubSpot\n"
      ]
     },
     "metadata": {},
     "output_type": "display_data"
    },
    {
     "data": {
      "text/html": [
       "<pre style=\"white-space:pre;overflow-x:auto;line-height:normal;font-family:Menlo,'DejaVu Sans Mono',consolas,'Courier New',monospace\">✅ ..<span style=\"color: #800080; text-decoration-color: #800080\">/../HubSpot/</span><span style=\"color: #ff00ff; text-decoration-color: #ff00ff\">HubSpot_Update_jobtitle_country_industry_from_linkedin.md</span> moved to \n",
       "docs/templates/HubSpot/HubSpot_Update_jobtitle_country_industry_from_linkedin.md\n",
       "</pre>\n"
      ],
      "text/plain": [
       "✅ ..\u001b[35m/../HubSpot/\u001b[0m\u001b[95mHubSpot_Update_jobtitle_country_industry_from_linkedin.md\u001b[0m moved to \n",
       "docs/templates/HubSpot/HubSpot_Update_jobtitle_country_industry_from_linkedin.md\n"
      ]
     },
     "metadata": {},
     "output_type": "display_data"
    },
    {
     "data": {
      "text/html": [
       "<pre style=\"white-space:pre;overflow-x:auto;line-height:normal;font-family:Menlo,'DejaVu Sans Mono',consolas,'Courier New',monospace\">docs/templates/HubSpot\n",
       "</pre>\n"
      ],
      "text/plain": [
       "docs/templates/HubSpot\n"
      ]
     },
     "metadata": {},
     "output_type": "display_data"
    },
    {
     "data": {
      "text/html": [
       "<pre style=\"white-space:pre;overflow-x:auto;line-height:normal;font-family:Menlo,'DejaVu Sans Mono',consolas,'Courier New',monospace\">✅ ..<span style=\"color: #800080; text-decoration-color: #800080\">/../HubSpot/</span><span style=\"color: #ff00ff; text-decoration-color: #ff00ff\">HubSpot_Update_linkedinbio_from_google.md</span> moved to \n",
       "docs/templates/HubSpot/HubSpot_Update_linkedinbio_from_google.md\n",
       "</pre>\n"
      ],
      "text/plain": [
       "✅ ..\u001b[35m/../HubSpot/\u001b[0m\u001b[95mHubSpot_Update_linkedinbio_from_google.md\u001b[0m moved to \n",
       "docs/templates/HubSpot/HubSpot_Update_linkedinbio_from_google.md\n"
      ]
     },
     "metadata": {},
     "output_type": "display_data"
    },
    {
     "data": {
      "text/html": [
       "<pre style=\"white-space:pre;overflow-x:auto;line-height:normal;font-family:Menlo,'DejaVu Sans Mono',consolas,'Courier New',monospace\">docs/templates/Hugging Face\n",
       "</pre>\n"
      ],
      "text/plain": [
       "docs/templates/Hugging Face\n"
      ]
     },
     "metadata": {},
     "output_type": "display_data"
    },
    {
     "data": {
      "text/html": [
       "<pre style=\"white-space:pre;overflow-x:auto;line-height:normal;font-family:Menlo,'DejaVu Sans Mono',consolas,'Courier New',monospace\">✅ ..<span style=\"color: #800080; text-decoration-color: #800080\">/../</span><span style=\"color: #ff00ff; text-decoration-color: #ff00ff\">Hugging</span> Face/Hugging_Face_Ask_boolean_question_to_T5.md moved to \n",
       "docs/templates/Hugging Face/Hugging_Face_Ask_boolean_question_to_T5.md\n",
       "</pre>\n"
      ],
      "text/plain": [
       "✅ ..\u001b[35m/../\u001b[0m\u001b[95mHugging\u001b[0m Face/Hugging_Face_Ask_boolean_question_to_T5.md moved to \n",
       "docs/templates/Hugging Face/Hugging_Face_Ask_boolean_question_to_T5.md\n"
      ]
     },
     "metadata": {},
     "output_type": "display_data"
    },
    {
     "data": {
      "text/html": [
       "<pre style=\"white-space:pre;overflow-x:auto;line-height:normal;font-family:Menlo,'DejaVu Sans Mono',consolas,'Courier New',monospace\">docs/templates/Hugging Face\n",
       "</pre>\n"
      ],
      "text/plain": [
       "docs/templates/Hugging Face\n"
      ]
     },
     "metadata": {},
     "output_type": "display_data"
    },
    {
     "data": {
      "text/html": [
       "<pre style=\"white-space:pre;overflow-x:auto;line-height:normal;font-family:Menlo,'DejaVu Sans Mono',consolas,'Courier New',monospace\">✅ ..<span style=\"color: #800080; text-decoration-color: #800080\">/../</span><span style=\"color: #ff00ff; text-decoration-color: #ff00ff\">Hugging</span> Face/Hugging_Face_Naas_drivers_integration.md moved to \n",
       "docs/templates/Hugging Face/Hugging_Face_Naas_drivers_integration.md\n",
       "</pre>\n"
      ],
      "text/plain": [
       "✅ ..\u001b[35m/../\u001b[0m\u001b[95mHugging\u001b[0m Face/Hugging_Face_Naas_drivers_integration.md moved to \n",
       "docs/templates/Hugging Face/Hugging_Face_Naas_drivers_integration.md\n"
      ]
     },
     "metadata": {},
     "output_type": "display_data"
    },
    {
     "data": {
      "text/html": [
       "<pre style=\"white-space:pre;overflow-x:auto;line-height:normal;font-family:Menlo,'DejaVu Sans Mono',consolas,'Courier New',monospace\">docs/templates/IFTTT\n",
       "</pre>\n"
      ],
      "text/plain": [
       "docs/templates/IFTTT\n"
      ]
     },
     "metadata": {},
     "output_type": "display_data"
    },
    {
     "data": {
      "text/html": [
       "<pre style=\"white-space:pre;overflow-x:auto;line-height:normal;font-family:Menlo,'DejaVu Sans Mono',consolas,'Courier New',monospace\">✅ ..<span style=\"color: #800080; text-decoration-color: #800080\">/../IFTTT/</span><span style=\"color: #ff00ff; text-decoration-color: #ff00ff\">IFTTT_Post_on_Twitter.md</span> moved to \n",
       "docs/templates/IFTTT/IFTTT_Post_on_Twitter.md\n",
       "</pre>\n"
      ],
      "text/plain": [
       "✅ ..\u001b[35m/../IFTTT/\u001b[0m\u001b[95mIFTTT_Post_on_Twitter.md\u001b[0m moved to \n",
       "docs/templates/IFTTT/IFTTT_Post_on_Twitter.md\n"
      ]
     },
     "metadata": {},
     "output_type": "display_data"
    },
    {
     "data": {
      "text/html": [
       "<pre style=\"white-space:pre;overflow-x:auto;line-height:normal;font-family:Menlo,'DejaVu Sans Mono',consolas,'Courier New',monospace\">docs/templates/IFTTT\n",
       "</pre>\n"
      ],
      "text/plain": [
       "docs/templates/IFTTT\n"
      ]
     },
     "metadata": {},
     "output_type": "display_data"
    },
    {
     "data": {
      "text/html": [
       "<pre style=\"white-space:pre;overflow-x:auto;line-height:normal;font-family:Menlo,'DejaVu Sans Mono',consolas,'Courier New',monospace\">✅ ..<span style=\"color: #800080; text-decoration-color: #800080\">/../IFTTT/</span><span style=\"color: #ff00ff; text-decoration-color: #ff00ff\">IFTTT_Trigger_workflow.md</span> moved to \n",
       "docs/templates/IFTTT/IFTTT_Trigger_workflow.md\n",
       "</pre>\n"
      ],
      "text/plain": [
       "✅ ..\u001b[35m/../IFTTT/\u001b[0m\u001b[95mIFTTT_Trigger_workflow.md\u001b[0m moved to \n",
       "docs/templates/IFTTT/IFTTT_Trigger_workflow.md\n"
      ]
     },
     "metadata": {},
     "output_type": "display_data"
    },
    {
     "data": {
      "text/html": [
       "<pre style=\"white-space:pre;overflow-x:auto;line-height:normal;font-family:Menlo,'DejaVu Sans Mono',consolas,'Courier New',monospace\">docs/templates/IMDB\n",
       "</pre>\n"
      ],
      "text/plain": [
       "docs/templates/IMDB\n"
      ]
     },
     "metadata": {},
     "output_type": "display_data"
    },
    {
     "data": {
      "text/html": [
       "<pre style=\"white-space:pre;overflow-x:auto;line-height:normal;font-family:Menlo,'DejaVu Sans Mono',consolas,'Courier New',monospace\">✅ ..<span style=\"color: #800080; text-decoration-color: #800080\">/../IMDB/</span><span style=\"color: #ff00ff; text-decoration-color: #ff00ff\">Top_IMDB_Movie.md</span> moved to docs/templates/IMDB/Top_IMDB_Movie.md\n",
       "</pre>\n"
      ],
      "text/plain": [
       "✅ ..\u001b[35m/../IMDB/\u001b[0m\u001b[95mTop_IMDB_Movie.md\u001b[0m moved to docs/templates/IMDB/Top_IMDB_Movie.md\n"
      ]
     },
     "metadata": {},
     "output_type": "display_data"
    },
    {
     "data": {
      "text/html": [
       "<pre style=\"white-space:pre;overflow-x:auto;line-height:normal;font-family:Menlo,'DejaVu Sans Mono',consolas,'Courier New',monospace\">docs/templates/IUCN\n",
       "</pre>\n"
      ],
      "text/plain": [
       "docs/templates/IUCN\n"
      ]
     },
     "metadata": {},
     "output_type": "display_data"
    },
    {
     "data": {
      "text/html": [
       "<pre style=\"white-space:pre;overflow-x:auto;line-height:normal;font-family:Menlo,'DejaVu Sans Mono',consolas,'Courier New',monospace\">✅ ..<span style=\"color: #800080; text-decoration-color: #800080\">/../IUCN/</span><span style=\"color: #ff00ff; text-decoration-color: #ff00ff\">IUCN_Extinct_species.md</span> moved to docs/templates/IUCN/IUCN_Extinct_species.md\n",
       "</pre>\n"
      ],
      "text/plain": [
       "✅ ..\u001b[35m/../IUCN/\u001b[0m\u001b[95mIUCN_Extinct_species.md\u001b[0m moved to docs/templates/IUCN/IUCN_Extinct_species.md\n"
      ]
     },
     "metadata": {},
     "output_type": "display_data"
    },
    {
     "data": {
      "text/html": [
       "<pre style=\"white-space:pre;overflow-x:auto;line-height:normal;font-family:Menlo,'DejaVu Sans Mono',consolas,'Courier New',monospace\">docs/templates/Instagram\n",
       "</pre>\n"
      ],
      "text/plain": [
       "docs/templates/Instagram\n"
      ]
     },
     "metadata": {},
     "output_type": "display_data"
    },
    {
     "data": {
      "text/html": [
       "<pre style=\"white-space:pre;overflow-x:auto;line-height:normal;font-family:Menlo,'DejaVu Sans Mono',consolas,'Courier New',monospace\">✅ ..<span style=\"color: #800080; text-decoration-color: #800080\">/../Instagram/</span><span style=\"color: #ff00ff; text-decoration-color: #ff00ff\">Instagram_Post_image_and_caption.md</span> moved to \n",
       "docs/templates/Instagram/Instagram_Post_image_and_caption.md\n",
       "</pre>\n"
      ],
      "text/plain": [
       "✅ ..\u001b[35m/../Instagram/\u001b[0m\u001b[95mInstagram_Post_image_and_caption.md\u001b[0m moved to \n",
       "docs/templates/Instagram/Instagram_Post_image_and_caption.md\n"
      ]
     },
     "metadata": {},
     "output_type": "display_data"
    },
    {
     "data": {
      "text/html": [
       "<pre style=\"white-space:pre;overflow-x:auto;line-height:normal;font-family:Menlo,'DejaVu Sans Mono',consolas,'Courier New',monospace\">docs/templates/Integromat\n",
       "</pre>\n"
      ],
      "text/plain": [
       "docs/templates/Integromat\n"
      ]
     },
     "metadata": {},
     "output_type": "display_data"
    },
    {
     "data": {
      "text/html": [
       "<pre style=\"white-space:pre;overflow-x:auto;line-height:normal;font-family:Menlo,'DejaVu Sans Mono',consolas,'Courier New',monospace\">✅ ..<span style=\"color: #800080; text-decoration-color: #800080\">/../Integromat/</span><span style=\"color: #ff00ff; text-decoration-color: #ff00ff\">Integromat_Trigger_workflow.md</span> moved to \n",
       "docs/templates/Integromat/Integromat_Trigger_workflow.md\n",
       "</pre>\n"
      ],
      "text/plain": [
       "✅ ..\u001b[35m/../Integromat/\u001b[0m\u001b[95mIntegromat_Trigger_workflow.md\u001b[0m moved to \n",
       "docs/templates/Integromat/Integromat_Trigger_workflow.md\n"
      ]
     },
     "metadata": {},
     "output_type": "display_data"
    },
    {
     "data": {
      "text/html": [
       "<pre style=\"white-space:pre;overflow-x:auto;line-height:normal;font-family:Menlo,'DejaVu Sans Mono',consolas,'Courier New',monospace\">docs/templates/Johns Hopkins\n",
       "</pre>\n"
      ],
      "text/plain": [
       "docs/templates/Johns Hopkins\n"
      ]
     },
     "metadata": {},
     "output_type": "display_data"
    },
    {
     "data": {
      "text/html": [
       "<pre style=\"white-space:pre;overflow-x:auto;line-height:normal;font-family:Menlo,'DejaVu Sans Mono',consolas,'Courier New',monospace\">✅ ..<span style=\"color: #800080; text-decoration-color: #800080\">/../</span><span style=\"color: #ff00ff; text-decoration-color: #ff00ff\">Johns</span> Hopkins/Johns_Hopkins_Covid19_Active_Cases.md moved to docs/templates/Johns \n",
       "Hopkins/Johns_Hopkins_Covid19_Active_Cases.md\n",
       "</pre>\n"
      ],
      "text/plain": [
       "✅ ..\u001b[35m/../\u001b[0m\u001b[95mJohns\u001b[0m Hopkins/Johns_Hopkins_Covid19_Active_Cases.md moved to docs/templates/Johns \n",
       "Hopkins/Johns_Hopkins_Covid19_Active_Cases.md\n"
      ]
     },
     "metadata": {},
     "output_type": "display_data"
    },
    {
     "data": {
      "text/html": [
       "<pre style=\"white-space:pre;overflow-x:auto;line-height:normal;font-family:Menlo,'DejaVu Sans Mono',consolas,'Courier New',monospace\">docs/templates/Jupyter\n",
       "</pre>\n"
      ],
      "text/plain": [
       "docs/templates/Jupyter\n"
      ]
     },
     "metadata": {},
     "output_type": "display_data"
    },
    {
     "data": {
      "text/html": [
       "<pre style=\"white-space:pre;overflow-x:auto;line-height:normal;font-family:Menlo,'DejaVu Sans Mono',consolas,'Courier New',monospace\">✅ ..<span style=\"color: #800080; text-decoration-color: #800080\">/../Jupyter/</span><span style=\"color: #ff00ff; text-decoration-color: #ff00ff\">Jupyter_Get_user_information.md</span> moved to \n",
       "docs/templates/Jupyter/Jupyter_Get_user_information.md\n",
       "</pre>\n"
      ],
      "text/plain": [
       "✅ ..\u001b[35m/../Jupyter/\u001b[0m\u001b[95mJupyter_Get_user_information.md\u001b[0m moved to \n",
       "docs/templates/Jupyter/Jupyter_Get_user_information.md\n"
      ]
     },
     "metadata": {},
     "output_type": "display_data"
    },
    {
     "data": {
      "text/html": [
       "<pre style=\"white-space:pre;overflow-x:auto;line-height:normal;font-family:Menlo,'DejaVu Sans Mono',consolas,'Courier New',monospace\">docs/templates/LinkedIn\n",
       "</pre>\n"
      ],
      "text/plain": [
       "docs/templates/LinkedIn\n"
      ]
     },
     "metadata": {},
     "output_type": "display_data"
    },
    {
     "data": {
      "text/html": [
       "<pre style=\"white-space:pre;overflow-x:auto;line-height:normal;font-family:Menlo,'DejaVu Sans Mono',consolas,'Courier New',monospace\">✅ ..<span style=\"color: #800080; text-decoration-color: #800080\">/../LinkedIn/</span><span style=\"color: #ff00ff; text-decoration-color: #ff00ff\">LinkedIn+Notion_Update_metrics_in_content_calendar_from_posts.md</span> moved to \n",
       "docs/templates/LinkedIn/LinkedIn+Notion_Update_metrics_in_content_calendar_from_posts.md\n",
       "</pre>\n"
      ],
      "text/plain": [
       "✅ ..\u001b[35m/../LinkedIn/\u001b[0m\u001b[95mLinkedIn+Notion_Update_metrics_in_content_calendar_from_posts.md\u001b[0m moved to \n",
       "docs/templates/LinkedIn/LinkedIn+Notion_Update_metrics_in_content_calendar_from_posts.md\n"
      ]
     },
     "metadata": {},
     "output_type": "display_data"
    },
    {
     "data": {
      "text/html": [
       "<pre style=\"white-space:pre;overflow-x:auto;line-height:normal;font-family:Menlo,'DejaVu Sans Mono',consolas,'Courier New',monospace\">docs/templates/LinkedIn\n",
       "</pre>\n"
      ],
      "text/plain": [
       "docs/templates/LinkedIn\n"
      ]
     },
     "metadata": {},
     "output_type": "display_data"
    },
    {
     "data": {
      "text/html": [
       "<pre style=\"white-space:pre;overflow-x:auto;line-height:normal;font-family:Menlo,'DejaVu Sans Mono',consolas,'Courier New',monospace\">✅ ..<span style=\"color: #800080; text-decoration-color: #800080\">/../LinkedIn/</span><span style=\"color: #ff00ff; text-decoration-color: #ff00ff\">LinkedIn_Get_comments_from_post.md</span> moved to \n",
       "docs/templates/LinkedIn/LinkedIn_Get_comments_from_post.md\n",
       "</pre>\n"
      ],
      "text/plain": [
       "✅ ..\u001b[35m/../LinkedIn/\u001b[0m\u001b[95mLinkedIn_Get_comments_from_post.md\u001b[0m moved to \n",
       "docs/templates/LinkedIn/LinkedIn_Get_comments_from_post.md\n"
      ]
     },
     "metadata": {},
     "output_type": "display_data"
    },
    {
     "data": {
      "text/html": [
       "<pre style=\"white-space:pre;overflow-x:auto;line-height:normal;font-family:Menlo,'DejaVu Sans Mono',consolas,'Courier New',monospace\">docs/templates/LinkedIn\n",
       "</pre>\n"
      ],
      "text/plain": [
       "docs/templates/LinkedIn\n"
      ]
     },
     "metadata": {},
     "output_type": "display_data"
    },
    {
     "data": {
      "text/html": [
       "<pre style=\"white-space:pre;overflow-x:auto;line-height:normal;font-family:Menlo,'DejaVu Sans Mono',consolas,'Courier New',monospace\">✅ ..<span style=\"color: #800080; text-decoration-color: #800080\">/../LinkedIn/</span><span style=\"color: #ff00ff; text-decoration-color: #ff00ff\">LinkedIn_Get_connections_from_network.md</span> moved to \n",
       "docs/templates/LinkedIn/LinkedIn_Get_connections_from_network.md\n",
       "</pre>\n"
      ],
      "text/plain": [
       "✅ ..\u001b[35m/../LinkedIn/\u001b[0m\u001b[95mLinkedIn_Get_connections_from_network.md\u001b[0m moved to \n",
       "docs/templates/LinkedIn/LinkedIn_Get_connections_from_network.md\n"
      ]
     },
     "metadata": {},
     "output_type": "display_data"
    },
    {
     "data": {
      "text/html": [
       "<pre style=\"white-space:pre;overflow-x:auto;line-height:normal;font-family:Menlo,'DejaVu Sans Mono',consolas,'Courier New',monospace\">docs/templates/LinkedIn\n",
       "</pre>\n"
      ],
      "text/plain": [
       "docs/templates/LinkedIn\n"
      ]
     },
     "metadata": {},
     "output_type": "display_data"
    },
    {
     "data": {
      "text/html": [
       "<pre style=\"white-space:pre;overflow-x:auto;line-height:normal;font-family:Menlo,'DejaVu Sans Mono',consolas,'Courier New',monospace\">✅ ..<span style=\"color: #800080; text-decoration-color: #800080\">/../LinkedIn/</span><span style=\"color: #ff00ff; text-decoration-color: #ff00ff\">LinkedIn_Get_contact_from_profile.md</span> moved to \n",
       "docs/templates/LinkedIn/LinkedIn_Get_contact_from_profile.md\n",
       "</pre>\n"
      ],
      "text/plain": [
       "✅ ..\u001b[35m/../LinkedIn/\u001b[0m\u001b[95mLinkedIn_Get_contact_from_profile.md\u001b[0m moved to \n",
       "docs/templates/LinkedIn/LinkedIn_Get_contact_from_profile.md\n"
      ]
     },
     "metadata": {},
     "output_type": "display_data"
    },
    {
     "data": {
      "text/html": [
       "<pre style=\"white-space:pre;overflow-x:auto;line-height:normal;font-family:Menlo,'DejaVu Sans Mono',consolas,'Courier New',monospace\">docs/templates/LinkedIn\n",
       "</pre>\n"
      ],
      "text/plain": [
       "docs/templates/LinkedIn\n"
      ]
     },
     "metadata": {},
     "output_type": "display_data"
    },
    {
     "data": {
      "text/html": [
       "<pre style=\"white-space:pre;overflow-x:auto;line-height:normal;font-family:Menlo,'DejaVu Sans Mono',consolas,'Courier New',monospace\">✅ ..<span style=\"color: #800080; text-decoration-color: #800080\">/../LinkedIn/</span><span style=\"color: #ff00ff; text-decoration-color: #ff00ff\">LinkedIn_Get_conversations.md</span> moved to \n",
       "docs/templates/LinkedIn/LinkedIn_Get_conversations.md\n",
       "</pre>\n"
      ],
      "text/plain": [
       "✅ ..\u001b[35m/../LinkedIn/\u001b[0m\u001b[95mLinkedIn_Get_conversations.md\u001b[0m moved to \n",
       "docs/templates/LinkedIn/LinkedIn_Get_conversations.md\n"
      ]
     },
     "metadata": {},
     "output_type": "display_data"
    },
    {
     "data": {
      "text/html": [
       "<pre style=\"white-space:pre;overflow-x:auto;line-height:normal;font-family:Menlo,'DejaVu Sans Mono',consolas,'Courier New',monospace\">docs/templates/LinkedIn\n",
       "</pre>\n"
      ],
      "text/plain": [
       "docs/templates/LinkedIn\n"
      ]
     },
     "metadata": {},
     "output_type": "display_data"
    },
    {
     "data": {
      "text/html": [
       "<pre style=\"white-space:pre;overflow-x:auto;line-height:normal;font-family:Menlo,'DejaVu Sans Mono',consolas,'Courier New',monospace\">✅ ..<span style=\"color: #800080; text-decoration-color: #800080\">/../LinkedIn/</span><span style=\"color: #ff00ff; text-decoration-color: #ff00ff\">LinkedIn_Get_followers_from_network.md</span> moved to \n",
       "docs/templates/LinkedIn/LinkedIn_Get_followers_from_network.md\n",
       "</pre>\n"
      ],
      "text/plain": [
       "✅ ..\u001b[35m/../LinkedIn/\u001b[0m\u001b[95mLinkedIn_Get_followers_from_network.md\u001b[0m moved to \n",
       "docs/templates/LinkedIn/LinkedIn_Get_followers_from_network.md\n"
      ]
     },
     "metadata": {},
     "output_type": "display_data"
    },
    {
     "data": {
      "text/html": [
       "<pre style=\"white-space:pre;overflow-x:auto;line-height:normal;font-family:Menlo,'DejaVu Sans Mono',consolas,'Courier New',monospace\">docs/templates/LinkedIn\n",
       "</pre>\n"
      ],
      "text/plain": [
       "docs/templates/LinkedIn\n"
      ]
     },
     "metadata": {},
     "output_type": "display_data"
    },
    {
     "data": {
      "text/html": [
       "<pre style=\"white-space:pre;overflow-x:auto;line-height:normal;font-family:Menlo,'DejaVu Sans Mono',consolas,'Courier New',monospace\">✅ ..<span style=\"color: #800080; text-decoration-color: #800080\">/../LinkedIn/</span><span style=\"color: #ff00ff; text-decoration-color: #ff00ff\">LinkedIn_Get_guests_from_event.md</span> moved to \n",
       "docs/templates/LinkedIn/LinkedIn_Get_guests_from_event.md\n",
       "</pre>\n"
      ],
      "text/plain": [
       "✅ ..\u001b[35m/../LinkedIn/\u001b[0m\u001b[95mLinkedIn_Get_guests_from_event.md\u001b[0m moved to \n",
       "docs/templates/LinkedIn/LinkedIn_Get_guests_from_event.md\n"
      ]
     },
     "metadata": {},
     "output_type": "display_data"
    },
    {
     "data": {
      "text/html": [
       "<pre style=\"white-space:pre;overflow-x:auto;line-height:normal;font-family:Menlo,'DejaVu Sans Mono',consolas,'Courier New',monospace\">docs/templates/LinkedIn\n",
       "</pre>\n"
      ],
      "text/plain": [
       "docs/templates/LinkedIn\n"
      ]
     },
     "metadata": {},
     "output_type": "display_data"
    },
    {
     "data": {
      "text/html": [
       "<pre style=\"white-space:pre;overflow-x:auto;line-height:normal;font-family:Menlo,'DejaVu Sans Mono',consolas,'Courier New',monospace\">✅ ..<span style=\"color: #800080; text-decoration-color: #800080\">/../LinkedIn/</span><span style=\"color: #ff00ff; text-decoration-color: #ff00ff\">LinkedIn_Get_identity_from_profile.md</span> moved to \n",
       "docs/templates/LinkedIn/LinkedIn_Get_identity_from_profile.md\n",
       "</pre>\n"
      ],
      "text/plain": [
       "✅ ..\u001b[35m/../LinkedIn/\u001b[0m\u001b[95mLinkedIn_Get_identity_from_profile.md\u001b[0m moved to \n",
       "docs/templates/LinkedIn/LinkedIn_Get_identity_from_profile.md\n"
      ]
     },
     "metadata": {},
     "output_type": "display_data"
    },
    {
     "data": {
      "text/html": [
       "<pre style=\"white-space:pre;overflow-x:auto;line-height:normal;font-family:Menlo,'DejaVu Sans Mono',consolas,'Courier New',monospace\">docs/templates/LinkedIn\n",
       "</pre>\n"
      ],
      "text/plain": [
       "docs/templates/LinkedIn\n"
      ]
     },
     "metadata": {},
     "output_type": "display_data"
    },
    {
     "data": {
      "text/html": [
       "<pre style=\"white-space:pre;overflow-x:auto;line-height:normal;font-family:Menlo,'DejaVu Sans Mono',consolas,'Courier New',monospace\">✅ ..<span style=\"color: #800080; text-decoration-color: #800080\">/../LinkedIn/</span><span style=\"color: #ff00ff; text-decoration-color: #ff00ff\">LinkedIn_Get_likes_from_post.md</span> moved to \n",
       "docs/templates/LinkedIn/LinkedIn_Get_likes_from_post.md\n",
       "</pre>\n"
      ],
      "text/plain": [
       "✅ ..\u001b[35m/../LinkedIn/\u001b[0m\u001b[95mLinkedIn_Get_likes_from_post.md\u001b[0m moved to \n",
       "docs/templates/LinkedIn/LinkedIn_Get_likes_from_post.md\n"
      ]
     },
     "metadata": {},
     "output_type": "display_data"
    },
    {
     "data": {
      "text/html": [
       "<pre style=\"white-space:pre;overflow-x:auto;line-height:normal;font-family:Menlo,'DejaVu Sans Mono',consolas,'Courier New',monospace\">docs/templates/LinkedIn\n",
       "</pre>\n"
      ],
      "text/plain": [
       "docs/templates/LinkedIn\n"
      ]
     },
     "metadata": {},
     "output_type": "display_data"
    },
    {
     "data": {
      "text/html": [
       "<pre style=\"white-space:pre;overflow-x:auto;line-height:normal;font-family:Menlo,'DejaVu Sans Mono',consolas,'Courier New',monospace\">✅ ..<span style=\"color: #800080; text-decoration-color: #800080\">/../LinkedIn/</span><span style=\"color: #ff00ff; text-decoration-color: #ff00ff\">LinkedIn_Get_messages_from_profile.md</span> moved to \n",
       "docs/templates/LinkedIn/LinkedIn_Get_messages_from_profile.md\n",
       "</pre>\n"
      ],
      "text/plain": [
       "✅ ..\u001b[35m/../LinkedIn/\u001b[0m\u001b[95mLinkedIn_Get_messages_from_profile.md\u001b[0m moved to \n",
       "docs/templates/LinkedIn/LinkedIn_Get_messages_from_profile.md\n"
      ]
     },
     "metadata": {},
     "output_type": "display_data"
    },
    {
     "data": {
      "text/html": [
       "<pre style=\"white-space:pre;overflow-x:auto;line-height:normal;font-family:Menlo,'DejaVu Sans Mono',consolas,'Courier New',monospace\">docs/templates/LinkedIn\n",
       "</pre>\n"
      ],
      "text/plain": [
       "docs/templates/LinkedIn\n"
      ]
     },
     "metadata": {},
     "output_type": "display_data"
    },
    {
     "data": {
      "text/html": [
       "<pre style=\"white-space:pre;overflow-x:auto;line-height:normal;font-family:Menlo,'DejaVu Sans Mono',consolas,'Courier New',monospace\">✅ ..<span style=\"color: #800080; text-decoration-color: #800080\">/../LinkedIn/</span><span style=\"color: #ff00ff; text-decoration-color: #ff00ff\">LinkedIn_Get_network_from_profile.md</span> moved to \n",
       "docs/templates/LinkedIn/LinkedIn_Get_network_from_profile.md\n",
       "</pre>\n"
      ],
      "text/plain": [
       "✅ ..\u001b[35m/../LinkedIn/\u001b[0m\u001b[95mLinkedIn_Get_network_from_profile.md\u001b[0m moved to \n",
       "docs/templates/LinkedIn/LinkedIn_Get_network_from_profile.md\n"
      ]
     },
     "metadata": {},
     "output_type": "display_data"
    },
    {
     "data": {
      "text/html": [
       "<pre style=\"white-space:pre;overflow-x:auto;line-height:normal;font-family:Menlo,'DejaVu Sans Mono',consolas,'Courier New',monospace\">docs/templates/LinkedIn\n",
       "</pre>\n"
      ],
      "text/plain": [
       "docs/templates/LinkedIn\n"
      ]
     },
     "metadata": {},
     "output_type": "display_data"
    },
    {
     "data": {
      "text/html": [
       "<pre style=\"white-space:pre;overflow-x:auto;line-height:normal;font-family:Menlo,'DejaVu Sans Mono',consolas,'Courier New',monospace\">✅ ..<span style=\"color: #800080; text-decoration-color: #800080\">/../LinkedIn/</span><span style=\"color: #ff00ff; text-decoration-color: #ff00ff\">LinkedIn_Get_polls_from_post.md</span> moved to \n",
       "docs/templates/LinkedIn/LinkedIn_Get_polls_from_post.md\n",
       "</pre>\n"
      ],
      "text/plain": [
       "✅ ..\u001b[35m/../LinkedIn/\u001b[0m\u001b[95mLinkedIn_Get_polls_from_post.md\u001b[0m moved to \n",
       "docs/templates/LinkedIn/LinkedIn_Get_polls_from_post.md\n"
      ]
     },
     "metadata": {},
     "output_type": "display_data"
    },
    {
     "data": {
      "text/html": [
       "<pre style=\"white-space:pre;overflow-x:auto;line-height:normal;font-family:Menlo,'DejaVu Sans Mono',consolas,'Courier New',monospace\">docs/templates/LinkedIn\n",
       "</pre>\n"
      ],
      "text/plain": [
       "docs/templates/LinkedIn\n"
      ]
     },
     "metadata": {},
     "output_type": "display_data"
    },
    {
     "data": {
      "text/html": [
       "<pre style=\"white-space:pre;overflow-x:auto;line-height:normal;font-family:Menlo,'DejaVu Sans Mono',consolas,'Courier New',monospace\">✅ ..<span style=\"color: #800080; text-decoration-color: #800080\">/../LinkedIn/</span><span style=\"color: #ff00ff; text-decoration-color: #ff00ff\">LinkedIn_Get_posts_feed_from_profile.md</span> moved to \n",
       "docs/templates/LinkedIn/LinkedIn_Get_posts_feed_from_profile.md\n",
       "</pre>\n"
      ],
      "text/plain": [
       "✅ ..\u001b[35m/../LinkedIn/\u001b[0m\u001b[95mLinkedIn_Get_posts_feed_from_profile.md\u001b[0m moved to \n",
       "docs/templates/LinkedIn/LinkedIn_Get_posts_feed_from_profile.md\n"
      ]
     },
     "metadata": {},
     "output_type": "display_data"
    },
    {
     "data": {
      "text/html": [
       "<pre style=\"white-space:pre;overflow-x:auto;line-height:normal;font-family:Menlo,'DejaVu Sans Mono',consolas,'Courier New',monospace\">docs/templates/LinkedIn\n",
       "</pre>\n"
      ],
      "text/plain": [
       "docs/templates/LinkedIn\n"
      ]
     },
     "metadata": {},
     "output_type": "display_data"
    },
    {
     "data": {
      "text/html": [
       "<pre style=\"white-space:pre;overflow-x:auto;line-height:normal;font-family:Menlo,'DejaVu Sans Mono',consolas,'Courier New',monospace\">✅ ..<span style=\"color: #800080; text-decoration-color: #800080\">/../LinkedIn/</span><span style=\"color: #ff00ff; text-decoration-color: #ff00ff\">LinkedIn_Get_posts_stats_from_profile.md</span> moved to \n",
       "docs/templates/LinkedIn/LinkedIn_Get_posts_stats_from_profile.md\n",
       "</pre>\n"
      ],
      "text/plain": [
       "✅ ..\u001b[35m/../LinkedIn/\u001b[0m\u001b[95mLinkedIn_Get_posts_stats_from_profile.md\u001b[0m moved to \n",
       "docs/templates/LinkedIn/LinkedIn_Get_posts_stats_from_profile.md\n"
      ]
     },
     "metadata": {},
     "output_type": "display_data"
    },
    {
     "data": {
      "text/html": [
       "<pre style=\"white-space:pre;overflow-x:auto;line-height:normal;font-family:Menlo,'DejaVu Sans Mono',consolas,'Courier New',monospace\">docs/templates/LinkedIn\n",
       "</pre>\n"
      ],
      "text/plain": [
       "docs/templates/LinkedIn\n"
      ]
     },
     "metadata": {},
     "output_type": "display_data"
    },
    {
     "data": {
      "text/html": [
       "<pre style=\"white-space:pre;overflow-x:auto;line-height:normal;font-family:Menlo,'DejaVu Sans Mono',consolas,'Courier New',monospace\">✅ ..<span style=\"color: #800080; text-decoration-color: #800080\">/../LinkedIn/</span><span style=\"color: #ff00ff; text-decoration-color: #ff00ff\">LinkedIn_Get_resume_from_profile.md</span> moved to \n",
       "docs/templates/LinkedIn/LinkedIn_Get_resume_from_profile.md\n",
       "</pre>\n"
      ],
      "text/plain": [
       "✅ ..\u001b[35m/../LinkedIn/\u001b[0m\u001b[95mLinkedIn_Get_resume_from_profile.md\u001b[0m moved to \n",
       "docs/templates/LinkedIn/LinkedIn_Get_resume_from_profile.md\n"
      ]
     },
     "metadata": {},
     "output_type": "display_data"
    },
    {
     "data": {
      "text/html": [
       "<pre style=\"white-space:pre;overflow-x:auto;line-height:normal;font-family:Menlo,'DejaVu Sans Mono',consolas,'Courier New',monospace\">docs/templates/LinkedIn\n",
       "</pre>\n"
      ],
      "text/plain": [
       "docs/templates/LinkedIn\n"
      ]
     },
     "metadata": {},
     "output_type": "display_data"
    },
    {
     "data": {
      "text/html": [
       "<pre style=\"white-space:pre;overflow-x:auto;line-height:normal;font-family:Menlo,'DejaVu Sans Mono',consolas,'Courier New',monospace\">✅ ..<span style=\"color: #800080; text-decoration-color: #800080\">/../LinkedIn/</span><span style=\"color: #ff00ff; text-decoration-color: #ff00ff\">LinkedIn_Get_stats_from_post.md</span> moved to \n",
       "docs/templates/LinkedIn/LinkedIn_Get_stats_from_post.md\n",
       "</pre>\n"
      ],
      "text/plain": [
       "✅ ..\u001b[35m/../LinkedIn/\u001b[0m\u001b[95mLinkedIn_Get_stats_from_post.md\u001b[0m moved to \n",
       "docs/templates/LinkedIn/LinkedIn_Get_stats_from_post.md\n"
      ]
     },
     "metadata": {},
     "output_type": "display_data"
    },
    {
     "data": {
      "text/html": [
       "<pre style=\"white-space:pre;overflow-x:auto;line-height:normal;font-family:Menlo,'DejaVu Sans Mono',consolas,'Courier New',monospace\">docs/templates/LinkedIn\n",
       "</pre>\n"
      ],
      "text/plain": [
       "docs/templates/LinkedIn\n"
      ]
     },
     "metadata": {},
     "output_type": "display_data"
    },
    {
     "data": {
      "text/html": [
       "<pre style=\"white-space:pre;overflow-x:auto;line-height:normal;font-family:Menlo,'DejaVu Sans Mono',consolas,'Courier New',monospace\">✅ ..<span style=\"color: #800080; text-decoration-color: #800080\">/../LinkedIn/</span><span style=\"color: #ff00ff; text-decoration-color: #ff00ff\">LinkedIn_Send_comments_from_post_in_gsheet.md</span> moved to \n",
       "docs/templates/LinkedIn/LinkedIn_Send_comments_from_post_in_gsheet.md\n",
       "</pre>\n"
      ],
      "text/plain": [
       "✅ ..\u001b[35m/../LinkedIn/\u001b[0m\u001b[95mLinkedIn_Send_comments_from_post_in_gsheet.md\u001b[0m moved to \n",
       "docs/templates/LinkedIn/LinkedIn_Send_comments_from_post_in_gsheet.md\n"
      ]
     },
     "metadata": {},
     "output_type": "display_data"
    },
    {
     "data": {
      "text/html": [
       "<pre style=\"white-space:pre;overflow-x:auto;line-height:normal;font-family:Menlo,'DejaVu Sans Mono',consolas,'Courier New',monospace\">docs/templates/LinkedIn\n",
       "</pre>\n"
      ],
      "text/plain": [
       "docs/templates/LinkedIn\n"
      ]
     },
     "metadata": {},
     "output_type": "display_data"
    },
    {
     "data": {
      "text/html": [
       "<pre style=\"white-space:pre;overflow-x:auto;line-height:normal;font-family:Menlo,'DejaVu Sans Mono',consolas,'Courier New',monospace\">✅ ..<span style=\"color: #800080; text-decoration-color: #800080\">/../LinkedIn/</span><span style=\"color: #ff00ff; text-decoration-color: #ff00ff\">LinkedIn_Send_invitation_to_profile.md</span> moved to \n",
       "docs/templates/LinkedIn/LinkedIn_Send_invitation_to_profile.md\n",
       "</pre>\n"
      ],
      "text/plain": [
       "✅ ..\u001b[35m/../LinkedIn/\u001b[0m\u001b[95mLinkedIn_Send_invitation_to_profile.md\u001b[0m moved to \n",
       "docs/templates/LinkedIn/LinkedIn_Send_invitation_to_profile.md\n"
      ]
     },
     "metadata": {},
     "output_type": "display_data"
    },
    {
     "data": {
      "text/html": [
       "<pre style=\"white-space:pre;overflow-x:auto;line-height:normal;font-family:Menlo,'DejaVu Sans Mono',consolas,'Courier New',monospace\">docs/templates/LinkedIn\n",
       "</pre>\n"
      ],
      "text/plain": [
       "docs/templates/LinkedIn\n"
      ]
     },
     "metadata": {},
     "output_type": "display_data"
    },
    {
     "data": {
      "text/html": [
       "<pre style=\"white-space:pre;overflow-x:auto;line-height:normal;font-family:Menlo,'DejaVu Sans Mono',consolas,'Courier New',monospace\">✅ ..<span style=\"color: #800080; text-decoration-color: #800080\">/../LinkedIn/</span><span style=\"color: #ff00ff; text-decoration-color: #ff00ff\">LinkedIn_Send_likes_from_post_in_gsheet.md</span> moved to \n",
       "docs/templates/LinkedIn/LinkedIn_Send_likes_from_post_in_gsheet.md\n",
       "</pre>\n"
      ],
      "text/plain": [
       "✅ ..\u001b[35m/../LinkedIn/\u001b[0m\u001b[95mLinkedIn_Send_likes_from_post_in_gsheet.md\u001b[0m moved to \n",
       "docs/templates/LinkedIn/LinkedIn_Send_likes_from_post_in_gsheet.md\n"
      ]
     },
     "metadata": {},
     "output_type": "display_data"
    },
    {
     "data": {
      "text/html": [
       "<pre style=\"white-space:pre;overflow-x:auto;line-height:normal;font-family:Menlo,'DejaVu Sans Mono',consolas,'Courier New',monospace\">docs/templates/LinkedIn\n",
       "</pre>\n"
      ],
      "text/plain": [
       "docs/templates/LinkedIn\n"
      ]
     },
     "metadata": {},
     "output_type": "display_data"
    },
    {
     "data": {
      "text/html": [
       "<pre style=\"white-space:pre;overflow-x:auto;line-height:normal;font-family:Menlo,'DejaVu Sans Mono',consolas,'Courier New',monospace\">✅ ..<span style=\"color: #800080; text-decoration-color: #800080\">/../LinkedIn/</span><span style=\"color: #ff00ff; text-decoration-color: #ff00ff\">LinkedIn_Send_message_to_profile.md</span> moved to \n",
       "docs/templates/LinkedIn/LinkedIn_Send_message_to_profile.md\n",
       "</pre>\n"
      ],
      "text/plain": [
       "✅ ..\u001b[35m/../LinkedIn/\u001b[0m\u001b[95mLinkedIn_Send_message_to_profile.md\u001b[0m moved to \n",
       "docs/templates/LinkedIn/LinkedIn_Send_message_to_profile.md\n"
      ]
     },
     "metadata": {},
     "output_type": "display_data"
    },
    {
     "data": {
      "text/html": [
       "<pre style=\"white-space:pre;overflow-x:auto;line-height:normal;font-family:Menlo,'DejaVu Sans Mono',consolas,'Courier New',monospace\">docs/templates/LinkedIn\n",
       "</pre>\n"
      ],
      "text/plain": [
       "docs/templates/LinkedIn\n"
      ]
     },
     "metadata": {},
     "output_type": "display_data"
    },
    {
     "data": {
      "text/html": [
       "<pre style=\"white-space:pre;overflow-x:auto;line-height:normal;font-family:Menlo,'DejaVu Sans Mono',consolas,'Courier New',monospace\">✅ ..<span style=\"color: #800080; text-decoration-color: #800080\">/../LinkedIn/</span><span style=\"color: #ff00ff; text-decoration-color: #ff00ff\">Linkedin_Get_info_from_company.md</span> moved to \n",
       "docs/templates/LinkedIn/Linkedin_Get_info_from_company.md\n",
       "</pre>\n"
      ],
      "text/plain": [
       "✅ ..\u001b[35m/../LinkedIn/\u001b[0m\u001b[95mLinkedin_Get_info_from_company.md\u001b[0m moved to \n",
       "docs/templates/LinkedIn/Linkedin_Get_info_from_company.md\n"
      ]
     },
     "metadata": {},
     "output_type": "display_data"
    },
    {
     "data": {
      "text/html": [
       "<pre style=\"white-space:pre;overflow-x:auto;line-height:normal;font-family:Menlo,'DejaVu Sans Mono',consolas,'Courier New',monospace\">docs/templates/Metrics Store\n",
       "</pre>\n"
      ],
      "text/plain": [
       "docs/templates/Metrics Store\n"
      ]
     },
     "metadata": {},
     "output_type": "display_data"
    },
    {
     "data": {
      "text/html": [
       "<pre style=\"white-space:pre;overflow-x:auto;line-height:normal;font-family:Menlo,'DejaVu Sans Mono',consolas,'Courier New',monospace\">✅ ..<span style=\"color: #800080; text-decoration-color: #800080\">/../</span><span style=\"color: #ff00ff; text-decoration-color: #ff00ff\">Metrics</span> Store/Content_creation_Track_connections.md moved to docs/templates/Metrics \n",
       "Store/Content_creation_Track_connections.md\n",
       "</pre>\n"
      ],
      "text/plain": [
       "✅ ..\u001b[35m/../\u001b[0m\u001b[95mMetrics\u001b[0m Store/Content_creation_Track_connections.md moved to docs/templates/Metrics \n",
       "Store/Content_creation_Track_connections.md\n"
      ]
     },
     "metadata": {},
     "output_type": "display_data"
    },
    {
     "data": {
      "text/html": [
       "<pre style=\"white-space:pre;overflow-x:auto;line-height:normal;font-family:Menlo,'DejaVu Sans Mono',consolas,'Courier New',monospace\">docs/templates/Metrics Store\n",
       "</pre>\n"
      ],
      "text/plain": [
       "docs/templates/Metrics Store\n"
      ]
     },
     "metadata": {},
     "output_type": "display_data"
    },
    {
     "data": {
      "text/html": [
       "<pre style=\"white-space:pre;overflow-x:auto;line-height:normal;font-family:Menlo,'DejaVu Sans Mono',consolas,'Courier New',monospace\">✅ ..<span style=\"color: #800080; text-decoration-color: #800080\">/../</span><span style=\"color: #ff00ff; text-decoration-color: #ff00ff\">Metrics</span> Store/Metrics_Store_Template.md moved to docs/templates/Metrics \n",
       "Store/Metrics_Store_Template.md\n",
       "</pre>\n"
      ],
      "text/plain": [
       "✅ ..\u001b[35m/../\u001b[0m\u001b[95mMetrics\u001b[0m Store/Metrics_Store_Template.md moved to docs/templates/Metrics \n",
       "Store/Metrics_Store_Template.md\n"
      ]
     },
     "metadata": {},
     "output_type": "display_data"
    },
    {
     "data": {
      "text/html": [
       "<pre style=\"white-space:pre;overflow-x:auto;line-height:normal;font-family:Menlo,'DejaVu Sans Mono',consolas,'Courier New',monospace\">docs/templates/Microsoft Teams\n",
       "</pre>\n"
      ],
      "text/plain": [
       "docs/templates/Microsoft Teams\n"
      ]
     },
     "metadata": {},
     "output_type": "display_data"
    },
    {
     "data": {
      "text/html": [
       "<pre style=\"white-space:pre;overflow-x:auto;line-height:normal;font-family:Menlo,'DejaVu Sans Mono',consolas,'Courier New',monospace\">✅ ..<span style=\"color: #800080; text-decoration-color: #800080\">/../</span><span style=\"color: #ff00ff; text-decoration-color: #ff00ff\">Microsoft</span> Teams/Microsoft Teams_Send_message.md moved to docs/templates/Microsoft \n",
       "Teams/Microsoft Teams_Send_message.md\n",
       "</pre>\n"
      ],
      "text/plain": [
       "✅ ..\u001b[35m/../\u001b[0m\u001b[95mMicrosoft\u001b[0m Teams/Microsoft Teams_Send_message.md moved to docs/templates/Microsoft \n",
       "Teams/Microsoft Teams_Send_message.md\n"
      ]
     },
     "metadata": {},
     "output_type": "display_data"
    },
    {
     "data": {
      "text/html": [
       "<pre style=\"white-space:pre;overflow-x:auto;line-height:normal;font-family:Menlo,'DejaVu Sans Mono',consolas,'Courier New',monospace\">docs/templates/Microsoft Word\n",
       "</pre>\n"
      ],
      "text/plain": [
       "docs/templates/Microsoft Word\n"
      ]
     },
     "metadata": {},
     "output_type": "display_data"
    },
    {
     "data": {
      "text/html": [
       "<pre style=\"white-space:pre;overflow-x:auto;line-height:normal;font-family:Menlo,'DejaVu Sans Mono',consolas,'Courier New',monospace\">✅ ..<span style=\"color: #800080; text-decoration-color: #800080\">/../</span><span style=\"color: #ff00ff; text-decoration-color: #ff00ff\">Microsoft</span> Word/Microsoft_Word_Convert_to_HMTL.md moved to docs/templates/Microsoft \n",
       "Word/Microsoft_Word_Convert_to_HMTL.md\n",
       "</pre>\n"
      ],
      "text/plain": [
       "✅ ..\u001b[35m/../\u001b[0m\u001b[95mMicrosoft\u001b[0m Word/Microsoft_Word_Convert_to_HMTL.md moved to docs/templates/Microsoft \n",
       "Word/Microsoft_Word_Convert_to_HMTL.md\n"
      ]
     },
     "metadata": {},
     "output_type": "display_data"
    },
    {
     "data": {
      "text/html": [
       "<pre style=\"white-space:pre;overflow-x:auto;line-height:normal;font-family:Menlo,'DejaVu Sans Mono',consolas,'Courier New',monospace\">docs/templates/MongoDB\n",
       "</pre>\n"
      ],
      "text/plain": [
       "docs/templates/MongoDB\n"
      ]
     },
     "metadata": {},
     "output_type": "display_data"
    },
    {
     "data": {
      "text/html": [
       "<pre style=\"white-space:pre;overflow-x:auto;line-height:normal;font-family:Menlo,'DejaVu Sans Mono',consolas,'Courier New',monospace\">✅ ..<span style=\"color: #800080; text-decoration-color: #800080\">/../MongoDB/</span><span style=\"color: #ff00ff; text-decoration-color: #ff00ff\">MongoDB_Get_data.md</span> moved to docs/templates/MongoDB/MongoDB_Get_data.md\n",
       "</pre>\n"
      ],
      "text/plain": [
       "✅ ..\u001b[35m/../MongoDB/\u001b[0m\u001b[95mMongoDB_Get_data.md\u001b[0m moved to docs/templates/MongoDB/MongoDB_Get_data.md\n"
      ]
     },
     "metadata": {},
     "output_type": "display_data"
    },
    {
     "data": {
      "text/html": [
       "<pre style=\"white-space:pre;overflow-x:auto;line-height:normal;font-family:Menlo,'DejaVu Sans Mono',consolas,'Courier New',monospace\">docs/templates/MongoDB\n",
       "</pre>\n"
      ],
      "text/plain": [
       "docs/templates/MongoDB\n"
      ]
     },
     "metadata": {},
     "output_type": "display_data"
    },
    {
     "data": {
      "text/html": [
       "<pre style=\"white-space:pre;overflow-x:auto;line-height:normal;font-family:Menlo,'DejaVu Sans Mono',consolas,'Courier New',monospace\">✅ ..<span style=\"color: #800080; text-decoration-color: #800080\">/../MongoDB/</span><span style=\"color: #ff00ff; text-decoration-color: #ff00ff\">MongoDB_Send_data.md</span> moved to docs/templates/MongoDB/MongoDB_Send_data.md\n",
       "</pre>\n"
      ],
      "text/plain": [
       "✅ ..\u001b[35m/../MongoDB/\u001b[0m\u001b[95mMongoDB_Send_data.md\u001b[0m moved to docs/templates/MongoDB/MongoDB_Send_data.md\n"
      ]
     },
     "metadata": {},
     "output_type": "display_data"
    },
    {
     "data": {
      "text/html": [
       "<pre style=\"white-space:pre;overflow-x:auto;line-height:normal;font-family:Menlo,'DejaVu Sans Mono',consolas,'Courier New',monospace\">docs/templates/MySQL\n",
       "</pre>\n"
      ],
      "text/plain": [
       "docs/templates/MySQL\n"
      ]
     },
     "metadata": {},
     "output_type": "display_data"
    },
    {
     "data": {
      "text/html": [
       "<pre style=\"white-space:pre;overflow-x:auto;line-height:normal;font-family:Menlo,'DejaVu Sans Mono',consolas,'Courier New',monospace\">✅ ..<span style=\"color: #800080; text-decoration-color: #800080\">/../MySQL/</span><span style=\"color: #ff00ff; text-decoration-color: #ff00ff\">MySQL_Query_database.md</span> moved to docs/templates/MySQL/MySQL_Query_database.md\n",
       "</pre>\n"
      ],
      "text/plain": [
       "✅ ..\u001b[35m/../MySQL/\u001b[0m\u001b[95mMySQL_Query_database.md\u001b[0m moved to docs/templates/MySQL/MySQL_Query_database.md\n"
      ]
     },
     "metadata": {},
     "output_type": "display_data"
    },
    {
     "data": {
      "text/html": [
       "<pre style=\"white-space:pre;overflow-x:auto;line-height:normal;font-family:Menlo,'DejaVu Sans Mono',consolas,'Courier New',monospace\">docs/templates/NASA\n",
       "</pre>\n"
      ],
      "text/plain": [
       "docs/templates/NASA\n"
      ]
     },
     "metadata": {},
     "output_type": "display_data"
    },
    {
     "data": {
      "text/html": [
       "<pre style=\"white-space:pre;overflow-x:auto;line-height:normal;font-family:Menlo,'DejaVu Sans Mono',consolas,'Courier New',monospace\">✅ ..<span style=\"color: #800080; text-decoration-color: #800080\">/../NASA/</span><span style=\"color: #ff00ff; text-decoration-color: #ff00ff\">NASA_Artic_sea_ice.md</span> moved to docs/templates/NASA/NASA_Artic_sea_ice.md\n",
       "</pre>\n"
      ],
      "text/plain": [
       "✅ ..\u001b[35m/../NASA/\u001b[0m\u001b[95mNASA_Artic_sea_ice.md\u001b[0m moved to docs/templates/NASA/NASA_Artic_sea_ice.md\n"
      ]
     },
     "metadata": {},
     "output_type": "display_data"
    },
    {
     "data": {
      "text/html": [
       "<pre style=\"white-space:pre;overflow-x:auto;line-height:normal;font-family:Menlo,'DejaVu Sans Mono',consolas,'Courier New',monospace\">docs/templates/NASA\n",
       "</pre>\n"
      ],
      "text/plain": [
       "docs/templates/NASA\n"
      ]
     },
     "metadata": {},
     "output_type": "display_data"
    },
    {
     "data": {
      "text/html": [
       "<pre style=\"white-space:pre;overflow-x:auto;line-height:normal;font-family:Menlo,'DejaVu Sans Mono',consolas,'Courier New',monospace\">✅ ..<span style=\"color: #800080; text-decoration-color: #800080\">/../NASA/</span><span style=\"color: #ff00ff; text-decoration-color: #ff00ff\">NASA_Global_temperature.md</span> moved to \n",
       "docs/templates/NASA/NASA_Global_temperature.md\n",
       "</pre>\n"
      ],
      "text/plain": [
       "✅ ..\u001b[35m/../NASA/\u001b[0m\u001b[95mNASA_Global_temperature.md\u001b[0m moved to \n",
       "docs/templates/NASA/NASA_Global_temperature.md\n"
      ]
     },
     "metadata": {},
     "output_type": "display_data"
    },
    {
     "data": {
      "text/html": [
       "<pre style=\"white-space:pre;overflow-x:auto;line-height:normal;font-family:Menlo,'DejaVu Sans Mono',consolas,'Courier New',monospace\">docs/templates/NASA\n",
       "</pre>\n"
      ],
      "text/plain": [
       "docs/templates/NASA\n"
      ]
     },
     "metadata": {},
     "output_type": "display_data"
    },
    {
     "data": {
      "text/html": [
       "<pre style=\"white-space:pre;overflow-x:auto;line-height:normal;font-family:Menlo,'DejaVu Sans Mono',consolas,'Courier New',monospace\">✅ ..<span style=\"color: #800080; text-decoration-color: #800080\">/../NASA/</span><span style=\"color: #ff00ff; text-decoration-color: #ff00ff\">NASA_Sea_level.md</span> moved to docs/templates/NASA/NASA_Sea_level.md\n",
       "</pre>\n"
      ],
      "text/plain": [
       "✅ ..\u001b[35m/../NASA/\u001b[0m\u001b[95mNASA_Sea_level.md\u001b[0m moved to docs/templates/NASA/NASA_Sea_level.md\n"
      ]
     },
     "metadata": {},
     "output_type": "display_data"
    },
    {
     "data": {
      "text/html": [
       "<pre style=\"white-space:pre;overflow-x:auto;line-height:normal;font-family:Menlo,'DejaVu Sans Mono',consolas,'Courier New',monospace\">docs/templates/NASA\n",
       "</pre>\n"
      ],
      "text/plain": [
       "docs/templates/NASA\n"
      ]
     },
     "metadata": {},
     "output_type": "display_data"
    },
    {
     "data": {
      "text/html": [
       "<pre style=\"white-space:pre;overflow-x:auto;line-height:normal;font-family:Menlo,'DejaVu Sans Mono',consolas,'Courier New',monospace\">✅ ..<span style=\"color: #800080; text-decoration-color: #800080\">/../NASA/</span><span style=\"color: #ff00ff; text-decoration-color: #ff00ff\">NASA_indicate_sealevel.md</span> moved to \n",
       "docs/templates/NASA/NASA_indicate_sealevel.md\n",
       "</pre>\n"
      ],
      "text/plain": [
       "✅ ..\u001b[35m/../NASA/\u001b[0m\u001b[95mNASA_indicate_sealevel.md\u001b[0m moved to \n",
       "docs/templates/NASA/NASA_indicate_sealevel.md\n"
      ]
     },
     "metadata": {},
     "output_type": "display_data"
    },
    {
     "data": {
      "text/html": [
       "<pre style=\"white-space:pre;overflow-x:auto;line-height:normal;font-family:Menlo,'DejaVu Sans Mono',consolas,'Courier New',monospace\">docs/templates/NASA\n",
       "</pre>\n"
      ],
      "text/plain": [
       "docs/templates/NASA\n"
      ]
     },
     "metadata": {},
     "output_type": "display_data"
    },
    {
     "data": {
      "text/html": [
       "<pre style=\"white-space:pre;overflow-x:auto;line-height:normal;font-family:Menlo,'DejaVu Sans Mono',consolas,'Courier New',monospace\">✅ ..<span style=\"color: #800080; text-decoration-color: #800080\">/../NASA/</span><span style=\"color: #ff00ff; text-decoration-color: #ff00ff\">Sea-level-indicator.md</span> moved to docs/templates/NASA/Sea-level-indicator.md\n",
       "</pre>\n"
      ],
      "text/plain": [
       "✅ ..\u001b[35m/../NASA/\u001b[0m\u001b[95mSea-level-indicator.md\u001b[0m moved to docs/templates/NASA/Sea-level-indicator.md\n"
      ]
     },
     "metadata": {},
     "output_type": "display_data"
    },
    {
     "data": {
      "text/html": [
       "<pre style=\"white-space:pre;overflow-x:auto;line-height:normal;font-family:Menlo,'DejaVu Sans Mono',consolas,'Courier New',monospace\">docs/templates/Naas\n",
       "</pre>\n"
      ],
      "text/plain": [
       "docs/templates/Naas\n"
      ]
     },
     "metadata": {},
     "output_type": "display_data"
    },
    {
     "data": {
      "text/html": [
       "<pre style=\"white-space:pre;overflow-x:auto;line-height:normal;font-family:Menlo,'DejaVu Sans Mono',consolas,'Courier New',monospace\">✅ ..<span style=\"color: #800080; text-decoration-color: #800080\">/../Naas/</span><span style=\"color: #ff00ff; text-decoration-color: #ff00ff\">Naas_Asset_demo.md</span> moved to docs/templates/Naas/Naas_Asset_demo.md\n",
       "</pre>\n"
      ],
      "text/plain": [
       "✅ ..\u001b[35m/../Naas/\u001b[0m\u001b[95mNaas_Asset_demo.md\u001b[0m moved to docs/templates/Naas/Naas_Asset_demo.md\n"
      ]
     },
     "metadata": {},
     "output_type": "display_data"
    },
    {
     "data": {
      "text/html": [
       "<pre style=\"white-space:pre;overflow-x:auto;line-height:normal;font-family:Menlo,'DejaVu Sans Mono',consolas,'Courier New',monospace\">docs/templates/Naas\n",
       "</pre>\n"
      ],
      "text/plain": [
       "docs/templates/Naas\n"
      ]
     },
     "metadata": {},
     "output_type": "display_data"
    },
    {
     "data": {
      "text/html": [
       "<pre style=\"white-space:pre;overflow-x:auto;line-height:normal;font-family:Menlo,'DejaVu Sans Mono',consolas,'Courier New',monospace\">✅ ..<span style=\"color: #800080; text-decoration-color: #800080\">/../Naas/</span><span style=\"color: #ff00ff; text-decoration-color: #ff00ff\">Naas_Credits_Get_Balance.md</span> moved to \n",
       "docs/templates/Naas/Naas_Credits_Get_Balance.md\n",
       "</pre>\n"
      ],
      "text/plain": [
       "✅ ..\u001b[35m/../Naas/\u001b[0m\u001b[95mNaas_Credits_Get_Balance.md\u001b[0m moved to \n",
       "docs/templates/Naas/Naas_Credits_Get_Balance.md\n"
      ]
     },
     "metadata": {},
     "output_type": "display_data"
    },
    {
     "data": {
      "text/html": [
       "<pre style=\"white-space:pre;overflow-x:auto;line-height:normal;font-family:Menlo,'DejaVu Sans Mono',consolas,'Courier New',monospace\">docs/templates/Naas\n",
       "</pre>\n"
      ],
      "text/plain": [
       "docs/templates/Naas\n"
      ]
     },
     "metadata": {},
     "output_type": "display_data"
    },
    {
     "data": {
      "text/html": [
       "<pre style=\"white-space:pre;overflow-x:auto;line-height:normal;font-family:Menlo,'DejaVu Sans Mono',consolas,'Courier New',monospace\">✅ ..<span style=\"color: #800080; text-decoration-color: #800080\">/../Naas/</span><span style=\"color: #ff00ff; text-decoration-color: #ff00ff\">Naas_Dependency_demo.md</span> moved to docs/templates/Naas/Naas_Dependency_demo.md\n",
       "</pre>\n"
      ],
      "text/plain": [
       "✅ ..\u001b[35m/../Naas/\u001b[0m\u001b[95mNaas_Dependency_demo.md\u001b[0m moved to docs/templates/Naas/Naas_Dependency_demo.md\n"
      ]
     },
     "metadata": {},
     "output_type": "display_data"
    },
    {
     "data": {
      "text/html": [
       "<pre style=\"white-space:pre;overflow-x:auto;line-height:normal;font-family:Menlo,'DejaVu Sans Mono',consolas,'Courier New',monospace\">docs/templates/Naas\n",
       "</pre>\n"
      ],
      "text/plain": [
       "docs/templates/Naas\n"
      ]
     },
     "metadata": {},
     "output_type": "display_data"
    },
    {
     "data": {
      "text/html": [
       "<pre style=\"white-space:pre;overflow-x:auto;line-height:normal;font-family:Menlo,'DejaVu Sans Mono',consolas,'Courier New',monospace\">✅ ..<span style=\"color: #800080; text-decoration-color: #800080\">/../Naas/</span><span style=\"color: #ff00ff; text-decoration-color: #ff00ff\">Naas_Doc_demo.md</span> moved to docs/templates/Naas/Naas_Doc_demo.md\n",
       "</pre>\n"
      ],
      "text/plain": [
       "✅ ..\u001b[35m/../Naas/\u001b[0m\u001b[95mNaas_Doc_demo.md\u001b[0m moved to docs/templates/Naas/Naas_Doc_demo.md\n"
      ]
     },
     "metadata": {},
     "output_type": "display_data"
    },
    {
     "data": {
      "text/html": [
       "<pre style=\"white-space:pre;overflow-x:auto;line-height:normal;font-family:Menlo,'DejaVu Sans Mono',consolas,'Courier New',monospace\">docs/templates/Naas\n",
       "</pre>\n"
      ],
      "text/plain": [
       "docs/templates/Naas\n"
      ]
     },
     "metadata": {},
     "output_type": "display_data"
    },
    {
     "data": {
      "text/html": [
       "<pre style=\"white-space:pre;overflow-x:auto;line-height:normal;font-family:Menlo,'DejaVu Sans Mono',consolas,'Courier New',monospace\">✅ ..<span style=\"color: #800080; text-decoration-color: #800080\">/../Naas/</span><span style=\"color: #ff00ff; text-decoration-color: #ff00ff\">Naas_Domain_demo.md</span> moved to docs/templates/Naas/Naas_Domain_demo.md\n",
       "</pre>\n"
      ],
      "text/plain": [
       "✅ ..\u001b[35m/../Naas/\u001b[0m\u001b[95mNaas_Domain_demo.md\u001b[0m moved to docs/templates/Naas/Naas_Domain_demo.md\n"
      ]
     },
     "metadata": {},
     "output_type": "display_data"
    },
    {
     "data": {
      "text/html": [
       "<pre style=\"white-space:pre;overflow-x:auto;line-height:normal;font-family:Menlo,'DejaVu Sans Mono',consolas,'Courier New',monospace\">docs/templates/Naas\n",
       "</pre>\n"
      ],
      "text/plain": [
       "docs/templates/Naas\n"
      ]
     },
     "metadata": {},
     "output_type": "display_data"
    },
    {
     "data": {
      "text/html": [
       "<pre style=\"white-space:pre;overflow-x:auto;line-height:normal;font-family:Menlo,'DejaVu Sans Mono',consolas,'Courier New',monospace\">✅ ..<span style=\"color: #800080; text-decoration-color: #800080\">/../Naas/</span><span style=\"color: #ff00ff; text-decoration-color: #ff00ff\">Naas_Emailbuilder_demo.md</span> moved to \n",
       "docs/templates/Naas/Naas_Emailbuilder_demo.md\n",
       "</pre>\n"
      ],
      "text/plain": [
       "✅ ..\u001b[35m/../Naas/\u001b[0m\u001b[95mNaas_Emailbuilder_demo.md\u001b[0m moved to \n",
       "docs/templates/Naas/Naas_Emailbuilder_demo.md\n"
      ]
     },
     "metadata": {},
     "output_type": "display_data"
    },
    {
     "data": {
      "text/html": [
       "<pre style=\"white-space:pre;overflow-x:auto;line-height:normal;font-family:Menlo,'DejaVu Sans Mono',consolas,'Courier New',monospace\">docs/templates/Naas\n",
       "</pre>\n"
      ],
      "text/plain": [
       "docs/templates/Naas\n"
      ]
     },
     "metadata": {},
     "output_type": "display_data"
    },
    {
     "data": {
      "text/html": [
       "<pre style=\"white-space:pre;overflow-x:auto;line-height:normal;font-family:Menlo,'DejaVu Sans Mono',consolas,'Courier New',monospace\">✅ ..<span style=\"color: #800080; text-decoration-color: #800080\">/../Naas/</span><span style=\"color: #ff00ff; text-decoration-color: #ff00ff\">Naas_Get_Transactions.md</span> moved to docs/templates/Naas/Naas_Get_Transactions.md\n",
       "</pre>\n"
      ],
      "text/plain": [
       "✅ ..\u001b[35m/../Naas/\u001b[0m\u001b[95mNaas_Get_Transactions.md\u001b[0m moved to docs/templates/Naas/Naas_Get_Transactions.md\n"
      ]
     },
     "metadata": {},
     "output_type": "display_data"
    },
    {
     "data": {
      "text/html": [
       "<pre style=\"white-space:pre;overflow-x:auto;line-height:normal;font-family:Menlo,'DejaVu Sans Mono',consolas,'Courier New',monospace\">docs/templates/Naas\n",
       "</pre>\n"
      ],
      "text/plain": [
       "docs/templates/Naas\n"
      ]
     },
     "metadata": {},
     "output_type": "display_data"
    },
    {
     "data": {
      "text/html": [
       "<pre style=\"white-space:pre;overflow-x:auto;line-height:normal;font-family:Menlo,'DejaVu Sans Mono',consolas,'Courier New',monospace\">✅ ..<span style=\"color: #800080; text-decoration-color: #800080\">/../Naas/</span><span style=\"color: #ff00ff; text-decoration-color: #ff00ff\">Naas_Get_help.md</span> moved to docs/templates/Naas/Naas_Get_help.md\n",
       "</pre>\n"
      ],
      "text/plain": [
       "✅ ..\u001b[35m/../Naas/\u001b[0m\u001b[95mNaas_Get_help.md\u001b[0m moved to docs/templates/Naas/Naas_Get_help.md\n"
      ]
     },
     "metadata": {},
     "output_type": "display_data"
    },
    {
     "data": {
      "text/html": [
       "<pre style=\"white-space:pre;overflow-x:auto;line-height:normal;font-family:Menlo,'DejaVu Sans Mono',consolas,'Courier New',monospace\">docs/templates/Naas\n",
       "</pre>\n"
      ],
      "text/plain": [
       "docs/templates/Naas\n"
      ]
     },
     "metadata": {},
     "output_type": "display_data"
    },
    {
     "data": {
      "text/html": [
       "<pre style=\"white-space:pre;overflow-x:auto;line-height:normal;font-family:Menlo,'DejaVu Sans Mono',consolas,'Courier New',monospace\">✅ ..<span style=\"color: #800080; text-decoration-color: #800080\">/../Naas/</span><span style=\"color: #ff00ff; text-decoration-color: #ff00ff\">Naas_NLP_Examples.md</span> moved to docs/templates/Naas/Naas_NLP_Examples.md\n",
       "</pre>\n"
      ],
      "text/plain": [
       "✅ ..\u001b[35m/../Naas/\u001b[0m\u001b[95mNaas_NLP_Examples.md\u001b[0m moved to docs/templates/Naas/Naas_NLP_Examples.md\n"
      ]
     },
     "metadata": {},
     "output_type": "display_data"
    },
    {
     "data": {
      "text/html": [
       "<pre style=\"white-space:pre;overflow-x:auto;line-height:normal;font-family:Menlo,'DejaVu Sans Mono',consolas,'Courier New',monospace\">docs/templates/Naas\n",
       "</pre>\n"
      ],
      "text/plain": [
       "docs/templates/Naas\n"
      ]
     },
     "metadata": {},
     "output_type": "display_data"
    },
    {
     "data": {
      "text/html": [
       "<pre style=\"white-space:pre;overflow-x:auto;line-height:normal;font-family:Menlo,'DejaVu Sans Mono',consolas,'Courier New',monospace\">✅ ..<span style=\"color: #800080; text-decoration-color: #800080\">/../Naas/</span><span style=\"color: #ff00ff; text-decoration-color: #ff00ff\">Naas_Notification_demo.md</span> moved to \n",
       "docs/templates/Naas/Naas_Notification_demo.md\n",
       "</pre>\n"
      ],
      "text/plain": [
       "✅ ..\u001b[35m/../Naas/\u001b[0m\u001b[95mNaas_Notification_demo.md\u001b[0m moved to \n",
       "docs/templates/Naas/Naas_Notification_demo.md\n"
      ]
     },
     "metadata": {},
     "output_type": "display_data"
    },
    {
     "data": {
      "text/html": [
       "<pre style=\"white-space:pre;overflow-x:auto;line-height:normal;font-family:Menlo,'DejaVu Sans Mono',consolas,'Courier New',monospace\">docs/templates/Naas\n",
       "</pre>\n"
      ],
      "text/plain": [
       "docs/templates/Naas\n"
      ]
     },
     "metadata": {},
     "output_type": "display_data"
    },
    {
     "data": {
      "text/html": [
       "<pre style=\"white-space:pre;overflow-x:auto;line-height:normal;font-family:Menlo,'DejaVu Sans Mono',consolas,'Courier New',monospace\">✅ ..<span style=\"color: #800080; text-decoration-color: #800080\">/../Naas/</span><span style=\"color: #ff00ff; text-decoration-color: #ff00ff\">Naas_Scheduler_demo.md</span> moved to docs/templates/Naas/Naas_Scheduler_demo.md\n",
       "</pre>\n"
      ],
      "text/plain": [
       "✅ ..\u001b[35m/../Naas/\u001b[0m\u001b[95mNaas_Scheduler_demo.md\u001b[0m moved to docs/templates/Naas/Naas_Scheduler_demo.md\n"
      ]
     },
     "metadata": {},
     "output_type": "display_data"
    },
    {
     "data": {
      "text/html": [
       "<pre style=\"white-space:pre;overflow-x:auto;line-height:normal;font-family:Menlo,'DejaVu Sans Mono',consolas,'Courier New',monospace\">docs/templates/Naas\n",
       "</pre>\n"
      ],
      "text/plain": [
       "docs/templates/Naas\n"
      ]
     },
     "metadata": {},
     "output_type": "display_data"
    },
    {
     "data": {
      "text/html": [
       "<pre style=\"white-space:pre;overflow-x:auto;line-height:normal;font-family:Menlo,'DejaVu Sans Mono',consolas,'Courier New',monospace\">✅ ..<span style=\"color: #800080; text-decoration-color: #800080\">/../Naas/</span><span style=\"color: #ff00ff; text-decoration-color: #ff00ff\">Naas_Secret_demo.md</span> moved to docs/templates/Naas/Naas_Secret_demo.md\n",
       "</pre>\n"
      ],
      "text/plain": [
       "✅ ..\u001b[35m/../Naas/\u001b[0m\u001b[95mNaas_Secret_demo.md\u001b[0m moved to docs/templates/Naas/Naas_Secret_demo.md\n"
      ]
     },
     "metadata": {},
     "output_type": "display_data"
    },
    {
     "data": {
      "text/html": [
       "<pre style=\"white-space:pre;overflow-x:auto;line-height:normal;font-family:Menlo,'DejaVu Sans Mono',consolas,'Courier New',monospace\">docs/templates/Naas\n",
       "</pre>\n"
      ],
      "text/plain": [
       "docs/templates/Naas\n"
      ]
     },
     "metadata": {},
     "output_type": "display_data"
    },
    {
     "data": {
      "text/html": [
       "<pre style=\"white-space:pre;overflow-x:auto;line-height:normal;font-family:Menlo,'DejaVu Sans Mono',consolas,'Courier New',monospace\">✅ ..<span style=\"color: #800080; text-decoration-color: #800080\">/../Naas/</span><span style=\"color: #ff00ff; text-decoration-color: #ff00ff\">Naas_Set_timezone.md</span> moved to docs/templates/Naas/Naas_Set_timezone.md\n",
       "</pre>\n"
      ],
      "text/plain": [
       "✅ ..\u001b[35m/../Naas/\u001b[0m\u001b[95mNaas_Set_timezone.md\u001b[0m moved to docs/templates/Naas/Naas_Set_timezone.md\n"
      ]
     },
     "metadata": {},
     "output_type": "display_data"
    },
    {
     "data": {
      "text/html": [
       "<pre style=\"white-space:pre;overflow-x:auto;line-height:normal;font-family:Menlo,'DejaVu Sans Mono',consolas,'Courier New',monospace\">docs/templates/Naas\n",
       "</pre>\n"
      ],
      "text/plain": [
       "docs/templates/Naas\n"
      ]
     },
     "metadata": {},
     "output_type": "display_data"
    },
    {
     "data": {
      "text/html": [
       "<pre style=\"white-space:pre;overflow-x:auto;line-height:normal;font-family:Menlo,'DejaVu Sans Mono',consolas,'Courier New',monospace\">✅ ..<span style=\"color: #800080; text-decoration-color: #800080\">/../Naas/</span><span style=\"color: #ff00ff; text-decoration-color: #ff00ff\">Naas_Webhook_demo.md</span> moved to docs/templates/Naas/Naas_Webhook_demo.md\n",
       "</pre>\n"
      ],
      "text/plain": [
       "✅ ..\u001b[35m/../Naas/\u001b[0m\u001b[95mNaas_Webhook_demo.md\u001b[0m moved to docs/templates/Naas/Naas_Webhook_demo.md\n"
      ]
     },
     "metadata": {},
     "output_type": "display_data"
    },
    {
     "data": {
      "text/html": [
       "<pre style=\"white-space:pre;overflow-x:auto;line-height:normal;font-family:Menlo,'DejaVu Sans Mono',consolas,'Courier New',monospace\">docs/templates/Naas Auth\n",
       "</pre>\n"
      ],
      "text/plain": [
       "docs/templates/Naas Auth\n"
      ]
     },
     "metadata": {},
     "output_type": "display_data"
    },
    {
     "data": {
      "text/html": [
       "<pre style=\"white-space:pre;overflow-x:auto;line-height:normal;font-family:Menlo,'DejaVu Sans Mono',consolas,'Courier New',monospace\">✅ ..<span style=\"color: #800080; text-decoration-color: #800080\">/../</span><span style=\"color: #ff00ff; text-decoration-color: #ff00ff\">Naas</span> Auth/Naas_Auth_bearer_validate.md moved to docs/templates/Naas \n",
       "Auth/Naas_Auth_bearer_validate.md\n",
       "</pre>\n"
      ],
      "text/plain": [
       "✅ ..\u001b[35m/../\u001b[0m\u001b[95mNaas\u001b[0m Auth/Naas_Auth_bearer_validate.md moved to docs/templates/Naas \n",
       "Auth/Naas_Auth_bearer_validate.md\n"
      ]
     },
     "metadata": {},
     "output_type": "display_data"
    },
    {
     "data": {
      "text/html": [
       "<pre style=\"white-space:pre;overflow-x:auto;line-height:normal;font-family:Menlo,'DejaVu Sans Mono',consolas,'Courier New',monospace\">docs/templates/Naas Auth\n",
       "</pre>\n"
      ],
      "text/plain": [
       "docs/templates/Naas Auth\n"
      ]
     },
     "metadata": {},
     "output_type": "display_data"
    },
    {
     "data": {
      "text/html": [
       "<pre style=\"white-space:pre;overflow-x:auto;line-height:normal;font-family:Menlo,'DejaVu Sans Mono',consolas,'Courier New',monospace\">✅ ..<span style=\"color: #800080; text-decoration-color: #800080\">/../</span><span style=\"color: #ff00ff; text-decoration-color: #ff00ff\">Naas</span> Auth/Naas_Auth_connect.md moved to docs/templates/Naas \n",
       "Auth/Naas_Auth_connect.md\n",
       "</pre>\n"
      ],
      "text/plain": [
       "✅ ..\u001b[35m/../\u001b[0m\u001b[95mNaas\u001b[0m Auth/Naas_Auth_connect.md moved to docs/templates/Naas \n",
       "Auth/Naas_Auth_connect.md\n"
      ]
     },
     "metadata": {},
     "output_type": "display_data"
    },
    {
     "data": {
      "text/html": [
       "<pre style=\"white-space:pre;overflow-x:auto;line-height:normal;font-family:Menlo,'DejaVu Sans Mono',consolas,'Courier New',monospace\">docs/templates/Naas Auth\n",
       "</pre>\n"
      ],
      "text/plain": [
       "docs/templates/Naas Auth\n"
      ]
     },
     "metadata": {},
     "output_type": "display_data"
    },
    {
     "data": {
      "text/html": [
       "<pre style=\"white-space:pre;overflow-x:auto;line-height:normal;font-family:Menlo,'DejaVu Sans Mono',consolas,'Courier New',monospace\">✅ ..<span style=\"color: #800080; text-decoration-color: #800080\">/../</span><span style=\"color: #ff00ff; text-decoration-color: #ff00ff\">Naas</span> Auth/Naas_Auth_users_me.md moved to docs/templates/Naas \n",
       "Auth/Naas_Auth_users_me.md\n",
       "</pre>\n"
      ],
      "text/plain": [
       "✅ ..\u001b[35m/../\u001b[0m\u001b[95mNaas\u001b[0m Auth/Naas_Auth_users_me.md moved to docs/templates/Naas \n",
       "Auth/Naas_Auth_users_me.md\n"
      ]
     },
     "metadata": {},
     "output_type": "display_data"
    },
    {
     "data": {
      "text/html": [
       "<pre style=\"white-space:pre;overflow-x:auto;line-height:normal;font-family:Menlo,'DejaVu Sans Mono',consolas,'Courier New',monospace\">docs/templates/Neo\n",
       "</pre>\n"
      ],
      "text/plain": [
       "docs/templates/Neo\n"
      ]
     },
     "metadata": {},
     "output_type": "display_data"
    },
    {
     "data": {
      "text/html": [
       "<pre style=\"white-space:pre;overflow-x:auto;line-height:normal;font-family:Menlo,'DejaVu Sans Mono',consolas,'Courier New',monospace\">✅ ..<span style=\"color: #800080; text-decoration-color: #800080\">/../Neo/</span><span style=\"color: #ff00ff; text-decoration-color: #ff00ff\">Neo_Get_currencies_live_prices.md</span> moved to \n",
       "docs/templates/Neo/Neo_Get_currencies_live_prices.md\n",
       "</pre>\n"
      ],
      "text/plain": [
       "✅ ..\u001b[35m/../Neo/\u001b[0m\u001b[95mNeo_Get_currencies_live_prices.md\u001b[0m moved to \n",
       "docs/templates/Neo/Neo_Get_currencies_live_prices.md\n"
      ]
     },
     "metadata": {},
     "output_type": "display_data"
    },
    {
     "data": {
      "text/html": [
       "<pre style=\"white-space:pre;overflow-x:auto;line-height:normal;font-family:Menlo,'DejaVu Sans Mono',consolas,'Courier New',monospace\">docs/templates/Newsapi\n",
       "</pre>\n"
      ],
      "text/plain": [
       "docs/templates/Newsapi\n"
      ]
     },
     "metadata": {},
     "output_type": "display_data"
    },
    {
     "data": {
      "text/html": [
       "<pre style=\"white-space:pre;overflow-x:auto;line-height:normal;font-family:Menlo,'DejaVu Sans Mono',consolas,'Courier New',monospace\">✅ ..<span style=\"color: #800080; text-decoration-color: #800080\">/../Newsapi/</span><span style=\"color: #ff00ff; text-decoration-color: #ff00ff\">Newsapi_Get_data.md</span> moved to docs/templates/Newsapi/Newsapi_Get_data.md\n",
       "</pre>\n"
      ],
      "text/plain": [
       "✅ ..\u001b[35m/../Newsapi/\u001b[0m\u001b[95mNewsapi_Get_data.md\u001b[0m moved to docs/templates/Newsapi/Newsapi_Get_data.md\n"
      ]
     },
     "metadata": {},
     "output_type": "display_data"
    },
    {
     "data": {
      "text/html": [
       "<pre style=\"white-space:pre;overflow-x:auto;line-height:normal;font-family:Menlo,'DejaVu Sans Mono',consolas,'Courier New',monospace\">docs/templates/Newsapi\n",
       "</pre>\n"
      ],
      "text/plain": [
       "docs/templates/Newsapi\n"
      ]
     },
     "metadata": {},
     "output_type": "display_data"
    },
    {
     "data": {
      "text/html": [
       "<pre style=\"white-space:pre;overflow-x:auto;line-height:normal;font-family:Menlo,'DejaVu Sans Mono',consolas,'Courier New',monospace\">✅ ..<span style=\"color: #800080; text-decoration-color: #800080\">/../Newsapi/</span><span style=\"color: #ff00ff; text-decoration-color: #ff00ff\">Newsapi_Run_sentiment_analysis.md</span> moved to \n",
       "docs/templates/Newsapi/Newsapi_Run_sentiment_analysis.md\n",
       "</pre>\n"
      ],
      "text/plain": [
       "✅ ..\u001b[35m/../Newsapi/\u001b[0m\u001b[95mNewsapi_Run_sentiment_analysis.md\u001b[0m moved to \n",
       "docs/templates/Newsapi/Newsapi_Run_sentiment_analysis.md\n"
      ]
     },
     "metadata": {},
     "output_type": "display_data"
    },
    {
     "data": {
      "text/html": [
       "<pre style=\"white-space:pre;overflow-x:auto;line-height:normal;font-family:Menlo,'DejaVu Sans Mono',consolas,'Courier New',monospace\">docs/templates/Newsapi\n",
       "</pre>\n"
      ],
      "text/plain": [
       "docs/templates/Newsapi\n"
      ]
     },
     "metadata": {},
     "output_type": "display_data"
    },
    {
     "data": {
      "text/html": [
       "<pre style=\"white-space:pre;overflow-x:auto;line-height:normal;font-family:Menlo,'DejaVu Sans Mono',consolas,'Courier New',monospace\">✅ ..<span style=\"color: #800080; text-decoration-color: #800080\">/../Newsapi/</span><span style=\"color: #ff00ff; text-decoration-color: #ff00ff\">Newsapi_Send_emails_briefs.md</span> moved to \n",
       "docs/templates/Newsapi/Newsapi_Send_emails_briefs.md\n",
       "</pre>\n"
      ],
      "text/plain": [
       "✅ ..\u001b[35m/../Newsapi/\u001b[0m\u001b[95mNewsapi_Send_emails_briefs.md\u001b[0m moved to \n",
       "docs/templates/Newsapi/Newsapi_Send_emails_briefs.md\n"
      ]
     },
     "metadata": {},
     "output_type": "display_data"
    },
    {
     "data": {
      "text/html": [
       "<pre style=\"white-space:pre;overflow-x:auto;line-height:normal;font-family:Menlo,'DejaVu Sans Mono',consolas,'Courier New',monospace\">docs/templates/Notion\n",
       "</pre>\n"
      ],
      "text/plain": [
       "docs/templates/Notion\n"
      ]
     },
     "metadata": {},
     "output_type": "display_data"
    },
    {
     "data": {
      "text/html": [
       "<pre style=\"white-space:pre;overflow-x:auto;line-height:normal;font-family:Menlo,'DejaVu Sans Mono',consolas,'Courier New',monospace\">✅ ..<span style=\"color: #800080; text-decoration-color: #800080\">/../Notion/</span><span style=\"color: #ff00ff; text-decoration-color: #ff00ff\">Notion_Create_page.md</span> moved to docs/templates/Notion/Notion_Create_page.md\n",
       "</pre>\n"
      ],
      "text/plain": [
       "✅ ..\u001b[35m/../Notion/\u001b[0m\u001b[95mNotion_Create_page.md\u001b[0m moved to docs/templates/Notion/Notion_Create_page.md\n"
      ]
     },
     "metadata": {},
     "output_type": "display_data"
    },
    {
     "data": {
      "text/html": [
       "<pre style=\"white-space:pre;overflow-x:auto;line-height:normal;font-family:Menlo,'DejaVu Sans Mono',consolas,'Courier New',monospace\">docs/templates/Notion\n",
       "</pre>\n"
      ],
      "text/plain": [
       "docs/templates/Notion\n"
      ]
     },
     "metadata": {},
     "output_type": "display_data"
    },
    {
     "data": {
      "text/html": [
       "<pre style=\"white-space:pre;overflow-x:auto;line-height:normal;font-family:Menlo,'DejaVu Sans Mono',consolas,'Courier New',monospace\">✅ ..<span style=\"color: #800080; text-decoration-color: #800080\">/../Notion/</span><span style=\"color: #ff00ff; text-decoration-color: #ff00ff\">Notion_Explore_API.md</span> moved to docs/templates/Notion/Notion_Explore_API.md\n",
       "</pre>\n"
      ],
      "text/plain": [
       "✅ ..\u001b[35m/../Notion/\u001b[0m\u001b[95mNotion_Explore_API.md\u001b[0m moved to docs/templates/Notion/Notion_Explore_API.md\n"
      ]
     },
     "metadata": {},
     "output_type": "display_data"
    },
    {
     "data": {
      "text/html": [
       "<pre style=\"white-space:pre;overflow-x:auto;line-height:normal;font-family:Menlo,'DejaVu Sans Mono',consolas,'Courier New',monospace\">docs/templates/Notion\n",
       "</pre>\n"
      ],
      "text/plain": [
       "docs/templates/Notion\n"
      ]
     },
     "metadata": {},
     "output_type": "display_data"
    },
    {
     "data": {
      "text/html": [
       "<pre style=\"white-space:pre;overflow-x:auto;line-height:normal;font-family:Menlo,'DejaVu Sans Mono',consolas,'Courier New',monospace\">✅ ..<span style=\"color: #800080; text-decoration-color: #800080\">/../Notion/</span><span style=\"color: #ff00ff; text-decoration-color: #ff00ff\">Notion_Get_database.md</span> moved to docs/templates/Notion/Notion_Get_database.md\n",
       "</pre>\n"
      ],
      "text/plain": [
       "✅ ..\u001b[35m/../Notion/\u001b[0m\u001b[95mNotion_Get_database.md\u001b[0m moved to docs/templates/Notion/Notion_Get_database.md\n"
      ]
     },
     "metadata": {},
     "output_type": "display_data"
    },
    {
     "data": {
      "text/html": [
       "<pre style=\"white-space:pre;overflow-x:auto;line-height:normal;font-family:Menlo,'DejaVu Sans Mono',consolas,'Courier New',monospace\">docs/templates/Notion\n",
       "</pre>\n"
      ],
      "text/plain": [
       "docs/templates/Notion\n"
      ]
     },
     "metadata": {},
     "output_type": "display_data"
    },
    {
     "data": {
      "text/html": [
       "<pre style=\"white-space:pre;overflow-x:auto;line-height:normal;font-family:Menlo,'DejaVu Sans Mono',consolas,'Courier New',monospace\">✅ ..<span style=\"color: #800080; text-decoration-color: #800080\">/../Notion/</span><span style=\"color: #ff00ff; text-decoration-color: #ff00ff\">Notion_Get_users.md</span> moved to docs/templates/Notion/Notion_Get_users.md\n",
       "</pre>\n"
      ],
      "text/plain": [
       "✅ ..\u001b[35m/../Notion/\u001b[0m\u001b[95mNotion_Get_users.md\u001b[0m moved to docs/templates/Notion/Notion_Get_users.md\n"
      ]
     },
     "metadata": {},
     "output_type": "display_data"
    },
    {
     "data": {
      "text/html": [
       "<pre style=\"white-space:pre;overflow-x:auto;line-height:normal;font-family:Menlo,'DejaVu Sans Mono',consolas,'Courier New',monospace\">docs/templates/Notion\n",
       "</pre>\n"
      ],
      "text/plain": [
       "docs/templates/Notion\n"
      ]
     },
     "metadata": {},
     "output_type": "display_data"
    },
    {
     "data": {
      "text/html": [
       "<pre style=\"white-space:pre;overflow-x:auto;line-height:normal;font-family:Menlo,'DejaVu Sans Mono',consolas,'Courier New',monospace\">✅ ..<span style=\"color: #800080; text-decoration-color: #800080\">/../Notion/</span><span style=\"color: #ff00ff; text-decoration-color: #ff00ff\">Notion_Push_data_from_Gsheets.md</span> moved to \n",
       "docs/templates/Notion/Notion_Push_data_from_Gsheets.md\n",
       "</pre>\n"
      ],
      "text/plain": [
       "✅ ..\u001b[35m/../Notion/\u001b[0m\u001b[95mNotion_Push_data_from_Gsheets.md\u001b[0m moved to \n",
       "docs/templates/Notion/Notion_Push_data_from_Gsheets.md\n"
      ]
     },
     "metadata": {},
     "output_type": "display_data"
    },
    {
     "data": {
      "text/html": [
       "<pre style=\"white-space:pre;overflow-x:auto;line-height:normal;font-family:Menlo,'DejaVu Sans Mono',consolas,'Courier New',monospace\">docs/templates/Notion\n",
       "</pre>\n"
      ],
      "text/plain": [
       "docs/templates/Notion\n"
      ]
     },
     "metadata": {},
     "output_type": "display_data"
    },
    {
     "data": {
      "text/html": [
       "<pre style=\"white-space:pre;overflow-x:auto;line-height:normal;font-family:Menlo,'DejaVu Sans Mono',consolas,'Courier New',monospace\">✅ ..<span style=\"color: #800080; text-decoration-color: #800080\">/../Notion/</span><span style=\"color: #ff00ff; text-decoration-color: #ff00ff\">Notion_Scheduled_Updates_from_Gsheets.md</span> moved to \n",
       "docs/templates/Notion/Notion_Scheduled_Updates_from_Gsheets.md\n",
       "</pre>\n"
      ],
      "text/plain": [
       "✅ ..\u001b[35m/../Notion/\u001b[0m\u001b[95mNotion_Scheduled_Updates_from_Gsheets.md\u001b[0m moved to \n",
       "docs/templates/Notion/Notion_Scheduled_Updates_from_Gsheets.md\n"
      ]
     },
     "metadata": {},
     "output_type": "display_data"
    },
    {
     "data": {
      "text/html": [
       "<pre style=\"white-space:pre;overflow-x:auto;line-height:normal;font-family:Menlo,'DejaVu Sans Mono',consolas,'Courier New',monospace\">docs/templates/Notion\n",
       "</pre>\n"
      ],
      "text/plain": [
       "docs/templates/Notion\n"
      ]
     },
     "metadata": {},
     "output_type": "display_data"
    },
    {
     "data": {
      "text/html": [
       "<pre style=\"white-space:pre;overflow-x:auto;line-height:normal;font-family:Menlo,'DejaVu Sans Mono',consolas,'Courier New',monospace\">✅ ..<span style=\"color: #800080; text-decoration-color: #800080\">/../Notion/</span><span style=\"color: #ff00ff; text-decoration-color: #ff00ff\">Notion_Sent_Gmail_On_New_Item.md</span> moved to \n",
       "docs/templates/Notion/Notion_Sent_Gmail_On_New_Item.md\n",
       "</pre>\n"
      ],
      "text/plain": [
       "✅ ..\u001b[35m/../Notion/\u001b[0m\u001b[95mNotion_Sent_Gmail_On_New_Item.md\u001b[0m moved to \n",
       "docs/templates/Notion/Notion_Sent_Gmail_On_New_Item.md\n"
      ]
     },
     "metadata": {},
     "output_type": "display_data"
    },
    {
     "data": {
      "text/html": [
       "<pre style=\"white-space:pre;overflow-x:auto;line-height:normal;font-family:Menlo,'DejaVu Sans Mono',consolas,'Courier New',monospace\">docs/templates/Notion\n",
       "</pre>\n"
      ],
      "text/plain": [
       "docs/templates/Notion\n"
      ]
     },
     "metadata": {},
     "output_type": "display_data"
    },
    {
     "data": {
      "text/html": [
       "<pre style=\"white-space:pre;overflow-x:auto;line-height:normal;font-family:Menlo,'DejaVu Sans Mono',consolas,'Courier New',monospace\">✅ ..<span style=\"color: #800080; text-decoration-color: #800080\">/../Notion/</span><span style=\"color: #ff00ff; text-decoration-color: #ff00ff\">Notion_Update_page.md</span> moved to docs/templates/Notion/Notion_Update_page.md\n",
       "</pre>\n"
      ],
      "text/plain": [
       "✅ ..\u001b[35m/../Notion/\u001b[0m\u001b[95mNotion_Update_page.md\u001b[0m moved to docs/templates/Notion/Notion_Update_page.md\n"
      ]
     },
     "metadata": {},
     "output_type": "display_data"
    },
    {
     "data": {
      "text/html": [
       "<pre style=\"white-space:pre;overflow-x:auto;line-height:normal;font-family:Menlo,'DejaVu Sans Mono',consolas,'Courier New',monospace\">docs/templates/Notion\n",
       "</pre>\n"
      ],
      "text/plain": [
       "docs/templates/Notion\n"
      ]
     },
     "metadata": {},
     "output_type": "display_data"
    },
    {
     "data": {
      "text/html": [
       "<pre style=\"white-space:pre;overflow-x:auto;line-height:normal;font-family:Menlo,'DejaVu Sans Mono',consolas,'Courier New',monospace\">✅ ..<span style=\"color: #800080; text-decoration-color: #800080\">/../Notion/</span><span style=\"color: #ff00ff; text-decoration-color: #ff00ff\">Notion_Update_pages_from_database.md</span> moved to \n",
       "docs/templates/Notion/Notion_Update_pages_from_database.md\n",
       "</pre>\n"
      ],
      "text/plain": [
       "✅ ..\u001b[35m/../Notion/\u001b[0m\u001b[95mNotion_Update_pages_from_database.md\u001b[0m moved to \n",
       "docs/templates/Notion/Notion_Update_pages_from_database.md\n"
      ]
     },
     "metadata": {},
     "output_type": "display_data"
    },
    {
     "data": {
      "text/html": [
       "<pre style=\"white-space:pre;overflow-x:auto;line-height:normal;font-family:Menlo,'DejaVu Sans Mono',consolas,'Courier New',monospace\">docs/templates/OpenWeatherMap\n",
       "</pre>\n"
      ],
      "text/plain": [
       "docs/templates/OpenWeatherMap\n"
      ]
     },
     "metadata": {},
     "output_type": "display_data"
    },
    {
     "data": {
      "text/html": [
       "<pre style=\"white-space:pre;overflow-x:auto;line-height:normal;font-family:Menlo,'DejaVu Sans Mono',consolas,'Courier New',monospace\">✅ ..<span style=\"color: #800080; text-decoration-color: #800080\">/../OpenWeatherMap/</span><span style=\"color: #ff00ff; text-decoration-color: #ff00ff\">OpenWeatherMap_Get_City_Weather.md</span> moved to \n",
       "docs/templates/OpenWeatherMap/OpenWeatherMap_Get_City_Weather.md\n",
       "</pre>\n"
      ],
      "text/plain": [
       "✅ ..\u001b[35m/../OpenWeatherMap/\u001b[0m\u001b[95mOpenWeatherMap_Get_City_Weather.md\u001b[0m moved to \n",
       "docs/templates/OpenWeatherMap/OpenWeatherMap_Get_City_Weather.md\n"
      ]
     },
     "metadata": {},
     "output_type": "display_data"
    },
    {
     "data": {
      "text/html": [
       "<pre style=\"white-space:pre;overflow-x:auto;line-height:normal;font-family:Menlo,'DejaVu Sans Mono',consolas,'Courier New',monospace\">docs/templates/OwnCloud\n",
       "</pre>\n"
      ],
      "text/plain": [
       "docs/templates/OwnCloud\n"
      ]
     },
     "metadata": {},
     "output_type": "display_data"
    },
    {
     "data": {
      "text/html": [
       "<pre style=\"white-space:pre;overflow-x:auto;line-height:normal;font-family:Menlo,'DejaVu Sans Mono',consolas,'Courier New',monospace\">✅ ..<span style=\"color: #800080; text-decoration-color: #800080\">/../OwnCloud/</span><span style=\"color: #ff00ff; text-decoration-color: #ff00ff\">OwnCloud_Download_file.md</span> moved to \n",
       "docs/templates/OwnCloud/OwnCloud_Download_file.md\n",
       "</pre>\n"
      ],
      "text/plain": [
       "✅ ..\u001b[35m/../OwnCloud/\u001b[0m\u001b[95mOwnCloud_Download_file.md\u001b[0m moved to \n",
       "docs/templates/OwnCloud/OwnCloud_Download_file.md\n"
      ]
     },
     "metadata": {},
     "output_type": "display_data"
    },
    {
     "data": {
      "text/html": [
       "<pre style=\"white-space:pre;overflow-x:auto;line-height:normal;font-family:Menlo,'DejaVu Sans Mono',consolas,'Courier New',monospace\">docs/templates/OwnCloud\n",
       "</pre>\n"
      ],
      "text/plain": [
       "docs/templates/OwnCloud\n"
      ]
     },
     "metadata": {},
     "output_type": "display_data"
    },
    {
     "data": {
      "text/html": [
       "<pre style=\"white-space:pre;overflow-x:auto;line-height:normal;font-family:Menlo,'DejaVu Sans Mono',consolas,'Courier New',monospace\">✅ ..<span style=\"color: #800080; text-decoration-color: #800080\">/../OwnCloud/</span><span style=\"color: #ff00ff; text-decoration-color: #ff00ff\">OwnCloud_Upload_file.md</span> moved to \n",
       "docs/templates/OwnCloud/OwnCloud_Upload_file.md\n",
       "</pre>\n"
      ],
      "text/plain": [
       "✅ ..\u001b[35m/../OwnCloud/\u001b[0m\u001b[95mOwnCloud_Upload_file.md\u001b[0m moved to \n",
       "docs/templates/OwnCloud/OwnCloud_Upload_file.md\n"
      ]
     },
     "metadata": {},
     "output_type": "display_data"
    },
    {
     "data": {
      "text/html": [
       "<pre style=\"white-space:pre;overflow-x:auto;line-height:normal;font-family:Menlo,'DejaVu Sans Mono',consolas,'Courier New',monospace\">docs/templates/PDF\n",
       "</pre>\n"
      ],
      "text/plain": [
       "docs/templates/PDF\n"
      ]
     },
     "metadata": {},
     "output_type": "display_data"
    },
    {
     "data": {
      "text/html": [
       "<pre style=\"white-space:pre;overflow-x:auto;line-height:normal;font-family:Menlo,'DejaVu Sans Mono',consolas,'Courier New',monospace\">✅ ..<span style=\"color: #800080; text-decoration-color: #800080\">/../PDF/</span><span style=\"color: #ff00ff; text-decoration-color: #ff00ff\">PDF_Transform_to_MP3.md</span> moved to docs/templates/PDF/PDF_Transform_to_MP3.md\n",
       "</pre>\n"
      ],
      "text/plain": [
       "✅ ..\u001b[35m/../PDF/\u001b[0m\u001b[95mPDF_Transform_to_MP3.md\u001b[0m moved to docs/templates/PDF/PDF_Transform_to_MP3.md\n"
      ]
     },
     "metadata": {},
     "output_type": "display_data"
    },
    {
     "data": {
      "text/html": [
       "<pre style=\"white-space:pre;overflow-x:auto;line-height:normal;font-family:Menlo,'DejaVu Sans Mono',consolas,'Courier New',monospace\">docs/templates/Pandas\n",
       "</pre>\n"
      ],
      "text/plain": [
       "docs/templates/Pandas\n"
      ]
     },
     "metadata": {},
     "output_type": "display_data"
    },
    {
     "data": {
      "text/html": [
       "<pre style=\"white-space:pre;overflow-x:auto;line-height:normal;font-family:Menlo,'DejaVu Sans Mono',consolas,'Courier New',monospace\">✅ ..<span style=\"color: #800080; text-decoration-color: #800080\">/../Pandas/</span><span style=\"color: #ff00ff; text-decoration-color: #ff00ff\">Pandas_Create_Pivot_Table.md</span> moved to \n",
       "docs/templates/Pandas/Pandas_Create_Pivot_Table.md\n",
       "</pre>\n"
      ],
      "text/plain": [
       "✅ ..\u001b[35m/../Pandas/\u001b[0m\u001b[95mPandas_Create_Pivot_Table.md\u001b[0m moved to \n",
       "docs/templates/Pandas/Pandas_Create_Pivot_Table.md\n"
      ]
     },
     "metadata": {},
     "output_type": "display_data"
    },
    {
     "data": {
      "text/html": [
       "<pre style=\"white-space:pre;overflow-x:auto;line-height:normal;font-family:Menlo,'DejaVu Sans Mono',consolas,'Courier New',monospace\">docs/templates/Pandas\n",
       "</pre>\n"
      ],
      "text/plain": [
       "docs/templates/Pandas\n"
      ]
     },
     "metadata": {},
     "output_type": "display_data"
    },
    {
     "data": {
      "text/html": [
       "<pre style=\"white-space:pre;overflow-x:auto;line-height:normal;font-family:Menlo,'DejaVu Sans Mono',consolas,'Courier New',monospace\">✅ ..<span style=\"color: #800080; text-decoration-color: #800080\">/../Pandas/</span><span style=\"color: #ff00ff; text-decoration-color: #ff00ff\">Pandas_ISO_Date_Conversion.md</span> moved to \n",
       "docs/templates/Pandas/Pandas_ISO_Date_Conversion.md\n",
       "</pre>\n"
      ],
      "text/plain": [
       "✅ ..\u001b[35m/../Pandas/\u001b[0m\u001b[95mPandas_ISO_Date_Conversion.md\u001b[0m moved to \n",
       "docs/templates/Pandas/Pandas_ISO_Date_Conversion.md\n"
      ]
     },
     "metadata": {},
     "output_type": "display_data"
    },
    {
     "data": {
      "text/html": [
       "<pre style=\"white-space:pre;overflow-x:auto;line-height:normal;font-family:Menlo,'DejaVu Sans Mono',consolas,'Courier New',monospace\">docs/templates/Pandas\n",
       "</pre>\n"
      ],
      "text/plain": [
       "docs/templates/Pandas\n"
      ]
     },
     "metadata": {},
     "output_type": "display_data"
    },
    {
     "data": {
      "text/html": [
       "<pre style=\"white-space:pre;overflow-x:auto;line-height:normal;font-family:Menlo,'DejaVu Sans Mono',consolas,'Courier New',monospace\">✅ ..<span style=\"color: #800080; text-decoration-color: #800080\">/../Pandas/</span><span style=\"color: #ff00ff; text-decoration-color: #ff00ff\">Pandas_Merge_Dataframes.md</span> moved to \n",
       "docs/templates/Pandas/Pandas_Merge_Dataframes.md\n",
       "</pre>\n"
      ],
      "text/plain": [
       "✅ ..\u001b[35m/../Pandas/\u001b[0m\u001b[95mPandas_Merge_Dataframes.md\u001b[0m moved to \n",
       "docs/templates/Pandas/Pandas_Merge_Dataframes.md\n"
      ]
     },
     "metadata": {},
     "output_type": "display_data"
    },
    {
     "data": {
      "text/html": [
       "<pre style=\"white-space:pre;overflow-x:auto;line-height:normal;font-family:Menlo,'DejaVu Sans Mono',consolas,'Courier New',monospace\">docs/templates/Pipedrive\n",
       "</pre>\n"
      ],
      "text/plain": [
       "docs/templates/Pipedrive\n"
      ]
     },
     "metadata": {},
     "output_type": "display_data"
    },
    {
     "data": {
      "text/html": [
       "<pre style=\"white-space:pre;overflow-x:auto;line-height:normal;font-family:Menlo,'DejaVu Sans Mono',consolas,'Courier New',monospace\">✅ ..<span style=\"color: #800080; text-decoration-color: #800080\">/../Pipedrive/</span><span style=\"color: #ff00ff; text-decoration-color: #ff00ff\">Pipedrive_Get_contact.md</span> moved to \n",
       "docs/templates/Pipedrive/Pipedrive_Get_contact.md\n",
       "</pre>\n"
      ],
      "text/plain": [
       "✅ ..\u001b[35m/../Pipedrive/\u001b[0m\u001b[95mPipedrive_Get_contact.md\u001b[0m moved to \n",
       "docs/templates/Pipedrive/Pipedrive_Get_contact.md\n"
      ]
     },
     "metadata": {},
     "output_type": "display_data"
    },
    {
     "data": {
      "text/html": [
       "<pre style=\"white-space:pre;overflow-x:auto;line-height:normal;font-family:Menlo,'DejaVu Sans Mono',consolas,'Courier New',monospace\">docs/templates/Plaid\n",
       "</pre>\n"
      ],
      "text/plain": [
       "docs/templates/Plaid\n"
      ]
     },
     "metadata": {},
     "output_type": "display_data"
    },
    {
     "data": {
      "text/html": [
       "<pre style=\"white-space:pre;overflow-x:auto;line-height:normal;font-family:Menlo,'DejaVu Sans Mono',consolas,'Courier New',monospace\">✅ ..<span style=\"color: #800080; text-decoration-color: #800080\">/../Plaid/</span><span style=\"color: #ff00ff; text-decoration-color: #ff00ff\">Plaid_Get_accounts.md</span> moved to docs/templates/Plaid/Plaid_Get_accounts.md\n",
       "</pre>\n"
      ],
      "text/plain": [
       "✅ ..\u001b[35m/../Plaid/\u001b[0m\u001b[95mPlaid_Get_accounts.md\u001b[0m moved to docs/templates/Plaid/Plaid_Get_accounts.md\n"
      ]
     },
     "metadata": {},
     "output_type": "display_data"
    },
    {
     "data": {
      "text/html": [
       "<pre style=\"white-space:pre;overflow-x:auto;line-height:normal;font-family:Menlo,'DejaVu Sans Mono',consolas,'Courier New',monospace\">docs/templates/Plaid\n",
       "</pre>\n"
      ],
      "text/plain": [
       "docs/templates/Plaid\n"
      ]
     },
     "metadata": {},
     "output_type": "display_data"
    },
    {
     "data": {
      "text/html": [
       "<pre style=\"white-space:pre;overflow-x:auto;line-height:normal;font-family:Menlo,'DejaVu Sans Mono',consolas,'Courier New',monospace\">✅ ..<span style=\"color: #800080; text-decoration-color: #800080\">/../Plaid/</span><span style=\"color: #ff00ff; text-decoration-color: #ff00ff\">Plaid_Get_transactions.md</span> moved to \n",
       "docs/templates/Plaid/Plaid_Get_transactions.md\n",
       "</pre>\n"
      ],
      "text/plain": [
       "✅ ..\u001b[35m/../Plaid/\u001b[0m\u001b[95mPlaid_Get_transactions.md\u001b[0m moved to \n",
       "docs/templates/Plaid/Plaid_Get_transactions.md\n"
      ]
     },
     "metadata": {},
     "output_type": "display_data"
    },
    {
     "data": {
      "text/html": [
       "<pre style=\"white-space:pre;overflow-x:auto;line-height:normal;font-family:Menlo,'DejaVu Sans Mono',consolas,'Courier New',monospace\">docs/templates/Plotly\n",
       "</pre>\n"
      ],
      "text/plain": [
       "docs/templates/Plotly\n"
      ]
     },
     "metadata": {},
     "output_type": "display_data"
    },
    {
     "data": {
      "text/html": [
       "<pre style=\"white-space:pre;overflow-x:auto;line-height:normal;font-family:Menlo,'DejaVu Sans Mono',consolas,'Courier New',monospace\">✅ ..<span style=\"color: #800080; text-decoration-color: #800080\">/../Plotly/</span><span style=\"color: #ff00ff; text-decoration-color: #ff00ff\">Create</span> Bubble chart.md moved to docs/templates/Plotly/Create Bubble chart.md\n",
       "</pre>\n"
      ],
      "text/plain": [
       "✅ ..\u001b[35m/../Plotly/\u001b[0m\u001b[95mCreate\u001b[0m Bubble chart.md moved to docs/templates/Plotly/Create Bubble chart.md\n"
      ]
     },
     "metadata": {},
     "output_type": "display_data"
    },
    {
     "data": {
      "text/html": [
       "<pre style=\"white-space:pre;overflow-x:auto;line-height:normal;font-family:Menlo,'DejaVu Sans Mono',consolas,'Courier New',monospace\">docs/templates/Plotly\n",
       "</pre>\n"
      ],
      "text/plain": [
       "docs/templates/Plotly\n"
      ]
     },
     "metadata": {},
     "output_type": "display_data"
    },
    {
     "data": {
      "text/html": [
       "<pre style=\"white-space:pre;overflow-x:auto;line-height:normal;font-family:Menlo,'DejaVu Sans Mono',consolas,'Courier New',monospace\">✅ ..<span style=\"color: #800080; text-decoration-color: #800080\">/../Plotly/</span><span style=\"color: #ff00ff; text-decoration-color: #ff00ff\">Create</span> Candlestick chart.md moved to docs/templates/Plotly/Create Candlestick\n",
       "chart.md\n",
       "</pre>\n"
      ],
      "text/plain": [
       "✅ ..\u001b[35m/../Plotly/\u001b[0m\u001b[95mCreate\u001b[0m Candlestick chart.md moved to docs/templates/Plotly/Create Candlestick\n",
       "chart.md\n"
      ]
     },
     "metadata": {},
     "output_type": "display_data"
    },
    {
     "data": {
      "text/html": [
       "<pre style=\"white-space:pre;overflow-x:auto;line-height:normal;font-family:Menlo,'DejaVu Sans Mono',consolas,'Courier New',monospace\">docs/templates/Plotly\n",
       "</pre>\n"
      ],
      "text/plain": [
       "docs/templates/Plotly\n"
      ]
     },
     "metadata": {},
     "output_type": "display_data"
    },
    {
     "data": {
      "text/html": [
       "<pre style=\"white-space:pre;overflow-x:auto;line-height:normal;font-family:Menlo,'DejaVu Sans Mono',consolas,'Courier New',monospace\">✅ ..<span style=\"color: #800080; text-decoration-color: #800080\">/../Plotly/</span><span style=\"color: #ff00ff; text-decoration-color: #ff00ff\">Create</span> Gantt chart.md moved to docs/templates/Plotly/Create Gantt chart.md\n",
       "</pre>\n"
      ],
      "text/plain": [
       "✅ ..\u001b[35m/../Plotly/\u001b[0m\u001b[95mCreate\u001b[0m Gantt chart.md moved to docs/templates/Plotly/Create Gantt chart.md\n"
      ]
     },
     "metadata": {},
     "output_type": "display_data"
    },
    {
     "data": {
      "text/html": [
       "<pre style=\"white-space:pre;overflow-x:auto;line-height:normal;font-family:Menlo,'DejaVu Sans Mono',consolas,'Courier New',monospace\">docs/templates/Plotly\n",
       "</pre>\n"
      ],
      "text/plain": [
       "docs/templates/Plotly\n"
      ]
     },
     "metadata": {},
     "output_type": "display_data"
    },
    {
     "data": {
      "text/html": [
       "<pre style=\"white-space:pre;overflow-x:auto;line-height:normal;font-family:Menlo,'DejaVu Sans Mono',consolas,'Courier New',monospace\">✅ ..<span style=\"color: #800080; text-decoration-color: #800080\">/../Plotly/</span><span style=\"color: #ff00ff; text-decoration-color: #ff00ff\">Create</span> Horizontal Bar Chart <span style=\"font-weight: bold\">(</span>Basic<span style=\"font-weight: bold\">)</span>.md moved to docs/templates/Plotly/Create \n",
       "Horizontal Bar Chart <span style=\"font-weight: bold\">(</span>Basic<span style=\"font-weight: bold\">)</span>.md\n",
       "</pre>\n"
      ],
      "text/plain": [
       "✅ ..\u001b[35m/../Plotly/\u001b[0m\u001b[95mCreate\u001b[0m Horizontal Bar Chart \u001b[1m(\u001b[0mBasic\u001b[1m)\u001b[0m.md moved to docs/templates/Plotly/Create \n",
       "Horizontal Bar Chart \u001b[1m(\u001b[0mBasic\u001b[1m)\u001b[0m.md\n"
      ]
     },
     "metadata": {},
     "output_type": "display_data"
    },
    {
     "data": {
      "text/html": [
       "<pre style=\"white-space:pre;overflow-x:auto;line-height:normal;font-family:Menlo,'DejaVu Sans Mono',consolas,'Courier New',monospace\">docs/templates/Plotly\n",
       "</pre>\n"
      ],
      "text/plain": [
       "docs/templates/Plotly\n"
      ]
     },
     "metadata": {},
     "output_type": "display_data"
    },
    {
     "data": {
      "text/html": [
       "<pre style=\"white-space:pre;overflow-x:auto;line-height:normal;font-family:Menlo,'DejaVu Sans Mono',consolas,'Courier New',monospace\">✅ ..<span style=\"color: #800080; text-decoration-color: #800080\">/../Plotly/</span><span style=\"color: #ff00ff; text-decoration-color: #ff00ff\">Create</span> Line Chart <span style=\"font-weight: bold\">(</span>Basic<span style=\"font-weight: bold\">)</span>.md moved to docs/templates/Plotly/Create Line Chart\n",
       "<span style=\"font-weight: bold\">(</span>Basic<span style=\"font-weight: bold\">)</span>.md\n",
       "</pre>\n"
      ],
      "text/plain": [
       "✅ ..\u001b[35m/../Plotly/\u001b[0m\u001b[95mCreate\u001b[0m Line Chart \u001b[1m(\u001b[0mBasic\u001b[1m)\u001b[0m.md moved to docs/templates/Plotly/Create Line Chart\n",
       "\u001b[1m(\u001b[0mBasic\u001b[1m)\u001b[0m.md\n"
      ]
     },
     "metadata": {},
     "output_type": "display_data"
    },
    {
     "data": {
      "text/html": [
       "<pre style=\"white-space:pre;overflow-x:auto;line-height:normal;font-family:Menlo,'DejaVu Sans Mono',consolas,'Courier New',monospace\">docs/templates/Plotly\n",
       "</pre>\n"
      ],
      "text/plain": [
       "docs/templates/Plotly\n"
      ]
     },
     "metadata": {},
     "output_type": "display_data"
    },
    {
     "data": {
      "text/html": [
       "<pre style=\"white-space:pre;overflow-x:auto;line-height:normal;font-family:Menlo,'DejaVu Sans Mono',consolas,'Courier New',monospace\">✅ ..<span style=\"color: #800080; text-decoration-color: #800080\">/../Plotly/</span><span style=\"color: #ff00ff; text-decoration-color: #ff00ff\">Create</span> Waterfall chart <span style=\"font-weight: bold\">(</span>Advanced<span style=\"font-weight: bold\">)</span>.md moved to docs/templates/Plotly/Create \n",
       "Waterfall chart <span style=\"font-weight: bold\">(</span>Advanced<span style=\"font-weight: bold\">)</span>.md\n",
       "</pre>\n"
      ],
      "text/plain": [
       "✅ ..\u001b[35m/../Plotly/\u001b[0m\u001b[95mCreate\u001b[0m Waterfall chart \u001b[1m(\u001b[0mAdvanced\u001b[1m)\u001b[0m.md moved to docs/templates/Plotly/Create \n",
       "Waterfall chart \u001b[1m(\u001b[0mAdvanced\u001b[1m)\u001b[0m.md\n"
      ]
     },
     "metadata": {},
     "output_type": "display_data"
    },
    {
     "data": {
      "text/html": [
       "<pre style=\"white-space:pre;overflow-x:auto;line-height:normal;font-family:Menlo,'DejaVu Sans Mono',consolas,'Courier New',monospace\">docs/templates/Plotly\n",
       "</pre>\n"
      ],
      "text/plain": [
       "docs/templates/Plotly\n"
      ]
     },
     "metadata": {},
     "output_type": "display_data"
    },
    {
     "data": {
      "text/html": [
       "<pre style=\"white-space:pre;overflow-x:auto;line-height:normal;font-family:Menlo,'DejaVu Sans Mono',consolas,'Courier New',monospace\">✅ ..<span style=\"color: #800080; text-decoration-color: #800080\">/../Plotly/</span><span style=\"color: #ff00ff; text-decoration-color: #ff00ff\">Create</span> Waterfall chart <span style=\"font-weight: bold\">(</span>Basic<span style=\"font-weight: bold\">)</span>.md moved to docs/templates/Plotly/Create \n",
       "Waterfall chart <span style=\"font-weight: bold\">(</span>Basic<span style=\"font-weight: bold\">)</span>.md\n",
       "</pre>\n"
      ],
      "text/plain": [
       "✅ ..\u001b[35m/../Plotly/\u001b[0m\u001b[95mCreate\u001b[0m Waterfall chart \u001b[1m(\u001b[0mBasic\u001b[1m)\u001b[0m.md moved to docs/templates/Plotly/Create \n",
       "Waterfall chart \u001b[1m(\u001b[0mBasic\u001b[1m)\u001b[0m.md\n"
      ]
     },
     "metadata": {},
     "output_type": "display_data"
    },
    {
     "data": {
      "text/html": [
       "<pre style=\"white-space:pre;overflow-x:auto;line-height:normal;font-family:Menlo,'DejaVu Sans Mono',consolas,'Courier New',monospace\">docs/templates/Plotly\n",
       "</pre>\n"
      ],
      "text/plain": [
       "docs/templates/Plotly\n"
      ]
     },
     "metadata": {},
     "output_type": "display_data"
    },
    {
     "data": {
      "text/html": [
       "<pre style=\"white-space:pre;overflow-x:auto;line-height:normal;font-family:Menlo,'DejaVu Sans Mono',consolas,'Courier New',monospace\">✅ ..<span style=\"color: #800080; text-decoration-color: #800080\">/../Plotly/</span><span style=\"color: #ff00ff; text-decoration-color: #ff00ff\">Plotly_Bubblechart.md</span> moved to docs/templates/Plotly/Plotly_Bubblechart.md\n",
       "</pre>\n"
      ],
      "text/plain": [
       "✅ ..\u001b[35m/../Plotly/\u001b[0m\u001b[95mPlotly_Bubblechart.md\u001b[0m moved to docs/templates/Plotly/Plotly_Bubblechart.md\n"
      ]
     },
     "metadata": {},
     "output_type": "display_data"
    },
    {
     "data": {
      "text/html": [
       "<pre style=\"white-space:pre;overflow-x:auto;line-height:normal;font-family:Menlo,'DejaVu Sans Mono',consolas,'Courier New',monospace\">docs/templates/Plotly\n",
       "</pre>\n"
      ],
      "text/plain": [
       "docs/templates/Plotly\n"
      ]
     },
     "metadata": {},
     "output_type": "display_data"
    },
    {
     "data": {
      "text/html": [
       "<pre style=\"white-space:pre;overflow-x:auto;line-height:normal;font-family:Menlo,'DejaVu Sans Mono',consolas,'Courier New',monospace\">✅ ..<span style=\"color: #800080; text-decoration-color: #800080\">/../Plotly/</span><span style=\"color: #ff00ff; text-decoration-color: #ff00ff\">Plotly_Candlestick.md</span> moved to docs/templates/Plotly/Plotly_Candlestick.md\n",
       "</pre>\n"
      ],
      "text/plain": [
       "✅ ..\u001b[35m/../Plotly/\u001b[0m\u001b[95mPlotly_Candlestick.md\u001b[0m moved to docs/templates/Plotly/Plotly_Candlestick.md\n"
      ]
     },
     "metadata": {},
     "output_type": "display_data"
    },
    {
     "data": {
      "text/html": [
       "<pre style=\"white-space:pre;overflow-x:auto;line-height:normal;font-family:Menlo,'DejaVu Sans Mono',consolas,'Courier New',monospace\">docs/templates/Plotly\n",
       "</pre>\n"
      ],
      "text/plain": [
       "docs/templates/Plotly\n"
      ]
     },
     "metadata": {},
     "output_type": "display_data"
    },
    {
     "data": {
      "text/html": [
       "<pre style=\"white-space:pre;overflow-x:auto;line-height:normal;font-family:Menlo,'DejaVu Sans Mono',consolas,'Courier New',monospace\">✅ ..<span style=\"color: #800080; text-decoration-color: #800080\">/../Plotly/</span><span style=\"color: #ff00ff; text-decoration-color: #ff00ff\">Plotly_Create_Linechart.md</span> moved to \n",
       "docs/templates/Plotly/Plotly_Create_Linechart.md\n",
       "</pre>\n"
      ],
      "text/plain": [
       "✅ ..\u001b[35m/../Plotly/\u001b[0m\u001b[95mPlotly_Create_Linechart.md\u001b[0m moved to \n",
       "docs/templates/Plotly/Plotly_Create_Linechart.md\n"
      ]
     },
     "metadata": {},
     "output_type": "display_data"
    },
    {
     "data": {
      "text/html": [
       "<pre style=\"white-space:pre;overflow-x:auto;line-height:normal;font-family:Menlo,'DejaVu Sans Mono',consolas,'Courier New',monospace\">docs/templates/Plotly\n",
       "</pre>\n"
      ],
      "text/plain": [
       "docs/templates/Plotly\n"
      ]
     },
     "metadata": {},
     "output_type": "display_data"
    },
    {
     "data": {
      "text/html": [
       "<pre style=\"white-space:pre;overflow-x:auto;line-height:normal;font-family:Menlo,'DejaVu Sans Mono',consolas,'Courier New',monospace\">✅ ..<span style=\"color: #800080; text-decoration-color: #800080\">/../Plotly/</span><span style=\"color: #ff00ff; text-decoration-color: #ff00ff\">Plotly_Heatmap.md</span> moved to docs/templates/Plotly/Plotly_Heatmap.md\n",
       "</pre>\n"
      ],
      "text/plain": [
       "✅ ..\u001b[35m/../Plotly/\u001b[0m\u001b[95mPlotly_Heatmap.md\u001b[0m moved to docs/templates/Plotly/Plotly_Heatmap.md\n"
      ]
     },
     "metadata": {},
     "output_type": "display_data"
    },
    {
     "data": {
      "text/html": [
       "<pre style=\"white-space:pre;overflow-x:auto;line-height:normal;font-family:Menlo,'DejaVu Sans Mono',consolas,'Courier New',monospace\">docs/templates/Plotly\n",
       "</pre>\n"
      ],
      "text/plain": [
       "docs/templates/Plotly\n"
      ]
     },
     "metadata": {},
     "output_type": "display_data"
    },
    {
     "data": {
      "text/html": [
       "<pre style=\"white-space:pre;overflow-x:auto;line-height:normal;font-family:Menlo,'DejaVu Sans Mono',consolas,'Courier New',monospace\">✅ ..<span style=\"color: #800080; text-decoration-color: #800080\">/../Plotly/</span><span style=\"color: #ff00ff; text-decoration-color: #ff00ff\">Plotly_Mapchart_world.md</span> moved to \n",
       "docs/templates/Plotly/Plotly_Mapchart_world.md\n",
       "</pre>\n"
      ],
      "text/plain": [
       "✅ ..\u001b[35m/../Plotly/\u001b[0m\u001b[95mPlotly_Mapchart_world.md\u001b[0m moved to \n",
       "docs/templates/Plotly/Plotly_Mapchart_world.md\n"
      ]
     },
     "metadata": {},
     "output_type": "display_data"
    },
    {
     "data": {
      "text/html": [
       "<pre style=\"white-space:pre;overflow-x:auto;line-height:normal;font-family:Menlo,'DejaVu Sans Mono',consolas,'Courier New',monospace\">docs/templates/Plotly\n",
       "</pre>\n"
      ],
      "text/plain": [
       "docs/templates/Plotly\n"
      ]
     },
     "metadata": {},
     "output_type": "display_data"
    },
    {
     "data": {
      "text/html": [
       "<pre style=\"white-space:pre;overflow-x:auto;line-height:normal;font-family:Menlo,'DejaVu Sans Mono',consolas,'Courier New',monospace\">✅ ..<span style=\"color: #800080; text-decoration-color: #800080\">/../Plotly/</span><span style=\"color: #ff00ff; text-decoration-color: #ff00ff\">Plotly_Vertical_Barchart_stacked.md</span> moved to \n",
       "docs/templates/Plotly/Plotly_Vertical_Barchart_stacked.md\n",
       "</pre>\n"
      ],
      "text/plain": [
       "✅ ..\u001b[35m/../Plotly/\u001b[0m\u001b[95mPlotly_Vertical_Barchart_stacked.md\u001b[0m moved to \n",
       "docs/templates/Plotly/Plotly_Vertical_Barchart_stacked.md\n"
      ]
     },
     "metadata": {},
     "output_type": "display_data"
    },
    {
     "data": {
      "text/html": [
       "<pre style=\"white-space:pre;overflow-x:auto;line-height:normal;font-family:Menlo,'DejaVu Sans Mono',consolas,'Courier New',monospace\">docs/templates/Plotly\n",
       "</pre>\n"
      ],
      "text/plain": [
       "docs/templates/Plotly\n"
      ]
     },
     "metadata": {},
     "output_type": "display_data"
    },
    {
     "data": {
      "text/html": [
       "<pre style=\"white-space:pre;overflow-x:auto;line-height:normal;font-family:Menlo,'DejaVu Sans Mono',consolas,'Courier New',monospace\">✅ ..<span style=\"color: #800080; text-decoration-color: #800080\">/../Plotly/</span><span style=\"color: #ff00ff; text-decoration-color: #ff00ff\">Plotly_Waterfall_chart_simple.md</span> moved to \n",
       "docs/templates/Plotly/Plotly_Waterfall_chart_simple.md\n",
       "</pre>\n"
      ],
      "text/plain": [
       "✅ ..\u001b[35m/../Plotly/\u001b[0m\u001b[95mPlotly_Waterfall_chart_simple.md\u001b[0m moved to \n",
       "docs/templates/Plotly/Plotly_Waterfall_chart_simple.md\n"
      ]
     },
     "metadata": {},
     "output_type": "display_data"
    },
    {
     "data": {
      "text/html": [
       "<pre style=\"white-space:pre;overflow-x:auto;line-height:normal;font-family:Menlo,'DejaVu Sans Mono',consolas,'Courier New',monospace\">docs/templates/Python\n",
       "</pre>\n"
      ],
      "text/plain": [
       "docs/templates/Python\n"
      ]
     },
     "metadata": {},
     "output_type": "display_data"
    },
    {
     "data": {
      "text/html": [
       "<pre style=\"white-space:pre;overflow-x:auto;line-height:normal;font-family:Menlo,'DejaVu Sans Mono',consolas,'Courier New',monospace\">✅ ..<span style=\"color: #800080; text-decoration-color: #800080\">/../Python/</span><span style=\"color: #ff00ff; text-decoration-color: #ff00ff\">Python_Consolidate_Excel_files.md</span> moved to \n",
       "docs/templates/Python/Python_Consolidate_Excel_files.md\n",
       "</pre>\n"
      ],
      "text/plain": [
       "✅ ..\u001b[35m/../Python/\u001b[0m\u001b[95mPython_Consolidate_Excel_files.md\u001b[0m moved to \n",
       "docs/templates/Python/Python_Consolidate_Excel_files.md\n"
      ]
     },
     "metadata": {},
     "output_type": "display_data"
    },
    {
     "data": {
      "text/html": [
       "<pre style=\"white-space:pre;overflow-x:auto;line-height:normal;font-family:Menlo,'DejaVu Sans Mono',consolas,'Courier New',monospace\">docs/templates/Python\n",
       "</pre>\n"
      ],
      "text/plain": [
       "docs/templates/Python\n"
      ]
     },
     "metadata": {},
     "output_type": "display_data"
    },
    {
     "data": {
      "text/html": [
       "<pre style=\"white-space:pre;overflow-x:auto;line-height:normal;font-family:Menlo,'DejaVu Sans Mono',consolas,'Courier New',monospace\">✅ ..<span style=\"color: #800080; text-decoration-color: #800080\">/../Python/</span><span style=\"color: #ff00ff; text-decoration-color: #ff00ff\">Python_Looping_Over_Dataframe.md</span> moved to \n",
       "docs/templates/Python/Python_Looping_Over_Dataframe.md\n",
       "</pre>\n"
      ],
      "text/plain": [
       "✅ ..\u001b[35m/../Python/\u001b[0m\u001b[95mPython_Looping_Over_Dataframe.md\u001b[0m moved to \n",
       "docs/templates/Python/Python_Looping_Over_Dataframe.md\n"
      ]
     },
     "metadata": {},
     "output_type": "display_data"
    },
    {
     "data": {
      "text/html": [
       "<pre style=\"white-space:pre;overflow-x:auto;line-height:normal;font-family:Menlo,'DejaVu Sans Mono',consolas,'Courier New',monospace\">docs/templates/Qonto\n",
       "</pre>\n"
      ],
      "text/plain": [
       "docs/templates/Qonto\n"
      ]
     },
     "metadata": {},
     "output_type": "display_data"
    },
    {
     "data": {
      "text/html": [
       "<pre style=\"white-space:pre;overflow-x:auto;line-height:normal;font-family:Menlo,'DejaVu Sans Mono',consolas,'Courier New',monospace\">✅ ..<span style=\"color: #800080; text-decoration-color: #800080\">/../Qonto/</span><span style=\"color: #ff00ff; text-decoration-color: #ff00ff\">Qonto_Get_cash_position_trend.md</span> moved to \n",
       "docs/templates/Qonto/Qonto_Get_cash_position_trend.md\n",
       "</pre>\n"
      ],
      "text/plain": [
       "✅ ..\u001b[35m/../Qonto/\u001b[0m\u001b[95mQonto_Get_cash_position_trend.md\u001b[0m moved to \n",
       "docs/templates/Qonto/Qonto_Get_cash_position_trend.md\n"
      ]
     },
     "metadata": {},
     "output_type": "display_data"
    },
    {
     "data": {
      "text/html": [
       "<pre style=\"white-space:pre;overflow-x:auto;line-height:normal;font-family:Menlo,'DejaVu Sans Mono',consolas,'Courier New',monospace\">docs/templates/Qonto\n",
       "</pre>\n"
      ],
      "text/plain": [
       "docs/templates/Qonto\n"
      ]
     },
     "metadata": {},
     "output_type": "display_data"
    },
    {
     "data": {
      "text/html": [
       "<pre style=\"white-space:pre;overflow-x:auto;line-height:normal;font-family:Menlo,'DejaVu Sans Mono',consolas,'Courier New',monospace\">✅ ..<span style=\"color: #800080; text-decoration-color: #800080\">/../Qonto/</span><span style=\"color: #ff00ff; text-decoration-color: #ff00ff\">Qonto_Get_organizations.md</span> moved to \n",
       "docs/templates/Qonto/Qonto_Get_organizations.md\n",
       "</pre>\n"
      ],
      "text/plain": [
       "✅ ..\u001b[35m/../Qonto/\u001b[0m\u001b[95mQonto_Get_organizations.md\u001b[0m moved to \n",
       "docs/templates/Qonto/Qonto_Get_organizations.md\n"
      ]
     },
     "metadata": {},
     "output_type": "display_data"
    },
    {
     "data": {
      "text/html": [
       "<pre style=\"white-space:pre;overflow-x:auto;line-height:normal;font-family:Menlo,'DejaVu Sans Mono',consolas,'Courier New',monospace\">docs/templates/Qonto\n",
       "</pre>\n"
      ],
      "text/plain": [
       "docs/templates/Qonto\n"
      ]
     },
     "metadata": {},
     "output_type": "display_data"
    },
    {
     "data": {
      "text/html": [
       "<pre style=\"white-space:pre;overflow-x:auto;line-height:normal;font-family:Menlo,'DejaVu Sans Mono',consolas,'Courier New',monospace\">✅ ..<span style=\"color: #800080; text-decoration-color: #800080\">/../Qonto/</span><span style=\"color: #ff00ff; text-decoration-color: #ff00ff\">Qonto_Get_positions.md</span> moved to docs/templates/Qonto/Qonto_Get_positions.md\n",
       "</pre>\n"
      ],
      "text/plain": [
       "✅ ..\u001b[35m/../Qonto/\u001b[0m\u001b[95mQonto_Get_positions.md\u001b[0m moved to docs/templates/Qonto/Qonto_Get_positions.md\n"
      ]
     },
     "metadata": {},
     "output_type": "display_data"
    },
    {
     "data": {
      "text/html": [
       "<pre style=\"white-space:pre;overflow-x:auto;line-height:normal;font-family:Menlo,'DejaVu Sans Mono',consolas,'Courier New',monospace\">docs/templates/Qonto\n",
       "</pre>\n"
      ],
      "text/plain": [
       "docs/templates/Qonto\n"
      ]
     },
     "metadata": {},
     "output_type": "display_data"
    },
    {
     "data": {
      "text/html": [
       "<pre style=\"white-space:pre;overflow-x:auto;line-height:normal;font-family:Menlo,'DejaVu Sans Mono',consolas,'Courier New',monospace\">✅ ..<span style=\"color: #800080; text-decoration-color: #800080\">/../Qonto/</span><span style=\"color: #ff00ff; text-decoration-color: #ff00ff\">Qonto_Get_statement.md</span> moved to docs/templates/Qonto/Qonto_Get_statement.md\n",
       "</pre>\n"
      ],
      "text/plain": [
       "✅ ..\u001b[35m/../Qonto/\u001b[0m\u001b[95mQonto_Get_statement.md\u001b[0m moved to docs/templates/Qonto/Qonto_Get_statement.md\n"
      ]
     },
     "metadata": {},
     "output_type": "display_data"
    },
    {
     "data": {
      "text/html": [
       "<pre style=\"white-space:pre;overflow-x:auto;line-height:normal;font-family:Menlo,'DejaVu Sans Mono',consolas,'Courier New',monospace\">docs/templates/Qonto\n",
       "</pre>\n"
      ],
      "text/plain": [
       "docs/templates/Qonto\n"
      ]
     },
     "metadata": {},
     "output_type": "display_data"
    },
    {
     "data": {
      "text/html": [
       "<pre style=\"white-space:pre;overflow-x:auto;line-height:normal;font-family:Menlo,'DejaVu Sans Mono',consolas,'Courier New',monospace\">✅ ..<span style=\"color: #800080; text-decoration-color: #800080\">/../Qonto/</span><span style=\"color: #ff00ff; text-decoration-color: #ff00ff\">Qonto_Get_statement_barline.md</span> moved to \n",
       "docs/templates/Qonto/Qonto_Get_statement_barline.md\n",
       "</pre>\n"
      ],
      "text/plain": [
       "✅ ..\u001b[35m/../Qonto/\u001b[0m\u001b[95mQonto_Get_statement_barline.md\u001b[0m moved to \n",
       "docs/templates/Qonto/Qonto_Get_statement_barline.md\n"
      ]
     },
     "metadata": {},
     "output_type": "display_data"
    },
    {
     "data": {
      "text/html": [
       "<pre style=\"white-space:pre;overflow-x:auto;line-height:normal;font-family:Menlo,'DejaVu Sans Mono',consolas,'Courier New',monospace\">docs/templates/Qonto\n",
       "</pre>\n"
      ],
      "text/plain": [
       "docs/templates/Qonto\n"
      ]
     },
     "metadata": {},
     "output_type": "display_data"
    },
    {
     "data": {
      "text/html": [
       "<pre style=\"white-space:pre;overflow-x:auto;line-height:normal;font-family:Menlo,'DejaVu Sans Mono',consolas,'Courier New',monospace\">✅ ..<span style=\"color: #800080; text-decoration-color: #800080\">/../Qonto/</span><span style=\"color: #ff00ff; text-decoration-color: #ff00ff\">Qonto_Get_statement_ranking_by_category.md</span> moved to \n",
       "docs/templates/Qonto/Qonto_Get_statement_ranking_by_category.md\n",
       "</pre>\n"
      ],
      "text/plain": [
       "✅ ..\u001b[35m/../Qonto/\u001b[0m\u001b[95mQonto_Get_statement_ranking_by_category.md\u001b[0m moved to \n",
       "docs/templates/Qonto/Qonto_Get_statement_ranking_by_category.md\n"
      ]
     },
     "metadata": {},
     "output_type": "display_data"
    },
    {
     "data": {
      "text/html": [
       "<pre style=\"white-space:pre;overflow-x:auto;line-height:normal;font-family:Menlo,'DejaVu Sans Mono',consolas,'Courier New',monospace\">docs/templates/Qonto\n",
       "</pre>\n"
      ],
      "text/plain": [
       "docs/templates/Qonto\n"
      ]
     },
     "metadata": {},
     "output_type": "display_data"
    },
    {
     "data": {
      "text/html": [
       "<pre style=\"white-space:pre;overflow-x:auto;line-height:normal;font-family:Menlo,'DejaVu Sans Mono',consolas,'Courier New',monospace\">✅ ..<span style=\"color: #800080; text-decoration-color: #800080\">/../Qonto/</span><span style=\"color: #ff00ff; text-decoration-color: #ff00ff\">Qonto_Get_statement_summary_by_operation_type.md</span> moved to \n",
       "docs/templates/Qonto/Qonto_Get_statement_summary_by_operation_type.md\n",
       "</pre>\n"
      ],
      "text/plain": [
       "✅ ..\u001b[35m/../Qonto/\u001b[0m\u001b[95mQonto_Get_statement_summary_by_operation_type.md\u001b[0m moved to \n",
       "docs/templates/Qonto/Qonto_Get_statement_summary_by_operation_type.md\n"
      ]
     },
     "metadata": {},
     "output_type": "display_data"
    },
    {
     "data": {
      "text/html": [
       "<pre style=\"white-space:pre;overflow-x:auto;line-height:normal;font-family:Menlo,'DejaVu Sans Mono',consolas,'Courier New',monospace\">docs/templates/Qonto\n",
       "</pre>\n"
      ],
      "text/plain": [
       "docs/templates/Qonto\n"
      ]
     },
     "metadata": {},
     "output_type": "display_data"
    },
    {
     "data": {
      "text/html": [
       "<pre style=\"white-space:pre;overflow-x:auto;line-height:normal;font-family:Menlo,'DejaVu Sans Mono',consolas,'Courier New',monospace\">✅ ..<span style=\"color: #800080; text-decoration-color: #800080\">/../Qonto/</span><span style=\"color: #ff00ff; text-decoration-color: #ff00ff\">Qonto_Get_transactions.md</span> moved to \n",
       "docs/templates/Qonto/Qonto_Get_transactions.md\n",
       "</pre>\n"
      ],
      "text/plain": [
       "✅ ..\u001b[35m/../Qonto/\u001b[0m\u001b[95mQonto_Get_transactions.md\u001b[0m moved to \n",
       "docs/templates/Qonto/Qonto_Get_transactions.md\n"
      ]
     },
     "metadata": {},
     "output_type": "display_data"
    },
    {
     "data": {
      "text/html": [
       "<pre style=\"white-space:pre;overflow-x:auto;line-height:normal;font-family:Menlo,'DejaVu Sans Mono',consolas,'Courier New',monospace\">docs/templates/Qonto\n",
       "</pre>\n"
      ],
      "text/plain": [
       "docs/templates/Qonto\n"
      ]
     },
     "metadata": {},
     "output_type": "display_data"
    },
    {
     "data": {
      "text/html": [
       "<pre style=\"white-space:pre;overflow-x:auto;line-height:normal;font-family:Menlo,'DejaVu Sans Mono',consolas,'Courier New',monospace\">✅ ..<span style=\"color: #800080; text-decoration-color: #800080\">/../Qonto/</span><span style=\"color: #ff00ff; text-decoration-color: #ff00ff\">Qonto_Releve_de_compte_augmente.md</span> moved to \n",
       "docs/templates/Qonto/Qonto_Releve_de_compte_augmente.md\n",
       "</pre>\n"
      ],
      "text/plain": [
       "✅ ..\u001b[35m/../Qonto/\u001b[0m\u001b[95mQonto_Releve_de_compte_augmente.md\u001b[0m moved to \n",
       "docs/templates/Qonto/Qonto_Releve_de_compte_augmente.md\n"
      ]
     },
     "metadata": {},
     "output_type": "display_data"
    },
    {
     "data": {
      "text/html": [
       "<pre style=\"white-space:pre;overflow-x:auto;line-height:normal;font-family:Menlo,'DejaVu Sans Mono',consolas,'Courier New',monospace\">docs/templates/Quandl\n",
       "</pre>\n"
      ],
      "text/plain": [
       "docs/templates/Quandl\n"
      ]
     },
     "metadata": {},
     "output_type": "display_data"
    },
    {
     "data": {
      "text/html": [
       "<pre style=\"white-space:pre;overflow-x:auto;line-height:normal;font-family:Menlo,'DejaVu Sans Mono',consolas,'Courier New',monospace\">✅ ..<span style=\"color: #800080; text-decoration-color: #800080\">/../Quandl/</span><span style=\"color: #ff00ff; text-decoration-color: #ff00ff\">Quandl_Get_data_from_API.md</span> moved to \n",
       "docs/templates/Quandl/Quandl_Get_data_from_API.md\n",
       "</pre>\n"
      ],
      "text/plain": [
       "✅ ..\u001b[35m/../Quandl/\u001b[0m\u001b[95mQuandl_Get_data_from_API.md\u001b[0m moved to \n",
       "docs/templates/Quandl/Quandl_Get_data_from_API.md\n"
      ]
     },
     "metadata": {},
     "output_type": "display_data"
    },
    {
     "data": {
      "text/html": [
       "<pre style=\"white-space:pre;overflow-x:auto;line-height:normal;font-family:Menlo,'DejaVu Sans Mono',consolas,'Courier New',monospace\">docs/templates/Quandl\n",
       "</pre>\n"
      ],
      "text/plain": [
       "docs/templates/Quandl\n"
      ]
     },
     "metadata": {},
     "output_type": "display_data"
    },
    {
     "data": {
      "text/html": [
       "<pre style=\"white-space:pre;overflow-x:auto;line-height:normal;font-family:Menlo,'DejaVu Sans Mono',consolas,'Courier New',monospace\">✅ ..<span style=\"color: #800080; text-decoration-color: #800080\">/../Quandl/</span><span style=\"color: #ff00ff; text-decoration-color: #ff00ff\">Quandl_Get_data_from_CSV.md</span> moved to \n",
       "docs/templates/Quandl/Quandl_Get_data_from_CSV.md\n",
       "</pre>\n"
      ],
      "text/plain": [
       "✅ ..\u001b[35m/../Quandl/\u001b[0m\u001b[95mQuandl_Get_data_from_CSV.md\u001b[0m moved to \n",
       "docs/templates/Quandl/Quandl_Get_data_from_CSV.md\n"
      ]
     },
     "metadata": {},
     "output_type": "display_data"
    },
    {
     "data": {
      "text/html": [
       "<pre style=\"white-space:pre;overflow-x:auto;line-height:normal;font-family:Menlo,'DejaVu Sans Mono',consolas,'Courier New',monospace\">docs/templates/Reddit\n",
       "</pre>\n"
      ],
      "text/plain": [
       "docs/templates/Reddit\n"
      ]
     },
     "metadata": {},
     "output_type": "display_data"
    },
    {
     "data": {
      "text/html": [
       "<pre style=\"white-space:pre;overflow-x:auto;line-height:normal;font-family:Menlo,'DejaVu Sans Mono',consolas,'Courier New',monospace\">✅ ..<span style=\"color: #800080; text-decoration-color: #800080\">/../Reddit/</span><span style=\"color: #ff00ff; text-decoration-color: #ff00ff\">Reddit_Get_Hot_Posts_From_Subreddit.md</span> moved to \n",
       "docs/templates/Reddit/Reddit_Get_Hot_Posts_From_Subreddit.md\n",
       "</pre>\n"
      ],
      "text/plain": [
       "✅ ..\u001b[35m/../Reddit/\u001b[0m\u001b[95mReddit_Get_Hot_Posts_From_Subreddit.md\u001b[0m moved to \n",
       "docs/templates/Reddit/Reddit_Get_Hot_Posts_From_Subreddit.md\n"
      ]
     },
     "metadata": {},
     "output_type": "display_data"
    },
    {
     "data": {
      "text/html": [
       "<pre style=\"white-space:pre;overflow-x:auto;line-height:normal;font-family:Menlo,'DejaVu Sans Mono',consolas,'Courier New',monospace\">docs/templates/Redshift\n",
       "</pre>\n"
      ],
      "text/plain": [
       "docs/templates/Redshift\n"
      ]
     },
     "metadata": {},
     "output_type": "display_data"
    },
    {
     "data": {
      "text/html": [
       "<pre style=\"white-space:pre;overflow-x:auto;line-height:normal;font-family:Menlo,'DejaVu Sans Mono',consolas,'Courier New',monospace\">✅ ..<span style=\"color: #800080; text-decoration-color: #800080\">/../Redshift/</span><span style=\"color: #ff00ff; text-decoration-color: #ff00ff\">Redshift_Connect_with_SQL_Magic_and_IAM_Credentials.md</span> moved to \n",
       "docs/templates/Redshift/Redshift_Connect_with_SQL_Magic_and_IAM_Credentials.md\n",
       "</pre>\n"
      ],
      "text/plain": [
       "✅ ..\u001b[35m/../Redshift/\u001b[0m\u001b[95mRedshift_Connect_with_SQL_Magic_and_IAM_Credentials.md\u001b[0m moved to \n",
       "docs/templates/Redshift/Redshift_Connect_with_SQL_Magic_and_IAM_Credentials.md\n"
      ]
     },
     "metadata": {},
     "output_type": "display_data"
    },
    {
     "data": {
      "text/html": [
       "<pre style=\"white-space:pre;overflow-x:auto;line-height:normal;font-family:Menlo,'DejaVu Sans Mono',consolas,'Courier New',monospace\">docs/templates/Remotive\n",
       "</pre>\n"
      ],
      "text/plain": [
       "docs/templates/Remotive\n"
      ]
     },
     "metadata": {},
     "output_type": "display_data"
    },
    {
     "data": {
      "text/html": [
       "<pre style=\"white-space:pre;overflow-x:auto;line-height:normal;font-family:Menlo,'DejaVu Sans Mono',consolas,'Courier New',monospace\">✅ ..<span style=\"color: #800080; text-decoration-color: #800080\">/../Remotive/</span><span style=\"color: #ff00ff; text-decoration-color: #ff00ff\">Remotive_Get_categories_from_job.md</span> moved to \n",
       "docs/templates/Remotive/Remotive_Get_categories_from_job.md\n",
       "</pre>\n"
      ],
      "text/plain": [
       "✅ ..\u001b[35m/../Remotive/\u001b[0m\u001b[95mRemotive_Get_categories_from_job.md\u001b[0m moved to \n",
       "docs/templates/Remotive/Remotive_Get_categories_from_job.md\n"
      ]
     },
     "metadata": {},
     "output_type": "display_data"
    },
    {
     "data": {
      "text/html": [
       "<pre style=\"white-space:pre;overflow-x:auto;line-height:normal;font-family:Menlo,'DejaVu Sans Mono',consolas,'Courier New',monospace\">docs/templates/Remotive\n",
       "</pre>\n"
      ],
      "text/plain": [
       "docs/templates/Remotive\n"
      ]
     },
     "metadata": {},
     "output_type": "display_data"
    },
    {
     "data": {
      "text/html": [
       "<pre style=\"white-space:pre;overflow-x:auto;line-height:normal;font-family:Menlo,'DejaVu Sans Mono',consolas,'Courier New',monospace\">✅ ..<span style=\"color: #800080; text-decoration-color: #800080\">/../Remotive/</span><span style=\"color: #ff00ff; text-decoration-color: #ff00ff\">Remotive_Get_jobs_from_categories.md</span> moved to \n",
       "docs/templates/Remotive/Remotive_Get_jobs_from_categories.md\n",
       "</pre>\n"
      ],
      "text/plain": [
       "✅ ..\u001b[35m/../Remotive/\u001b[0m\u001b[95mRemotive_Get_jobs_from_categories.md\u001b[0m moved to \n",
       "docs/templates/Remotive/Remotive_Get_jobs_from_categories.md\n"
      ]
     },
     "metadata": {},
     "output_type": "display_data"
    },
    {
     "data": {
      "text/html": [
       "<pre style=\"white-space:pre;overflow-x:auto;line-height:normal;font-family:Menlo,'DejaVu Sans Mono',consolas,'Courier New',monospace\">docs/templates/Remotive\n",
       "</pre>\n"
      ],
      "text/plain": [
       "docs/templates/Remotive\n"
      ]
     },
     "metadata": {},
     "output_type": "display_data"
    },
    {
     "data": {
      "text/html": [
       "<pre style=\"white-space:pre;overflow-x:auto;line-height:normal;font-family:Menlo,'DejaVu Sans Mono',consolas,'Courier New',monospace\">✅ ..<span style=\"color: #800080; text-decoration-color: #800080\">/../Remotive/</span><span style=\"color: #ff00ff; text-decoration-color: #ff00ff\">Remotive_Post_daily_jobs_on_slack.md</span> moved to \n",
       "docs/templates/Remotive/Remotive_Post_daily_jobs_on_slack.md\n",
       "</pre>\n"
      ],
      "text/plain": [
       "✅ ..\u001b[35m/../Remotive/\u001b[0m\u001b[95mRemotive_Post_daily_jobs_on_slack.md\u001b[0m moved to \n",
       "docs/templates/Remotive/Remotive_Post_daily_jobs_on_slack.md\n"
      ]
     },
     "metadata": {},
     "output_type": "display_data"
    },
    {
     "data": {
      "text/html": [
       "<pre style=\"white-space:pre;overflow-x:auto;line-height:normal;font-family:Menlo,'DejaVu Sans Mono',consolas,'Courier New',monospace\">docs/templates/Remotive\n",
       "</pre>\n"
      ],
      "text/plain": [
       "docs/templates/Remotive\n"
      ]
     },
     "metadata": {},
     "output_type": "display_data"
    },
    {
     "data": {
      "text/html": [
       "<pre style=\"white-space:pre;overflow-x:auto;line-height:normal;font-family:Menlo,'DejaVu Sans Mono',consolas,'Courier New',monospace\">✅ ..<span style=\"color: #800080; text-decoration-color: #800080\">/../Remotive/</span><span style=\"color: #ff00ff; text-decoration-color: #ff00ff\">Remotive_Send_jobs_to_gsheet.md</span> moved to \n",
       "docs/templates/Remotive/Remotive_Send_jobs_to_gsheet.md\n",
       "</pre>\n"
      ],
      "text/plain": [
       "✅ ..\u001b[35m/../Remotive/\u001b[0m\u001b[95mRemotive_Send_jobs_to_gsheet.md\u001b[0m moved to \n",
       "docs/templates/Remotive/Remotive_Send_jobs_to_gsheet.md\n"
      ]
     },
     "metadata": {},
     "output_type": "display_data"
    },
    {
     "data": {
      "text/html": [
       "<pre style=\"white-space:pre;overflow-x:auto;line-height:normal;font-family:Menlo,'DejaVu Sans Mono',consolas,'Courier New',monospace\">docs/templates/SAP-HANA\n",
       "</pre>\n"
      ],
      "text/plain": [
       "docs/templates/SAP-HANA\n"
      ]
     },
     "metadata": {},
     "output_type": "display_data"
    },
    {
     "data": {
      "text/html": [
       "<pre style=\"white-space:pre;overflow-x:auto;line-height:normal;font-family:Menlo,'DejaVu Sans Mono',consolas,'Courier New',monospace\">✅ ..<span style=\"color: #800080; text-decoration-color: #800080\">/../SAP-HANA/</span><span style=\"color: #ff00ff; text-decoration-color: #ff00ff\">SAP-HANA_Query_data.md</span> moved to \n",
       "docs/templates/SAP-HANA/SAP-HANA_Query_data.md\n",
       "</pre>\n"
      ],
      "text/plain": [
       "✅ ..\u001b[35m/../SAP-HANA/\u001b[0m\u001b[95mSAP-HANA_Query_data.md\u001b[0m moved to \n",
       "docs/templates/SAP-HANA/SAP-HANA_Query_data.md\n"
      ]
     },
     "metadata": {},
     "output_type": "display_data"
    },
    {
     "data": {
      "text/html": [
       "<pre style=\"white-space:pre;overflow-x:auto;line-height:normal;font-family:Menlo,'DejaVu Sans Mono',consolas,'Courier New',monospace\">docs/templates/Slack\n",
       "</pre>\n"
      ],
      "text/plain": [
       "docs/templates/Slack\n"
      ]
     },
     "metadata": {},
     "output_type": "display_data"
    },
    {
     "data": {
      "text/html": [
       "<pre style=\"white-space:pre;overflow-x:auto;line-height:normal;font-family:Menlo,'DejaVu Sans Mono',consolas,'Courier New',monospace\">✅ ..<span style=\"color: #800080; text-decoration-color: #800080\">/../Slack/</span><span style=\"color: #ff00ff; text-decoration-color: #ff00ff\">Slack_Send_message.md</span> moved to docs/templates/Slack/Slack_Send_message.md\n",
       "</pre>\n"
      ],
      "text/plain": [
       "✅ ..\u001b[35m/../Slack/\u001b[0m\u001b[95mSlack_Send_message.md\u001b[0m moved to docs/templates/Slack/Slack_Send_message.md\n"
      ]
     },
     "metadata": {},
     "output_type": "display_data"
    },
    {
     "data": {
      "text/html": [
       "<pre style=\"white-space:pre;overflow-x:auto;line-height:normal;font-family:Menlo,'DejaVu Sans Mono',consolas,'Courier New',monospace\">docs/templates/Snowflake\n",
       "</pre>\n"
      ],
      "text/plain": [
       "docs/templates/Snowflake\n"
      ]
     },
     "metadata": {},
     "output_type": "display_data"
    },
    {
     "data": {
      "text/html": [
       "<pre style=\"white-space:pre;overflow-x:auto;line-height:normal;font-family:Menlo,'DejaVu Sans Mono',consolas,'Courier New',monospace\">✅ ..<span style=\"color: #800080; text-decoration-color: #800080\">/../Snowflake/</span><span style=\"color: #ff00ff; text-decoration-color: #ff00ff\">Snowflake_Create_table_from_csv.md</span> moved to \n",
       "docs/templates/Snowflake/Snowflake_Create_table_from_csv.md\n",
       "</pre>\n"
      ],
      "text/plain": [
       "✅ ..\u001b[35m/../Snowflake/\u001b[0m\u001b[95mSnowflake_Create_table_from_csv.md\u001b[0m moved to \n",
       "docs/templates/Snowflake/Snowflake_Create_table_from_csv.md\n"
      ]
     },
     "metadata": {},
     "output_type": "display_data"
    },
    {
     "data": {
      "text/html": [
       "<pre style=\"white-space:pre;overflow-x:auto;line-height:normal;font-family:Menlo,'DejaVu Sans Mono',consolas,'Courier New',monospace\">docs/templates/Snowflake\n",
       "</pre>\n"
      ],
      "text/plain": [
       "docs/templates/Snowflake\n"
      ]
     },
     "metadata": {},
     "output_type": "display_data"
    },
    {
     "data": {
      "text/html": [
       "<pre style=\"white-space:pre;overflow-x:auto;line-height:normal;font-family:Menlo,'DejaVu Sans Mono',consolas,'Courier New',monospace\">✅ ..<span style=\"color: #800080; text-decoration-color: #800080\">/../Snowflake/</span><span style=\"color: #ff00ff; text-decoration-color: #ff00ff\">Snowflake_Delete_table.md</span> moved to \n",
       "docs/templates/Snowflake/Snowflake_Delete_table.md\n",
       "</pre>\n"
      ],
      "text/plain": [
       "✅ ..\u001b[35m/../Snowflake/\u001b[0m\u001b[95mSnowflake_Delete_table.md\u001b[0m moved to \n",
       "docs/templates/Snowflake/Snowflake_Delete_table.md\n"
      ]
     },
     "metadata": {},
     "output_type": "display_data"
    },
    {
     "data": {
      "text/html": [
       "<pre style=\"white-space:pre;overflow-x:auto;line-height:normal;font-family:Menlo,'DejaVu Sans Mono',consolas,'Courier New',monospace\">docs/templates/Snowflake\n",
       "</pre>\n"
      ],
      "text/plain": [
       "docs/templates/Snowflake\n"
      ]
     },
     "metadata": {},
     "output_type": "display_data"
    },
    {
     "data": {
      "text/html": [
       "<pre style=\"white-space:pre;overflow-x:auto;line-height:normal;font-family:Menlo,'DejaVu Sans Mono',consolas,'Courier New',monospace\">✅ ..<span style=\"color: #800080; text-decoration-color: #800080\">/../Snowflake/</span><span style=\"color: #ff00ff; text-decoration-color: #ff00ff\">Snowflake_Read_Table.md</span> moved to \n",
       "docs/templates/Snowflake/Snowflake_Read_Table.md\n",
       "</pre>\n"
      ],
      "text/plain": [
       "✅ ..\u001b[35m/../Snowflake/\u001b[0m\u001b[95mSnowflake_Read_Table.md\u001b[0m moved to \n",
       "docs/templates/Snowflake/Snowflake_Read_Table.md\n"
      ]
     },
     "metadata": {},
     "output_type": "display_data"
    },
    {
     "data": {
      "text/html": [
       "<pre style=\"white-space:pre;overflow-x:auto;line-height:normal;font-family:Menlo,'DejaVu Sans Mono',consolas,'Courier New',monospace\">docs/templates/Snowflake\n",
       "</pre>\n"
      ],
      "text/plain": [
       "docs/templates/Snowflake\n"
      ]
     },
     "metadata": {},
     "output_type": "display_data"
    },
    {
     "data": {
      "text/html": [
       "<pre style=\"white-space:pre;overflow-x:auto;line-height:normal;font-family:Menlo,'DejaVu Sans Mono',consolas,'Courier New',monospace\">✅ ..<span style=\"color: #800080; text-decoration-color: #800080\">/../Snowflake/</span><span style=\"color: #ff00ff; text-decoration-color: #ff00ff\">Snowflake_Update_table.md</span> moved to \n",
       "docs/templates/Snowflake/Snowflake_Update_table.md\n",
       "</pre>\n"
      ],
      "text/plain": [
       "✅ ..\u001b[35m/../Snowflake/\u001b[0m\u001b[95mSnowflake_Update_table.md\u001b[0m moved to \n",
       "docs/templates/Snowflake/Snowflake_Update_table.md\n"
      ]
     },
     "metadata": {},
     "output_type": "display_data"
    },
    {
     "data": {
      "text/html": [
       "<pre style=\"white-space:pre;overflow-x:auto;line-height:normal;font-family:Menlo,'DejaVu Sans Mono',consolas,'Courier New',monospace\">docs/templates/Societe.com\n",
       "</pre>\n"
      ],
      "text/plain": [
       "docs/templates/Societe.com\n"
      ]
     },
     "metadata": {},
     "output_type": "display_data"
    },
    {
     "data": {
      "text/html": [
       "<pre style=\"white-space:pre;overflow-x:auto;line-height:normal;font-family:Menlo,'DejaVu Sans Mono',consolas,'Courier New',monospace\">✅ ..<span style=\"color: #800080; text-decoration-color: #800080\">/../Societe.com/</span><span style=\"color: #ff00ff; text-decoration-color: #ff00ff\">get_company_details.md</span> moved to \n",
       "docs/templates/Societe.com/get_company_details.md\n",
       "</pre>\n"
      ],
      "text/plain": [
       "✅ ..\u001b[35m/../Societe.com/\u001b[0m\u001b[95mget_company_details.md\u001b[0m moved to \n",
       "docs/templates/Societe.com/get_company_details.md\n"
      ]
     },
     "metadata": {},
     "output_type": "display_data"
    },
    {
     "data": {
      "text/html": [
       "<pre style=\"white-space:pre;overflow-x:auto;line-height:normal;font-family:Menlo,'DejaVu Sans Mono',consolas,'Courier New',monospace\">docs/templates/Societe.com\n",
       "</pre>\n"
      ],
      "text/plain": [
       "docs/templates/Societe.com\n"
      ]
     },
     "metadata": {},
     "output_type": "display_data"
    },
    {
     "data": {
      "text/html": [
       "<pre style=\"white-space:pre;overflow-x:auto;line-height:normal;font-family:Menlo,'DejaVu Sans Mono',consolas,'Courier New',monospace\">✅ ..<span style=\"color: #800080; text-decoration-color: #800080\">/../Societe.com/</span><span style=\"color: #ff00ff; text-decoration-color: #ff00ff\">get_societe.ninja.md</span> moved to \n",
       "docs/templates/Societe.com/get_societe.ninja.md\n",
       "</pre>\n"
      ],
      "text/plain": [
       "✅ ..\u001b[35m/../Societe.com/\u001b[0m\u001b[95mget_societe.ninja.md\u001b[0m moved to \n",
       "docs/templates/Societe.com/get_societe.ninja.md\n"
      ]
     },
     "metadata": {},
     "output_type": "display_data"
    },
    {
     "data": {
      "text/html": [
       "<pre style=\"white-space:pre;overflow-x:auto;line-height:normal;font-family:Menlo,'DejaVu Sans Mono',consolas,'Courier New',monospace\">docs/templates/Societe.com\n",
       "</pre>\n"
      ],
      "text/plain": [
       "docs/templates/Societe.com\n"
      ]
     },
     "metadata": {},
     "output_type": "display_data"
    },
    {
     "data": {
      "text/html": [
       "<pre style=\"white-space:pre;overflow-x:auto;line-height:normal;font-family:Menlo,'DejaVu Sans Mono',consolas,'Courier New',monospace\">✅ ..<span style=\"color: #800080; text-decoration-color: #800080\">/../Societe.com/</span><span style=\"color: #ff00ff; text-decoration-color: #ff00ff\">get_verif.com.md</span> moved to docs/templates/Societe.com/get_verif.com.md\n",
       "</pre>\n"
      ],
      "text/plain": [
       "✅ ..\u001b[35m/../Societe.com/\u001b[0m\u001b[95mget_verif.com.md\u001b[0m moved to docs/templates/Societe.com/get_verif.com.md\n"
      ]
     },
     "metadata": {},
     "output_type": "display_data"
    },
    {
     "data": {
      "text/html": [
       "<pre style=\"white-space:pre;overflow-x:auto;line-height:normal;font-family:Menlo,'DejaVu Sans Mono',consolas,'Courier New',monospace\">docs/templates/Spotify\n",
       "</pre>\n"
      ],
      "text/plain": [
       "docs/templates/Spotify\n"
      ]
     },
     "metadata": {},
     "output_type": "display_data"
    },
    {
     "data": {
      "text/html": [
       "<pre style=\"white-space:pre;overflow-x:auto;line-height:normal;font-family:Menlo,'DejaVu Sans Mono',consolas,'Courier New',monospace\">✅ ..<span style=\"color: #800080; text-decoration-color: #800080\">/../Spotify/</span><span style=\"color: #ff00ff; text-decoration-color: #ff00ff\">Spotify_Create_Radar_Chart_to_analyze_Playlist.md</span> moved to \n",
       "docs/templates/Spotify/Spotify_Create_Radar_Chart_to_analyze_Playlist.md\n",
       "</pre>\n"
      ],
      "text/plain": [
       "✅ ..\u001b[35m/../Spotify/\u001b[0m\u001b[95mSpotify_Create_Radar_Chart_to_analyze_Playlist.md\u001b[0m moved to \n",
       "docs/templates/Spotify/Spotify_Create_Radar_Chart_to_analyze_Playlist.md\n"
      ]
     },
     "metadata": {},
     "output_type": "display_data"
    },
    {
     "data": {
      "text/html": [
       "<pre style=\"white-space:pre;overflow-x:auto;line-height:normal;font-family:Menlo,'DejaVu Sans Mono',consolas,'Courier New',monospace\">docs/templates/Streamlit\n",
       "</pre>\n"
      ],
      "text/plain": [
       "docs/templates/Streamlit\n"
      ]
     },
     "metadata": {},
     "output_type": "display_data"
    },
    {
     "data": {
      "text/html": [
       "<pre style=\"white-space:pre;overflow-x:auto;line-height:normal;font-family:Menlo,'DejaVu Sans Mono',consolas,'Courier New',monospace\">✅ ..<span style=\"color: #800080; text-decoration-color: #800080\">/../Streamlit/</span><span style=\"color: #ff00ff; text-decoration-color: #ff00ff\">Streamlit_Create_prediction_app.md</span> moved to \n",
       "docs/templates/Streamlit/Streamlit_Create_prediction_app.md\n",
       "</pre>\n"
      ],
      "text/plain": [
       "✅ ..\u001b[35m/../Streamlit/\u001b[0m\u001b[95mStreamlit_Create_prediction_app.md\u001b[0m moved to \n",
       "docs/templates/Streamlit/Streamlit_Create_prediction_app.md\n"
      ]
     },
     "metadata": {},
     "output_type": "display_data"
    },
    {
     "data": {
      "text/html": [
       "<pre style=\"white-space:pre;overflow-x:auto;line-height:normal;font-family:Menlo,'DejaVu Sans Mono',consolas,'Courier New',monospace\">docs/templates/Stripe\n",
       "</pre>\n"
      ],
      "text/plain": [
       "docs/templates/Stripe\n"
      ]
     },
     "metadata": {},
     "output_type": "display_data"
    },
    {
     "data": {
      "text/html": [
       "<pre style=\"white-space:pre;overflow-x:auto;line-height:normal;font-family:Menlo,'DejaVu Sans Mono',consolas,'Courier New',monospace\">✅ ..<span style=\"color: #800080; text-decoration-color: #800080\">/../Stripe/</span><span style=\"color: #ff00ff; text-decoration-color: #ff00ff\">Stripe_Get_balances.md</span> moved to docs/templates/Stripe/Stripe_Get_balances.md\n",
       "</pre>\n"
      ],
      "text/plain": [
       "✅ ..\u001b[35m/../Stripe/\u001b[0m\u001b[95mStripe_Get_balances.md\u001b[0m moved to docs/templates/Stripe/Stripe_Get_balances.md\n"
      ]
     },
     "metadata": {},
     "output_type": "display_data"
    },
    {
     "data": {
      "text/html": [
       "<pre style=\"white-space:pre;overflow-x:auto;line-height:normal;font-family:Menlo,'DejaVu Sans Mono',consolas,'Courier New',monospace\">docs/templates/Stripe\n",
       "</pre>\n"
      ],
      "text/plain": [
       "docs/templates/Stripe\n"
      ]
     },
     "metadata": {},
     "output_type": "display_data"
    },
    {
     "data": {
      "text/html": [
       "<pre style=\"white-space:pre;overflow-x:auto;line-height:normal;font-family:Menlo,'DejaVu Sans Mono',consolas,'Courier New',monospace\">✅ ..<span style=\"color: #800080; text-decoration-color: #800080\">/../Stripe/</span><span style=\"color: #ff00ff; text-decoration-color: #ff00ff\">Stripe_Get_charges.md</span> moved to docs/templates/Stripe/Stripe_Get_charges.md\n",
       "</pre>\n"
      ],
      "text/plain": [
       "✅ ..\u001b[35m/../Stripe/\u001b[0m\u001b[95mStripe_Get_charges.md\u001b[0m moved to docs/templates/Stripe/Stripe_Get_charges.md\n"
      ]
     },
     "metadata": {},
     "output_type": "display_data"
    },
    {
     "data": {
      "text/html": [
       "<pre style=\"white-space:pre;overflow-x:auto;line-height:normal;font-family:Menlo,'DejaVu Sans Mono',consolas,'Courier New',monospace\">docs/templates/Stripe\n",
       "</pre>\n"
      ],
      "text/plain": [
       "docs/templates/Stripe\n"
      ]
     },
     "metadata": {},
     "output_type": "display_data"
    },
    {
     "data": {
      "text/html": [
       "<pre style=\"white-space:pre;overflow-x:auto;line-height:normal;font-family:Menlo,'DejaVu Sans Mono',consolas,'Courier New',monospace\">✅ ..<span style=\"color: #800080; text-decoration-color: #800080\">/../Stripe/</span><span style=\"color: #ff00ff; text-decoration-color: #ff00ff\">Stripe_Get_customers.md</span> moved to \n",
       "docs/templates/Stripe/Stripe_Get_customers.md\n",
       "</pre>\n"
      ],
      "text/plain": [
       "✅ ..\u001b[35m/../Stripe/\u001b[0m\u001b[95mStripe_Get_customers.md\u001b[0m moved to \n",
       "docs/templates/Stripe/Stripe_Get_customers.md\n"
      ]
     },
     "metadata": {},
     "output_type": "display_data"
    },
    {
     "data": {
      "text/html": [
       "<pre style=\"white-space:pre;overflow-x:auto;line-height:normal;font-family:Menlo,'DejaVu Sans Mono',consolas,'Courier New',monospace\">docs/templates/Telegram\n",
       "</pre>\n"
      ],
      "text/plain": [
       "docs/templates/Telegram\n"
      ]
     },
     "metadata": {},
     "output_type": "display_data"
    },
    {
     "data": {
      "text/html": [
       "<pre style=\"white-space:pre;overflow-x:auto;line-height:normal;font-family:Menlo,'DejaVu Sans Mono',consolas,'Courier New',monospace\">✅ ..<span style=\"color: #800080; text-decoration-color: #800080\">/../Telegram/</span><span style=\"color: #ff00ff; text-decoration-color: #ff00ff\">Telegram_Create_crypto_sentiment_bot.md</span> moved to \n",
       "docs/templates/Telegram/Telegram_Create_crypto_sentiment_bot.md\n",
       "</pre>\n"
      ],
      "text/plain": [
       "✅ ..\u001b[35m/../Telegram/\u001b[0m\u001b[95mTelegram_Create_crypto_sentiment_bot.md\u001b[0m moved to \n",
       "docs/templates/Telegram/Telegram_Create_crypto_sentiment_bot.md\n"
      ]
     },
     "metadata": {},
     "output_type": "display_data"
    },
    {
     "data": {
      "text/html": [
       "<pre style=\"white-space:pre;overflow-x:auto;line-height:normal;font-family:Menlo,'DejaVu Sans Mono',consolas,'Courier New',monospace\">docs/templates/Thinkific\n",
       "</pre>\n"
      ],
      "text/plain": [
       "docs/templates/Thinkific\n"
      ]
     },
     "metadata": {},
     "output_type": "display_data"
    },
    {
     "data": {
      "text/html": [
       "<pre style=\"white-space:pre;overflow-x:auto;line-height:normal;font-family:Menlo,'DejaVu Sans Mono',consolas,'Courier New',monospace\">✅ ..<span style=\"color: #800080; text-decoration-color: #800080\">/../Thinkific/</span><span style=\"color: #ff00ff; text-decoration-color: #ff00ff\">Thinkific_Get_users.md</span> moved to \n",
       "docs/templates/Thinkific/Thinkific_Get_users.md\n",
       "</pre>\n"
      ],
      "text/plain": [
       "✅ ..\u001b[35m/../Thinkific/\u001b[0m\u001b[95mThinkific_Get_users.md\u001b[0m moved to \n",
       "docs/templates/Thinkific/Thinkific_Get_users.md\n"
      ]
     },
     "metadata": {},
     "output_type": "display_data"
    },
    {
     "data": {
      "text/html": [
       "<pre style=\"white-space:pre;overflow-x:auto;line-height:normal;font-family:Menlo,'DejaVu Sans Mono',consolas,'Courier New',monospace\">docs/templates/Thinkific\n",
       "</pre>\n"
      ],
      "text/plain": [
       "docs/templates/Thinkific\n"
      ]
     },
     "metadata": {},
     "output_type": "display_data"
    },
    {
     "data": {
      "text/html": [
       "<pre style=\"white-space:pre;overflow-x:auto;line-height:normal;font-family:Menlo,'DejaVu Sans Mono',consolas,'Courier New',monospace\">✅ ..<span style=\"color: #800080; text-decoration-color: #800080\">/../Thinkific/</span><span style=\"color: #ff00ff; text-decoration-color: #ff00ff\">Thinkific_Send_users.md</span> moved to \n",
       "docs/templates/Thinkific/Thinkific_Send_users.md\n",
       "</pre>\n"
      ],
      "text/plain": [
       "✅ ..\u001b[35m/../Thinkific/\u001b[0m\u001b[95mThinkific_Send_users.md\u001b[0m moved to \n",
       "docs/templates/Thinkific/Thinkific_Send_users.md\n"
      ]
     },
     "metadata": {},
     "output_type": "display_data"
    },
    {
     "data": {
      "text/html": [
       "<pre style=\"white-space:pre;overflow-x:auto;line-height:normal;font-family:Menlo,'DejaVu Sans Mono',consolas,'Courier New',monospace\">docs/templates/Trello\n",
       "</pre>\n"
      ],
      "text/plain": [
       "docs/templates/Trello\n"
      ]
     },
     "metadata": {},
     "output_type": "display_data"
    },
    {
     "data": {
      "text/html": [
       "<pre style=\"white-space:pre;overflow-x:auto;line-height:normal;font-family:Menlo,'DejaVu Sans Mono',consolas,'Courier New',monospace\">✅ ..<span style=\"color: #800080; text-decoration-color: #800080\">/../Trello/</span><span style=\"color: #ff00ff; text-decoration-color: #ff00ff\">Trello_Get_board_data.md</span> moved to \n",
       "docs/templates/Trello/Trello_Get_board_data.md\n",
       "</pre>\n"
      ],
      "text/plain": [
       "✅ ..\u001b[35m/../Trello/\u001b[0m\u001b[95mTrello_Get_board_data.md\u001b[0m moved to \n",
       "docs/templates/Trello/Trello_Get_board_data.md\n"
      ]
     },
     "metadata": {},
     "output_type": "display_data"
    },
    {
     "data": {
      "text/html": [
       "<pre style=\"white-space:pre;overflow-x:auto;line-height:normal;font-family:Menlo,'DejaVu Sans Mono',consolas,'Courier New',monospace\">docs/templates/Twitter\n",
       "</pre>\n"
      ],
      "text/plain": [
       "docs/templates/Twitter\n"
      ]
     },
     "metadata": {},
     "output_type": "display_data"
    },
    {
     "data": {
      "text/html": [
       "<pre style=\"white-space:pre;overflow-x:auto;line-height:normal;font-family:Menlo,'DejaVu Sans Mono',consolas,'Courier New',monospace\">✅ ..<span style=\"color: #800080; text-decoration-color: #800080\">/../Twitter/</span><span style=\"color: #ff00ff; text-decoration-color: #ff00ff\">Twitter_Get_tweets_from_search.md</span> moved to \n",
       "docs/templates/Twitter/Twitter_Get_tweets_from_search.md\n",
       "</pre>\n"
      ],
      "text/plain": [
       "✅ ..\u001b[35m/../Twitter/\u001b[0m\u001b[95mTwitter_Get_tweets_from_search.md\u001b[0m moved to \n",
       "docs/templates/Twitter/Twitter_Get_tweets_from_search.md\n"
      ]
     },
     "metadata": {},
     "output_type": "display_data"
    },
    {
     "data": {
      "text/html": [
       "<pre style=\"white-space:pre;overflow-x:auto;line-height:normal;font-family:Menlo,'DejaVu Sans Mono',consolas,'Courier New',monospace\">docs/templates/Twitter\n",
       "</pre>\n"
      ],
      "text/plain": [
       "docs/templates/Twitter\n"
      ]
     },
     "metadata": {},
     "output_type": "display_data"
    },
    {
     "data": {
      "text/html": [
       "<pre style=\"white-space:pre;overflow-x:auto;line-height:normal;font-family:Menlo,'DejaVu Sans Mono',consolas,'Courier New',monospace\">✅ ..<span style=\"color: #800080; text-decoration-color: #800080\">/../Twitter/</span><span style=\"color: #ff00ff; text-decoration-color: #ff00ff\">Twitter_Get_tweets_stats_from_profile.md</span> moved to \n",
       "docs/templates/Twitter/Twitter_Get_tweets_stats_from_profile.md\n",
       "</pre>\n"
      ],
      "text/plain": [
       "✅ ..\u001b[35m/../Twitter/\u001b[0m\u001b[95mTwitter_Get_tweets_stats_from_profile.md\u001b[0m moved to \n",
       "docs/templates/Twitter/Twitter_Get_tweets_stats_from_profile.md\n"
      ]
     },
     "metadata": {},
     "output_type": "display_data"
    },
    {
     "data": {
      "text/html": [
       "<pre style=\"white-space:pre;overflow-x:auto;line-height:normal;font-family:Menlo,'DejaVu Sans Mono',consolas,'Courier New',monospace\">docs/templates/Twitter\n",
       "</pre>\n"
      ],
      "text/plain": [
       "docs/templates/Twitter\n"
      ]
     },
     "metadata": {},
     "output_type": "display_data"
    },
    {
     "data": {
      "text/html": [
       "<pre style=\"white-space:pre;overflow-x:auto;line-height:normal;font-family:Menlo,'DejaVu Sans Mono',consolas,'Courier New',monospace\">✅ ..<span style=\"color: #800080; text-decoration-color: #800080\">/../Twitter/</span><span style=\"color: #ff00ff; text-decoration-color: #ff00ff\">Twitter_Get_user_data.md</span> moved to \n",
       "docs/templates/Twitter/Twitter_Get_user_data.md\n",
       "</pre>\n"
      ],
      "text/plain": [
       "✅ ..\u001b[35m/../Twitter/\u001b[0m\u001b[95mTwitter_Get_user_data.md\u001b[0m moved to \n",
       "docs/templates/Twitter/Twitter_Get_user_data.md\n"
      ]
     },
     "metadata": {},
     "output_type": "display_data"
    },
    {
     "data": {
      "text/html": [
       "<pre style=\"white-space:pre;overflow-x:auto;line-height:normal;font-family:Menlo,'DejaVu Sans Mono',consolas,'Courier New',monospace\">docs/templates/Twitter\n",
       "</pre>\n"
      ],
      "text/plain": [
       "docs/templates/Twitter\n"
      ]
     },
     "metadata": {},
     "output_type": "display_data"
    },
    {
     "data": {
      "text/html": [
       "<pre style=\"white-space:pre;overflow-x:auto;line-height:normal;font-family:Menlo,'DejaVu Sans Mono',consolas,'Courier New',monospace\">✅ ..<span style=\"color: #800080; text-decoration-color: #800080\">/../Twitter/</span><span style=\"color: #ff00ff; text-decoration-color: #ff00ff\">Twitter_Post_text_and_image.md</span> moved to \n",
       "docs/templates/Twitter/Twitter_Post_text_and_image.md\n",
       "</pre>\n"
      ],
      "text/plain": [
       "✅ ..\u001b[35m/../Twitter/\u001b[0m\u001b[95mTwitter_Post_text_and_image.md\u001b[0m moved to \n",
       "docs/templates/Twitter/Twitter_Post_text_and_image.md\n"
      ]
     },
     "metadata": {},
     "output_type": "display_data"
    },
    {
     "data": {
      "text/html": [
       "<pre style=\"white-space:pre;overflow-x:auto;line-height:normal;font-family:Menlo,'DejaVu Sans Mono',consolas,'Courier New',monospace\">docs/templates/Twitter\n",
       "</pre>\n"
      ],
      "text/plain": [
       "docs/templates/Twitter\n"
      ]
     },
     "metadata": {},
     "output_type": "display_data"
    },
    {
     "data": {
      "text/html": [
       "<pre style=\"white-space:pre;overflow-x:auto;line-height:normal;font-family:Menlo,'DejaVu Sans Mono',consolas,'Courier New',monospace\">✅ ..<span style=\"color: #800080; text-decoration-color: #800080\">/../Twitter/</span><span style=\"color: #ff00ff; text-decoration-color: #ff00ff\">Twitter_Schedule_posts.md</span> moved to \n",
       "docs/templates/Twitter/Twitter_Schedule_posts.md\n",
       "</pre>\n"
      ],
      "text/plain": [
       "✅ ..\u001b[35m/../Twitter/\u001b[0m\u001b[95mTwitter_Schedule_posts.md\u001b[0m moved to \n",
       "docs/templates/Twitter/Twitter_Schedule_posts.md\n"
      ]
     },
     "metadata": {},
     "output_type": "display_data"
    },
    {
     "data": {
      "text/html": [
       "<pre style=\"white-space:pre;overflow-x:auto;line-height:normal;font-family:Menlo,'DejaVu Sans Mono',consolas,'Courier New',monospace\">docs/templates/WHI\n",
       "</pre>\n"
      ],
      "text/plain": [
       "docs/templates/WHI\n"
      ]
     },
     "metadata": {},
     "output_type": "display_data"
    },
    {
     "data": {
      "text/html": [
       "<pre style=\"white-space:pre;overflow-x:auto;line-height:normal;font-family:Menlo,'DejaVu Sans Mono',consolas,'Courier New',monospace\">✅ ..<span style=\"color: #800080; text-decoration-color: #800080\">/../WHI/</span><span style=\"color: #ff00ff; text-decoration-color: #ff00ff\">WHI.md</span> moved to docs/templates/WHI/WHI.md\n",
       "</pre>\n"
      ],
      "text/plain": [
       "✅ ..\u001b[35m/../WHI/\u001b[0m\u001b[95mWHI.md\u001b[0m moved to docs/templates/WHI/WHI.md\n"
      ]
     },
     "metadata": {},
     "output_type": "display_data"
    },
    {
     "data": {
      "text/html": [
       "<pre style=\"white-space:pre;overflow-x:auto;line-height:normal;font-family:Menlo,'DejaVu Sans Mono',consolas,'Courier New',monospace\">docs/templates/WSR\n",
       "</pre>\n"
      ],
      "text/plain": [
       "docs/templates/WSR\n"
      ]
     },
     "metadata": {},
     "output_type": "display_data"
    },
    {
     "data": {
      "text/html": [
       "<pre style=\"white-space:pre;overflow-x:auto;line-height:normal;font-family:Menlo,'DejaVu Sans Mono',consolas,'Courier New',monospace\">✅ ..<span style=\"color: #800080; text-decoration-color: #800080\">/../WSR/</span><span style=\"color: #ff00ff; text-decoration-color: #ff00ff\">John_Hopkins_Active_covid_cases_worldmap.md</span> moved to \n",
       "docs/templates/WSR/John_Hopkins_Active_covid_cases_worldmap.md\n",
       "</pre>\n"
      ],
      "text/plain": [
       "✅ ..\u001b[35m/../WSR/\u001b[0m\u001b[95mJohn_Hopkins_Active_covid_cases_worldmap.md\u001b[0m moved to \n",
       "docs/templates/WSR/John_Hopkins_Active_covid_cases_worldmap.md\n"
      ]
     },
     "metadata": {},
     "output_type": "display_data"
    },
    {
     "data": {
      "text/html": [
       "<pre style=\"white-space:pre;overflow-x:auto;line-height:normal;font-family:Menlo,'DejaVu Sans Mono',consolas,'Courier New',monospace\">docs/templates/WorldBank\n",
       "</pre>\n"
      ],
      "text/plain": [
       "docs/templates/WorldBank\n"
      ]
     },
     "metadata": {},
     "output_type": "display_data"
    },
    {
     "data": {
      "text/html": [
       "<pre style=\"white-space:pre;overflow-x:auto;line-height:normal;font-family:Menlo,'DejaVu Sans Mono',consolas,'Courier New',monospace\">✅ ..<span style=\"color: #800080; text-decoration-color: #800080\">/../WorldBank/</span><span style=\"color: #ff00ff; text-decoration-color: #ff00ff\">WorldBank_GDP_contributors.md</span> moved to \n",
       "docs/templates/WorldBank/WorldBank_GDP_contributors.md\n",
       "</pre>\n"
      ],
      "text/plain": [
       "✅ ..\u001b[35m/../WorldBank/\u001b[0m\u001b[95mWorldBank_GDP_contributors.md\u001b[0m moved to \n",
       "docs/templates/WorldBank/WorldBank_GDP_contributors.md\n"
      ]
     },
     "metadata": {},
     "output_type": "display_data"
    },
    {
     "data": {
      "text/html": [
       "<pre style=\"white-space:pre;overflow-x:auto;line-height:normal;font-family:Menlo,'DejaVu Sans Mono',consolas,'Courier New',monospace\">docs/templates/WorldBank\n",
       "</pre>\n"
      ],
      "text/plain": [
       "docs/templates/WorldBank\n"
      ]
     },
     "metadata": {},
     "output_type": "display_data"
    },
    {
     "data": {
      "text/html": [
       "<pre style=\"white-space:pre;overflow-x:auto;line-height:normal;font-family:Menlo,'DejaVu Sans Mono',consolas,'Courier New',monospace\">✅ ..<span style=\"color: #800080; text-decoration-color: #800080\">/../WorldBank/</span><span style=\"color: #ff00ff; text-decoration-color: #ff00ff\">WorldBank_GDP_per_capita_and_growth.md</span> moved to \n",
       "docs/templates/WorldBank/WorldBank_GDP_per_capita_and_growth.md\n",
       "</pre>\n"
      ],
      "text/plain": [
       "✅ ..\u001b[35m/../WorldBank/\u001b[0m\u001b[95mWorldBank_GDP_per_capita_and_growth.md\u001b[0m moved to \n",
       "docs/templates/WorldBank/WorldBank_GDP_per_capita_and_growth.md\n"
      ]
     },
     "metadata": {},
     "output_type": "display_data"
    },
    {
     "data": {
      "text/html": [
       "<pre style=\"white-space:pre;overflow-x:auto;line-height:normal;font-family:Menlo,'DejaVu Sans Mono',consolas,'Courier New',monospace\">docs/templates/WorldBank\n",
       "</pre>\n"
      ],
      "text/plain": [
       "docs/templates/WorldBank\n"
      ]
     },
     "metadata": {},
     "output_type": "display_data"
    },
    {
     "data": {
      "text/html": [
       "<pre style=\"white-space:pre;overflow-x:auto;line-height:normal;font-family:Menlo,'DejaVu Sans Mono',consolas,'Courier New',monospace\">✅ ..<span style=\"color: #800080; text-decoration-color: #800080\">/../WorldBank/</span><span style=\"color: #ff00ff; text-decoration-color: #ff00ff\">WorldBank_GDP_per_country_and_evolution.md</span> moved to \n",
       "docs/templates/WorldBank/WorldBank_GDP_per_country_and_evolution.md\n",
       "</pre>\n"
      ],
      "text/plain": [
       "✅ ..\u001b[35m/../WorldBank/\u001b[0m\u001b[95mWorldBank_GDP_per_country_and_evolution.md\u001b[0m moved to \n",
       "docs/templates/WorldBank/WorldBank_GDP_per_country_and_evolution.md\n"
      ]
     },
     "metadata": {},
     "output_type": "display_data"
    },
    {
     "data": {
      "text/html": [
       "<pre style=\"white-space:pre;overflow-x:auto;line-height:normal;font-family:Menlo,'DejaVu Sans Mono',consolas,'Courier New',monospace\">docs/templates/WorldBank\n",
       "</pre>\n"
      ],
      "text/plain": [
       "docs/templates/WorldBank\n"
      ]
     },
     "metadata": {},
     "output_type": "display_data"
    },
    {
     "data": {
      "text/html": [
       "<pre style=\"white-space:pre;overflow-x:auto;line-height:normal;font-family:Menlo,'DejaVu Sans Mono',consolas,'Courier New',monospace\">✅ ..<span style=\"color: #800080; text-decoration-color: #800080\">/../WorldBank/</span><span style=\"color: #ff00ff; text-decoration-color: #ff00ff\">WorldBank_Gini_index.md</span> moved to \n",
       "docs/templates/WorldBank/WorldBank_Gini_index.md\n",
       "</pre>\n"
      ],
      "text/plain": [
       "✅ ..\u001b[35m/../WorldBank/\u001b[0m\u001b[95mWorldBank_Gini_index.md\u001b[0m moved to \n",
       "docs/templates/WorldBank/WorldBank_Gini_index.md\n"
      ]
     },
     "metadata": {},
     "output_type": "display_data"
    },
    {
     "data": {
      "text/html": [
       "<pre style=\"white-space:pre;overflow-x:auto;line-height:normal;font-family:Menlo,'DejaVu Sans Mono',consolas,'Courier New',monospace\">docs/templates/WorldBank\n",
       "</pre>\n"
      ],
      "text/plain": [
       "docs/templates/WorldBank\n"
      ]
     },
     "metadata": {},
     "output_type": "display_data"
    },
    {
     "data": {
      "text/html": [
       "<pre style=\"white-space:pre;overflow-x:auto;line-height:normal;font-family:Menlo,'DejaVu Sans Mono',consolas,'Courier New',monospace\">✅ ..<span style=\"color: #800080; text-decoration-color: #800080\">/../WorldBank/</span><span style=\"color: #ff00ff; text-decoration-color: #ff00ff\">WorldBank_Most_populated_countries.md</span> moved to \n",
       "docs/templates/WorldBank/WorldBank_Most_populated_countries.md\n",
       "</pre>\n"
      ],
      "text/plain": [
       "✅ ..\u001b[35m/../WorldBank/\u001b[0m\u001b[95mWorldBank_Most_populated_countries.md\u001b[0m moved to \n",
       "docs/templates/WorldBank/WorldBank_Most_populated_countries.md\n"
      ]
     },
     "metadata": {},
     "output_type": "display_data"
    },
    {
     "data": {
      "text/html": [
       "<pre style=\"white-space:pre;overflow-x:auto;line-height:normal;font-family:Menlo,'DejaVu Sans Mono',consolas,'Courier New',monospace\">docs/templates/WorldBank\n",
       "</pre>\n"
      ],
      "text/plain": [
       "docs/templates/WorldBank\n"
      ]
     },
     "metadata": {},
     "output_type": "display_data"
    },
    {
     "data": {
      "text/html": [
       "<pre style=\"white-space:pre;overflow-x:auto;line-height:normal;font-family:Menlo,'DejaVu Sans Mono',consolas,'Courier New',monospace\">✅ ..<span style=\"color: #800080; text-decoration-color: #800080\">/../WorldBank/</span><span style=\"color: #ff00ff; text-decoration-color: #ff00ff\">WorldBank_Richest_countries_top10.md</span> moved to \n",
       "docs/templates/WorldBank/WorldBank_Richest_countries_top10.md\n",
       "</pre>\n"
      ],
      "text/plain": [
       "✅ ..\u001b[35m/../WorldBank/\u001b[0m\u001b[95mWorldBank_Richest_countries_top10.md\u001b[0m moved to \n",
       "docs/templates/WorldBank/WorldBank_Richest_countries_top10.md\n"
      ]
     },
     "metadata": {},
     "output_type": "display_data"
    },
    {
     "data": {
      "text/html": [
       "<pre style=\"white-space:pre;overflow-x:auto;line-height:normal;font-family:Menlo,'DejaVu Sans Mono',consolas,'Courier New',monospace\">docs/templates/WorldBank\n",
       "</pre>\n"
      ],
      "text/plain": [
       "docs/templates/WorldBank\n"
      ]
     },
     "metadata": {},
     "output_type": "display_data"
    },
    {
     "data": {
      "text/html": [
       "<pre style=\"white-space:pre;overflow-x:auto;line-height:normal;font-family:Menlo,'DejaVu Sans Mono',consolas,'Courier New',monospace\">✅ ..<span style=\"color: #800080; text-decoration-color: #800080\">/../WorldBank/</span><span style=\"color: #ff00ff; text-decoration-color: #ff00ff\">WorldBank_World_employment_by_sector.md</span> moved to \n",
       "docs/templates/WorldBank/WorldBank_World_employment_by_sector.md\n",
       "</pre>\n"
      ],
      "text/plain": [
       "✅ ..\u001b[35m/../WorldBank/\u001b[0m\u001b[95mWorldBank_World_employment_by_sector.md\u001b[0m moved to \n",
       "docs/templates/WorldBank/WorldBank_World_employment_by_sector.md\n"
      ]
     },
     "metadata": {},
     "output_type": "display_data"
    },
    {
     "data": {
      "text/html": [
       "<pre style=\"white-space:pre;overflow-x:auto;line-height:normal;font-family:Menlo,'DejaVu Sans Mono',consolas,'Courier New',monospace\">docs/templates/WorldBank\n",
       "</pre>\n"
      ],
      "text/plain": [
       "docs/templates/WorldBank\n"
      ]
     },
     "metadata": {},
     "output_type": "display_data"
    },
    {
     "data": {
      "text/html": [
       "<pre style=\"white-space:pre;overflow-x:auto;line-height:normal;font-family:Menlo,'DejaVu Sans Mono',consolas,'Courier New',monospace\">✅ ..<span style=\"color: #800080; text-decoration-color: #800080\">/../WorldBank/</span><span style=\"color: #ff00ff; text-decoration-color: #ff00ff\">WorldBank_World_population_and_density.md</span> moved to \n",
       "docs/templates/WorldBank/WorldBank_World_population_and_density.md\n",
       "</pre>\n"
      ],
      "text/plain": [
       "✅ ..\u001b[35m/../WorldBank/\u001b[0m\u001b[95mWorldBank_World_population_and_density.md\u001b[0m moved to \n",
       "docs/templates/WorldBank/WorldBank_World_population_and_density.md\n"
      ]
     },
     "metadata": {},
     "output_type": "display_data"
    },
    {
     "data": {
      "text/html": [
       "<pre style=\"white-space:pre;overflow-x:auto;line-height:normal;font-family:Menlo,'DejaVu Sans Mono',consolas,'Courier New',monospace\">docs/templates/Worldometer\n",
       "</pre>\n"
      ],
      "text/plain": [
       "docs/templates/Worldometer\n"
      ]
     },
     "metadata": {},
     "output_type": "display_data"
    },
    {
     "data": {
      "text/html": [
       "<pre style=\"white-space:pre;overflow-x:auto;line-height:normal;font-family:Menlo,'DejaVu Sans Mono',consolas,'Courier New',monospace\">✅ ..<span style=\"color: #800080; text-decoration-color: #800080\">/../Worldometer/</span><span style=\"color: #ff00ff; text-decoration-color: #ff00ff\">Worldometer_World_population_evolution_and_projections.md</span> moved to \n",
       "docs/templates/Worldometer/Worldometer_World_population_evolution_and_projections.md\n",
       "</pre>\n"
      ],
      "text/plain": [
       "✅ ..\u001b[35m/../Worldometer/\u001b[0m\u001b[95mWorldometer_World_population_evolution_and_projections.md\u001b[0m moved to \n",
       "docs/templates/Worldometer/Worldometer_World_population_evolution_and_projections.md\n"
      ]
     },
     "metadata": {},
     "output_type": "display_data"
    },
    {
     "data": {
      "text/html": [
       "<pre style=\"white-space:pre;overflow-x:auto;line-height:normal;font-family:Menlo,'DejaVu Sans Mono',consolas,'Courier New',monospace\">docs/templates/XML\n",
       "</pre>\n"
      ],
      "text/plain": [
       "docs/templates/XML\n"
      ]
     },
     "metadata": {},
     "output_type": "display_data"
    },
    {
     "data": {
      "text/html": [
       "<pre style=\"white-space:pre;overflow-x:auto;line-height:normal;font-family:Menlo,'DejaVu Sans Mono',consolas,'Courier New',monospace\">✅ ..<span style=\"color: #800080; text-decoration-color: #800080\">/../XML/</span><span style=\"color: #ff00ff; text-decoration-color: #ff00ff\">XML_Transform_sitemap_to_dataframe.md</span> moved to \n",
       "docs/templates/XML/XML_Transform_sitemap_to_dataframe.md\n",
       "</pre>\n"
      ],
      "text/plain": [
       "✅ ..\u001b[35m/../XML/\u001b[0m\u001b[95mXML_Transform_sitemap_to_dataframe.md\u001b[0m moved to \n",
       "docs/templates/XML/XML_Transform_sitemap_to_dataframe.md\n"
      ]
     },
     "metadata": {},
     "output_type": "display_data"
    },
    {
     "data": {
      "text/html": [
       "<pre style=\"white-space:pre;overflow-x:auto;line-height:normal;font-family:Menlo,'DejaVu Sans Mono',consolas,'Courier New',monospace\">docs/templates/YahooFinance\n",
       "</pre>\n"
      ],
      "text/plain": [
       "docs/templates/YahooFinance\n"
      ]
     },
     "metadata": {},
     "output_type": "display_data"
    },
    {
     "data": {
      "text/html": [
       "<pre style=\"white-space:pre;overflow-x:auto;line-height:normal;font-family:Menlo,'DejaVu Sans Mono',consolas,'Courier New',monospace\">✅ ..<span style=\"color: #800080; text-decoration-color: #800080\">/../YahooFinance/</span><span style=\"color: #ff00ff; text-decoration-color: #ff00ff\">YahooFinance_Candlestick_chart.md</span> moved to \n",
       "docs/templates/YahooFinance/YahooFinance_Candlestick_chart.md\n",
       "</pre>\n"
      ],
      "text/plain": [
       "✅ ..\u001b[35m/../YahooFinance/\u001b[0m\u001b[95mYahooFinance_Candlestick_chart.md\u001b[0m moved to \n",
       "docs/templates/YahooFinance/YahooFinance_Candlestick_chart.md\n"
      ]
     },
     "metadata": {},
     "output_type": "display_data"
    },
    {
     "data": {
      "text/html": [
       "<pre style=\"white-space:pre;overflow-x:auto;line-height:normal;font-family:Menlo,'DejaVu Sans Mono',consolas,'Courier New',monospace\">docs/templates/YahooFinance\n",
       "</pre>\n"
      ],
      "text/plain": [
       "docs/templates/YahooFinance\n"
      ]
     },
     "metadata": {},
     "output_type": "display_data"
    },
    {
     "data": {
      "text/html": [
       "<pre style=\"white-space:pre;overflow-x:auto;line-height:normal;font-family:Menlo,'DejaVu Sans Mono',consolas,'Courier New',monospace\">✅ ..<span style=\"color: #800080; text-decoration-color: #800080\">/../YahooFinance/</span><span style=\"color: #ff00ff; text-decoration-color: #ff00ff\">YahooFinance_Cryptocurrencies_heatmap_correlation_graph.md</span> moved to \n",
       "docs/templates/YahooFinance/YahooFinance_Cryptocurrencies_heatmap_correlation_graph.md\n",
       "</pre>\n"
      ],
      "text/plain": [
       "✅ ..\u001b[35m/../YahooFinance/\u001b[0m\u001b[95mYahooFinance_Cryptocurrencies_heatmap_correlation_graph.md\u001b[0m moved to \n",
       "docs/templates/YahooFinance/YahooFinance_Cryptocurrencies_heatmap_correlation_graph.md\n"
      ]
     },
     "metadata": {},
     "output_type": "display_data"
    },
    {
     "data": {
      "text/html": [
       "<pre style=\"white-space:pre;overflow-x:auto;line-height:normal;font-family:Menlo,'DejaVu Sans Mono',consolas,'Courier New',monospace\">docs/templates/YahooFinance\n",
       "</pre>\n"
      ],
      "text/plain": [
       "docs/templates/YahooFinance\n"
      ]
     },
     "metadata": {},
     "output_type": "display_data"
    },
    {
     "data": {
      "text/html": [
       "<pre style=\"white-space:pre;overflow-x:auto;line-height:normal;font-family:Menlo,'DejaVu Sans Mono',consolas,'Courier New',monospace\">✅ ..<span style=\"color: #800080; text-decoration-color: #800080\">/../YahooFinance/</span><span style=\"color: #ff00ff; text-decoration-color: #ff00ff\">YahooFinance_Display_chart_from_ticker.md</span> moved to \n",
       "docs/templates/YahooFinance/YahooFinance_Display_chart_from_ticker.md\n",
       "</pre>\n"
      ],
      "text/plain": [
       "✅ ..\u001b[35m/../YahooFinance/\u001b[0m\u001b[95mYahooFinance_Display_chart_from_ticker.md\u001b[0m moved to \n",
       "docs/templates/YahooFinance/YahooFinance_Display_chart_from_ticker.md\n"
      ]
     },
     "metadata": {},
     "output_type": "display_data"
    },
    {
     "data": {
      "text/html": [
       "<pre style=\"white-space:pre;overflow-x:auto;line-height:normal;font-family:Menlo,'DejaVu Sans Mono',consolas,'Courier New',monospace\">docs/templates/YahooFinance\n",
       "</pre>\n"
      ],
      "text/plain": [
       "docs/templates/YahooFinance\n"
      ]
     },
     "metadata": {},
     "output_type": "display_data"
    },
    {
     "data": {
      "text/html": [
       "<pre style=\"white-space:pre;overflow-x:auto;line-height:normal;font-family:Menlo,'DejaVu Sans Mono',consolas,'Courier New',monospace\">✅ ..<span style=\"color: #800080; text-decoration-color: #800080\">/../YahooFinance/</span><span style=\"color: #ff00ff; text-decoration-color: #ff00ff\">YahooFinance_Get_Stock_Update.md</span> moved to \n",
       "docs/templates/YahooFinance/YahooFinance_Get_Stock_Update.md\n",
       "</pre>\n"
      ],
      "text/plain": [
       "✅ ..\u001b[35m/../YahooFinance/\u001b[0m\u001b[95mYahooFinance_Get_Stock_Update.md\u001b[0m moved to \n",
       "docs/templates/YahooFinance/YahooFinance_Get_Stock_Update.md\n"
      ]
     },
     "metadata": {},
     "output_type": "display_data"
    },
    {
     "data": {
      "text/html": [
       "<pre style=\"white-space:pre;overflow-x:auto;line-height:normal;font-family:Menlo,'DejaVu Sans Mono',consolas,'Courier New',monospace\">docs/templates/YahooFinance\n",
       "</pre>\n"
      ],
      "text/plain": [
       "docs/templates/YahooFinance\n"
      ]
     },
     "metadata": {},
     "output_type": "display_data"
    },
    {
     "data": {
      "text/html": [
       "<pre style=\"white-space:pre;overflow-x:auto;line-height:normal;font-family:Menlo,'DejaVu Sans Mono',consolas,'Courier New',monospace\">✅ ..<span style=\"color: #800080; text-decoration-color: #800080\">/../YahooFinance/</span><span style=\"color: #ff00ff; text-decoration-color: #ff00ff\">YahooFinance_Get_USDEUR_data_and_chart.md</span> moved to \n",
       "docs/templates/YahooFinance/YahooFinance_Get_USDEUR_data_and_chart.md\n",
       "</pre>\n"
      ],
      "text/plain": [
       "✅ ..\u001b[35m/../YahooFinance/\u001b[0m\u001b[95mYahooFinance_Get_USDEUR_data_and_chart.md\u001b[0m moved to \n",
       "docs/templates/YahooFinance/YahooFinance_Get_USDEUR_data_and_chart.md\n"
      ]
     },
     "metadata": {},
     "output_type": "display_data"
    },
    {
     "data": {
      "text/html": [
       "<pre style=\"white-space:pre;overflow-x:auto;line-height:normal;font-family:Menlo,'DejaVu Sans Mono',consolas,'Courier New',monospace\">docs/templates/YahooFinance\n",
       "</pre>\n"
      ],
      "text/plain": [
       "docs/templates/YahooFinance\n"
      ]
     },
     "metadata": {},
     "output_type": "display_data"
    },
    {
     "data": {
      "text/html": [
       "<pre style=\"white-space:pre;overflow-x:auto;line-height:normal;font-family:Menlo,'DejaVu Sans Mono',consolas,'Courier New',monospace\">✅ ..<span style=\"color: #800080; text-decoration-color: #800080\">/../YahooFinance/</span><span style=\"color: #ff00ff; text-decoration-color: #ff00ff\">YahooFinance_Get_data_from_ticker.md</span> moved to \n",
       "docs/templates/YahooFinance/YahooFinance_Get_data_from_ticker.md\n",
       "</pre>\n"
      ],
      "text/plain": [
       "✅ ..\u001b[35m/../YahooFinance/\u001b[0m\u001b[95mYahooFinance_Get_data_from_ticker.md\u001b[0m moved to \n",
       "docs/templates/YahooFinance/YahooFinance_Get_data_from_ticker.md\n"
      ]
     },
     "metadata": {},
     "output_type": "display_data"
    },
    {
     "data": {
      "text/html": [
       "<pre style=\"white-space:pre;overflow-x:auto;line-height:normal;font-family:Menlo,'DejaVu Sans Mono',consolas,'Courier New',monospace\">docs/templates/YahooFinance\n",
       "</pre>\n"
      ],
      "text/plain": [
       "docs/templates/YahooFinance\n"
      ]
     },
     "metadata": {},
     "output_type": "display_data"
    },
    {
     "data": {
      "text/html": [
       "<pre style=\"white-space:pre;overflow-x:auto;line-height:normal;font-family:Menlo,'DejaVu Sans Mono',consolas,'Courier New',monospace\">✅ ..<span style=\"color: #800080; text-decoration-color: #800080\">/../YahooFinance/</span><span style=\"color: #ff00ff; text-decoration-color: #ff00ff\">YahooFinance_Send_daily_prediction_to_Email.md</span> moved to \n",
       "docs/templates/YahooFinance/YahooFinance_Send_daily_prediction_to_Email.md\n",
       "</pre>\n"
      ],
      "text/plain": [
       "✅ ..\u001b[35m/../YahooFinance/\u001b[0m\u001b[95mYahooFinance_Send_daily_prediction_to_Email.md\u001b[0m moved to \n",
       "docs/templates/YahooFinance/YahooFinance_Send_daily_prediction_to_Email.md\n"
      ]
     },
     "metadata": {},
     "output_type": "display_data"
    },
    {
     "data": {
      "text/html": [
       "<pre style=\"white-space:pre;overflow-x:auto;line-height:normal;font-family:Menlo,'DejaVu Sans Mono',consolas,'Courier New',monospace\">docs/templates/YahooFinance\n",
       "</pre>\n"
      ],
      "text/plain": [
       "docs/templates/YahooFinance\n"
      ]
     },
     "metadata": {},
     "output_type": "display_data"
    },
    {
     "data": {
      "text/html": [
       "<pre style=\"white-space:pre;overflow-x:auto;line-height:normal;font-family:Menlo,'DejaVu Sans Mono',consolas,'Courier New',monospace\">✅ ..<span style=\"color: #800080; text-decoration-color: #800080\">/../YahooFinance/</span><span style=\"color: #ff00ff; text-decoration-color: #ff00ff\">YahooFinance_Send_daily_prediction_to_Slack.md</span> moved to \n",
       "docs/templates/YahooFinance/YahooFinance_Send_daily_prediction_to_Slack.md\n",
       "</pre>\n"
      ],
      "text/plain": [
       "✅ ..\u001b[35m/../YahooFinance/\u001b[0m\u001b[95mYahooFinance_Send_daily_prediction_to_Slack.md\u001b[0m moved to \n",
       "docs/templates/YahooFinance/YahooFinance_Send_daily_prediction_to_Slack.md\n"
      ]
     },
     "metadata": {},
     "output_type": "display_data"
    },
    {
     "data": {
      "text/html": [
       "<pre style=\"white-space:pre;overflow-x:auto;line-height:normal;font-family:Menlo,'DejaVu Sans Mono',consolas,'Courier New',monospace\">docs/templates/Youtube\n",
       "</pre>\n"
      ],
      "text/plain": [
       "docs/templates/Youtube\n"
      ]
     },
     "metadata": {},
     "output_type": "display_data"
    },
    {
     "data": {
      "text/html": [
       "<pre style=\"white-space:pre;overflow-x:auto;line-height:normal;font-family:Menlo,'DejaVu Sans Mono',consolas,'Courier New',monospace\">✅ ..<span style=\"color: #800080; text-decoration-color: #800080\">/../Youtube/</span><span style=\"color: #ff00ff; text-decoration-color: #ff00ff\">Youtube_Download_video.md</span> moved to \n",
       "docs/templates/Youtube/Youtube_Download_video.md\n",
       "</pre>\n"
      ],
      "text/plain": [
       "✅ ..\u001b[35m/../Youtube/\u001b[0m\u001b[95mYoutube_Download_video.md\u001b[0m moved to \n",
       "docs/templates/Youtube/Youtube_Download_video.md\n"
      ]
     },
     "metadata": {},
     "output_type": "display_data"
    },
    {
     "data": {
      "text/html": [
       "<pre style=\"white-space:pre;overflow-x:auto;line-height:normal;font-family:Menlo,'DejaVu Sans Mono',consolas,'Courier New',monospace\">docs/templates/Youtube\n",
       "</pre>\n"
      ],
      "text/plain": [
       "docs/templates/Youtube\n"
      ]
     },
     "metadata": {},
     "output_type": "display_data"
    },
    {
     "data": {
      "text/html": [
       "<pre style=\"white-space:pre;overflow-x:auto;line-height:normal;font-family:Menlo,'DejaVu Sans Mono',consolas,'Courier New',monospace\">✅ ..<span style=\"color: #800080; text-decoration-color: #800080\">/../Youtube/</span><span style=\"color: #ff00ff; text-decoration-color: #ff00ff\">Youtube_Extract_and_summarize_transcript.md</span> moved to \n",
       "docs/templates/Youtube/Youtube_Extract_and_summarize_transcript.md\n",
       "</pre>\n"
      ],
      "text/plain": [
       "✅ ..\u001b[35m/../Youtube/\u001b[0m\u001b[95mYoutube_Extract_and_summarize_transcript.md\u001b[0m moved to \n",
       "docs/templates/Youtube/Youtube_Extract_and_summarize_transcript.md\n"
      ]
     },
     "metadata": {},
     "output_type": "display_data"
    },
    {
     "data": {
      "text/html": [
       "<pre style=\"white-space:pre;overflow-x:auto;line-height:normal;font-family:Menlo,'DejaVu Sans Mono',consolas,'Courier New',monospace\">docs/templates/Youtube\n",
       "</pre>\n"
      ],
      "text/plain": [
       "docs/templates/Youtube\n"
      ]
     },
     "metadata": {},
     "output_type": "display_data"
    },
    {
     "data": {
      "text/html": [
       "<pre style=\"white-space:pre;overflow-x:auto;line-height:normal;font-family:Menlo,'DejaVu Sans Mono',consolas,'Courier New',monospace\">✅ ..<span style=\"color: #800080; text-decoration-color: #800080\">/../Youtube/</span><span style=\"color: #ff00ff; text-decoration-color: #ff00ff\">Youtube_Extract_transcript_from_video.md</span> moved to \n",
       "docs/templates/Youtube/Youtube_Extract_transcript_from_video.md\n",
       "</pre>\n"
      ],
      "text/plain": [
       "✅ ..\u001b[35m/../Youtube/\u001b[0m\u001b[95mYoutube_Extract_transcript_from_video.md\u001b[0m moved to \n",
       "docs/templates/Youtube/Youtube_Extract_transcript_from_video.md\n"
      ]
     },
     "metadata": {},
     "output_type": "display_data"
    },
    {
     "data": {
      "text/html": [
       "<pre style=\"white-space:pre;overflow-x:auto;line-height:normal;font-family:Menlo,'DejaVu Sans Mono',consolas,'Courier New',monospace\">docs/templates/Youtube\n",
       "</pre>\n"
      ],
      "text/plain": [
       "docs/templates/Youtube\n"
      ]
     },
     "metadata": {},
     "output_type": "display_data"
    },
    {
     "data": {
      "text/html": [
       "<pre style=\"white-space:pre;overflow-x:auto;line-height:normal;font-family:Menlo,'DejaVu Sans Mono',consolas,'Courier New',monospace\">✅ ..<span style=\"color: #800080; text-decoration-color: #800080\">/../Youtube/</span><span style=\"color: #ff00ff; text-decoration-color: #ff00ff\">Youtube_Get_statistics_from_channel.md</span> moved to \n",
       "docs/templates/Youtube/Youtube_Get_statistics_from_channel.md\n",
       "</pre>\n"
      ],
      "text/plain": [
       "✅ ..\u001b[35m/../Youtube/\u001b[0m\u001b[95mYoutube_Get_statistics_from_channel.md\u001b[0m moved to \n",
       "docs/templates/Youtube/Youtube_Get_statistics_from_channel.md\n"
      ]
     },
     "metadata": {},
     "output_type": "display_data"
    },
    {
     "data": {
      "text/html": [
       "<pre style=\"white-space:pre;overflow-x:auto;line-height:normal;font-family:Menlo,'DejaVu Sans Mono',consolas,'Courier New',monospace\">docs/templates/Youtube\n",
       "</pre>\n"
      ],
      "text/plain": [
       "docs/templates/Youtube\n"
      ]
     },
     "metadata": {},
     "output_type": "display_data"
    },
    {
     "data": {
      "text/html": [
       "<pre style=\"white-space:pre;overflow-x:auto;line-height:normal;font-family:Menlo,'DejaVu Sans Mono',consolas,'Courier New',monospace\">✅ ..<span style=\"color: #800080; text-decoration-color: #800080\">/../Youtube/</span><span style=\"color: #ff00ff; text-decoration-color: #ff00ff\">Youtube_Get_statistics_from_video.md</span> moved to \n",
       "docs/templates/Youtube/Youtube_Get_statistics_from_video.md\n",
       "</pre>\n"
      ],
      "text/plain": [
       "✅ ..\u001b[35m/../Youtube/\u001b[0m\u001b[95mYoutube_Get_statistics_from_video.md\u001b[0m moved to \n",
       "docs/templates/Youtube/Youtube_Get_statistics_from_video.md\n"
      ]
     },
     "metadata": {},
     "output_type": "display_data"
    },
    {
     "data": {
      "text/html": [
       "<pre style=\"white-space:pre;overflow-x:auto;line-height:normal;font-family:Menlo,'DejaVu Sans Mono',consolas,'Courier New',monospace\">docs/templates/Youtube\n",
       "</pre>\n"
      ],
      "text/plain": [
       "docs/templates/Youtube\n"
      ]
     },
     "metadata": {},
     "output_type": "display_data"
    },
    {
     "data": {
      "text/html": [
       "<pre style=\"white-space:pre;overflow-x:auto;line-height:normal;font-family:Menlo,'DejaVu Sans Mono',consolas,'Courier New',monospace\">✅ ..<span style=\"color: #800080; text-decoration-color: #800080\">/../Youtube/</span><span style=\"color: #ff00ff; text-decoration-color: #ff00ff\">Youtube_Get_uploads_from_channel.md</span> moved to \n",
       "docs/templates/Youtube/Youtube_Get_uploads_from_channel.md\n",
       "</pre>\n"
      ],
      "text/plain": [
       "✅ ..\u001b[35m/../Youtube/\u001b[0m\u001b[95mYoutube_Get_uploads_from_channel.md\u001b[0m moved to \n",
       "docs/templates/Youtube/Youtube_Get_uploads_from_channel.md\n"
      ]
     },
     "metadata": {},
     "output_type": "display_data"
    },
    {
     "data": {
      "text/html": [
       "<pre style=\"white-space:pre;overflow-x:auto;line-height:normal;font-family:Menlo,'DejaVu Sans Mono',consolas,'Courier New',monospace\">docs/templates/Youtube\n",
       "</pre>\n"
      ],
      "text/plain": [
       "docs/templates/Youtube\n"
      ]
     },
     "metadata": {},
     "output_type": "display_data"
    },
    {
     "data": {
      "text/html": [
       "<pre style=\"white-space:pre;overflow-x:auto;line-height:normal;font-family:Menlo,'DejaVu Sans Mono',consolas,'Courier New',monospace\">✅ ..<span style=\"color: #800080; text-decoration-color: #800080\">/../Youtube/</span><span style=\"color: #ff00ff; text-decoration-color: #ff00ff\">Youtube_Summarize_video.md</span> moved to \n",
       "docs/templates/Youtube/Youtube_Summarize_video.md\n",
       "</pre>\n"
      ],
      "text/plain": [
       "✅ ..\u001b[35m/../Youtube/\u001b[0m\u001b[95mYoutube_Summarize_video.md\u001b[0m moved to \n",
       "docs/templates/Youtube/Youtube_Summarize_video.md\n"
      ]
     },
     "metadata": {},
     "output_type": "display_data"
    },
    {
     "data": {
      "text/html": [
       "<pre style=\"white-space:pre;overflow-x:auto;line-height:normal;font-family:Menlo,'DejaVu Sans Mono',consolas,'Courier New',monospace\">docs/templates/ZIP\n",
       "</pre>\n"
      ],
      "text/plain": [
       "docs/templates/ZIP\n"
      ]
     },
     "metadata": {},
     "output_type": "display_data"
    },
    {
     "data": {
      "text/html": [
       "<pre style=\"white-space:pre;overflow-x:auto;line-height:normal;font-family:Menlo,'DejaVu Sans Mono',consolas,'Courier New',monospace\">✅ ..<span style=\"color: #800080; text-decoration-color: #800080\">/../ZIP/</span><span style=\"color: #ff00ff; text-decoration-color: #ff00ff\">ZIP_Extract_files.md</span> moved to docs/templates/ZIP/ZIP_Extract_files.md\n",
       "</pre>\n"
      ],
      "text/plain": [
       "✅ ..\u001b[35m/../ZIP/\u001b[0m\u001b[95mZIP_Extract_files.md\u001b[0m moved to docs/templates/ZIP/ZIP_Extract_files.md\n"
      ]
     },
     "metadata": {},
     "output_type": "display_data"
    },
    {
     "data": {
      "text/html": [
       "<pre style=\"white-space:pre;overflow-x:auto;line-height:normal;font-family:Menlo,'DejaVu Sans Mono',consolas,'Courier New',monospace\">docs/templates/Zapier\n",
       "</pre>\n"
      ],
      "text/plain": [
       "docs/templates/Zapier\n"
      ]
     },
     "metadata": {},
     "output_type": "display_data"
    },
    {
     "data": {
      "text/html": [
       "<pre style=\"white-space:pre;overflow-x:auto;line-height:normal;font-family:Menlo,'DejaVu Sans Mono',consolas,'Courier New',monospace\">✅ ..<span style=\"color: #800080; text-decoration-color: #800080\">/../Zapier/</span><span style=\"color: #ff00ff; text-decoration-color: #ff00ff\">Zapier_Trigger_workflow.md</span> moved to \n",
       "docs/templates/Zapier/Zapier_Trigger_workflow.md\n",
       "</pre>\n"
      ],
      "text/plain": [
       "✅ ..\u001b[35m/../Zapier/\u001b[0m\u001b[95mZapier_Trigger_workflow.md\u001b[0m moved to \n",
       "docs/templates/Zapier/Zapier_Trigger_workflow.md\n"
      ]
     },
     "metadata": {},
     "output_type": "display_data"
    },
    {
     "data": {
      "text/html": [
       "<pre style=\"white-space:pre;overflow-x:auto;line-height:normal;font-family:Menlo,'DejaVu Sans Mono',consolas,'Courier New',monospace\">❌ Error while creating category README.md\n",
       "</pre>\n"
      ],
      "text/plain": [
       "❌ Error while creating category README.md\n"
      ]
     },
     "metadata": {},
     "output_type": "display_data"
    },
    {
     "data": {
      "text/html": [
       "<pre style=\"white-space:pre;overflow-x:auto;line-height:normal;font-family:Menlo,'DejaVu Sans Mono',consolas,'Courier New',monospace\"><span style=\"font-weight: bold\">[</span>Errno <span style=\"color: #008080; text-decoration-color: #008080; font-weight: bold\">2</span><span style=\"font-weight: bold\">]</span> No such file or directory: <span style=\"color: #008000; text-decoration-color: #008000\">'docs/templates/Python Snippets/README.md'</span>\n",
       "</pre>\n"
      ],
      "text/plain": [
       "\u001b[1m[\u001b[0mErrno \u001b[1;36m2\u001b[0m\u001b[1m]\u001b[0m No such file or directory: \u001b[32m'docs/templates/Python Snippets/README.md'\u001b[0m\n"
      ]
     },
     "metadata": {},
     "output_type": "display_data"
    }
   ],
   "source": [
    "got_errors = False\n",
    "error_counter = 0\n",
    "\n",
    "notebooks = {}\n",
    "\n",
    "# Sort notebooks by technology (category)\n",
    "for file in glob.glob('../../**/*.ipynb', recursive=True):\n",
    "    # Do not check notebooks in .github or at the root of the project.\n",
    "    if '.github' in file or len(file.split('/')) == 3:\n",
    "        continue\n",
    "\n",
    "    technology, action = get_technology_and_action(file)\n",
    "    if technology not in notebooks:\n",
    "        notebooks[technology] = []\n",
    "    notebooks[technology].append((action, file))\n",
    "\n",
    "# Create readme lines for all notebooks per technology.\n",
    "readme_lines = create_readme_lines(notebooks)\n",
    "\n",
    "# Remove titles and naas logo.\n",
    "remove_unwanted_cells(notebooks)\n",
    "\n",
    "# Convert .ipynb files to .md files.\n",
    "convert_notebooks_to_md(notebooks)\n",
    "\n",
    "# Create a new SUMMARY.md files updated with all notebooks.\n",
    "with open('docs/new_SUMMARY.md', 'w') as new_summary:\n",
    "    with open('docs/SUMMARY.md') as summary:\n",
    "        for line in summary.readlines():\n",
    "            if line == \"* [😎 Templates](templates.md)\\n\":\n",
    "                new_summary.write(line)\n",
    "                for rl in readme_lines:\n",
    "                    new_summary.write(rl)\n",
    "            elif \"(templates/\" in line:\n",
    "                continue\n",
    "            else:\n",
    "                new_summary.write(line)\n",
    "        summary.close()\n",
    "    new_summary.close()\n",
    "shutil.move('docs/new_SUMMARY.md', 'docs/SUMMARY.md')\n",
    "\n",
    "\n",
    "# Moving markdown files into documentations repo.\n",
    "move_markdown_files()\n",
    "\n",
    "# Create README.md for each category.\n",
    "create_category_readmes(notebooks)\n",
    "\n",
    "# Complete\n",
    "print('✅ Process completed!')"
   ]
  },
  {
   "cell_type": "code",
   "execution_count": null,
   "id": "9fdafd12-ab90-4aa7-afcc-773ffd954b64",
   "metadata": {},
   "outputs": [],
   "source": []
  }
 ],
 "metadata": {
  "kernelspec": {
   "display_name": "Python 3 (ipykernel)",
   "language": "python",
   "name": "python3"
  },
  "language_info": {
   "codemirror_mode": {
    "name": "ipython",
    "version": 3
   },
   "file_extension": ".py",
   "mimetype": "text/x-python",
   "name": "python",
   "nbconvert_exporter": "python",
   "pygments_lexer": "ipython3",
   "version": "3.9.7"
  },
  "toc-showtags": false
 },
 "nbformat": 4,
 "nbformat_minor": 5
}
