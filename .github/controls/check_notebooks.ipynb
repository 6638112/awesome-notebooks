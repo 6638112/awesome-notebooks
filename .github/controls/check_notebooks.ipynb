{
 "cells": [
  {
   "cell_type": "markdown",
   "id": "6933ee71-8013-4aa8-9527-6a567845e10e",
   "metadata": {},
   "source": [
    "<img width=\"10%\" alt=\"Naas\" src=\"https://landen.imgix.net/jtci2pxwjczr/assets/5ice39g4.png?w=160\"/>"
   ]
  },
  {
   "cell_type": "markdown",
   "id": "d446a1b5-92be-4fb5-b732-3674fb19ccec",
   "metadata": {},
   "source": [
    "# CI/CD - Make sure all notebooks respects our format policy"
   ]
  },
  {
   "cell_type": "markdown",
   "id": "21e72fae-2204-42c3-b0eb-3885fa38a589",
   "metadata": {},
   "source": [
    "**Tags:** #naas"
   ]
  },
  {
   "cell_type": "markdown",
   "id": "a65dcb87-29c1-4092-a6dd-29e3ce143bba",
   "metadata": {},
   "source": [
    "**Author:** [Maxime Jublou](https://www.linkedin.com/in/maximejublou/)"
   ]
  },
  {
   "cell_type": "markdown",
   "id": "deef151b-b723-46ac-ac41-1c19d29e1fc6",
   "metadata": {},
   "source": [
    "# Input"
   ]
  },
  {
   "cell_type": "markdown",
   "id": "dd06c1e3-6616-44c8-bbb8-3822cad8338e",
   "metadata": {},
   "source": [
    "### Install libraries5.1.0"
   ]
  },
  {
   "cell_type": "code",
   "execution_count": 1,
   "id": "9557ee92-0038-4f46-a9e0-4ba8732eddbe",
   "metadata": {},
   "outputs": [
    {
     "name": "stdout",
     "output_type": "stream",
     "text": [
      "Collecting rich==11.2.0\n",
      "  Downloading rich-11.2.0-py3-none-any.whl (217 kB)\n",
      "\u001b[2K     \u001b[90m━━━━━━━━━━━━━━━━━━━━━━━━━━━━━━━━━━━━━━━\u001b[0m \u001b[32m217.3/217.3 KB\u001b[0m \u001b[31m3.3 MB/s\u001b[0m eta \u001b[36m0:00:00\u001b[0ma \u001b[36m0:00:01\u001b[0m\n",
      "\u001b[?25hCollecting pydash==5.1.0\n",
      "  Downloading pydash-5.1.0-py3-none-any.whl (84 kB)\n",
      "\u001b[2K     \u001b[90m━━━━━━━━━━━━━━━━━━━━━━━━━━━━━━━━━━━━━━━━\u001b[0m \u001b[32m84.9/84.9 KB\u001b[0m \u001b[31m4.2 MB/s\u001b[0m eta \u001b[36m0:00:00\u001b[0m\n",
      "\u001b[?25hCollecting commonmark<0.10.0,>=0.9.0\n",
      "  Downloading commonmark-0.9.1-py2.py3-none-any.whl (51 kB)\n",
      "\u001b[2K     \u001b[90m━━━━━━━━━━━━━━━━━━━━━━━━━━━━━━━━━━━━━━━━\u001b[0m \u001b[32m51.1/51.1 KB\u001b[0m \u001b[31m8.1 MB/s\u001b[0m eta \u001b[36m0:00:00\u001b[0m\n",
      "\u001b[?25hRequirement already satisfied: pygments<3.0.0,>=2.6.0 in /opt/conda/lib/python3.9/site-packages (from rich==11.2.0) (2.11.2)\n",
      "Requirement already satisfied: colorama<0.5.0,>=0.4.0 in /opt/conda/lib/python3.9/site-packages (from rich==11.2.0) (0.4.4)\n",
      "Installing collected packages: commonmark, rich, pydash\n",
      "Successfully installed commonmark-0.9.1 pydash-5.1.0 rich-11.2.0\n"
     ]
    }
   ],
   "source": [
    "!pip3 install rich==11.2.0 pydash==5.1.0"
   ]
  },
  {
   "cell_type": "markdown",
   "id": "59b780f5-f3b8-416f-bb16-1119a40dac28",
   "metadata": {},
   "source": [
    "### Import librairies"
   ]
  },
  {
   "cell_type": "code",
   "execution_count": 13,
   "id": "3790eff8-2b9b-4947-bda5-5f15b0f17e29",
   "metadata": {
    "tags": [
     "imports"
    ]
   },
   "outputs": [],
   "source": [
    "import json\n",
    "import glob\n",
    "from rich.console import Console\n",
    "import pydash\n",
    "import re\n",
    "\n",
    "console = Console()\n",
    "print = console.print"
   ]
  },
  {
   "cell_type": "markdown",
   "id": "0e4f6797-945a-4be4-9217-f9c11794acea",
   "metadata": {},
   "source": [
    "## Model"
   ]
  },
  {
   "cell_type": "markdown",
   "id": "3c6d9e20-03c5-4522-90ea-36b784d2c03d",
   "metadata": {},
   "source": [
    "### Utility functions\n",
    "\n",
    "These functions are used by other to not repeat ourselves."
   ]
  },
  {
   "cell_type": "code",
   "execution_count": 14,
   "id": "b0b65295-c14d-492a-a9a4-3a3da6da93a9",
   "metadata": {},
   "outputs": [],
   "source": [
    "def tag_exists(tagname, cells):\n",
    "    for cell in cells:\n",
    "        if tagname in pydash.get(cell, 'metadata.tags', []):\n",
    "            return True\n",
    "    return False\n",
    "\n",
    "def regexp_match(regex, string):\n",
    "    matches = re.finditer(regex, string, re.MULTILINE)\n",
    "    return len(list(matches)) >= 1\n",
    "\n",
    "def check_regexp(cells, regex, source):\n",
    "    cell_str = pydash.get(cells, source, '')\n",
    "    return regexp_match(regex, cell_str)\n",
    "\n",
    "def check_title_exists(cells, title):\n",
    "    for cell in cells:\n",
    "        if pydash.get(cell, 'cell_type') == 'markdown' and regexp_match(rf\"^## *{title}\", pydash.get(cell, 'source[0]')):\n",
    "            return True\n",
    "    return False"
   ]
  },
  {
   "cell_type": "markdown",
   "id": "7ce1fed7-aac9-442b-a77e-52a062d19ce7",
   "metadata": {},
   "source": [
    "### Check functions\n",
    "\n",
    "This functions are used to check if a notebook contains the rights cells with proper formatting."
   ]
  },
  {
   "cell_type": "code",
   "execution_count": 15,
   "id": "afafe8a4-572a-427f-9be6-67dca1290391",
   "metadata": {
    "tags": []
   },
   "outputs": [],
   "source": [
    "def check_naas_logo(cells):\n",
    "    logo_content = '<img width=\"10%\" alt=\"Naas\" src=\"https://landen.imgix.net/jtci2pxwjczr/assets/5ice39g4.png?w=160\"/>'\n",
    "    if pydash.get(cells, '[0].cell_type') == 'markdown' and pydash.get(cells, '[0].source[0]', '') == logo_content:\n",
    "        return (True, '')\n",
    "    return (False, f'''\n",
    "    Requirements:\n",
    "        - Cell number: 1\n",
    "        - Cell type: Markdown\n",
    "        - Shape: {logo_content}\n",
    "    ''')\n",
    "\n",
    "def check_title_match_regexp(cells):\n",
    "    return (check_regexp(cells, r\"markdown\", '[1].cell_type') and check_regexp(cells, r\"^#.*-.*\", '[1].source[0]'), '''\n",
    "    Requirements:\n",
    "        - Cell number: 2\n",
    "        - Cell type: Markdown\n",
    "        - Shape: \"# something - some other thing\"\n",
    "    ''')\n",
    "\n",
    "def check_tool_tags(cells):\n",
    "    return (check_regexp(cells, r\"markdown\", '[2].cell_type') and check_regexp(cells, r\"^\\*\\*Tags:\\*\\* (#[1-9,a-z,A-Z]*( *|$))*\", '[2].source[0]'), '''\n",
    "    Requirements:\n",
    "        - Cell number: 3\n",
    "        - Cell type: Markdown\n",
    "        - Shape: \"**Tags:** #atLeastOneTool\"\n",
    "    ''')\n",
    "\n",
    "def check_author(cells):\n",
    "    return (check_regexp(cells, r\"markdown\", '[3].cell_type') and check_regexp(cells, r\"^\\*\\*Author:\\*\\* *.*\", '[3].source[0]'), '''\n",
    "    Requirements:\n",
    "        - Cell number: 4\n",
    "        - Cell type: Markdown\n",
    "        - Shape: \"**Author:** At least one author name\"\n",
    "    ''')\n",
    "\n",
    "def check_input_title_exists(cells):\n",
    "    return (check_title_exists(cells, 'Input'), '''\n",
    "    Requirements:\n",
    "        - Cell number: Any\n",
    "        - Cell type: Markdown\n",
    "        - Shape: \"## Input\"\n",
    "    ''')\n",
    "\n",
    "def check_model_title_exists(cells):\n",
    "    return (check_title_exists(cells, 'Model'), '''\n",
    "    Requirements:\n",
    "        - Cell number: Any\n",
    "        - Cell type: Markdown\n",
    "        - Shape: \"## Model\"\n",
    "    ''')\n",
    "\n",
    "def check_output_title_exists(cells):\n",
    "    return (check_title_exists(cells, 'Output'), '''\n",
    "    Requirements:\n",
    "        - Cell number: Any\n",
    "        - Cell type: Markdown\n",
    "        - Shape: \"## Output\"\n",
    "    ''')"
   ]
  },
  {
   "cell_type": "markdown",
   "id": "40df42a5-78f7-4542-8df8-ca3e1c6fd166",
   "metadata": {},
   "source": [
    "## Output"
   ]
  },
  {
   "cell_type": "code",
   "execution_count": 16,
   "id": "f46b15cf-8e4c-4af5-bd6b-d84b2fa05535",
   "metadata": {
    "tags": []
   },
   "outputs": [
    {
     "ename": "TypeError",
     "evalue": "'NoneType' object is not callable",
     "output_type": "error",
     "traceback": [
      "\u001b[0;31m---------------------------------------------------------------------------\u001b[0m",
      "\u001b[0;31mTypeError\u001b[0m                                 Traceback (most recent call last)",
      "Input \u001b[0;32mIn [16]\u001b[0m, in \u001b[0;36m<module>\u001b[0;34m\u001b[0m\n\u001b[1;32m     30\u001b[0m         got_errors \u001b[38;5;241m=\u001b[39m \u001b[38;5;28;01mTrue\u001b[39;00m\n\u001b[1;32m     31\u001b[0m         \u001b[38;5;28;01mfor\u001b[39;00m msg \u001b[38;5;129;01min\u001b[39;00m outputs:\n\u001b[0;32m---> 32\u001b[0m             \u001b[38;5;28;43mprint\u001b[39;49m\u001b[43m(\u001b[49m\u001b[43mmsg\u001b[49m\u001b[43m)\u001b[49m\n\u001b[1;32m     33\u001b[0m         \u001b[38;5;28mprint\u001b[39m(\u001b[38;5;124m\"\u001b[39m\u001b[38;5;130;01m\\n\u001b[39;00m\u001b[38;5;124m\"\u001b[39m)\n\u001b[1;32m     35\u001b[0m \u001b[38;5;28;01mif\u001b[39;00m got_errors \u001b[38;5;241m==\u001b[39m \u001b[38;5;28;01mTrue\u001b[39;00m:\n",
      "\u001b[0;31mTypeError\u001b[0m: 'NoneType' object is not callable"
     ]
    }
   ],
   "source": [
    "got_errors = False\n",
    "for file in glob.glob('../../**/*.ipynb', recursive=True):\n",
    "    # Do not check notebooks in .github or at the root of the project.\n",
    "    if '.github' in file or len(file.split('/')) == 3:\n",
    "        continue\n",
    "\n",
    "    notebook = json.load(open(file))\n",
    "    cells = notebook.get('cells')\n",
    "    \n",
    "    filename = \"[dark_orange]\" + file.replace(\"../../\", \"\") + \"[/dark_orange]\"\n",
    "    outputs = [f'Errors found in: {filename}']\n",
    "    should_display_debug = False\n",
    "    \n",
    "    for checkf in [\n",
    "        check_naas_logo,\n",
    "        check_title_match_regexp,\n",
    "        check_tool_tags,\n",
    "        check_author,\n",
    "        check_input_title_exists,\n",
    "        check_model_title_exists,\n",
    "        check_output_title_exists]: \n",
    "        \n",
    "        result, msg = checkf(cells)\n",
    "        if result is False:\n",
    "            should_display_debug = True\n",
    "        status_msg = \"[bright_green]OK[/bright_green]\" if result is True else f\"[bright_red]KO {msg}[/bright_red]\"\n",
    "        outputs.append(f'{checkf.__name__} ... {status_msg}')\n",
    "        \n",
    "    if should_display_debug:\n",
    "        got_errors = True\n",
    "        for msg in outputs:\n",
    "            print(msg)\n",
    "        print(\"\\n\")\n",
    "\n",
    "if got_errors == True:\n",
    "    print('[bright_red]You have some errors to fix')\n",
    "    exit(1)"
   ]
  },
  {
   "cell_type": "code",
   "execution_count": null,
   "id": "564bc1ce-4cc4-4c43-abf1-c624d13b1018",
   "metadata": {},
   "outputs": [],
   "source": []
  }
 ],
 "metadata": {
  "kernelspec": {
   "display_name": "Python 3 (ipykernel)",
   "language": "python",
   "name": "python3"
  },
  "language_info": {
   "codemirror_mode": {
    "name": "ipython",
    "version": 3
   },
   "file_extension": ".py",
   "mimetype": "text/x-python",
   "name": "python",
   "nbconvert_exporter": "python",
   "pygments_lexer": "ipython3",
   "version": "3.9.7"
  },
  "toc-showtags": false
 },
 "nbformat": 4,
 "nbformat_minor": 5
}
