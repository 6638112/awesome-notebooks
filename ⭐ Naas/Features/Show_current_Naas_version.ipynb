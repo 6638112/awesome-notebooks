{
 "cells": [
  {
   "cell_type": "markdown",
   "metadata": {},
   "source": [
    "# Show current Naas version"
   ]
  },
  {
   "cell_type": "code",
   "execution_count": 1,
   "metadata": {},
   "outputs": [
    {
     "name": "stdout",
     "output_type": "stream",
     "text": [
      "Name: naas\n",
      "Version: 0.1.18\n",
      "Summary: scheduler system for notebooks\n",
      "Home-page: https://github.com/cashstory/naas\n",
      "Author: Martin Donadieu\n",
      "Author-email: martindonadieu@gmail.com\n",
      "License: UNKNOWN\n",
      "Location: /opt/conda/lib/python3.8/site-packages\n",
      "Requires: sentry-sdk, requests, pandas, nbclient, pycron, daemonize, pretty-cron, ipython, notebook, ipywidgets, sanic, papermill, sanic-openapi, APScheduler, ipykernel, beautifulsoup4, argparse, nbconvert, escapism\n",
      "Required-by: \n"
     ]
    }
   ],
   "source": [
    "!pip show naas #show version of naas"
   ]
  },
  {
   "cell_type": "code",
   "execution_count": null,
   "metadata": {},
   "outputs": [],
   "source": []
  }
 ],
 "metadata": {
  "kernelspec": {
   "display_name": "Python 3",
   "language": "python",
   "name": "python3"
  },
  "language_info": {
   "codemirror_mode": {
    "name": "ipython",
    "version": 3
   },
   "file_extension": ".py",
   "mimetype": "text/x-python",
   "name": "python",
   "nbconvert_exporter": "python",
   "pygments_lexer": "ipython3",
   "version": "3.8.5"
  }
 },
 "nbformat": 4,
 "nbformat_minor": 4
}
